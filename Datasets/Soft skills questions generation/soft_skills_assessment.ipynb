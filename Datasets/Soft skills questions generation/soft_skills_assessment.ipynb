{
 "cells": [
  {
   "cell_type": "markdown",
   "metadata": {},
   "source": [
    "# Soft Skills Assessment Notebook\n",
    "\n",
    "This notebook creates a comprehensive soft skills assessment tool covering four key areas:\n",
    "- Communication skills\n",
    "- Leadership skills\n",
    "- Time management skills\n",
    "- Analytical skills\n",
    "\n",
    "The assessment collects responses on a 5-point scale (strongly disagree to strongly agree) and provides feedback based on overall scores."
   ]
  },
  {
   "cell_type": "code",
   "execution_count": 60,
   "metadata": {},
   "outputs": [],
   "source": [
    "# Import necessary libraries\n",
    "import requests\n",
    "import re\n",
    "import pandas as pd\n",
    "import numpy as np\n",
    "import os\n",
    "import json\n",
    "import random\n",
    "import time\n",
    "from bs4 import BeautifulSoup\n",
    "from tqdm.notebook import tqdm\n",
    "from IPython.display import display, HTML\n",
    "import os\n",
    "from dotenv import load_dotenv"
   ]
  },
  {
   "cell_type": "markdown",
   "metadata": {},
   "source": [
    "## 1. Data Collection: Web Scraping\n",
    "\n",
    "This section handles gathering questions from existing online assessment sources.\n",
    "We scrape questions for each skill category from relevant HR and professional development websites."
   ]
  },
  {
   "cell_type": "code",
   "execution_count": 61,
   "metadata": {},
   "outputs": [],
   "source": [
    "# Create directories for saving data\n",
    "os.makedirs('./data', exist_ok=True)\n",
    "\n",
    "# Define the scraping function for all categories\n",
    "def scrape_soft_skills_questions(category):\n",
    "    \"\"\"\n",
    "    Scrape questions for a specific soft skill category from relevant websites.\n",
    "\n",
    "    Args:\n",
    "        category (str): One of 'communication', 'leadership', 'time_management', 'analytical'\n",
    "\n",
    "    Returns:\n",
    "        pd.DataFrame: DataFrame containing scraped questions\n",
    "    \"\"\"\n",
    "    all_questions = []\n",
    "\n",
    "    # Define target URLs and questions by category\n",
    "    target_sources = {\n",
    "        'communication': {\n",
    "            'https://hr-survey.com/360_Survey_Example_1.htm': [\n",
    "                \"Takes on challenging questions and provides instant answers.\",\n",
    "                \"Communicates clearly and gets to the point without unnecessary details.\",\n",
    "                \"Coaches others on their written communication skills\",\n",
    "                \"Addresses issues of key importance to stakeholders.\",\n",
    "                \"Communicates goals of project, resources required, resources available, etc. to the team\",\n",
    "                \"Articulates ideas and emotions clearly to others.\",\n",
    "                \"Gives clear and convincing presentations.\"\n",
    "            ],\n",
    "            'https://hr-survey.com/360Feedback_Sample_Assessment_Form.htm': [\n",
    "                \"Adapts language and terminology to meet the needs of the audience.\",\n",
    "                \"Recaps action steps from meetings to ensure clarity and execution.\",\n",
    "                \"Considers the audience in how the communication is presented.\",\n",
    "                \"Responds in a timely manner, respecting deadlines and others' schedules.\"\n",
    "            ]\n",
    "        },\n",
    "        'leadership': {\n",
    "            'https://hr-survey.com/360Leadership.htm': [\n",
    "                \"Sets a good example for the team to follow.\",\n",
    "                \"Inspires others to achieve their best performance.\",\n",
    "                \"Makes difficult decisions when necessary.\",\n",
    "                \"Delegates tasks effectively to team members.\",\n",
    "                \"Provides constructive feedback to help team members grow.\"\n",
    "            ],\n",
    "            'https://www.indeed.com/career-advice/career-development/leadership-assessment': [\n",
    "                \"Takes responsibility for team outcomes, both successes and failures.\",\n",
    "                \"Recognizes and rewards team members' contributions.\",\n",
    "                \"Adapts leadership style based on situation and team needs.\",\n",
    "                \"Communicates a clear vision that motivates the team.\"\n",
    "            ]\n",
    "        },\n",
    "        'time_management': {\n",
    "            'https://www.mindtools.com/pages/article/newHTE_88.htm': [\n",
    "                \"Prioritizes tasks based on importance and deadlines.\",\n",
    "                \"Completes work within allocated timeframes.\",\n",
    "                \"Plans daily activities to maximize productivity.\",\n",
    "                \"Avoids procrastination by breaking large tasks into smaller steps.\"\n",
    "            ],\n",
    "            'https://www.manager-tools.com/products/time-management-self-assessment': [\n",
    "                \"Maintains an organized workspace to minimize time spent searching for items.\",\n",
    "                \"Sets realistic timeframes for completing tasks.\",\n",
    "                \"Uses tools and technology to automate repetitive tasks.\",\n",
    "                \"Effectively manages interruptions during focused work.\"\n",
    "            ]\n",
    "        },\n",
    "        'analytical': {\n",
    "            'https://www.mindtools.com/pages/article/newTMC_03.htm': [\n",
    "                \"Identifies patterns and trends in complex data sets.\",\n",
    "                \"Breaks down problems into manageable components.\",\n",
    "                \"Evaluates multiple solutions before making decisions.\",\n",
    "                \"Distinguishes between correlation and causation in data analysis.\"\n",
    "            ],\n",
    "            'https://www.analyticssteps.com/blogs/analytical-skill-test-how-measure-analytical-skills': [\n",
    "                \"Uses logical reasoning to solve problems systematically.\",\n",
    "                \"Gathers relevant information before drawing conclusions.\",\n",
    "                \"Validates assumptions with appropriate evidence.\",\n",
    "                \"Identifies potential biases in data interpretation.\"\n",
    "            ]\n",
    "        }\n",
    "    }\n",
    "\n",
    "    # Get target URLs and questions for the specified category\n",
    "    if category not in target_sources:\n",
    "        print(f\"No scraping sources defined for category: {category}\")\n",
    "        return pd.DataFrame()\n",
    "\n",
    "    category_sources = target_sources[category]\n",
    "\n",
    "    # Scrape from each URL\n",
    "    for url, questions in category_sources.items():\n",
    "        try:\n",
    "            print(f\"Scraping {len(questions)} questions from {url}...\")\n",
    "\n",
    "            # Add headers to simulate a browser request\n",
    "            headers = {\n",
    "                'User-Agent': 'Mozilla/5.0 (Windows NT 10.0; Win64; x64) AppleWebKit/537.36 (KHTML, like Gecko) Chrome/91.0.4472.124 Safari/537.36'\n",
    "            }\n",
    "\n",
    "            # Make the request with a timeout\n",
    "            response = requests.get(url, headers=headers, timeout=10)\n",
    "\n",
    "            if response.status_code != 200:\n",
    "                print(f\"Failed to access {url} - Status code: {response.status_code}\")\n",
    "                continue\n",
    "\n",
    "            html_content = response.text\n",
    "\n",
    "            # Use regex to search for each question in the HTML\n",
    "            for question in questions:\n",
    "                # Escape special characters for regex\n",
    "                escaped_question = re.escape(question)\n",
    "\n",
    "                # If found in the HTML content, add to our list\n",
    "                if re.search(escaped_question, html_content, re.IGNORECASE):\n",
    "                    all_questions.append({\n",
    "                        'question_text': question,\n",
    "                        'source_url': url,\n",
    "                        'category': category,\n",
    "                        'type': 'scraped' # Mark as scraped data\n",
    "                    })\n",
    "                    print(f\"Found question: {question[:50]}...\")\n",
    "\n",
    "            # Be nice to the servers\n",
    "            time.sleep(1)\n",
    "\n",
    "        except Exception as e:\n",
    "            print(f\"Error scraping {url}: {e}\")\n",
    "\n",
    "    # Create DataFrame from the collected questions\n",
    "    df = pd.DataFrame(all_questions)\n",
    "\n",
    "    # Debug info\n",
    "    print(f\"Total {category} questions scraped: {len(df)}\")\n",
    "\n",
    "    return df\n"
   ]
  },
  {
   "cell_type": "markdown",
   "metadata": {},
   "source": [
    "## 2.Question Generation: Template-Based Approach\n",
    "\n",
    "When we need more questions than we can scrape, this template-based generation system creates natural-sounding\n",
    "assessment questions by combining sentence templates with category-specific components."
   ]
  },
  {
   "cell_type": "code",
   "execution_count": 62,
   "metadata": {},
   "outputs": [],
   "source": [
    "# Function for generating questions using template-based approach (instead of OpenAI)\n",
    "def generate_questions_with_templates(category, n=20):\n",
    "    \"\"\"\n",
    "    Generate questions using templates and components for a specific soft skill category.\n",
    "\n",
    "    Args:\n",
    "        category (str): One of 'communication', 'leadership', 'time_management', 'analytical'\n",
    "        n (int): Number of questions to generate\n",
    "\n",
    "    Returns:\n",
    "        pd.DataFrame: DataFrame containing generated questions\n",
    "    \"\"\"\n",
    "    generated_questions = []\n",
    "\n",
    "    # Get templates and components for the category\n",
    "    templates = get_question_templates(category)\n",
    "    components = get_question_components(category)\n",
    "\n",
    "    if not templates or not components:\n",
    "        print(f\"No templates or components defined for category: {category}\")\n",
    "        return pd.DataFrame()\n",
    "\n",
    "    try:\n",
    "        print(f\"Generating {n} questions for {category} skills...\")\n",
    "\n",
    "        question_list = []\n",
    "        attempts = 0\n",
    "        max_attempts = n * 5 # To avoid infinite loops\n",
    "\n",
    "        while len(question_list) < n and attempts < max_attempts:\n",
    "            attempts += 1\n",
    "            template = random.choice(templates)\n",
    "            filled_question = fill_template_with_components(template, components)\n",
    "\n",
    "            # Ensure uniqueness\n",
    "            if filled_question not in question_list:\n",
    "                question_list.append(filled_question)\n",
    "\n",
    "        # Create data entries for each generated question\n",
    "        for question in question_list:\n",
    "            generated_questions.append({\n",
    "                'question_text': question,\n",
    "                'source_url': 'generated_by_templates',\n",
    "                'category': category,\n",
    "                'type': 'generated'\n",
    "            })\n",
    "\n",
    "    except Exception as e:\n",
    "        print(f\"Error generating questions with templates: {e}\")\n",
    "\n",
    "    # Create DataFrame from generated questions\n",
    "    df = pd.DataFrame(generated_questions)\n",
    "\n",
    "    # Debug info\n",
    "    print(f\"Successfully generated {len(df)} questions for {category} skills\")\n",
    "\n",
    "    return df\n"
   ]
  },
  {
   "cell_type": "markdown",
   "metadata": {},
   "source": [
    "## 3.Question Generation: AI-Powered Approach\n",
    "\n",
    "This alternative generation method uses the Hugging Face Inference API to create questions using advanced language models.\n",
    "This produces more varied and nuanced questions but requires an API token."
   ]
  },
  {
   "cell_type": "code",
   "execution_count": null,
   "metadata": {},
   "outputs": [],
   "source": [
    "# Alternative: Use Hugging Face Inference API (free tier)\n",
    "def generate_questions_with_huggingface(category, n=20):\n",
    "    \"\"\"\n",
    "    Generate questions using Hugging Face's inference API for a specific soft skill category.\n",
    "\n",
    "    Args:\n",
    "        category (str): One of 'communication', 'leadership', 'time_management', 'analytical'\n",
    "        n (int): Number of questions to generate\n",
    "\n",
    "    Returns:\n",
    "        pd.DataFrame: DataFrame containing generated questions\n",
    "    \"\"\"\n",
    "    try:\n",
    "        # Import the required libraries\n",
    "        import requests\n",
    "\n",
    "        # Define the prompt for each category\n",
    "        category_prompts = {\n",
    "            'communication': f\"Generate {n} unique assessment questions for evaluating communication skills. Each question should be phrased as a statement that can be rated on a scale from 1 (strongly disagree) to 5 (strongly agree). Focus on professional communication in workplace settings.\",\n",
    "            'leadership': f\"Generate {n} unique assessment questions for evaluating leadership skills. Each question should be phrased as a statement that can be rated on a scale from 1 (strongly disagree) to 5 (strongly agree). Cover different aspects of leadership including vision, motivation, delegation, and team development.\",\n",
    "            'time_management': f\"Generate {n} unique assessment questions for evaluating time management skills. Each question should be phrased as a statement that can be rated on a scale from 1 (strongly disagree) to 5 (strongly agree). Include questions about prioritization, planning, efficiency, and avoiding procrastination.\",\n",
    "            'analytical': f\"Generate {n} unique assessment questions for evaluating analytical skills. Each question should be phrased as a statement that can be rated on a scale from 1 (strongly disagree) to 5 (strongly agree). Cover aspects such as problem-solving, data analysis, logical reasoning, and critical thinking.\"\n",
    "        }\n",
    "\n",
    "        prompt = category_prompts.get(category, \"\")\n",
    "\n",
    "        if not prompt:\n",
    "            print(f\"No prompt defined for category: {category}\")\n",
    "            # Fall back to template generation\n",
    "            return generate_questions_with_templates(category, n)\n",
    "\n",
    "        print(f\"Generating {n} questions for {category} skills using Hugging Face...\")\n",
    "\n",
    "        # Load environment variables from .env file\n",
    "        load_dotenv()\n",
    "        # Access the token securely\n",
    "        API_TOKEN = os.environ.get(\"HUGGINGFACE_API_TOKEN\", \"\").strip()\n",
    "\n",
    "        if not API_TOKEN or API_TOKEN == \"your_token_here\":\n",
    "            print(\"💡 No valid API token found. Falling back to template-based generation.\")\n",
    "            print(\"To enable AI generation, add your Hugging Face token to the .env file\")\n",
    "            return generate_questions_with_templates(category, n)\n",
    "\n",
    "        # Define the API endpoint (using a suitable model)\n",
    "        API_URL = \"https://api-inference.huggingface.co/models/google/flan-t5-xxl\" # A good free model\n",
    "\n",
    "        # Set up the headers with your token\n",
    "        headers = {\n",
    "            \"Authorization\": f\"Bearer {API_TOKEN}\",\n",
    "            \"Content-Type\": \"application/json\"\n",
    "        }\n",
    "\n",
    "        # Make the request\n",
    "        payload = {\n",
    "            \"inputs\": prompt,\n",
    "            \"parameters\": {\n",
    "                \"max_new_tokens\": 1024,\n",
    "                \"temperature\": 0.7\n",
    "            }\n",
    "        }\n",
    "\n",
    "        response = requests.post(API_URL, headers=headers, json=payload)\n",
    "\n",
    "        # Parse the response with improved error handling\n",
    "        if response.status_code == 200:\n",
    "            result = response.json()\n",
    "\n",
    "            # Extract the generated text\n",
    "            if isinstance(result, list) and len(result) > 0 and \"generated_text\" in result[0]:\n",
    "                generated_text = result[0][\"generated_text\"]\n",
    "            else:\n",
    "                generated_text = str(result)\n",
    "\n",
    "            # Split into individual questions (assuming each is on a new line)\n",
    "            raw_questions = [q.strip() for q in generated_text.split('\\n') if q.strip()]\n",
    "\n",
    "            # Clean up and format the questions\n",
    "            questions = []\n",
    "            for q in raw_questions:\n",
    "                # Remove numbering if present\n",
    "                if re.match(r'^\\d+\\.?\\s+', q):\n",
    "                    q = re.sub(r'^\\d+\\.?\\s+', '', q)\n",
    "                questions.append(q)\n",
    "\n",
    "            # Limit to the requested number\n",
    "            questions = questions[:n]\n",
    "\n",
    "            # Create DataFrame entries\n",
    "            df_data = [{\n",
    "                'question_text': question,\n",
    "                'source_url': 'generated_by_huggingface',\n",
    "                'category': category,\n",
    "                'type': 'generated'\n",
    "            } for question in questions]\n",
    "\n",
    "            return pd.DataFrame(df_data)\n",
    "        elif response.status_code == 401:\n",
    "            print(\"🔐 Authentication Error: Invalid Hugging Face API token.\")\n",
    "            print(\"Please check your token in the .env file and try again.\")\n",
    "            print(\"Falling back to template-based generation...\")\n",
    "            return generate_questions_with_templates(category, n)\n",
    "        elif response.status_code == 503:\n",
    "            print(\"🚧 Model Loading: The AI model is loading. This can take a few minutes.\")\n",
    "            print(\"Falling back to template-based generation for now...\")\n",
    "            return generate_questions_with_templates(category, n)\n",
    "        else:\n",
    "            print(f\"❌ API Error (Status {response.status_code}): {response.text}\")\n",
    "            print(\"🔄 Falling back to template-based generation...\")\n",
    "            return generate_questions_with_templates(category, n)\n",
    "\n",
    "    except requests.exceptions.RequestException as e:\n",
    "        print(f\"🌐 Connection Error: Unable to connect to Hugging Face API. {e}\")\n",
    "        print(\"🔄 Using template-based generation instead...\")\n",
    "        return generate_questions_with_templates(category, n)\n",
    "    except Exception as e:\n",
    "        print(f\"❌ Unexpected Error: {e}\")\n",
    "        print(\"🔄 Using template-based generation instead...\")\n",
    "        return generate_questions_with_templates(category, n)\n"
   ]
  },
  {
   "cell_type": "code",
   "execution_count": null,
   "metadata": {},
   "outputs": [
    {
     "name": "stdout",
     "output_type": "stream",
     "text": [
      "🧪 Testing Hugging Face API Integration...\n",
      "✅ API Token found - Testing connection...\n",
      "Generating 3 questions for communication skills using Hugging Face...\n",
      "🔐 Authentication Error: Invalid Hugging Face API token.\n",
      "Please check your token in the .env file and try again.\n",
      "Falling back to template-based generation...\n",
      "Generating 3 questions for communication skills...\n",
      "Successfully generated 3 questions for communication skills\n",
      "⚠️ AI generation had issues, but template fallback worked successfully!\n",
      "📝 Generated 3 template-based questions:\n",
      "1. I can express ideas cross-functional teams without losing their attention.\n",
      "2. I can express ideas stakeholders without losing their attention.\n",
      "3. I negotiate clients clearly and concisely.\n",
      "\n",
      "💡 To enable AI generation, ensure your Hugging Face token has:\n",
      " 1. 'Read' permissions\n",
      " 2. 'Inference API' access\n",
      " 3. Create a new token at: https://huggingface.co/settings/tokens\n",
      " 4. Select 'Read' permission when creating the token\n",
      "\n",
      "🎯 Assessment System Status:\n",
      "✅ Template-based generation: Working\n",
      "✅ Fallback mechanism: Working\n",
      "✅ Error handling: Working\n",
      "✅ Streamlit app: Ready to use\n",
      "\n",
      "==================================================\n"
     ]
    }
   ],
   "source": [
    "# Test Hugging Face API Integration\n",
    "print(\"🧪 Testing Hugging Face API Integration...\")\n",
    "\n",
    "# Load environment variables to access the API token\n",
    "load_dotenv()\n",
    "API_TOKEN = os.environ.get(\"HUGGINGFACE_API_TOKEN\", \"\")\n",
    "\n",
    "if API_TOKEN and API_TOKEN != \"your_token_here\":\n",
    "    print(\"✅ API Token found - Testing connection...\")\n",
    "\n",
    "    # Test with a simple communication question generation\n",
    "    test_df = generate_questions_with_huggingface('communication', n=3)\n",
    "\n",
    "    if not test_df.empty and 'generated_by_huggingface' in test_df['source_url'].values:\n",
    "        print(f\"✅ AI Generation Success! Generated {len(test_df)} test questions:\")\n",
    "        for i, row in test_df.iterrows():\n",
    "            print(f\"{i+1}. {row['question_text']}\")\n",
    "    else:\n",
    "        print(\"⚠️ AI generation had issues, but template fallback worked successfully!\")\n",
    "        print(f\"📝 Generated {len(test_df)} template-based questions:\")\n",
    "        for i, row in test_df.iterrows():\n",
    "            print(f\"{i+1}. {row['question_text']}\")\n",
    "\n",
    "    print(\"\\n💡 To enable AI generation, ensure your Hugging Face token has:\")\n",
    "    print(\" 1. 'Read' permissions\")\n",
    "    print(\" 2. 'Inference API' access\")\n",
    "    print(\" 3. Create a new token at: https://huggingface.co/settings/tokens\")\n",
    "    print(\" 4. Select 'Read' permission when creating the token\")\n",
    "else:\n",
    "    print(\"⚠️ No API token found - using template-based generation only\")\n",
    "    print(\"To enable AI features, add your token to the .env file\")\n",
    "\n",
    "    # Test template-based generation instead\n",
    "    test_df = generate_questions_with_templates('communication', n=3)\n",
    "    print(f\"✅ Template-based generation working! Generated {len(test_df)} test questions:\")\n",
    "    for i, row in test_df.iterrows():\n",
    "        print(f\"{i+1}. {row['question_text']}\")\n",
    "\n",
    "print(\"\\n🎯 Assessment System Status:\")\n",
    "print(\"✅ Template-based generation: Working\")\n",
    "print(\"✅ Fallback mechanism: Working\")\n",
    "print(\"✅ Error handling: Working\")\n",
    "print(\"✅ Streamlit app: Ready to use\")\n",
    "print(\"\\n\" + \"=\"*50)"
   ]
  },
  {
   "cell_type": "markdown",
   "metadata": {},
   "source": [
    "## 4.Question Templates and Components\n",
    "\n",
    "These functions define the templates and components used for generating questions for each skill category.\n",
    "Each category has specialized templates and vocabulary to ensure relevant, meaningful questions."
   ]
  },
  {
   "cell_type": "code",
   "execution_count": 65,
   "metadata": {},
   "outputs": [],
   "source": [
    "def get_question_templates(category):\n",
    "    \"\"\"Get templates for generating questions for a specific category\"\"\"\n",
    "    templates = {\n",
    "        'communication': [\n",
    "            \"I effectively {action} when {context}.\",\n",
    "            \"I am skilled at {action} {modifier}.\",\n",
    "            \"I {action} {audience} {modifier}.\",\n",
    "            \"I find it easy to {action} even when {challenge}.\",\n",
    "            \"When {situation}, I {action} {modifier}.\",\n",
    "            \"I {action} {modifier} rather than {alternative_action}.\",\n",
    "            \"My {communication_type} communication is {quality}.\",\n",
    "            \"I {action} {medium} {modifier}.\",\n",
    "            \"I can {action} {audience} without {negative_outcome}.\",\n",
    "            \"During {meeting_type} meetings, I {action} {modifier}.\"\n",
    "        ],\n",
    "        'leadership': [\n",
    "            \"I {leadership_action} to {leadership_outcome}.\",\n",
    "            \"I am effective at {leadership_skill} in {leadership_context}.\",\n",
    "            \"When facing {leadership_challenge}, I {leadership_response}.\",\n",
    "            \"My team members would say I {leadership_quality}.\",\n",
    "            \"I {leadership_frequency} {leadership_action} to ensure {leadership_goal}.\",\n",
    "            \"I can {leadership_action} even when {leadership_obstacle}.\",\n",
    "            \"I {leadership_approach} team members who {team_situation}.\",\n",
    "            \"When projects {project_status}, I {leadership_intervention}.\",\n",
    "            \"I create an environment where {team_benefit}.\",\n",
    "            \"My leadership style emphasizes {leadership_emphasis} while maintaining {leadership_balance}.\"\n",
    "        ],\n",
    "        'time_management': [\n",
    "            \"I {time_action} to {time_outcome}.\",\n",
    "            \"I effectively {time_skill} when {time_context}.\",\n",
    "            \"I {time_frequency} {time_practice} to maximize productivity.\",\n",
    "            \"When dealing with {time_challenge}, I {time_strategy}.\",\n",
    "            \"I maintain {time_quality} by {time_method}.\",\n",
    "            \"I can {time_ability} without {negative_time_outcome}.\",\n",
    "            \"My approach to {time_situation} involves {time_technique}.\",\n",
    "            \"I {time_habit} at the {workday_period} of each workday.\",\n",
    "            \"When faced with {deadline_scenario}, I {deadline_response}.\",\n",
    "            \"I {consistently} avoid {time_waster} by {prevention_method}.\"\n",
    "        ],\n",
    "        'analytical': [\n",
    "            \"When analyzing {analysis_object}, I {analysis_action} {analysis_modifier}.\",\n",
    "            \"I am skilled at {analysis_skill} to {analysis_purpose}.\",\n",
    "            \"I {analysis_frequency} {analysis_practice} when solving problems.\",\n",
    "            \"When presented with {analysis_input}, I {analysis_process} before {analysis_output}.\",\n",
    "            \"I can effectively {analysis_method} to {analysis_goal}.\",\n",
    "            \"My approach to {problem_type} problems involves {analytical_approach}.\",\n",
    "            \"When data shows {data_pattern}, I typically {data_response}.\",\n",
    "            \"I {evaluation_action} multiple {evaluation_subject} before {decision_action}.\",\n",
    "            \"My {analytical_strength} helps me overcome {analytical_challenge}.\",\n",
    "            \"I can {complex_action} complex information to {simplification_outcome}.\"\n",
    "        ]\n",
    "    }\n",
    "\n",
    "    return templates.get(category, [])\n"
   ]
  },
  {
   "cell_type": "markdown",
   "metadata": {},
   "source": [
    "## 5.Question Generation Utilities\n",
    "\n",
    "These utilities handle the actual generation of questions, combining templates with components\n",
    "and managing the flow between scraped and generated content."
   ]
  },
  {
   "cell_type": "code",
   "execution_count": 66,
   "metadata": {},
   "outputs": [],
   "source": [
    "def get_question_components(category):\n",
    "    \"\"\"Get components for filling templates for a specific category\"\"\"\n",
    "    components = {\n",
    "        'communication': {\n",
    "            \"action\": [\n",
    "                \"communicate\", \"listen\", \"express ideas\", \"provide feedback\", \"ask questions\",\n",
    "                \"articulate thoughts\", \"share information\", \"convey messages\", \"present data\",\n",
    "                \"explain concepts\", \"respond to concerns\", \"clarify misunderstandings\",\n",
    "                \"negotiate\", \"persuade\", \"mediate discussions\", \"facilitate conversations\"\n",
    "            ],\n",
    "            \"context\": [\n",
    "                \"in team meetings\", \"with senior management\", \"with clients\",\n",
    "                \"in high-pressure situations\", \"across departments\", \"with remote colleagues\",\n",
    "                \"in cross-cultural settings\", \"during performance reviews\", \"in conflict situations\"\n",
    "            ],\n",
    "            \"modifier\": [\n",
    "                \"clearly and concisely\", \"with confidence\", \"in a structured manner\",\n",
    "                \"with empathy\", \"effectively\", \"in a timely manner\", \"tactfully\",\n",
    "                \"with appropriate detail\", \"proactively\", \"in a persuasive way\",\n",
    "                \"without creating confusion\", \"while maintaining attention\"\n",
    "            ],\n",
    "            \"audience\": [\n",
    "                \"team members\", \"stakeholders\", \"clients\", \"management\", \"cross-functional teams\",\n",
    "                \"technical staff\", \"non-technical audiences\", \"difficult personalities\",\n",
    "                \"diverse groups\", \"remote teams\"\n",
    "            ],\n",
    "            \"challenge\": [\n",
    "                \"under time constraints\", \"facing resistance\", \"dealing with complex topics\",\n",
    "                \"in stressful situations\", \"working with limited information\", \"addressing conflicts\",\n",
    "                \"speaking to large groups\", \"communicating bad news\", \"handling objections\"\n",
    "            ],\n",
    "            \"situation\": [\n",
    "                \"in conflict situations\", \"during project discussions\", \"in performance reviews\",\n",
    "                \"in team brainstorming\", \"during client presentations\", \"in negotiation scenarios\",\n",
    "                \"when receiving criticism\", \"during status updates\", \"when explaining changes\"\n",
    "            ],\n",
    "            \"frequently\": [\n",
    "                \"consistently\", \"regularly\", \"proactively\", \"habitually\", \"actively\",\n",
    "                \"deliberately\", \"consciously\", \"thoroughly\", \"systematically\"\n",
    "            ],\n",
    "            \"alternative_action\": [\n",
    "                \"assuming understanding\", \"avoiding difficult conversations\", \"using jargon\",\n",
    "                \"speaking too quickly\", \"interrupting others\", \"dominating discussions\",\n",
    "                \"avoiding eye contact\", \"sending lengthy emails\", \"diluting the message\"\n",
    "            ],\n",
    "            \"communication_type\": [\n",
    "                \"written\", \"verbal\", \"nonverbal\", \"visual\", \"email\", \"presentation\",\n",
    "                \"interpersonal\", \"group\", \"crisis\", \"technical\", \"cross-cultural\"\n",
    "            ],\n",
    "            \"quality\": [\n",
    "                \"clear and effective\", \"concise and impactful\", \"well-structured\",\n",
    "                \"engaging and persuasive\", \"audience-appropriate\", \"culturally sensitive\",\n",
    "                \"free of unnecessary jargon\", \"logically organized\", \"emotionally intelligent\"\n",
    "            ],\n",
    "            \"medium\": [\n",
    "                \"through email\", \"in presentations\", \"in written documentation\", \"in meetings\",\n",
    "                \"via video conferences\", \"through visual aids\", \"in one-page summaries\",\n",
    "                \"using storytelling\", \"with data visualizations\", \"in status reports\"\n",
    "            ],\n",
    "            \"negative_outcome\": [\n",
    "                \"causing confusion\", \"creating resistance\", \"losing their attention\",\n",
    "                \"overwhelming them with details\", \"using too much jargon\", \"being misunderstood\",\n",
    "                \"being perceived as condescending\", \"creating unnecessary tension\",\n",
    "                \"missing important feedback\", \"overlooking cultural sensitivities\"\n",
    "            ],\n",
    "            \"meeting_type\": [\n",
    "                \"team\", \"client\", \"stakeholder\", \"project review\", \"brainstorming\", \"strategy\",\n",
    "                \"board\", \"all-hands\", \"cross-functional\", \"one-on-one\", \"performance review\"\n",
    "            ]\n",
    "        },\n",
    "        'leadership': {\n",
    "            \"leadership_action\": [\n",
    "                \"motivate team members\", \"set clear expectations\", \"delegate responsibilities\",\n",
    "                \"provide constructive feedback\", \"recognize achievements\", \"develop talent\",\n",
    "                \"empower others\", \"build consensus\", \"establish trust\", \"champion change\"\n",
    "            ],\n",
    "            \"leadership_outcome\": [\n",
    "                \"achieve team goals\", \"improve team performance\", \"build a positive culture\",\n",
    "                \"increase engagement\", \"drive innovation\", \"resolve conflicts\",\n",
    "                \"enhance collaboration\", \"develop future leaders\", \"overcome obstacles\"\n",
    "            ],\n",
    "            \"leadership_skill\": [\n",
    "                \"making difficult decisions\", \"coaching team members\", \"managing change\",\n",
    "                \"strategic planning\", \"crisis management\", \"building consensus\",\n",
    "                \"giving constructive feedback\", \"recognizing talent\", \"addressing conflicts\"\n",
    "            ],\n",
    "            \"leadership_context\": [\n",
    "                \"challenging times\", \"periods of growth\", \"organizational changes\",\n",
    "                \"cross-functional projects\", \"remote work environments\",\n",
    "                \"high-pressure situations\", \"cultural transformations\", \"restructuring\"\n",
    "            ],\n",
    "            \"leadership_challenge\": [\n",
    "                \"team conflicts\", \"performance issues\", \"resource constraints\",\n",
    "                \"organizational changes\", \"competing priorities\", \"tight deadlines\",\n",
    "                \"resistance to change\", \"skill gaps\", \"communication breakdowns\"\n",
    "            ],\n",
    "            \"leadership_response\": [\n",
    "                \"seek input from all stakeholders\", \"make decisive judgments\",\n",
    "                \"communicate transparently\", \"adapt my approach\", \"provide additional support\",\n",
    "                \"lead by example\", \"facilitate collaboration\", \"remain calm and focused\"\n",
    "            ],\n",
    "            \"leadership_quality\": [\n",
    "                \"inspire them to do their best work\", \"provide clear direction\",\n",
    "                \"listen to their concerns\", \"trust them with important tasks\",\n",
    "                \"support their professional development\", \"give honest feedback\",\n",
    "                \"recognize their strengths\", \"help them overcome challenges\"\n",
    "            ],\n",
    "            \"leadership_frequency\": [\n",
    "                \"consistently\", \"regularly\", \"proactively\", \"deliberately\", \"systematically\"\n",
    "            ],\n",
    "            \"leadership_goal\": [\n",
    "                \"team success\", \"individual growth\", \"high-quality outcomes\",\n",
    "                \"organizational alignment\", \"continuous improvement\",\n",
    "                \"innovation\", \"employee satisfaction\", \"operational excellence\"\n",
    "            ],\n",
    "            \"leadership_obstacle\": [\n",
    "                \"facing resistance\", \"dealing with limited resources\",\n",
    "                \"under tight deadlines\", \"during organizational change\",\n",
    "                \"managing conflicting priorities\", \"addressing poor performance\"\n",
    "            ],\n",
    "            \"leadership_approach\": [\n",
    "                \"mentor\", \"coach\", \"guide\", \"support\", \"challenge\",\n",
    "                \"motivate\", \"empower\", \"direct\"\n",
    "            ],\n",
    "            \"team_situation\": [\n",
    "                \"are underperforming\", \"show exceptional talent\",\n",
    "                \"face personal challenges\", \"disagree with team direction\",\n",
    "                \"need development\", \"demonstrate initiative\"\n",
    "            ],\n",
    "            \"project_status\": [\n",
    "                \"fall behind schedule\", \"exceed expectations\",\n",
    "                \"face unexpected obstacles\", \"require scope changes\",\n",
    "                \"reveal team conflicts\", \"need additional resources\"\n",
    "            ],\n",
    "            \"leadership_intervention\": [\n",
    "                \"reassess priorities\", \"reallocate resources\",\n",
    "                \"provide additional guidance\", \"facilitate problem-solving sessions\",\n",
    "                \"communicate changes clearly\", \"acknowledge team efforts\"\n",
    "            ],\n",
    "            \"team_benefit\": [\n",
    "                \"innovation is rewarded\", \"mistakes are viewed as learning opportunities\",\n",
    "                \"diverse perspectives are valued\", \"collaboration is the norm\",\n",
    "                \"individual strengths are leveraged\", \"continuous learning is encouraged\"\n",
    "            ],\n",
    "            \"leadership_emphasis\": [\n",
    "                \"results\", \"people development\", \"innovation\",\n",
    "                \"process improvement\", \"strategic thinking\", \"relationship building\"\n",
    "            ],\n",
    "            \"leadership_balance\": [\n",
    "                \"accountability\", \"work-life balance\", \"individual autonomy\",\n",
    "                \"team cohesion\", \"attention to detail\", \"big-picture thinking\"\n",
    "            ]\n",
    "        },\n",
    "        'time_management': {\n",
    "            \"time_action\": [\n",
    "                \"prioritize tasks\", \"create schedules\", \"set clear deadlines\",\n",
    "                \"eliminate distractions\", \"delegate effectively\", \"chunk similar activities\",\n",
    "                \"use time-blocking techniques\", \"maintain to-do lists\", \"track time usage\"\n",
    "            ],\n",
    "            \"time_outcome\": [\n",
    "                \"meet deadlines consistently\", \"maximize productivity\", \"reduce stress\",\n",
    "                \"balance multiple responsibilities\", \"achieve work-life balance\",\n",
    "                \"increase focus time\", \"improve work quality\", \"create buffer for emergencies\"\n",
    "            ],\n",
    "            \"time_skill\": [\n",
    "                \"managing multiple deadlines\", \"planning my workday\", \"estimating task duration\",\n",
    "                \"tracking my time usage\", \"adjusting priorities\", \"saying no when necessary\",\n",
    "                \"recognizing time-wasting activities\", \"maintaining focus\", \"batching similar tasks\"\n",
    "            ],\n",
    "            \"time_context\": [\n",
    "                \"working under pressure\", \"handling multiple projects\", \"faced with interruptions\",\n",
    "                \"deadlines change\", \"new tasks are assigned\", \"priorities shift\",\n",
    "                \"unexpected issues arise\", \"collaborating across time zones\", \"during peak workloads\"\n",
    "            ],\n",
    "            \"time_frequency\": [\n",
    "                \"consistently\", \"regularly\", \"daily\", \"at the start of each week\", \"proactively\",\n",
    "                \"at the end of each day\", \"between major tasks\", \"during low-energy periods\"\n",
    "            ],\n",
    "            \"time_practice\": [\n",
    "                \"use to-do lists\", \"break large tasks into smaller steps\", \"set specific goals\",\n",
    "                \"block time for focused work\", \"review progress regularly\",\n",
    "                \"eliminate low-value activities\", \"batch similar tasks\", \"schedule buffer time\"\n",
    "            ],\n",
    "            \"time_challenge\": [\n",
    "                \"unexpected interruptions\", \"shifting priorities\", \"tight deadlines\",\n",
    "                \"multiple competing tasks\", \"complex projects\", \"email overload\",\n",
    "                \"meeting-heavy days\", \"scope creep\", \"procrastination tendencies\"\n",
    "            ],\n",
    "            \"time_strategy\": [\n",
    "                \"reassess priorities\", \"communicate timeline changes\", \"find efficient shortcuts\",\n",
    "                \"seek additional resources\", \"eliminate non-essential tasks\",\n",
    "                \"delegate appropriate tasks\", \"extend deadlines when necessary\", \"work in focused sprints\"\n",
    "            ],\n",
    "            \"time_quality\": [\n",
    "                \"a well-organized schedule\", \"clear priorities\", \"focus during work hours\",\n",
    "                \"reasonable workload\", \"effective time allocation\", \"protected focus time\",\n",
    "                \"work-life boundaries\", \"energy for important tasks\", \"buffer for emergencies\"\n",
    "            ],\n",
    "            \"time_method\": [\n",
    "                \"planning ahead\", \"using productivity tools\", \"setting boundaries\",\n",
    "                \"regularly reviewing commitments\", \"avoiding multitasking\",\n",
    "                \"implementing time-boxing\", \"creating routines\", \"tracking time usage\"\n",
    "            ],\n",
    "            \"time_ability\": [\n",
    "                \"meet tight deadlines\", \"handle multiple priorities\", \"stay focused for extended periods\",\n",
    "                \"estimate task durations accurately\", \"adapt to changing schedules\",\n",
    "                \"identify time-wasting activities\", \"complete important tasks first\"\n",
    "            ],\n",
    "            \"negative_time_outcome\": [\n",
    "                \"becoming overwhelmed\", \"sacrificing quality\", \"working excessive hours\",\n",
    "                \"missing important details\", \"feeling stressed\", \"neglecting self-care\",\n",
    "                \"delaying important decisions\", \"creating bottlenecks for others\"\n",
    "            ],\n",
    "            \"time_situation\": [\n",
    "                \"busy periods\", \"multiple deadlines\", \"long-term projects\",\n",
    "                \"unexpected work\", \"recurring tasks\", \"meetings and interruptions\",\n",
    "                \"email management\", \"decision-making\", \"planning processes\"\n",
    "            ],\n",
    "            \"time_technique\": [\n",
    "                \"prioritization matrices\", \"time-blocking\", \"the Pomodoro technique\",\n",
    "                \"delegation\", \"saying no to low-value requests\", \"batching similar tasks\",\n",
    "                \"using templates for recurring work\", \"setting clear boundaries\"\n",
    "            ],\n",
    "            \"time_habit\": [\n",
    "                \"plan my priorities\", \"review my calendar\", \"check my progress\",\n",
    "                \"clear my inbox\", \"update my to-do list\", \"reflect on accomplishments\",\n",
    "                \"prepare for upcoming tasks\", \"eliminate distractions\"\n",
    "            ],\n",
    "            \"workday_period\": [\n",
    "                \"beginning\", \"end\", \"most productive hours\", \"before meetings\",\n",
    "                \"after lunch\", \"between focused work sessions\", \"during commute time\"\n",
    "            ],\n",
    "            \"deadline_scenario\": [\n",
    "                \"multiple simultaneous deadlines\", \"unexpected urgent requests\",\n",
    "                \"shortened timelines\", \"scope increases without timeline changes\",\n",
    "                \"dependent tasks delayed by others\", \"resource limitations\"\n",
    "            ],\n",
    "            \"deadline_response\": [\n",
    "                \"renegotiate timelines when appropriate\", \"focus on the most critical deliverables first\",\n",
    "                \"seek additional resources\", \"adjust my work schedule temporarily\",\n",
    "                \"communicate progress transparently\", \"simplify deliverables when possible\"\n",
    "            ],\n",
    "            \"consistently\": [\n",
    "                \"proactively\", \"routinely\", \"methodically\", \"deliberately\", \"systematically\"\n",
    "            ],\n",
    "            \"time_waster\": [\n",
    "                \"unnecessary meetings\", \"constant email checking\", \"multitasking\",\n",
    "                \"social media distractions\", \"perfectionism\", \"unclear priorities\",\n",
    "                \"disorganized workspaces\", \"unproductive conversations\"\n",
    "            ],\n",
    "            \"prevention_method\": [\n",
    "                \"establishing clear boundaries\", \"implementing specific routines\",\n",
    "                \"using productivity tools\", \"blocking distracting websites\",\n",
    "                \"setting clear agendas for meetings\", \"batching similar activities\"\n",
    "            ]\n",
    "        },\n",
    "        'analytical': {\n",
    "            \"analysis_object\": [\n",
    "                \"data\", \"problems\", \"complex situations\", \"project requirements\",\n",
    "                \"market trends\", \"customer feedback\", \"performance metrics\",\n",
    "                \"research findings\", \"competitive information\", \"process inefficiencies\"\n",
    "            ],\n",
    "            \"analysis_action\": [\n",
    "                \"identify patterns\", \"draw logical conclusions\", \"evaluate options\",\n",
    "                \"determine root causes\", \"make evidence-based decisions\",\n",
    "                \"spot anomalies\", \"recognize relationships\", \"quantify impacts\"\n",
    "            ],\n",
    "            \"analysis_modifier\": [\n",
    "                \"systematically\", \"objectively\", \"thoroughly\", \"efficiently\",\n",
    "                \"with attention to detail\", \"considering multiple perspectives\",\n",
    "                \"without bias\", \"using established frameworks\", \"holistically\"\n",
    "            ],\n",
    "            \"analysis_skill\": [\n",
    "                \"breaking down complex problems\", \"interpreting data\", \"identifying connections\",\n",
    "                \"evaluating evidence\", \"distinguishing facts from assumptions\",\n",
    "                \"recognizing patterns\", \"quantifying variables\", \"testing hypotheses\"\n",
    "            ],\n",
    "            \"analysis_purpose\": [\n",
    "                \"find optimal solutions\", \"make informed decisions\", \"identify improvement opportunities\",\n",
    "                \"predict outcomes\", \"mitigate risks\", \"validate hypotheses\",\n",
    "                \"understand root causes\", \"establish benchmarks\", \"develop strategies\"\n",
    "            ],\n",
    "            \"analysis_frequency\": [\n",
    "                \"consistently\", \"methodically\", \"routinely\", \"deliberately\", \"systematically\"\n",
    "            ],\n",
    "            \"analysis_practice\": [\n",
    "                \"gather all relevant information\", \"consider alternative explanations\",\n",
    "                \"test assumptions\", \"evaluate the reliability of sources\",\n",
    "                \"separate facts from opinions\", \"use structured problem-solving methods\",\n",
    "                \"document my reasoning\", \"seek disconfirming evidence\"\n",
    "            ],\n",
    "            \"analysis_input\": [\n",
    "                \"conflicting information\", \"incomplete data\", \"complex problems\",\n",
    "                \"ambiguous requirements\", \"multiple variables\", \"uncertain conditions\",\n",
    "                \"stakeholder disagreements\", \"contradictory evidence\", \"legacy assumptions\"\n",
    "            ],\n",
    "            \"analysis_process\": [\n",
    "                \"identify key factors\", \"evaluate different perspectives\", \"apply logical frameworks\",\n",
    "                \"test multiple hypotheses\", \"prioritize critical information\",\n",
    "                \"map interdependencies\", \"calculate probabilities\", \"validate data quality\"\n",
    "            ],\n",
    "            \"analysis_output\": [\n",
    "                \"making recommendations\", \"drawing conclusions\", \"implementing solutions\",\n",
    "                \"communicating findings\", \"making decisions\", \"creating action plans\",\n",
    "                \"developing predictive models\", \"establishing measurement criteria\"\n",
    "            ],\n",
    "            \"analysis_method\": [\n",
    "                \"use data visualization\", \"apply statistical methods\", \"conduct root cause analysis\",\n",
    "                \"create decision matrices\", \"perform scenario analysis\", \"develop comparative frameworks\",\n",
    "                \"construct logic models\", \"implement structured evaluation methods\"\n",
    "            ],\n",
    "            \"analysis_goal\": [\n",
    "                \"solve complex problems\", \"identify improvement opportunities\", \"optimize processes\",\n",
    "                \"make data-driven decisions\", \"predict future trends\", \"mitigate risks\",\n",
    "                \"validate hypotheses\", \"eliminate inefficiencies\", \"support strategic goals\"\n",
    "            ],\n",
    "            \"problem_type\": [\n",
    "                \"data-intensive\", \"multi-variable\", \"ambiguous\", \"technical\",\n",
    "                \"resource allocation\", \"process optimization\", \"strategic\",\n",
    "                \"time-sensitive\", \"interdependent\"\n",
    "            ],\n",
    "            \"analytical_approach\": [\n",
    "                \"breaking the problem into components\", \"identifying underlying patterns\",\n",
    "                \"quantifying variables when possible\", \"applying structured frameworks\",\n",
    "                \"using both deductive and inductive reasoning\", \"testing multiple hypotheses\"\n",
    "            ],\n",
    "            \"data_pattern\": [\n",
    "                \"unexpected anomalies\", \"conflicting trends\", \"statistical outliers\",\n",
    "                \"correlation between variables\", \"cyclical patterns\", \"significant gaps\",\n",
    "                \"skewed distributions\", \"contradictory indicators\"\n",
    "            ],\n",
    "            \"data_response\": [\n",
    "                \"investigate potential causes\", \"validate data accuracy first\",\n",
    "                \"perform additional analysis\", \"consider alternative interpretations\",\n",
    "                \"consult subject matter experts\", \"look for contextual factors\"\n",
    "            ],\n",
    "            \"evaluation_action\": [\n",
    "                \"compare\", \"assess\", \"weigh\", \"measure\", \"test\", \"validate\"\n",
    "            ],\n",
    "            \"evaluation_subject\": [\n",
    "                \"options\", \"approaches\", \"hypotheses\", \"data sources\",\n",
    "                \"interpretations\", \"methodologies\", \"assumptions\"\n",
    "            ],\n",
    "            \"decision_action\": [\n",
    "                \"drawing conclusions\", \"making recommendations\", \"finalizing a course of action\",\n",
    "                \"committing resources\", \"implementing solutions\", \"communicating results\"\n",
    "            ],\n",
    "            \"analytical_strength\": [\n",
    "                \"attention to detail\", \"pattern recognition\", \"logical reasoning\",\n",
    "                \"quantitative analysis\", \"critical thinking\", \"systems perspective\",\n",
    "                \"objectivity\", \"methodical approach\"\n",
    "            ],\n",
    "            \"analytical_challenge\": [\n",
    "                \"information overload\", \"ambiguous problems\", \"tight deadlines\",\n",
    "                \"confirmation bias\", \"incomplete data\", \"complex interdependencies\",\n",
    "                \"changing requirements\", \"qualitative variables\"\n",
    "            ],\n",
    "            \"complex_action\": [\n",
    "                \"distill\", \"synthesize\", \"translate\", \"organize\", \"structure\", \"visualize\"\n",
    "            ],\n",
    "            \"simplification_outcome\": [\n",
    "                \"communicate key insights\", \"facilitate decision making\",\n",
    "                \"enable stakeholder understanding\", \"identify action priorities\",\n",
    "                \"clarify complex relationships\", \"highlight critical factors\"\n",
    "            ]\n",
    "        }\n",
    "    }\n",
    "\n",
    "    return components.get(category, {})\n",
    "\n",
    "\n",
    "def fill_template_with_components(template, components):\n",
    "    \"\"\"Fill a template with randomly selected components\"\"\"\n",
    "    filled_template = template\n",
    "\n",
    "    # Find all the placeholders in this template\n",
    "    placeholders = re.findall(r'{([^}]+)}', template)\n",
    "\n",
    "    # Replace each placeholder with a random choice from the corresponding component list\n",
    "    for placeholder in placeholders:\n",
    "        if placeholder in components:\n",
    "            replacement = random.choice(components[placeholder])\n",
    "            filled_template = filled_template.replace(f\"{{{placeholder}}}\", replacement)\n",
    "\n",
    "    return filled_template\n",
    "\n",
    "\n",
    "def get_soft_skills_questions(category, count_needed=100, use_llm=False):\n",
    "    \"\"\"\n",
    "    Get soft skills questions through both scraping and generation\n",
    "\n",
    "    Args:\n",
    "        category (str): One of 'communication', 'leadership', 'time_management', 'analytical'\n",
    "        count_needed (int): Total number of questions needed\n",
    "        use_llm (bool): Whether to use Hugging Face LLM (True) or templates (False)\n",
    "\n",
    "    Returns:\n",
    "        pd.DataFrame: DataFrame containing questions from both sources\n",
    "    \"\"\"\n",
    "    print(f\"Getting {count_needed} questions for {category} skills...\")\n",
    "\n",
    "    # First try to get questions through scraping\n",
    "    scraped_df = scrape_soft_skills_questions(category)\n",
    "\n",
    "    # Calculate how many more questions we need after scraping\n",
    "    scraped_count = len(scraped_df)\n",
    "    generated_count_needed = max(0, count_needed - scraped_count)\n",
    "\n",
    "    # If we need more questions, generate them\n",
    "    if generated_count_needed > 0:\n",
    "        print(f\"Need {generated_count_needed} more questions. Generating them...\")\n",
    "\n",
    "        if use_llm:\n",
    "            generated_df = generate_questions_with_huggingface(category, n=generated_count_needed)\n",
    "        else:\n",
    "            generated_df = generate_questions_with_templates(category, n=generated_count_needed)\n",
    "\n",
    "        # Combine scraped and generated questions\n",
    "        if not scraped_df.empty:\n",
    "            combined_df = pd.concat([scraped_df, generated_df], ignore_index=True)\n",
    "        else:\n",
    "            combined_df = generated_df\n",
    "    else:\n",
    "        print(\"Enough questions were scraped. No need for generation.\")\n",
    "        combined_df = scraped_df\n",
    "\n",
    "    # Ensure we have exactly count_needed questions (or as close as possible)\n",
    "    if len(combined_df) > count_needed:\n",
    "        combined_df = combined_df.sample(count_needed, random_state=42).reset_index(drop=True)\n",
    "\n",
    "    print(f\"Final question count for {category}: {len(combined_df)}\")\n",
    "    return combined_df\n",
    "\n",
    "\n",
    "\n"
   ]
  },
  {
   "cell_type": "markdown",
   "metadata": {},
   "source": [
    "## 6.Interactive Assessment UI\n",
    "\n",
    "This section creates an interactive HTML-based assessment form that allows users to\n",
    "respond to questions on a 5-point scale and receive immediate feedback on their skills."
   ]
  },
  {
   "cell_type": "code",
   "execution_count": 67,
   "metadata": {},
   "outputs": [
    {
     "name": "stdout",
     "output_type": "stream",
     "text": [
      "\n",
      "--- Processing communication skills questions ---\n",
      "\n",
      "Getting 50 questions for communication skills...\n",
      "Scraping 7 questions from https://hr-survey.com/360_Survey_Example_1.htm...\n",
      "Found question: Takes on challenging questions and provides instan...\n",
      "Found question: Coaches others on their written communication skil...\n",
      "Found question: Addresses issues of key importance to stakeholders...\n",
      "Found question: Communicates goals of project, resources required,...\n",
      "Found question: Articulates ideas and emotions clearly to others....\n",
      "Found question: Gives clear and convincing presentations....\n",
      "Scraping 4 questions from https://hr-survey.com/360Feedback_Sample_Assessment_Form.htm...\n",
      "Found question: Adapts language and terminology to meet the needs ...\n",
      "Found question: Recaps action steps from meetings to ensure clarit...\n",
      "Found question: Considers the audience in how the communication is...\n",
      "Found question: Responds in a timely manner, respecting deadlines ...\n",
      "Total communication questions scraped: 10\n",
      "Need 40 more questions. Generating them...\n",
      "Generating 40 questions for communication skills using Hugging Face...\n",
      "🔐 Authentication Error: Invalid Hugging Face API token.\n",
      "Please check your token in the .env file and try again.\n",
      "Falling back to template-based generation...\n",
      "Generating 40 questions for communication skills...\n",
      "Successfully generated 40 questions for communication skills\n",
      "Final question count for communication: 50\n",
      "\n",
      "--- Processing leadership skills questions ---\n",
      "\n",
      "Getting 50 questions for leadership skills...\n",
      "Scraping 5 questions from https://hr-survey.com/360Leadership.htm...\n",
      "Failed to access https://hr-survey.com/360Leadership.htm - Status code: 404\n",
      "Scraping 4 questions from https://www.indeed.com/career-advice/career-development/leadership-assessment...\n",
      "Failed to access https://www.indeed.com/career-advice/career-development/leadership-assessment - Status code: 403\n",
      "Total leadership questions scraped: 0\n",
      "Need 50 more questions. Generating them...\n",
      "Generating 50 questions for leadership skills using Hugging Face...\n",
      "🔐 Authentication Error: Invalid Hugging Face API token.\n",
      "Please check your token in the .env file and try again.\n",
      "Falling back to template-based generation...\n",
      "Generating 50 questions for leadership skills...\n",
      "Successfully generated 50 questions for leadership skills\n",
      "Final question count for leadership: 50\n",
      "\n",
      "--- Processing time_management skills questions ---\n",
      "\n",
      "Getting 50 questions for time_management skills...\n",
      "Scraping 4 questions from https://www.mindtools.com/pages/article/newHTE_88.htm...\n",
      "Scraping 4 questions from https://www.manager-tools.com/products/time-management-self-assessment...\n",
      "Failed to access https://www.manager-tools.com/products/time-management-self-assessment - Status code: 403\n",
      "Total time_management questions scraped: 0\n",
      "Need 50 more questions. Generating them...\n",
      "Generating 50 questions for time_management skills using Hugging Face...\n",
      "🔐 Authentication Error: Invalid Hugging Face API token.\n",
      "Please check your token in the .env file and try again.\n",
      "Falling back to template-based generation...\n",
      "Generating 50 questions for time_management skills...\n",
      "Successfully generated 50 questions for time_management skills\n",
      "Final question count for time_management: 50\n",
      "\n",
      "--- Processing analytical skills questions ---\n",
      "\n",
      "Getting 50 questions for analytical skills...\n",
      "Scraping 4 questions from https://www.mindtools.com/pages/article/newTMC_03.htm...\n",
      "Scraping 4 questions from https://www.analyticssteps.com/blogs/analytical-skill-test-how-measure-analytical-skills...\n",
      "Total analytical questions scraped: 0\n",
      "Need 50 more questions. Generating them...\n",
      "Generating 50 questions for analytical skills using Hugging Face...\n",
      "🔐 Authentication Error: Invalid Hugging Face API token.\n",
      "Please check your token in the .env file and try again.\n",
      "Falling back to template-based generation...\n",
      "Generating 50 questions for analytical skills...\n",
      "Successfully generated 50 questions for analytical skills\n",
      "Final question count for analytical: 50\n",
      "Saved 50 communication questions to ./data/communication_questions.csv\n",
      "Saved 50 leadership questions to ./data/leadership_questions.csv\n",
      "Saved 50 time_management questions to ./data/time_management_questions.csv\n",
      "Saved 50 analytical questions to ./data/analytical_questions.csv\n",
      "Saved total of 200 questions to ./data/all_soft_skills_questions.csv\n"
     ]
    }
   ],
   "source": [
    "# Function to create an interactive assessment interface\n",
    "def create_assessment(questions_df, category):\n",
    "    \"\"\"Create an HTML assessment form for the given category and questions\"\"\"\n",
    "\n",
    "    # Create a random ID for this assessment\n",
    "    assessment_id = f\"{category}_{random.randint(1000, 9999)}\"\n",
    "\n",
    "    # Start building the HTML form\n",
    "    html = f\"\"\"\n",
    "    <div class=\"assessment-container\" style=\"max-width: 800px; margin: 0 auto; font-family: Arial, sans-serif;\">\n",
    "        <h2 style=\"color: #000; text-align: center;\">{category.replace('_', ' ').title()} Skills Assessment</h2>\n",
    "        <p style=\"color: #000;\">Rate yourself on each statement from 1 (Strongly Disagree) to 5 (Strongly Agree).</p>\n",
    "        <form id=\"{assessment_id}\">\n",
    "            <table style=\"width: 100%; border-collapse: collapse;\">\n",
    "                <tr style=\"background-color: #e6f2ff;\">\n",
    "                    <th style=\"padding: 12px; text-align: left; border-bottom: 1px solid #ddd; color: #000;\">Statement</th>\n",
    "                    <th style=\"padding: 12px; text-align: center; border-bottom: 1px solid #ddd; color: #000;\">1<br><small style=\"color: #000;\">Strongly<br>Disagree</small></th>\n",
    "                    <th style=\"padding: 12px; text-align: center; border-bottom: 1px solid #ddd; color: #000;\">2<br><small style=\"color: #000;\">Disagree</small></th>\n",
    "                    <th style=\"padding: 12px; text-align: center; border-bottom: 1px solid #ddd; color: #000;\">3<br><small style=\"color: #000;\">Neutral</small></th>\n",
    "                    <th style=\"padding: 12px; text-align: center; border-bottom: 1px solid #ddd; color: #000;\">4<br><small style=\"color: #000;\">Agree</small></th>\n",
    "                    <th style=\"padding: 12px; text-align: center; border-bottom: 1px solid #ddd; color: #000;\">5<br><small style=\"color: #000;\">Strongly<br>Agree</small></th>\n",
    "                </tr>\n",
    "    \"\"\"\n",
    "\n",
    "    # Add each question as a row in the table\n",
    "    for i, row in questions_df.iterrows():\n",
    "        question_id = f\"q_{i}\"\n",
    "        question_text = row['question_text']\n",
    "\n",
    "        html += f\"\"\"\n",
    "        <tr style=\"border-bottom: 1px solid #ddd;\">\n",
    "            <td style=\"padding: 12px;\">{question_text}</td>\n",
    "        \"\"\"\n",
    "\n",
    "        # Add radio buttons for each rating option\n",
    "        for rating in range(1, 6):\n",
    "            html += f\"\"\"\n",
    "            <td style=\"text-align: center;\">\n",
    "                <input type=\"radio\" name=\"{question_id}\" value=\"{rating}\" required>\n",
    "            </td>\n",
    "            \"\"\"\n",
    "\n",
    "        html += \"</tr>\"\n",
    "\n",
    "    # Add submit button and closing tags\n",
    "    html += f\"\"\"\n",
    "            </table>\n",
    "            <div style=\"margin-top: 40px; margin-bottom: 60px; text-align: center; background-color: white; padding: 15px; border-radius: 8px;\">\n",
    "                <button type=\"button\" id=\"submit-btn-{assessment_id}\" style=\"background-color: #4CAF50; color: white; padding: 15px 30px; border: 2px solid black; border-radius: 4px; cursor: pointer; font-size: 18px; font-weight: bold; box-shadow: 0 4px 8px rgba(0,0,0,0.2);\">SUBMIT ASSESSMENT</button>\n",
    "            </div>\n",
    "        </form>\n",
    "        <div id=\"results-{assessment_id}\" style=\"margin-top: 20px; display: none;\">\n",
    "            <h3>Your Results</h3>\n",
    "            <div id=\"score-{assessment_id}\"></div>\n",
    "            <div id=\"feedback-{assessment_id}\"></div>\n",
    "        </div>\n",
    "        <script>\n",
    "        document.getElementById(\"submit-btn-{assessment_id}\").addEventListener(\"click\", function() {{\n",
    "            // Simple scoring logic\n",
    "            let form = document.getElementById(\"{assessment_id}\");\n",
    "            let total = 0;\n",
    "            let answered = 0;\n",
    "            let questions = {len(questions_df)};\n",
    "\n",
    "            for (let i = 0; i < questions; i++) {{\n",
    "                let name = \"q_\" + i;\n",
    "                let selected = document.querySelector('input[name=\"' + name + '\"]:checked');\n",
    "                if (selected) {{\n",
    "                    total += parseInt(selected.value);\n",
    "                    answered++;\n",
    "                }}\n",
    "            }}\n",
    "\n",
    "            if (answered < questions) {{\n",
    "                alert(\"Please answer all questions before submitting.\");\n",
    "                return;\n",
    "            }}\n",
    "\n",
    "            let average = total / questions;\n",
    "            let percentage = (average / 5) * 100;\n",
    "\n",
    "            // Display results\n",
    "            document.getElementById(\"score-{assessment_id}\").innerHTML = '<p>Your average score: <strong>' + average.toFixed(1) + '/5</strong> (' + percentage.toFixed(1) + '%)</p>';\n",
    "\n",
    "            // Generate feedback based on score\n",
    "            let feedback = '';\n",
    "            if (average >= 4.5) {{\n",
    "                feedback = 'Outstanding! You demonstrate excellent {category.replace('_', ' ')} skills.';\n",
    "            }} else if (average >= 3.5) {{\n",
    "                feedback = 'Good job! You have solid {category.replace('_', ' ')} skills with some room for improvement.';\n",
    "            }} else if (average >= 2.5) {{\n",
    "                feedback = 'You have moderate {category.replace('_', ' ')} skills. Consider focusing on development in this area.';\n",
    "            }} else {{\n",
    "                feedback = 'This appears to be an area for growth. Consider seeking resources to develop your {category.replace('_', ' ')} skills.';\n",
    "            }}\n",
    "\n",
    "            document.getElementById(\"feedback-{assessment_id}\").innerHTML = '<p>' + feedback + '</p>';\n",
    "            document.getElementById(\"results-{assessment_id}\").style.display = \"block\";\n",
    "        }});\n",
    "        </script>\n",
    "    </div>\n",
    "    \"\"\"\n",
    "\n",
    "    return HTML(html)\n",
    "\n",
    "# Main execution section\n",
    "if __name__ == \"__main__\":\n",
    "    # Get questions for all categories\n",
    "    all_questions = {}\n",
    "    for category in ['communication', 'leadership', 'time_management', 'analytical']:\n",
    "        print(f\"\\n--- Processing {category} skills questions ---\\n\")\n",
    "\n",
    "        use_llm = True\n",
    "\n",
    "        # Get questions for this category\n",
    "        all_questions[category] = get_soft_skills_questions(\n",
    "            category=category,\n",
    "            count_needed=50, # Adjust as needed\n",
    "            use_llm=use_llm\n",
    "        )\n",
    "\n",
    "    # Save all questions to CSV files\n",
    "    for category, df in all_questions.items():\n",
    "        file_path = f\"./data/{category}_questions.csv\"\n",
    "        df.to_csv(file_path, index=False)\n",
    "        print(f\"Saved {len(df)} {category} questions to {file_path}\")\n",
    "\n",
    "    # Save combined questions\n",
    "    combined_df = pd.concat([df for df in all_questions.values()], ignore_index=True)\n",
    "    combined_df.to_csv(\"./data/all_soft_skills_questions.csv\", index=False)\n",
    "    print(f\"Saved total of {len(combined_df)} questions to ./data/all_soft_skills_questions.csv\")\n",
    "\n"
   ]
  },
  {
   "cell_type": "markdown",
   "metadata": {},
   "source": [
    "## 7.Main Execution\n",
    "\n",
    "This section runs the entire assessment generation pipeline:\n",
    "1. Collects questions for each skill category through scraping and generation\n",
    "2. Saves the questions to CSV files for future use\n",
    "3. Creates a mixed assessment with questions from all categories\n",
    "4. Displays the assessment for immediate use"
   ]
  },
  {
   "cell_type": "code",
   "execution_count": 68,
   "metadata": {},
   "outputs": [
    {
     "name": "stdout",
     "output_type": "stream",
     "text": [
      "\n",
      "Creating a mixed soft skills assessment...\n",
      "Created mixed assessment with 20 total questions:\n",
      "- communication: 5 questions\n",
      "- leadership: 5 questions\n",
      "- time_management: 5 questions\n",
      "- analytical: 5 questions\n"
     ]
    },
    {
     "data": {
      "text/html": [
       "\n",
       "    <div class=\"assessment-container\" style=\"max-width: 800px; margin: 0 auto; font-family: Arial, sans-serif;\">\n",
       "        <h2 style=\"color: #000; text-align: center;\">Comprehensive Soft Skills Skills Assessment</h2>\n",
       "        <p style=\"color: #000;\">Rate yourself on each statement from 1 (Strongly Disagree) to 5 (Strongly Agree).</p>\n",
       "        <form id=\"comprehensive_soft_skills_3200\">\n",
       "            <table style=\"width: 100%; border-collapse: collapse;\">\n",
       "                <tr style=\"background-color: #e6f2ff;\">\n",
       "                    <th style=\"padding: 12px; text-align: left; border-bottom: 1px solid #ddd; color: #000;\">Statement</th>\n",
       "                    <th style=\"padding: 12px; text-align: center; border-bottom: 1px solid #ddd; color: #000;\">1<br><small style=\"color: #000;\">Strongly<br>Disagree</small></th>\n",
       "                    <th style=\"padding: 12px; text-align: center; border-bottom: 1px solid #ddd; color: #000;\">2<br><small style=\"color: #000;\">Disagree</small></th>\n",
       "                    <th style=\"padding: 12px; text-align: center; border-bottom: 1px solid #ddd; color: #000;\">3<br><small style=\"color: #000;\">Neutral</small></th>\n",
       "                    <th style=\"padding: 12px; text-align: center; border-bottom: 1px solid #ddd; color: #000;\">4<br><small style=\"color: #000;\">Agree</small></th>\n",
       "                    <th style=\"padding: 12px; text-align: center; border-bottom: 1px solid #ddd; color: #000;\">5<br><small style=\"color: #000;\">Strongly<br>Agree</small></th>\n",
       "                </tr>\n",
       "    \n",
       "        <tr style=\"border-bottom: 1px solid #ddd;\">\n",
       "            <td style=\"padding: 12px;\">I set clear expectations to enhance collaboration.</td>\n",
       "        \n",
       "            <td style=\"text-align: center;\">\n",
       "                <input type=\"radio\" name=\"q_0\" value=\"1\" required>\n",
       "            </td>\n",
       "            \n",
       "            <td style=\"text-align: center;\">\n",
       "                <input type=\"radio\" name=\"q_0\" value=\"2\" required>\n",
       "            </td>\n",
       "            \n",
       "            <td style=\"text-align: center;\">\n",
       "                <input type=\"radio\" name=\"q_0\" value=\"3\" required>\n",
       "            </td>\n",
       "            \n",
       "            <td style=\"text-align: center;\">\n",
       "                <input type=\"radio\" name=\"q_0\" value=\"4\" required>\n",
       "            </td>\n",
       "            \n",
       "            <td style=\"text-align: center;\">\n",
       "                <input type=\"radio\" name=\"q_0\" value=\"5\" required>\n",
       "            </td>\n",
       "            </tr>\n",
       "        <tr style=\"border-bottom: 1px solid #ddd;\">\n",
       "            <td style=\"padding: 12px;\">I effectively saying no when necessary when during peak workloads.</td>\n",
       "        \n",
       "            <td style=\"text-align: center;\">\n",
       "                <input type=\"radio\" name=\"q_1\" value=\"1\" required>\n",
       "            </td>\n",
       "            \n",
       "            <td style=\"text-align: center;\">\n",
       "                <input type=\"radio\" name=\"q_1\" value=\"2\" required>\n",
       "            </td>\n",
       "            \n",
       "            <td style=\"text-align: center;\">\n",
       "                <input type=\"radio\" name=\"q_1\" value=\"3\" required>\n",
       "            </td>\n",
       "            \n",
       "            <td style=\"text-align: center;\">\n",
       "                <input type=\"radio\" name=\"q_1\" value=\"4\" required>\n",
       "            </td>\n",
       "            \n",
       "            <td style=\"text-align: center;\">\n",
       "                <input type=\"radio\" name=\"q_1\" value=\"5\" required>\n",
       "            </td>\n",
       "            </tr>\n",
       "        <tr style=\"border-bottom: 1px solid #ddd;\">\n",
       "            <td style=\"padding: 12px;\">I recognize achievements to enhance collaboration.</td>\n",
       "        \n",
       "            <td style=\"text-align: center;\">\n",
       "                <input type=\"radio\" name=\"q_2\" value=\"1\" required>\n",
       "            </td>\n",
       "            \n",
       "            <td style=\"text-align: center;\">\n",
       "                <input type=\"radio\" name=\"q_2\" value=\"2\" required>\n",
       "            </td>\n",
       "            \n",
       "            <td style=\"text-align: center;\">\n",
       "                <input type=\"radio\" name=\"q_2\" value=\"3\" required>\n",
       "            </td>\n",
       "            \n",
       "            <td style=\"text-align: center;\">\n",
       "                <input type=\"radio\" name=\"q_2\" value=\"4\" required>\n",
       "            </td>\n",
       "            \n",
       "            <td style=\"text-align: center;\">\n",
       "                <input type=\"radio\" name=\"q_2\" value=\"5\" required>\n",
       "            </td>\n",
       "            </tr>\n",
       "        <tr style=\"border-bottom: 1px solid #ddd;\">\n",
       "            <td style=\"padding: 12px;\">I systematically avoid unproductive conversations by batching similar activities.</td>\n",
       "        \n",
       "            <td style=\"text-align: center;\">\n",
       "                <input type=\"radio\" name=\"q_3\" value=\"1\" required>\n",
       "            </td>\n",
       "            \n",
       "            <td style=\"text-align: center;\">\n",
       "                <input type=\"radio\" name=\"q_3\" value=\"2\" required>\n",
       "            </td>\n",
       "            \n",
       "            <td style=\"text-align: center;\">\n",
       "                <input type=\"radio\" name=\"q_3\" value=\"3\" required>\n",
       "            </td>\n",
       "            \n",
       "            <td style=\"text-align: center;\">\n",
       "                <input type=\"radio\" name=\"q_3\" value=\"4\" required>\n",
       "            </td>\n",
       "            \n",
       "            <td style=\"text-align: center;\">\n",
       "                <input type=\"radio\" name=\"q_3\" value=\"5\" required>\n",
       "            </td>\n",
       "            </tr>\n",
       "        <tr style=\"border-bottom: 1px solid #ddd;\">\n",
       "            <td style=\"padding: 12px;\">I effectively tracking my time usage when new tasks are assigned.</td>\n",
       "        \n",
       "            <td style=\"text-align: center;\">\n",
       "                <input type=\"radio\" name=\"q_4\" value=\"1\" required>\n",
       "            </td>\n",
       "            \n",
       "            <td style=\"text-align: center;\">\n",
       "                <input type=\"radio\" name=\"q_4\" value=\"2\" required>\n",
       "            </td>\n",
       "            \n",
       "            <td style=\"text-align: center;\">\n",
       "                <input type=\"radio\" name=\"q_4\" value=\"3\" required>\n",
       "            </td>\n",
       "            \n",
       "            <td style=\"text-align: center;\">\n",
       "                <input type=\"radio\" name=\"q_4\" value=\"4\" required>\n",
       "            </td>\n",
       "            \n",
       "            <td style=\"text-align: center;\">\n",
       "                <input type=\"radio\" name=\"q_4\" value=\"5\" required>\n",
       "            </td>\n",
       "            </tr>\n",
       "        <tr style=\"border-bottom: 1px solid #ddd;\">\n",
       "            <td style=\"padding: 12px;\">Communicates goals of project, resources required, resources available, etc. to the team</td>\n",
       "        \n",
       "            <td style=\"text-align: center;\">\n",
       "                <input type=\"radio\" name=\"q_5\" value=\"1\" required>\n",
       "            </td>\n",
       "            \n",
       "            <td style=\"text-align: center;\">\n",
       "                <input type=\"radio\" name=\"q_5\" value=\"2\" required>\n",
       "            </td>\n",
       "            \n",
       "            <td style=\"text-align: center;\">\n",
       "                <input type=\"radio\" name=\"q_5\" value=\"3\" required>\n",
       "            </td>\n",
       "            \n",
       "            <td style=\"text-align: center;\">\n",
       "                <input type=\"radio\" name=\"q_5\" value=\"4\" required>\n",
       "            </td>\n",
       "            \n",
       "            <td style=\"text-align: center;\">\n",
       "                <input type=\"radio\" name=\"q_5\" value=\"5\" required>\n",
       "            </td>\n",
       "            </tr>\n",
       "        <tr style=\"border-bottom: 1px solid #ddd;\">\n",
       "            <td style=\"padding: 12px;\">My approach to strategic problems involves quantifying variables when possible.</td>\n",
       "        \n",
       "            <td style=\"text-align: center;\">\n",
       "                <input type=\"radio\" name=\"q_6\" value=\"1\" required>\n",
       "            </td>\n",
       "            \n",
       "            <td style=\"text-align: center;\">\n",
       "                <input type=\"radio\" name=\"q_6\" value=\"2\" required>\n",
       "            </td>\n",
       "            \n",
       "            <td style=\"text-align: center;\">\n",
       "                <input type=\"radio\" name=\"q_6\" value=\"3\" required>\n",
       "            </td>\n",
       "            \n",
       "            <td style=\"text-align: center;\">\n",
       "                <input type=\"radio\" name=\"q_6\" value=\"4\" required>\n",
       "            </td>\n",
       "            \n",
       "            <td style=\"text-align: center;\">\n",
       "                <input type=\"radio\" name=\"q_6\" value=\"5\" required>\n",
       "            </td>\n",
       "            </tr>\n",
       "        <tr style=\"border-bottom: 1px solid #ddd;\">\n",
       "            <td style=\"padding: 12px;\">I deliberately separate facts from opinions when solving problems.</td>\n",
       "        \n",
       "            <td style=\"text-align: center;\">\n",
       "                <input type=\"radio\" name=\"q_7\" value=\"1\" required>\n",
       "            </td>\n",
       "            \n",
       "            <td style=\"text-align: center;\">\n",
       "                <input type=\"radio\" name=\"q_7\" value=\"2\" required>\n",
       "            </td>\n",
       "            \n",
       "            <td style=\"text-align: center;\">\n",
       "                <input type=\"radio\" name=\"q_7\" value=\"3\" required>\n",
       "            </td>\n",
       "            \n",
       "            <td style=\"text-align: center;\">\n",
       "                <input type=\"radio\" name=\"q_7\" value=\"4\" required>\n",
       "            </td>\n",
       "            \n",
       "            <td style=\"text-align: center;\">\n",
       "                <input type=\"radio\" name=\"q_7\" value=\"5\" required>\n",
       "            </td>\n",
       "            </tr>\n",
       "        <tr style=\"border-bottom: 1px solid #ddd;\">\n",
       "            <td style=\"padding: 12px;\">I facilitate conversations using storytelling clearly and concisely.</td>\n",
       "        \n",
       "            <td style=\"text-align: center;\">\n",
       "                <input type=\"radio\" name=\"q_8\" value=\"1\" required>\n",
       "            </td>\n",
       "            \n",
       "            <td style=\"text-align: center;\">\n",
       "                <input type=\"radio\" name=\"q_8\" value=\"2\" required>\n",
       "            </td>\n",
       "            \n",
       "            <td style=\"text-align: center;\">\n",
       "                <input type=\"radio\" name=\"q_8\" value=\"3\" required>\n",
       "            </td>\n",
       "            \n",
       "            <td style=\"text-align: center;\">\n",
       "                <input type=\"radio\" name=\"q_8\" value=\"4\" required>\n",
       "            </td>\n",
       "            \n",
       "            <td style=\"text-align: center;\">\n",
       "                <input type=\"radio\" name=\"q_8\" value=\"5\" required>\n",
       "            </td>\n",
       "            </tr>\n",
       "        <tr style=\"border-bottom: 1px solid #ddd;\">\n",
       "            <td style=\"padding: 12px;\">I effectively ask questions when during performance reviews.</td>\n",
       "        \n",
       "            <td style=\"text-align: center;\">\n",
       "                <input type=\"radio\" name=\"q_9\" value=\"1\" required>\n",
       "            </td>\n",
       "            \n",
       "            <td style=\"text-align: center;\">\n",
       "                <input type=\"radio\" name=\"q_9\" value=\"2\" required>\n",
       "            </td>\n",
       "            \n",
       "            <td style=\"text-align: center;\">\n",
       "                <input type=\"radio\" name=\"q_9\" value=\"3\" required>\n",
       "            </td>\n",
       "            \n",
       "            <td style=\"text-align: center;\">\n",
       "                <input type=\"radio\" name=\"q_9\" value=\"4\" required>\n",
       "            </td>\n",
       "            \n",
       "            <td style=\"text-align: center;\">\n",
       "                <input type=\"radio\" name=\"q_9\" value=\"5\" required>\n",
       "            </td>\n",
       "            </tr>\n",
       "        <tr style=\"border-bottom: 1px solid #ddd;\">\n",
       "            <td style=\"padding: 12px;\">I can visualize complex information to identify action priorities.</td>\n",
       "        \n",
       "            <td style=\"text-align: center;\">\n",
       "                <input type=\"radio\" name=\"q_10\" value=\"1\" required>\n",
       "            </td>\n",
       "            \n",
       "            <td style=\"text-align: center;\">\n",
       "                <input type=\"radio\" name=\"q_10\" value=\"2\" required>\n",
       "            </td>\n",
       "            \n",
       "            <td style=\"text-align: center;\">\n",
       "                <input type=\"radio\" name=\"q_10\" value=\"3\" required>\n",
       "            </td>\n",
       "            \n",
       "            <td style=\"text-align: center;\">\n",
       "                <input type=\"radio\" name=\"q_10\" value=\"4\" required>\n",
       "            </td>\n",
       "            \n",
       "            <td style=\"text-align: center;\">\n",
       "                <input type=\"radio\" name=\"q_10\" value=\"5\" required>\n",
       "            </td>\n",
       "            </tr>\n",
       "        <tr style=\"border-bottom: 1px solid #ddd;\">\n",
       "            <td style=\"padding: 12px;\">Gives clear and convincing presentations.</td>\n",
       "        \n",
       "            <td style=\"text-align: center;\">\n",
       "                <input type=\"radio\" name=\"q_11\" value=\"1\" required>\n",
       "            </td>\n",
       "            \n",
       "            <td style=\"text-align: center;\">\n",
       "                <input type=\"radio\" name=\"q_11\" value=\"2\" required>\n",
       "            </td>\n",
       "            \n",
       "            <td style=\"text-align: center;\">\n",
       "                <input type=\"radio\" name=\"q_11\" value=\"3\" required>\n",
       "            </td>\n",
       "            \n",
       "            <td style=\"text-align: center;\">\n",
       "                <input type=\"radio\" name=\"q_11\" value=\"4\" required>\n",
       "            </td>\n",
       "            \n",
       "            <td style=\"text-align: center;\">\n",
       "                <input type=\"radio\" name=\"q_11\" value=\"5\" required>\n",
       "            </td>\n",
       "            </tr>\n",
       "        <tr style=\"border-bottom: 1px solid #ddd;\">\n",
       "            <td style=\"padding: 12px;\">When faced with unexpected urgent requests, I seek additional resources.</td>\n",
       "        \n",
       "            <td style=\"text-align: center;\">\n",
       "                <input type=\"radio\" name=\"q_12\" value=\"1\" required>\n",
       "            </td>\n",
       "            \n",
       "            <td style=\"text-align: center;\">\n",
       "                <input type=\"radio\" name=\"q_12\" value=\"2\" required>\n",
       "            </td>\n",
       "            \n",
       "            <td style=\"text-align: center;\">\n",
       "                <input type=\"radio\" name=\"q_12\" value=\"3\" required>\n",
       "            </td>\n",
       "            \n",
       "            <td style=\"text-align: center;\">\n",
       "                <input type=\"radio\" name=\"q_12\" value=\"4\" required>\n",
       "            </td>\n",
       "            \n",
       "            <td style=\"text-align: center;\">\n",
       "                <input type=\"radio\" name=\"q_12\" value=\"5\" required>\n",
       "            </td>\n",
       "            </tr>\n",
       "        <tr style=\"border-bottom: 1px solid #ddd;\">\n",
       "            <td style=\"padding: 12px;\">I am effective at giving constructive feedback in periods of growth.</td>\n",
       "        \n",
       "            <td style=\"text-align: center;\">\n",
       "                <input type=\"radio\" name=\"q_13\" value=\"1\" required>\n",
       "            </td>\n",
       "            \n",
       "            <td style=\"text-align: center;\">\n",
       "                <input type=\"radio\" name=\"q_13\" value=\"2\" required>\n",
       "            </td>\n",
       "            \n",
       "            <td style=\"text-align: center;\">\n",
       "                <input type=\"radio\" name=\"q_13\" value=\"3\" required>\n",
       "            </td>\n",
       "            \n",
       "            <td style=\"text-align: center;\">\n",
       "                <input type=\"radio\" name=\"q_13\" value=\"4\" required>\n",
       "            </td>\n",
       "            \n",
       "            <td style=\"text-align: center;\">\n",
       "                <input type=\"radio\" name=\"q_13\" value=\"5\" required>\n",
       "            </td>\n",
       "            </tr>\n",
       "        <tr style=\"border-bottom: 1px solid #ddd;\">\n",
       "            <td style=\"padding: 12px;\">My logical reasoning helps me overcome tight deadlines.</td>\n",
       "        \n",
       "            <td style=\"text-align: center;\">\n",
       "                <input type=\"radio\" name=\"q_14\" value=\"1\" required>\n",
       "            </td>\n",
       "            \n",
       "            <td style=\"text-align: center;\">\n",
       "                <input type=\"radio\" name=\"q_14\" value=\"2\" required>\n",
       "            </td>\n",
       "            \n",
       "            <td style=\"text-align: center;\">\n",
       "                <input type=\"radio\" name=\"q_14\" value=\"3\" required>\n",
       "            </td>\n",
       "            \n",
       "            <td style=\"text-align: center;\">\n",
       "                <input type=\"radio\" name=\"q_14\" value=\"4\" required>\n",
       "            </td>\n",
       "            \n",
       "            <td style=\"text-align: center;\">\n",
       "                <input type=\"radio\" name=\"q_14\" value=\"5\" required>\n",
       "            </td>\n",
       "            </tr>\n",
       "        <tr style=\"border-bottom: 1px solid #ddd;\">\n",
       "            <td style=\"padding: 12px;\">I can organize complex information to facilitate decision making.</td>\n",
       "        \n",
       "            <td style=\"text-align: center;\">\n",
       "                <input type=\"radio\" name=\"q_15\" value=\"1\" required>\n",
       "            </td>\n",
       "            \n",
       "            <td style=\"text-align: center;\">\n",
       "                <input type=\"radio\" name=\"q_15\" value=\"2\" required>\n",
       "            </td>\n",
       "            \n",
       "            <td style=\"text-align: center;\">\n",
       "                <input type=\"radio\" name=\"q_15\" value=\"3\" required>\n",
       "            </td>\n",
       "            \n",
       "            <td style=\"text-align: center;\">\n",
       "                <input type=\"radio\" name=\"q_15\" value=\"4\" required>\n",
       "            </td>\n",
       "            \n",
       "            <td style=\"text-align: center;\">\n",
       "                <input type=\"radio\" name=\"q_15\" value=\"5\" required>\n",
       "            </td>\n",
       "            </tr>\n",
       "        <tr style=\"border-bottom: 1px solid #ddd;\">\n",
       "            <td style=\"padding: 12px;\">I systematically set clear expectations to ensure innovation.</td>\n",
       "        \n",
       "            <td style=\"text-align: center;\">\n",
       "                <input type=\"radio\" name=\"q_16\" value=\"1\" required>\n",
       "            </td>\n",
       "            \n",
       "            <td style=\"text-align: center;\">\n",
       "                <input type=\"radio\" name=\"q_16\" value=\"2\" required>\n",
       "            </td>\n",
       "            \n",
       "            <td style=\"text-align: center;\">\n",
       "                <input type=\"radio\" name=\"q_16\" value=\"3\" required>\n",
       "            </td>\n",
       "            \n",
       "            <td style=\"text-align: center;\">\n",
       "                <input type=\"radio\" name=\"q_16\" value=\"4\" required>\n",
       "            </td>\n",
       "            \n",
       "            <td style=\"text-align: center;\">\n",
       "                <input type=\"radio\" name=\"q_16\" value=\"5\" required>\n",
       "            </td>\n",
       "            </tr>\n",
       "        <tr style=\"border-bottom: 1px solid #ddd;\">\n",
       "            <td style=\"padding: 12px;\">During all-hands meetings, I ask questions with appropriate detail.</td>\n",
       "        \n",
       "            <td style=\"text-align: center;\">\n",
       "                <input type=\"radio\" name=\"q_17\" value=\"1\" required>\n",
       "            </td>\n",
       "            \n",
       "            <td style=\"text-align: center;\">\n",
       "                <input type=\"radio\" name=\"q_17\" value=\"2\" required>\n",
       "            </td>\n",
       "            \n",
       "            <td style=\"text-align: center;\">\n",
       "                <input type=\"radio\" name=\"q_17\" value=\"3\" required>\n",
       "            </td>\n",
       "            \n",
       "            <td style=\"text-align: center;\">\n",
       "                <input type=\"radio\" name=\"q_17\" value=\"4\" required>\n",
       "            </td>\n",
       "            \n",
       "            <td style=\"text-align: center;\">\n",
       "                <input type=\"radio\" name=\"q_17\" value=\"5\" required>\n",
       "            </td>\n",
       "            </tr>\n",
       "        <tr style=\"border-bottom: 1px solid #ddd;\">\n",
       "            <td style=\"padding: 12px;\">I create an environment where individual strengths are leveraged.</td>\n",
       "        \n",
       "            <td style=\"text-align: center;\">\n",
       "                <input type=\"radio\" name=\"q_18\" value=\"1\" required>\n",
       "            </td>\n",
       "            \n",
       "            <td style=\"text-align: center;\">\n",
       "                <input type=\"radio\" name=\"q_18\" value=\"2\" required>\n",
       "            </td>\n",
       "            \n",
       "            <td style=\"text-align: center;\">\n",
       "                <input type=\"radio\" name=\"q_18\" value=\"3\" required>\n",
       "            </td>\n",
       "            \n",
       "            <td style=\"text-align: center;\">\n",
       "                <input type=\"radio\" name=\"q_18\" value=\"4\" required>\n",
       "            </td>\n",
       "            \n",
       "            <td style=\"text-align: center;\">\n",
       "                <input type=\"radio\" name=\"q_18\" value=\"5\" required>\n",
       "            </td>\n",
       "            </tr>\n",
       "        <tr style=\"border-bottom: 1px solid #ddd;\">\n",
       "            <td style=\"padding: 12px;\">I between major tasks block time for focused work to maximize productivity.</td>\n",
       "        \n",
       "            <td style=\"text-align: center;\">\n",
       "                <input type=\"radio\" name=\"q_19\" value=\"1\" required>\n",
       "            </td>\n",
       "            \n",
       "            <td style=\"text-align: center;\">\n",
       "                <input type=\"radio\" name=\"q_19\" value=\"2\" required>\n",
       "            </td>\n",
       "            \n",
       "            <td style=\"text-align: center;\">\n",
       "                <input type=\"radio\" name=\"q_19\" value=\"3\" required>\n",
       "            </td>\n",
       "            \n",
       "            <td style=\"text-align: center;\">\n",
       "                <input type=\"radio\" name=\"q_19\" value=\"4\" required>\n",
       "            </td>\n",
       "            \n",
       "            <td style=\"text-align: center;\">\n",
       "                <input type=\"radio\" name=\"q_19\" value=\"5\" required>\n",
       "            </td>\n",
       "            </tr>\n",
       "            </table>\n",
       "            <div style=\"margin-top: 40px; margin-bottom: 60px; text-align: center; background-color: white; padding: 15px; border-radius: 8px;\">\n",
       "                <button type=\"button\" id=\"submit-btn-comprehensive_soft_skills_3200\" style=\"background-color: #4CAF50; color: white; padding: 15px 30px; border: 2px solid black; border-radius: 4px; cursor: pointer; font-size: 18px; font-weight: bold; box-shadow: 0 4px 8px rgba(0,0,0,0.2);\">SUBMIT ASSESSMENT</button>\n",
       "            </div>\n",
       "        </form>\n",
       "        <div id=\"results-comprehensive_soft_skills_3200\" style=\"margin-top: 20px; display: none;\">\n",
       "            <h3>Your Results</h3>\n",
       "            <div id=\"score-comprehensive_soft_skills_3200\"></div>\n",
       "            <div id=\"feedback-comprehensive_soft_skills_3200\"></div>\n",
       "        </div>\n",
       "        <script>\n",
       "        document.getElementById(\"submit-btn-comprehensive_soft_skills_3200\").addEventListener(\"click\", function() {\n",
       "            // Simple scoring logic\n",
       "            let form = document.getElementById(\"comprehensive_soft_skills_3200\");\n",
       "            let total = 0;\n",
       "            let answered = 0;\n",
       "            let questions = 20;\n",
       "\n",
       "            for (let i = 0; i < questions; i++) {\n",
       "                let name = \"q_\" + i;\n",
       "                let selected = document.querySelector('input[name=\"' + name + '\"]:checked');\n",
       "                if (selected) {\n",
       "                    total += parseInt(selected.value);\n",
       "                    answered++;\n",
       "                }\n",
       "            }\n",
       "\n",
       "            if (answered < questions) {\n",
       "                alert(\"Please answer all questions before submitting.\");\n",
       "                return;\n",
       "            }\n",
       "\n",
       "            let average = total / questions;\n",
       "            let percentage = (average / 5) * 100;\n",
       "\n",
       "            // Display results\n",
       "            document.getElementById(\"score-comprehensive_soft_skills_3200\").innerHTML = '<p>Your average score: <strong>' + average.toFixed(1) + '/5</strong> (' + percentage.toFixed(1) + '%)</p>';\n",
       "\n",
       "            // Generate feedback based on score\n",
       "            let feedback = '';\n",
       "            if (average >= 4.5) {\n",
       "                feedback = 'Outstanding! You demonstrate excellent comprehensive soft skills skills.';\n",
       "            } else if (average >= 3.5) {\n",
       "                feedback = 'Good job! You have solid comprehensive soft skills skills with some room for improvement.';\n",
       "            } else if (average >= 2.5) {\n",
       "                feedback = 'You have moderate comprehensive soft skills skills. Consider focusing on development in this area.';\n",
       "            } else {\n",
       "                feedback = 'This appears to be an area for growth. Consider seeking resources to develop your comprehensive soft skills skills.';\n",
       "            }\n",
       "\n",
       "            document.getElementById(\"feedback-comprehensive_soft_skills_3200\").innerHTML = '<p>' + feedback + '</p>';\n",
       "            document.getElementById(\"results-comprehensive_soft_skills_3200\").style.display = \"block\";\n",
       "        });\n",
       "        </script>\n",
       "    </div>\n",
       "    "
      ],
      "text/plain": [
       "<IPython.core.display.HTML object>"
      ]
     },
     "metadata": {},
     "output_type": "display_data"
    }
   ],
   "source": [
    "# Demo: Create and display a mixed assessment with questions from all categories\n",
    "print(\"\\nCreating a mixed soft skills assessment...\")\n",
    "\n",
    "# Sample questions from each category\n",
    "mixed_questions = pd.DataFrame()\n",
    "questions_per_category = 5 # Number of questions to include from each category\n",
    "\n",
    "for category in ['communication', 'leadership', 'time_management', 'analytical']:\n",
    "    # Get a sample of questions from this category\n",
    "    if category in all_questions and not all_questions[category].empty:\n",
    "        category_questions = all_questions[category].sample(min(questions_per_category, len(all_questions[category])))\n",
    "\n",
    "        # Add to our mixed questions dataframe\n",
    "        mixed_questions = pd.concat([mixed_questions, category_questions], ignore_index=True)\n",
    "\n",
    "# Shuffle the questions to mix up the categories\n",
    "mixed_questions = mixed_questions.sample(frac=1).reset_index(drop=True)\n",
    "\n",
    "# Display information about the mixed assessment\n",
    "print(f\"Created mixed assessment with {len(mixed_questions)} total questions:\")\n",
    "for category in ['communication', 'leadership', 'time_management', 'analytical']:\n",
    "    count = len(mixed_questions[mixed_questions['category'] == category])\n",
    "    print(f\"- {category}: {count} questions\")\n",
    "\n",
    "# Create and display the mixed assessment\n",
    "display(create_assessment(mixed_questions, \"comprehensive_soft_skills\"))"
   ]
  },
  {
   "cell_type": "markdown",
   "metadata": {},
   "source": [
    "## 8. Clustering Analysis for Heterogeneous Student Group Formation\n",
    "\n",
    "**Project Goal**: Use clustering algorithms to automatically create diverse and balanced student groups for collaborative learning.\n",
    "\n",
    "### What is Clustering?\n",
    "Clustering is an unsupervised machine learning technique that groups similar data points together. For student group formation:\n",
    "\n",
    "1. **Student Profiling**: Identify students with similar skill patterns, learning styles, and characteristics\n",
    "2. **Heterogeneous Group Creation**: Form diverse groups by selecting students from different clusters\n",
    "3. **Balanced Team Composition**: Ensure each group has complementary skills and perspectives\n",
    "\n",
    "### Applications in Educational Settings:\n",
    "- **Collaborative Learning**: Create balanced teams for projects and assignments\n",
    "- **Peer Learning**: Match students with complementary strengths and weaknesses  \n",
    "- **Skill Development**: Expose students to diverse perspectives and approaches\n",
    "- **Bias Reduction**: Remove instructor bias from manual group formation\n",
    "- **Improved Outcomes**: Research shows heterogeneous groups enhance learning and critical thinking\n",
    "\n",
    "### Clustering Process for Group Formation:\n",
    "1. **Data Collection**: Gather student data (moyenne, skills, learning styles, interests, specializations)\n",
    "2. **Clustering**: Group students with similar profiles using ML algorithms\n",
    "3. **Group Formation**: Select one student from each cluster to create diverse teams\n",
    "4. **Validation**: Ensure groups are balanced across key attributes"
   ]
  },
  {
   "cell_type": "code",
   "execution_count": 69,
   "metadata": {},
   "outputs": [
    {
     "name": "stdout",
     "output_type": "stream",
     "text": [
      "👥 Generating sample Tunisian IT engineering student assessment data for heterogeneous group formation...\n",
      "Generated data for 120 IT engineering students\n",
      "Skill categories: ['communication_score', 'leadership_score', 'time_management_score', 'analytical_score', 'extroversion_score', 'creativity_score']\n",
      "Student archetypes: {'Mixed Profile': 26, 'Collaborative Communicator': 19, 'Analytical Thinker': 17, 'Technical Leader': 16, 'Creative Innovator': 15, 'Emerging Scholar': 15, 'Well-Rounded Student': 12}\n",
      "Specializations: {'DevOps & Cloud Computing': 22, 'Cybersecurity': 19, 'Embedded Systems': 17, 'Software Engineering': 16, 'Mobile Development': 12, 'Web Development': 12, 'Network Engineering': 12, 'Data Science & AI': 10}\n",
      "\n",
      "Sample student data preview:\n"
     ]
    },
    {
     "data": {
      "text/html": [
       "<div>\n",
       "<style scoped>\n",
       "    .dataframe tbody tr th:only-of-type {\n",
       "        vertical-align: middle;\n",
       "    }\n",
       "\n",
       "    .dataframe tbody tr th {\n",
       "        vertical-align: top;\n",
       "    }\n",
       "\n",
       "    .dataframe thead th {\n",
       "        text-align: right;\n",
       "    }\n",
       "</style>\n",
       "<table border=\"1\" class=\"dataframe\">\n",
       "  <thead>\n",
       "    <tr style=\"text-align: right;\">\n",
       "      <th></th>\n",
       "      <th>student_id</th>\n",
       "      <th>archetype</th>\n",
       "      <th>communication_score</th>\n",
       "      <th>leadership_score</th>\n",
       "      <th>time_management_score</th>\n",
       "      <th>analytical_score</th>\n",
       "      <th>moyenne</th>\n",
       "      <th>specialization</th>\n",
       "      <th>preferred_programming_language</th>\n",
       "      <th>primary_learning_style</th>\n",
       "      <th>secondary_learning_style</th>\n",
       "      <th>primary_interest</th>\n",
       "      <th>previous_group_experience</th>\n",
       "      <th>extroversion_score</th>\n",
       "      <th>creativity_score</th>\n",
       "      <th>technical_confidence</th>\n",
       "    </tr>\n",
       "  </thead>\n",
       "  <tbody>\n",
       "    <tr>\n",
       "      <th>0</th>\n",
       "      <td>ETU_001</td>\n",
       "      <td>Creative Innovator</td>\n",
       "      <td>4.38</td>\n",
       "      <td>2.71</td>\n",
       "      <td>1.60</td>\n",
       "      <td>5.00</td>\n",
       "      <td>11.40</td>\n",
       "      <td>Cybersecurity</td>\n",
       "      <td>Angular</td>\n",
       "      <td>Kinesthetic</td>\n",
       "      <td>Reading</td>\n",
       "      <td>Startup Innovation</td>\n",
       "      <td>Moyen</td>\n",
       "      <td>1.23</td>\n",
       "      <td>3.89</td>\n",
       "      <td>4.75</td>\n",
       "    </tr>\n",
       "    <tr>\n",
       "      <th>1</th>\n",
       "      <td>ETU_002</td>\n",
       "      <td>Well-Rounded Student</td>\n",
       "      <td>3.46</td>\n",
       "      <td>2.85</td>\n",
       "      <td>2.13</td>\n",
       "      <td>4.27</td>\n",
       "      <td>14.02</td>\n",
       "      <td>Cybersecurity</td>\n",
       "      <td>React</td>\n",
       "      <td>Visual</td>\n",
       "      <td>Reading</td>\n",
       "      <td>Technology Innovation</td>\n",
       "      <td>Moyen</td>\n",
       "      <td>1.36</td>\n",
       "      <td>3.47</td>\n",
       "      <td>2.53</td>\n",
       "    </tr>\n",
       "    <tr>\n",
       "      <th>2</th>\n",
       "      <td>ETU_003</td>\n",
       "      <td>Mixed Profile</td>\n",
       "      <td>3.82</td>\n",
       "      <td>4.31</td>\n",
       "      <td>3.67</td>\n",
       "      <td>2.72</td>\n",
       "      <td>14.15</td>\n",
       "      <td>DevOps &amp; Cloud Computing</td>\n",
       "      <td>C++</td>\n",
       "      <td>Auditory</td>\n",
       "      <td>Logical</td>\n",
       "      <td>Project Management</td>\n",
       "      <td>Moyen</td>\n",
       "      <td>2.56</td>\n",
       "      <td>1.73</td>\n",
       "      <td>4.02</td>\n",
       "    </tr>\n",
       "    <tr>\n",
       "      <th>3</th>\n",
       "      <td>ETU_004</td>\n",
       "      <td>Emerging Scholar</td>\n",
       "      <td>1.60</td>\n",
       "      <td>2.36</td>\n",
       "      <td>3.24</td>\n",
       "      <td>3.15</td>\n",
       "      <td>10.31</td>\n",
       "      <td>DevOps &amp; Cloud Computing</td>\n",
       "      <td>C++</td>\n",
       "      <td>Auditory</td>\n",
       "      <td>Solitary</td>\n",
       "      <td>Programming Fundamentals</td>\n",
       "      <td>Faible</td>\n",
       "      <td>2.09</td>\n",
       "      <td>4.31</td>\n",
       "      <td>2.43</td>\n",
       "    </tr>\n",
       "    <tr>\n",
       "      <th>4</th>\n",
       "      <td>ETU_005</td>\n",
       "      <td>Well-Rounded Student</td>\n",
       "      <td>3.23</td>\n",
       "      <td>2.77</td>\n",
       "      <td>2.57</td>\n",
       "      <td>2.64</td>\n",
       "      <td>14.03</td>\n",
       "      <td>DevOps &amp; Cloud Computing</td>\n",
       "      <td>JavaScript</td>\n",
       "      <td>Kinesthetic</td>\n",
       "      <td>Visual</td>\n",
       "      <td>Technology Innovation</td>\n",
       "      <td>Élevé</td>\n",
       "      <td>4.09</td>\n",
       "      <td>1.30</td>\n",
       "      <td>2.43</td>\n",
       "    </tr>\n",
       "    <tr>\n",
       "      <th>5</th>\n",
       "      <td>ETU_006</td>\n",
       "      <td>Technical Leader</td>\n",
       "      <td>2.29</td>\n",
       "      <td>4.86</td>\n",
       "      <td>3.88</td>\n",
       "      <td>4.29</td>\n",
       "      <td>15.30</td>\n",
       "      <td>Cybersecurity</td>\n",
       "      <td>C++</td>\n",
       "      <td>Logical</td>\n",
       "      <td>Solitary</td>\n",
       "      <td>System Architecture</td>\n",
       "      <td>Élevé</td>\n",
       "      <td>2.89</td>\n",
       "      <td>1.48</td>\n",
       "      <td>3.85</td>\n",
       "    </tr>\n",
       "    <tr>\n",
       "      <th>6</th>\n",
       "      <td>ETU_007</td>\n",
       "      <td>Mixed Profile</td>\n",
       "      <td>3.19</td>\n",
       "      <td>2.13</td>\n",
       "      <td>3.22</td>\n",
       "      <td>3.21</td>\n",
       "      <td>13.16</td>\n",
       "      <td>Mobile Development</td>\n",
       "      <td>Angular</td>\n",
       "      <td>Visual</td>\n",
       "      <td>Solitary</td>\n",
       "      <td>Network Security</td>\n",
       "      <td>Élevé</td>\n",
       "      <td>3.42</td>\n",
       "      <td>3.16</td>\n",
       "      <td>1.81</td>\n",
       "    </tr>\n",
       "    <tr>\n",
       "      <th>7</th>\n",
       "      <td>ETU_008</td>\n",
       "      <td>Mixed Profile</td>\n",
       "      <td>4.13</td>\n",
       "      <td>4.51</td>\n",
       "      <td>3.62</td>\n",
       "      <td>4.07</td>\n",
       "      <td>13.25</td>\n",
       "      <td>Web Development</td>\n",
       "      <td>PHP</td>\n",
       "      <td>Kinesthetic</td>\n",
       "      <td>Auditory</td>\n",
       "      <td>Game Development</td>\n",
       "      <td>Faible</td>\n",
       "      <td>2.27</td>\n",
       "      <td>1.44</td>\n",
       "      <td>1.91</td>\n",
       "    </tr>\n",
       "    <tr>\n",
       "      <th>8</th>\n",
       "      <td>ETU_009</td>\n",
       "      <td>Well-Rounded Student</td>\n",
       "      <td>2.99</td>\n",
       "      <td>2.79</td>\n",
       "      <td>3.78</td>\n",
       "      <td>2.73</td>\n",
       "      <td>14.70</td>\n",
       "      <td>Software Engineering</td>\n",
       "      <td>JavaScript</td>\n",
       "      <td>Visual</td>\n",
       "      <td>Reading</td>\n",
       "      <td>Technology Innovation</td>\n",
       "      <td>Élevé</td>\n",
       "      <td>2.29</td>\n",
       "      <td>3.08</td>\n",
       "      <td>3.81</td>\n",
       "    </tr>\n",
       "    <tr>\n",
       "      <th>9</th>\n",
       "      <td>ETU_010</td>\n",
       "      <td>Technical Leader</td>\n",
       "      <td>2.82</td>\n",
       "      <td>3.71</td>\n",
       "      <td>4.76</td>\n",
       "      <td>5.00</td>\n",
       "      <td>14.59</td>\n",
       "      <td>Embedded Systems</td>\n",
       "      <td>Python</td>\n",
       "      <td>Visual</td>\n",
       "      <td>Visual</td>\n",
       "      <td>AI/Machine Learning</td>\n",
       "      <td>Moyen</td>\n",
       "      <td>2.64</td>\n",
       "      <td>1.13</td>\n",
       "      <td>2.38</td>\n",
       "    </tr>\n",
       "  </tbody>\n",
       "</table>\n",
       "</div>"
      ],
      "text/plain": [
       "  student_id             archetype  communication_score  leadership_score  \\\n",
       "0    ETU_001    Creative Innovator                 4.38              2.71   \n",
       "1    ETU_002  Well-Rounded Student                 3.46              2.85   \n",
       "2    ETU_003         Mixed Profile                 3.82              4.31   \n",
       "3    ETU_004      Emerging Scholar                 1.60              2.36   \n",
       "4    ETU_005  Well-Rounded Student                 3.23              2.77   \n",
       "5    ETU_006      Technical Leader                 2.29              4.86   \n",
       "6    ETU_007         Mixed Profile                 3.19              2.13   \n",
       "7    ETU_008         Mixed Profile                 4.13              4.51   \n",
       "8    ETU_009  Well-Rounded Student                 2.99              2.79   \n",
       "9    ETU_010      Technical Leader                 2.82              3.71   \n",
       "\n",
       "   time_management_score  analytical_score  moyenne            specialization  \\\n",
       "0                   1.60              5.00    11.40             Cybersecurity   \n",
       "1                   2.13              4.27    14.02             Cybersecurity   \n",
       "2                   3.67              2.72    14.15  DevOps & Cloud Computing   \n",
       "3                   3.24              3.15    10.31  DevOps & Cloud Computing   \n",
       "4                   2.57              2.64    14.03  DevOps & Cloud Computing   \n",
       "5                   3.88              4.29    15.30             Cybersecurity   \n",
       "6                   3.22              3.21    13.16        Mobile Development   \n",
       "7                   3.62              4.07    13.25           Web Development   \n",
       "8                   3.78              2.73    14.70      Software Engineering   \n",
       "9                   4.76              5.00    14.59          Embedded Systems   \n",
       "\n",
       "  preferred_programming_language primary_learning_style  \\\n",
       "0                        Angular            Kinesthetic   \n",
       "1                          React                 Visual   \n",
       "2                            C++               Auditory   \n",
       "3                            C++               Auditory   \n",
       "4                     JavaScript            Kinesthetic   \n",
       "5                            C++                Logical   \n",
       "6                        Angular                 Visual   \n",
       "7                            PHP            Kinesthetic   \n",
       "8                     JavaScript                 Visual   \n",
       "9                         Python                 Visual   \n",
       "\n",
       "  secondary_learning_style          primary_interest  \\\n",
       "0                  Reading        Startup Innovation   \n",
       "1                  Reading     Technology Innovation   \n",
       "2                  Logical        Project Management   \n",
       "3                 Solitary  Programming Fundamentals   \n",
       "4                   Visual     Technology Innovation   \n",
       "5                 Solitary       System Architecture   \n",
       "6                 Solitary          Network Security   \n",
       "7                 Auditory          Game Development   \n",
       "8                  Reading     Technology Innovation   \n",
       "9                   Visual       AI/Machine Learning   \n",
       "\n",
       "  previous_group_experience  extroversion_score  creativity_score  \\\n",
       "0                     Moyen                1.23              3.89   \n",
       "1                     Moyen                1.36              3.47   \n",
       "2                     Moyen                2.56              1.73   \n",
       "3                    Faible                2.09              4.31   \n",
       "4                     Élevé                4.09              1.30   \n",
       "5                     Élevé                2.89              1.48   \n",
       "6                     Élevé                3.42              3.16   \n",
       "7                    Faible                2.27              1.44   \n",
       "8                     Élevé                2.29              3.08   \n",
       "9                     Moyen                2.64              1.13   \n",
       "\n",
       "   technical_confidence  \n",
       "0                  4.75  \n",
       "1                  2.53  \n",
       "2                  4.02  \n",
       "3                  2.43  \n",
       "4                  2.43  \n",
       "5                  3.85  \n",
       "6                  1.81  \n",
       "7                  1.91  \n",
       "8                  3.81  \n",
       "9                  2.38  "
      ]
     },
     "metadata": {},
     "output_type": "display_data"
    },
    {
     "name": "stdout",
     "output_type": "stream",
     "text": [
      "\n",
      "📊 Summary Statistics:\n"
     ]
    },
    {
     "data": {
      "text/html": [
       "<div>\n",
       "<style scoped>\n",
       "    .dataframe tbody tr th:only-of-type {\n",
       "        vertical-align: middle;\n",
       "    }\n",
       "\n",
       "    .dataframe tbody tr th {\n",
       "        vertical-align: top;\n",
       "    }\n",
       "\n",
       "    .dataframe thead th {\n",
       "        text-align: right;\n",
       "    }\n",
       "</style>\n",
       "<table border=\"1\" class=\"dataframe\">\n",
       "  <thead>\n",
       "    <tr style=\"text-align: right;\">\n",
       "      <th></th>\n",
       "      <th>communication_score</th>\n",
       "      <th>leadership_score</th>\n",
       "      <th>time_management_score</th>\n",
       "      <th>analytical_score</th>\n",
       "      <th>extroversion_score</th>\n",
       "      <th>creativity_score</th>\n",
       "      <th>moyenne</th>\n",
       "    </tr>\n",
       "  </thead>\n",
       "  <tbody>\n",
       "    <tr>\n",
       "      <th>count</th>\n",
       "      <td>120.000000</td>\n",
       "      <td>120.000000</td>\n",
       "      <td>120.000000</td>\n",
       "      <td>120.000000</td>\n",
       "      <td>120.000000</td>\n",
       "      <td>120.000000</td>\n",
       "      <td>120.000000</td>\n",
       "    </tr>\n",
       "    <tr>\n",
       "      <th>mean</th>\n",
       "      <td>3.580833</td>\n",
       "      <td>3.266500</td>\n",
       "      <td>3.376583</td>\n",
       "      <td>3.708583</td>\n",
       "      <td>2.982083</td>\n",
       "      <td>2.727167</td>\n",
       "      <td>14.242500</td>\n",
       "    </tr>\n",
       "    <tr>\n",
       "      <th>std</th>\n",
       "      <td>0.855177</td>\n",
       "      <td>0.915316</td>\n",
       "      <td>0.930456</td>\n",
       "      <td>0.918305</td>\n",
       "      <td>1.097349</td>\n",
       "      <td>1.162599</td>\n",
       "      <td>1.798018</td>\n",
       "    </tr>\n",
       "    <tr>\n",
       "      <th>min</th>\n",
       "      <td>1.510000</td>\n",
       "      <td>1.150000</td>\n",
       "      <td>1.000000</td>\n",
       "      <td>1.470000</td>\n",
       "      <td>1.070000</td>\n",
       "      <td>1.000000</td>\n",
       "      <td>10.090000</td>\n",
       "    </tr>\n",
       "    <tr>\n",
       "      <th>25%</th>\n",
       "      <td>3.007500</td>\n",
       "      <td>2.642500</td>\n",
       "      <td>2.870000</td>\n",
       "      <td>3.087500</td>\n",
       "      <td>2.105000</td>\n",
       "      <td>1.632500</td>\n",
       "      <td>13.002500</td>\n",
       "    </tr>\n",
       "    <tr>\n",
       "      <th>50%</th>\n",
       "      <td>3.580000</td>\n",
       "      <td>3.330000</td>\n",
       "      <td>3.520000</td>\n",
       "      <td>3.765000</td>\n",
       "      <td>3.035000</td>\n",
       "      <td>2.785000</td>\n",
       "      <td>14.505000</td>\n",
       "    </tr>\n",
       "    <tr>\n",
       "      <th>75%</th>\n",
       "      <td>4.302500</td>\n",
       "      <td>3.902500</td>\n",
       "      <td>3.987500</td>\n",
       "      <td>4.467500</td>\n",
       "      <td>3.862500</td>\n",
       "      <td>3.665000</td>\n",
       "      <td>15.392500</td>\n",
       "    </tr>\n",
       "    <tr>\n",
       "      <th>max</th>\n",
       "      <td>5.000000</td>\n",
       "      <td>5.000000</td>\n",
       "      <td>5.000000</td>\n",
       "      <td>5.000000</td>\n",
       "      <td>5.000000</td>\n",
       "      <td>4.940000</td>\n",
       "      <td>18.650000</td>\n",
       "    </tr>\n",
       "  </tbody>\n",
       "</table>\n",
       "</div>"
      ],
      "text/plain": [
       "       communication_score  leadership_score  time_management_score  \\\n",
       "count           120.000000        120.000000             120.000000   \n",
       "mean              3.580833          3.266500               3.376583   \n",
       "std               0.855177          0.915316               0.930456   \n",
       "min               1.510000          1.150000               1.000000   \n",
       "25%               3.007500          2.642500               2.870000   \n",
       "50%               3.580000          3.330000               3.520000   \n",
       "75%               4.302500          3.902500               3.987500   \n",
       "max               5.000000          5.000000               5.000000   \n",
       "\n",
       "       analytical_score  extroversion_score  creativity_score     moyenne  \n",
       "count        120.000000          120.000000        120.000000  120.000000  \n",
       "mean           3.708583            2.982083          2.727167   14.242500  \n",
       "std            0.918305            1.097349          1.162599    1.798018  \n",
       "min            1.470000            1.070000          1.000000   10.090000  \n",
       "25%            3.087500            2.105000          1.632500   13.002500  \n",
       "50%            3.765000            3.035000          2.785000   14.505000  \n",
       "75%            4.467500            3.862500          3.665000   15.392500  \n",
       "max            5.000000            5.000000          4.940000   18.650000  "
      ]
     },
     "metadata": {},
     "output_type": "display_data"
    }
   ],
   "source": [
    "# Import additional libraries for clustering analysis\n",
    "from sklearn.cluster import KMeans, DBSCAN, AgglomerativeClustering\n",
    "from sklearn.preprocessing import StandardScaler, LabelEncoder\n",
    "from sklearn.decomposition import PCA\n",
    "from sklearn.metrics import silhouette_score, calinski_harabasz_score\n",
    "import plotly.graph_objects as go\n",
    "import plotly.express as px\n",
    "from plotly.subplots import make_subplots\n",
    "import warnings\n",
    "warnings.filterwarnings('ignore')\n",
    "\n",
    "def generate_student_assessment_data(n_students=120, random_state=42):\n",
    "    \"\"\"\n",
    "    Generate sample Tunisian IT engineering student assessment data for clustering and group formation\n",
    "    \n",
    "    Args:\n",
    "        n_students (int): Number of sample students to generate\n",
    "        random_state (int): Random seed for reproducibility\n",
    "    \n",
    "    Returns:\n",
    "        pd.DataFrame: Sample student assessment responses with additional attributes\n",
    "    \"\"\"\n",
    "    np.random.seed(random_state)\n",
    "    \n",
    "    # Define student archetypes based on learning styles and skill combinations\n",
    "    # Adapted for Tunisian IT engineering students with moyenne (0-20 scale)\n",
    "    student_archetypes = {\n",
    "        'Technical Leader': {\n",
    "            'communication': (3.5, 0.8),\n",
    "            'leadership': (4.2, 0.6), \n",
    "            'time_management': (4.0, 0.7),\n",
    "            'analytical': (4.5, 0.5),\n",
    "            'moyenne_range': (14.0, 18.0),  # Good to excellent students (70-90%)\n",
    "            'learning_styles': ['Visual', 'Logical'],\n",
    "            'interests': ['Software Development', 'AI/Machine Learning', 'System Architecture']\n",
    "        },\n",
    "        'Collaborative Communicator': {\n",
    "            'communication': (4.5, 0.5),\n",
    "            'leadership': (3.8, 0.7),\n",
    "            'time_management': (3.2, 0.9),\n",
    "            'analytical': (2.8, 0.8),\n",
    "            'moyenne_range': (12.0, 16.0),  # Average to good students (60-80%)\n",
    "            'learning_styles': ['Auditory', 'Social'],\n",
    "            'interests': ['Web Development', 'UI/UX Design', 'Project Management']\n",
    "        },\n",
    "        'Analytical Thinker': {\n",
    "            'communication': (3.0, 0.8),\n",
    "            'leadership': (2.5, 0.9),\n",
    "            'time_management': (3.8, 0.7),\n",
    "            'analytical': (4.6, 0.4),\n",
    "            'moyenne_range': (15.0, 19.0),  # Very good to excellent students (75-95%)\n",
    "            'learning_styles': ['Visual', 'Solitary'],\n",
    "            'interests': ['Data Science', 'Algorithms', 'Research & Development']\n",
    "        },\n",
    "        'Well-Rounded Student': {\n",
    "            'communication': (3.8, 0.6),\n",
    "            'leadership': (3.5, 0.7),\n",
    "            'time_management': (3.7, 0.6),\n",
    "            'analytical': (3.6, 0.7),\n",
    "            'moyenne_range': (13.0, 16.5),  # Good students (65-82.5%)\n",
    "            'learning_styles': ['Kinesthetic', 'Visual'],\n",
    "            'interests': ['Mobile Development', 'Network Security', 'Technology Innovation']\n",
    "        },\n",
    "        'Creative Innovator': {\n",
    "            'communication': (4.0, 0.7),\n",
    "            'leadership': (3.2, 0.8),\n",
    "            'time_management': (2.8, 1.0),\n",
    "            'analytical': (3.2, 0.9),\n",
    "            'moyenne_range': (11.0, 15.0),  # Average students (55-75%)\n",
    "            'learning_styles': ['Kinesthetic', 'Visual'],\n",
    "            'interests': ['Game Development', 'Creative Coding', 'Startup Innovation']\n",
    "        },\n",
    "        'Emerging Scholar': {\n",
    "            'communication': (2.8, 0.9),\n",
    "            'leadership': (2.2, 0.8),\n",
    "            'time_management': (2.5, 1.0),\n",
    "            'analytical': (3.0, 0.9),\n",
    "            'moyenne_range': (10.0, 13.5),  # Developing students (50-67.5%)\n",
    "            'learning_styles': ['Auditory', 'Reading'],\n",
    "            'interests': ['Programming Fundamentals', 'Database Systems', 'Self-Improvement']\n",
    "        }\n",
    "    }\n",
    "    \n",
    "    # IT engineering specializations for diversity (instead of different majors)\n",
    "    specializations = [\n",
    "        'Software Engineering', 'Data Science & AI', 'Cybersecurity', \n",
    "        'Network Engineering', 'Mobile Development', 'Web Development',\n",
    "        'DevOps & Cloud Computing', 'Embedded Systems'\n",
    "    ]\n",
    "    \n",
    "    # Programming languages for additional diversity\n",
    "    programming_languages = [\n",
    "        'Python', 'Java', 'JavaScript', 'C++', 'C#', 'PHP', 'React', 'Angular'\n",
    "    ]\n",
    "    \n",
    "    learning_styles = ['Visual', 'Auditory', 'Kinesthetic', 'Reading', 'Social', 'Solitary', 'Logical']\n",
    "    \n",
    "    sample_data = []\n",
    "    archetype_names = list(student_archetypes.keys())\n",
    "    \n",
    "    for i in range(n_students):\n",
    "        # Randomly assign archetype (with some mixing for realism)\n",
    "        if np.random.random() < 0.75:  # 75% pure archetype\n",
    "            archetype = np.random.choice(archetype_names)\n",
    "            arch_data = student_archetypes[archetype]\n",
    "        else:  # 25% mixed profiles\n",
    "            arch1, arch2 = np.random.choice(archetype_names, 2, replace=False)\n",
    "            # Blend two archetypes\n",
    "            arch_data = {}\n",
    "            for skill in ['communication', 'leadership', 'time_management', 'analytical']:\n",
    "                mean1, std1 = student_archetypes[arch1][skill]\n",
    "                mean2, std2 = student_archetypes[arch2][skill]\n",
    "                arch_data[skill] = ((mean1 + mean2) / 2, (std1 + std2) / 2)\n",
    "            \n",
    "            # Mix other attributes\n",
    "            moyenne1_min, moyenne1_max = student_archetypes[arch1]['moyenne_range']\n",
    "            moyenne2_min, moyenne2_max = student_archetypes[arch2]['moyenne_range']\n",
    "            arch_data['moyenne_range'] = ((moyenne1_min + moyenne2_min) / 2, (moyenne1_max + moyenne2_max) / 2)\n",
    "            arch_data['learning_styles'] = student_archetypes[arch1]['learning_styles'] + student_archetypes[arch2]['learning_styles']\n",
    "            arch_data['interests'] = student_archetypes[arch1]['interests'] + student_archetypes[arch2]['interests']\n",
    "            archetype = f\"Mixed Profile\"\n",
    "        \n",
    "        # Generate student data\n",
    "        student_data = {\n",
    "            'student_id': f\"ETU_{i+1:03d}\",  # ETU for Étudiant (French for student)\n",
    "            'archetype': archetype\n",
    "        }\n",
    "        \n",
    "        # Generate soft skill scores\n",
    "        for skill in ['communication', 'leadership', 'time_management', 'analytical']:\n",
    "            mean, std = arch_data[skill]\n",
    "            score = np.random.normal(mean, std)\n",
    "            score = max(1.0, min(5.0, score))\n",
    "            student_data[f'{skill}_score'] = round(score, 2)\n",
    "        \n",
    "        # Generate Moyenne (0-20 scale instead of GPA)\n",
    "        moyenne_min, moyenne_max = arch_data['moyenne_range']\n",
    "        moyenne = np.random.uniform(moyenne_min, moyenne_max)\n",
    "        student_data['moyenne'] = round(moyenne, 2)\n",
    "        \n",
    "        # Assign IT engineering specific attributes\n",
    "        student_data['specialization'] = np.random.choice(specializations)\n",
    "        student_data['preferred_programming_language'] = np.random.choice(programming_languages)\n",
    "        student_data['primary_learning_style'] = np.random.choice(arch_data['learning_styles'])\n",
    "        student_data['secondary_learning_style'] = np.random.choice(learning_styles)\n",
    "        student_data['primary_interest'] = np.random.choice(arch_data['interests'])\n",
    "        \n",
    "        # Add some random diversity\n",
    "        student_data['previous_group_experience'] = np.random.choice(['Faible', 'Moyen', 'Élevé'])  # French: Low, Medium, High\n",
    "        student_data['extroversion_score'] = round(np.random.uniform(1, 5), 2)\n",
    "        student_data['creativity_score'] = round(np.random.uniform(1, 5), 2)\n",
    "        student_data['technical_confidence'] = round(np.random.uniform(1, 5), 2)  # New attribute for IT students\n",
    "        \n",
    "        sample_data.append(student_data)\n",
    "    \n",
    "    return pd.DataFrame(sample_data)\n",
    "\n",
    "# Generate sample student data for clustering demonstration\n",
    "print(\"👥 Generating sample Tunisian IT engineering student assessment data for heterogeneous group formation...\")\n",
    "students_df = generate_student_assessment_data(n_students=120)\n",
    "\n",
    "# Display basic statistics\n",
    "print(f\"Generated data for {len(students_df)} IT engineering students\")\n",
    "print(f\"Skill categories: {[col for col in students_df.columns if col.endswith('_score')]}\")\n",
    "print(f\"Student archetypes: {students_df['archetype'].value_counts().to_dict()}\")\n",
    "print(f\"Specializations: {students_df['specialization'].value_counts().to_dict()}\")\n",
    "print(\"\\nSample student data preview:\")\n",
    "display(students_df.head(10))\n",
    "\n",
    "# Display summary statistics\n",
    "print(\"\\n📊 Summary Statistics:\")\n",
    "skill_cols = [col for col in students_df.columns if col.endswith('_score')]\n",
    "display(students_df[skill_cols + ['moyenne']].describe())"
   ]
  },
  {
   "cell_type": "code",
   "execution_count": 70,
   "metadata": {},
   "outputs": [
    {
     "name": "stdout",
     "output_type": "stream",
     "text": [
      "🔄 Preparing data for clustering analysis...\n",
      "Features used for clustering: ['communication_score', 'leadership_score', 'time_management_score', 'analytical_score', 'extroversion_score', 'creativity_score', 'moyenne', 'extroversion_score', 'creativity_score', 'technical_confidence', 'specialization', 'preferred_programming_language', 'primary_learning_style', 'previous_group_experience']\n",
      "Data shape: (120, 14)\n",
      "\n",
      "🔍 Finding optimal number of clusters...\n",
      "Optimal number of clusters (silhouette): 2\n",
      "\n",
      "👥 Clustering Results:\n",
      "Number of clusters: 4 (fixed)\n",
      "Cluster distribution:\n",
      "  Cluster 0: 24 students (20.0%)\n",
      "  Cluster 1: 27 students (22.5%)\n",
      "  Cluster 2: 37 students (30.8%)\n",
      "  Cluster 3: 32 students (26.7%)\n"
     ]
    },
    {
     "data": {
      "text/html": [
       "<div>\n",
       "<style scoped>\n",
       "    .dataframe tbody tr th:only-of-type {\n",
       "        vertical-align: middle;\n",
       "    }\n",
       "\n",
       "    .dataframe tbody tr th {\n",
       "        vertical-align: top;\n",
       "    }\n",
       "\n",
       "    .dataframe thead th {\n",
       "        text-align: right;\n",
       "    }\n",
       "</style>\n",
       "<table border=\"1\" class=\"dataframe\">\n",
       "  <thead>\n",
       "    <tr style=\"text-align: right;\">\n",
       "      <th></th>\n",
       "      <th>communication_score</th>\n",
       "      <th>leadership_score</th>\n",
       "      <th>time_management_score</th>\n",
       "      <th>analytical_score</th>\n",
       "      <th>moyenne</th>\n",
       "    </tr>\n",
       "    <tr>\n",
       "      <th>cluster</th>\n",
       "      <th></th>\n",
       "      <th></th>\n",
       "      <th></th>\n",
       "      <th></th>\n",
       "      <th></th>\n",
       "    </tr>\n",
       "  </thead>\n",
       "  <tbody>\n",
       "    <tr>\n",
       "      <th>0</th>\n",
       "      <td>3.21</td>\n",
       "      <td>2.51</td>\n",
       "      <td>3.49</td>\n",
       "      <td>3.97</td>\n",
       "      <td>13.85</td>\n",
       "    </tr>\n",
       "    <tr>\n",
       "      <th>1</th>\n",
       "      <td>3.81</td>\n",
       "      <td>3.15</td>\n",
       "      <td>2.40</td>\n",
       "      <td>2.96</td>\n",
       "      <td>12.84</td>\n",
       "    </tr>\n",
       "    <tr>\n",
       "      <th>2</th>\n",
       "      <td>3.57</td>\n",
       "      <td>3.37</td>\n",
       "      <td>3.91</td>\n",
       "      <td>4.05</td>\n",
       "      <td>15.26</td>\n",
       "    </tr>\n",
       "    <tr>\n",
       "      <th>3</th>\n",
       "      <td>3.67</td>\n",
       "      <td>3.81</td>\n",
       "      <td>3.51</td>\n",
       "      <td>3.75</td>\n",
       "      <td>14.54</td>\n",
       "    </tr>\n",
       "  </tbody>\n",
       "</table>\n",
       "</div>"
      ],
      "text/plain": [
       "         communication_score  leadership_score  time_management_score  \\\n",
       "cluster                                                                 \n",
       "0                       3.21              2.51                   3.49   \n",
       "1                       3.81              3.15                   2.40   \n",
       "2                       3.57              3.37                   3.91   \n",
       "3                       3.67              3.81                   3.51   \n",
       "\n",
       "         analytical_score  moyenne  \n",
       "cluster                             \n",
       "0                    3.97    13.85  \n",
       "1                    2.96    12.84  \n",
       "2                    4.05    15.26  \n",
       "3                    3.75    14.54  "
      ]
     },
     "metadata": {},
     "output_type": "display_data"
    }
   ],
   "source": [
    "def prepare_clustering_data(df):\n",
    "    \"\"\"\n",
    "    Prepare Tunisian IT engineering student data for clustering by encoding and scaling features\n",
    "    \n",
    "    Args:\n",
    "        df (pd.DataFrame): Student assessment data\n",
    "    \n",
    "    Returns:\n",
    "        tuple: (scaled_features, feature_names, label_encoders)\n",
    "    \"\"\"\n",
    "    # Select features for clustering\n",
    "    skill_features = [col for col in df.columns if col.endswith('_score')]\n",
    "    other_features = ['moyenne', 'extroversion_score', 'creativity_score', 'technical_confidence']\n",
    "    categorical_features = ['specialization', 'preferred_programming_language', 'primary_learning_style', 'previous_group_experience']\n",
    "    \n",
    "    # Prepare numerical features\n",
    "    numerical_data = df[skill_features + other_features].copy()\n",
    "    \n",
    "    # Encode categorical features\n",
    "    label_encoders = {}\n",
    "    categorical_data = pd.DataFrame()\n",
    "    \n",
    "    for feature in categorical_features:\n",
    "        le = LabelEncoder()\n",
    "        categorical_data[feature] = le.fit_transform(df[feature])\n",
    "        label_encoders[feature] = le\n",
    "    \n",
    "    # Combine all features\n",
    "    combined_features = pd.concat([numerical_data, categorical_data], axis=1)\n",
    "    \n",
    "    # Scale features\n",
    "    scaler = StandardScaler()\n",
    "    scaled_features = scaler.fit_transform(combined_features)\n",
    "    \n",
    "    feature_names = list(combined_features.columns)\n",
    "    \n",
    "    return scaled_features, feature_names, label_encoders, scaler\n",
    "\n",
    "def find_optimal_clusters(data, max_clusters=10):\n",
    "    \"\"\"\n",
    "    Find optimal number of clusters using elbow method and silhouette analysis\n",
    "    \n",
    "    Args:\n",
    "        data: Scaled feature data\n",
    "        max_clusters (int): Maximum number of clusters to test\n",
    "    \n",
    "    Returns:\n",
    "        dict: Results with optimal cluster numbers\n",
    "    \"\"\"\n",
    "    inertias = []\n",
    "    silhouette_scores = []\n",
    "    calinski_scores = []\n",
    "    cluster_range = range(2, max_clusters + 1)\n",
    "    \n",
    "    for n_clusters in cluster_range:\n",
    "        # K-Means clustering\n",
    "        kmeans = KMeans(n_clusters=n_clusters, random_state=42, n_init=10)\n",
    "        cluster_labels = kmeans.fit_predict(data)\n",
    "        \n",
    "        # Calculate metrics\n",
    "        inertias.append(kmeans.inertia_)\n",
    "        silhouette_scores.append(silhouette_score(data, cluster_labels))\n",
    "        calinski_scores.append(calinski_harabasz_score(data, cluster_labels))\n",
    "    \n",
    "    # Find optimal number using silhouette score\n",
    "    optimal_silhouette = cluster_range[np.argmax(silhouette_scores)]\n",
    "    \n",
    "    return {\n",
    "        'cluster_range': list(cluster_range),\n",
    "        'inertias': inertias,\n",
    "        'silhouette_scores': silhouette_scores,\n",
    "        'calinski_scores': calinski_scores,\n",
    "        'optimal_clusters': optimal_silhouette\n",
    "    }\n",
    "\n",
    "def perform_clustering(data, n_clusters, algorithm='kmeans'):\n",
    "    \"\"\"\n",
    "    Perform clustering using specified algorithm\n",
    "    \n",
    "    Args:\n",
    "        data: Scaled feature data\n",
    "        n_clusters (int): Number of clusters\n",
    "        algorithm (str): Clustering algorithm ('kmeans', 'hierarchical', 'dbscan')\n",
    "    \n",
    "    Returns:\n",
    "        array: Cluster labels\n",
    "    \"\"\"\n",
    "    if algorithm == 'kmeans':\n",
    "        clusterer = KMeans(n_clusters=n_clusters, random_state=42, n_init=10)\n",
    "    elif algorithm == 'hierarchical':\n",
    "        clusterer = AgglomerativeClustering(n_clusters=n_clusters)\n",
    "    elif algorithm == 'dbscan':\n",
    "        clusterer = DBSCAN(eps=0.5, min_samples=5)\n",
    "    else:\n",
    "        raise ValueError(\"Algorithm must be 'kmeans', 'hierarchical', or 'dbscan'\")\n",
    "    \n",
    "    cluster_labels = clusterer.fit_predict(data)\n",
    "    return cluster_labels\n",
    "\n",
    "# Prepare data for clustering\n",
    "print(\"🔄 Preparing data for clustering analysis...\")\n",
    "scaled_features, feature_names, label_encoders, scaler = prepare_clustering_data(students_df)\n",
    "\n",
    "print(f\"Features used for clustering: {feature_names}\")\n",
    "print(f\"Data shape: {scaled_features.shape}\")\n",
    "\n",
    "# Find optimal number of clusters\n",
    "print(\"\\n🔍 Finding optimal number of clusters...\")\n",
    "cluster_analysis = find_optimal_clusters(scaled_features, max_clusters=8)\n",
    "\n",
    "print(f\"Optimal number of clusters (silhouette): {cluster_analysis['optimal_clusters']}\")\n",
    "\n",
    "\n",
    "\n",
    "# Perform clustering with 4 clusters as requested\n",
    "optimal_k = 4  # Fixed to 4 clusters as requested\n",
    "cluster_labels = perform_clustering(scaled_features, optimal_k, algorithm='kmeans')\n",
    "\n",
    "# Add cluster labels to original dataframe\n",
    "students_df['cluster'] = cluster_labels\n",
    "\n",
    "print(f\"\\n👥 Clustering Results:\")\n",
    "print(f\"Number of clusters: {optimal_k} (fixed)\")\n",
    "print(f\"Cluster distribution:\")\n",
    "cluster_counts = pd.Series(cluster_labels).value_counts().sort_index()\n",
    "for cluster, count in cluster_counts.items():\n",
    "    print(f\"  Cluster {cluster}: {count} students ({count/len(students_df)*100:.1f}%)\")\n",
    "\n",
    "display(students_df.groupby('cluster')[['communication_score', 'leadership_score', \n",
    "                                       'time_management_score', 'analytical_score', 'moyenne']].mean().round(2))"
   ]
  },
  {
   "cell_type": "code",
   "execution_count": 71,
   "metadata": {},
   "outputs": [
    {
     "name": "stdout",
     "output_type": "stream",
     "text": [
      "\n",
      "🎯 Creating heterogeneous IT engineering student groups...\n",
      "📊 Group Formation Results:\n",
      "Total groups created: 24\n",
      "Average group size: 5.0\n",
      "Average clusters per group: 3.7\n",
      "Average specializations per group: 4.6\n",
      "\n",
      "👥 Sample Groups:\n",
      "\n",
      "Groupe 1:\n",
      "  Étudiants: ETU_022, ETU_032, ETU_043, ETU_055, ETU_112\n",
      "  Clusters: [0, 0, 1, 2, 3]\n",
      "  Spécialisations: ['DevOps & Cloud Computing', 'Web Development', 'Cybersecurity', 'Network Engineering', 'Embedded Systems']\n",
      "  Archétypes: ['Emerging Scholar', 'Analytical Thinker', 'Collaborative Communicator', 'Analytical Thinker', 'Emerging Scholar']\n",
      "  Moyenne moyenne: 14.21/20\n",
      "  Moyennes des compétences: {'communication': '3.8', 'leadership': '2.8', 'time_management': '3.5', 'analytical': '3.6'}\n",
      "\n",
      "Groupe 2:\n",
      "  Étudiants: ETU_020, ETU_029, ETU_045, ETU_104, ETU_114\n",
      "  Clusters: [2, 2, 1, 3, 0]\n",
      "  Spécialisations: ['Embedded Systems', 'Data Science & AI', 'Cybersecurity', 'Web Development', 'Network Engineering']\n",
      "  Archétypes: ['Mixed Profile', 'Mixed Profile', 'Collaborative Communicator', 'Technical Leader', 'Analytical Thinker']\n",
      "  Moyenne moyenne: 15.20/20\n",
      "  Moyennes des compétences: {'communication': '3.4', 'leadership': '3.6', 'time_management': '4.0', 'analytical': '3.8'}\n",
      "\n",
      "Groupe 3:\n",
      "  Étudiants: ETU_054, ETU_081, ETU_096, ETU_100, ETU_103\n",
      "  Clusters: [2, 0, 1, 3, 3]\n",
      "  Spécialisations: ['Cybersecurity', 'Mobile Development', 'Network Engineering', 'Data Science & AI', 'Web Development']\n",
      "  Archétypes: ['Creative Innovator', 'Emerging Scholar', 'Collaborative Communicator', 'Mixed Profile', 'Mixed Profile']\n",
      "  Moyenne moyenne: 13.26/20\n",
      "  Moyennes des compétences: {'communication': '3.2', 'leadership': '3.0', 'time_management': '2.8', 'analytical': '3.8'}\n",
      "\n",
      "📈 Distribution Groupe-Cluster:\n"
     ]
    },
    {
     "data": {
      "text/html": [
       "<div>\n",
       "<style scoped>\n",
       "    .dataframe tbody tr th:only-of-type {\n",
       "        vertical-align: middle;\n",
       "    }\n",
       "\n",
       "    .dataframe tbody tr th {\n",
       "        vertical-align: top;\n",
       "    }\n",
       "\n",
       "    .dataframe thead th {\n",
       "        text-align: right;\n",
       "    }\n",
       "</style>\n",
       "<table border=\"1\" class=\"dataframe\">\n",
       "  <thead>\n",
       "    <tr style=\"text-align: right;\">\n",
       "      <th>cluster</th>\n",
       "      <th>0</th>\n",
       "      <th>1</th>\n",
       "      <th>2</th>\n",
       "      <th>3</th>\n",
       "    </tr>\n",
       "    <tr>\n",
       "      <th>group</th>\n",
       "      <th></th>\n",
       "      <th></th>\n",
       "      <th></th>\n",
       "      <th></th>\n",
       "    </tr>\n",
       "  </thead>\n",
       "  <tbody>\n",
       "    <tr>\n",
       "      <th>1</th>\n",
       "      <td>2</td>\n",
       "      <td>1</td>\n",
       "      <td>1</td>\n",
       "      <td>1</td>\n",
       "    </tr>\n",
       "    <tr>\n",
       "      <th>2</th>\n",
       "      <td>1</td>\n",
       "      <td>1</td>\n",
       "      <td>2</td>\n",
       "      <td>1</td>\n",
       "    </tr>\n",
       "    <tr>\n",
       "      <th>3</th>\n",
       "      <td>1</td>\n",
       "      <td>1</td>\n",
       "      <td>1</td>\n",
       "      <td>2</td>\n",
       "    </tr>\n",
       "    <tr>\n",
       "      <th>4</th>\n",
       "      <td>2</td>\n",
       "      <td>1</td>\n",
       "      <td>1</td>\n",
       "      <td>1</td>\n",
       "    </tr>\n",
       "    <tr>\n",
       "      <th>5</th>\n",
       "      <td>2</td>\n",
       "      <td>1</td>\n",
       "      <td>1</td>\n",
       "      <td>1</td>\n",
       "    </tr>\n",
       "    <tr>\n",
       "      <th>6</th>\n",
       "      <td>1</td>\n",
       "      <td>1</td>\n",
       "      <td>2</td>\n",
       "      <td>1</td>\n",
       "    </tr>\n",
       "    <tr>\n",
       "      <th>7</th>\n",
       "      <td>1</td>\n",
       "      <td>2</td>\n",
       "      <td>1</td>\n",
       "      <td>1</td>\n",
       "    </tr>\n",
       "    <tr>\n",
       "      <th>8</th>\n",
       "      <td>2</td>\n",
       "      <td>1</td>\n",
       "      <td>1</td>\n",
       "      <td>1</td>\n",
       "    </tr>\n",
       "    <tr>\n",
       "      <th>9</th>\n",
       "      <td>1</td>\n",
       "      <td>1</td>\n",
       "      <td>2</td>\n",
       "      <td>1</td>\n",
       "    </tr>\n",
       "    <tr>\n",
       "      <th>10</th>\n",
       "      <td>1</td>\n",
       "      <td>1</td>\n",
       "      <td>1</td>\n",
       "      <td>2</td>\n",
       "    </tr>\n",
       "    <tr>\n",
       "      <th>11</th>\n",
       "      <td>1</td>\n",
       "      <td>2</td>\n",
       "      <td>1</td>\n",
       "      <td>1</td>\n",
       "    </tr>\n",
       "    <tr>\n",
       "      <th>12</th>\n",
       "      <td>1</td>\n",
       "      <td>2</td>\n",
       "      <td>1</td>\n",
       "      <td>1</td>\n",
       "    </tr>\n",
       "    <tr>\n",
       "      <th>13</th>\n",
       "      <td>1</td>\n",
       "      <td>1</td>\n",
       "      <td>2</td>\n",
       "      <td>1</td>\n",
       "    </tr>\n",
       "    <tr>\n",
       "      <th>14</th>\n",
       "      <td>1</td>\n",
       "      <td>1</td>\n",
       "      <td>2</td>\n",
       "      <td>1</td>\n",
       "    </tr>\n",
       "    <tr>\n",
       "      <th>15</th>\n",
       "      <td>2</td>\n",
       "      <td>1</td>\n",
       "      <td>1</td>\n",
       "      <td>1</td>\n",
       "    </tr>\n",
       "    <tr>\n",
       "      <th>16</th>\n",
       "      <td>1</td>\n",
       "      <td>1</td>\n",
       "      <td>1</td>\n",
       "      <td>2</td>\n",
       "    </tr>\n",
       "    <tr>\n",
       "      <th>17</th>\n",
       "      <td>1</td>\n",
       "      <td>2</td>\n",
       "      <td>1</td>\n",
       "      <td>1</td>\n",
       "    </tr>\n",
       "    <tr>\n",
       "      <th>18</th>\n",
       "      <td>1</td>\n",
       "      <td>1</td>\n",
       "      <td>1</td>\n",
       "      <td>2</td>\n",
       "    </tr>\n",
       "    <tr>\n",
       "      <th>19</th>\n",
       "      <td>1</td>\n",
       "      <td>1</td>\n",
       "      <td>1</td>\n",
       "      <td>2</td>\n",
       "    </tr>\n",
       "    <tr>\n",
       "      <th>20</th>\n",
       "      <td>0</td>\n",
       "      <td>1</td>\n",
       "      <td>2</td>\n",
       "      <td>2</td>\n",
       "    </tr>\n",
       "    <tr>\n",
       "      <th>21</th>\n",
       "      <td>0</td>\n",
       "      <td>1</td>\n",
       "      <td>1</td>\n",
       "      <td>3</td>\n",
       "    </tr>\n",
       "    <tr>\n",
       "      <th>22</th>\n",
       "      <td>0</td>\n",
       "      <td>1</td>\n",
       "      <td>2</td>\n",
       "      <td>2</td>\n",
       "    </tr>\n",
       "    <tr>\n",
       "      <th>23</th>\n",
       "      <td>0</td>\n",
       "      <td>1</td>\n",
       "      <td>3</td>\n",
       "      <td>1</td>\n",
       "    </tr>\n",
       "    <tr>\n",
       "      <th>24</th>\n",
       "      <td>0</td>\n",
       "      <td>0</td>\n",
       "      <td>5</td>\n",
       "      <td>0</td>\n",
       "    </tr>\n",
       "  </tbody>\n",
       "</table>\n",
       "</div>"
      ],
      "text/plain": [
       "cluster  0  1  2  3\n",
       "group              \n",
       "1        2  1  1  1\n",
       "2        1  1  2  1\n",
       "3        1  1  1  2\n",
       "4        2  1  1  1\n",
       "5        2  1  1  1\n",
       "6        1  1  2  1\n",
       "7        1  2  1  1\n",
       "8        2  1  1  1\n",
       "9        1  1  2  1\n",
       "10       1  1  1  2\n",
       "11       1  2  1  1\n",
       "12       1  2  1  1\n",
       "13       1  1  2  1\n",
       "14       1  1  2  1\n",
       "15       2  1  1  1\n",
       "16       1  1  1  2\n",
       "17       1  2  1  1\n",
       "18       1  1  1  2\n",
       "19       1  1  1  2\n",
       "20       0  1  2  2\n",
       "21       0  1  1  3\n",
       "22       0  1  2  2\n",
       "23       0  1  3  1\n",
       "24       0  0  5  0"
      ]
     },
     "metadata": {},
     "output_type": "display_data"
    }
   ],
   "source": [
    "def create_heterogeneous_groups(df, group_size=5, strategy='balanced'):\n",
    "    \"\"\"\n",
    "    Create heterogeneous student groups based on clustering results\n",
    "    \n",
    "    Args:\n",
    "        df (pd.DataFrame): Student data with cluster assignments\n",
    "        group_size (int): Target size for each group\n",
    "        strategy (str): Group formation strategy ('balanced', 'diverse', 'mixed')\n",
    "    \n",
    "    Returns:\n",
    "        pd.DataFrame: Students with group assignments\n",
    "    \"\"\"\n",
    "    df_copy = df.copy()\n",
    "    n_students = len(df_copy)\n",
    "    n_groups = n_students // group_size\n",
    "    \n",
    "    if strategy == 'balanced':\n",
    "        # Strategy 1: Balanced - Equal representation from each cluster\n",
    "        groups = []\n",
    "        cluster_counts = df_copy['cluster'].value_counts().sort_index()\n",
    "        \n",
    "        # Calculate how many students from each cluster per group\n",
    "        students_per_cluster_per_group = {}\n",
    "        for cluster in cluster_counts.index:\n",
    "            students_per_cluster_per_group[cluster] = max(1, cluster_counts[cluster] // n_groups)\n",
    "        \n",
    "        for group_id in range(n_groups):\n",
    "            group_students = []\n",
    "            \n",
    "            # Add students from each cluster\n",
    "            for cluster in cluster_counts.index:\n",
    "                cluster_students = df_copy[df_copy['cluster'] == cluster].sample(\n",
    "                    min(students_per_cluster_per_group[cluster], \n",
    "                        len(df_copy[df_copy['cluster'] == cluster])),\n",
    "                    random_state=42 + group_id\n",
    "                )\n",
    "                group_students.extend(cluster_students.index.tolist())\n",
    "                df_copy = df_copy.drop(cluster_students.index)\n",
    "            \n",
    "            # Fill remaining spots randomly if needed\n",
    "            remaining_spots = group_size - len(group_students)\n",
    "            if remaining_spots > 0 and len(df_copy) > 0:\n",
    "                additional_students = df_copy.sample(\n",
    "                    min(remaining_spots, len(df_copy)), \n",
    "                    random_state=42 + group_id\n",
    "                )\n",
    "                group_students.extend(additional_students.index.tolist())\n",
    "                df_copy = df_copy.drop(additional_students.index)\n",
    "            \n",
    "            groups.append(group_students[:group_size])\n",
    "    \n",
    "    elif strategy == 'diverse':\n",
    "        # Strategy 2: Maximize diversity in each group\n",
    "        groups = []\n",
    "        remaining_students = df_copy.index.tolist()\n",
    "        \n",
    "        for group_id in range(n_groups):\n",
    "            if len(remaining_students) < group_size:\n",
    "                break\n",
    "            \n",
    "            group_students = []\n",
    "            temp_df = df_copy.loc[remaining_students]\n",
    "            \n",
    "            # Start with most different students (different clusters)\n",
    "            unique_clusters = temp_df['cluster'].unique()\n",
    "            \n",
    "            for cluster in unique_clusters[:group_size]:\n",
    "                cluster_students = temp_df[temp_df['cluster'] == cluster]\n",
    "                if len(cluster_students) > 0:\n",
    "                    selected = cluster_students.sample(1, random_state=42 + group_id)\n",
    "                    group_students.extend(selected.index.tolist())\n",
    "                    remaining_students.remove(selected.index[0])\n",
    "            \n",
    "            # Fill remaining spots\n",
    "            while len(group_students) < group_size and remaining_students:\n",
    "                # Select student from different major/learning style if possible\n",
    "                temp_df = df_copy.loc[remaining_students]\n",
    "                current_specializations = df_copy.loc[group_students]['specialization'].unique()\n",
    "                \n",
    "                # Prefer students with different specializations\n",
    "                different_specialization_students = temp_df[~temp_df['specialization'].isin(current_specializations)]\n",
    "                if len(different_specialization_students) > 0:\n",
    "                    selected = different_specialization_students.sample(1, random_state=42 + group_id)\n",
    "                else:\n",
    "                    selected = temp_df.sample(1, random_state=42 + group_id)\n",
    "                \n",
    "                group_students.append(selected.index[0])\n",
    "                remaining_students.remove(selected.index[0])\n",
    "            \n",
    "            groups.append(group_students)\n",
    "    \n",
    "    # Assign group numbers to students\n",
    "    df_result = df.copy()\n",
    "    df_result['group'] = -1  # Unassigned\n",
    "    \n",
    "    for i, group in enumerate(groups):\n",
    "        df_result.loc[group, 'group'] = i + 1\n",
    "    \n",
    "    # Handle remaining students\n",
    "    unassigned = df_result[df_result['group'] == -1]\n",
    "    if len(unassigned) > 0:\n",
    "        # Distribute remaining students to existing groups\n",
    "        for i, student_idx in enumerate(unassigned.index):\n",
    "            target_group = (i % n_groups) + 1\n",
    "            df_result.loc[student_idx, 'group'] = target_group\n",
    "    \n",
    "    return df_result\n",
    "\n",
    "def analyze_group_diversity(df):\n",
    "    \"\"\"\n",
    "    Analyze the diversity and balance of formed IT engineering student groups\n",
    "    \n",
    "    Args:\n",
    "        df (pd.DataFrame): Student data with group assignments\n",
    "    \n",
    "    Returns:\n",
    "        dict: Group analysis results\n",
    "    \"\"\"\n",
    "    groups = df[df['group'] > 0]['group'].unique()\n",
    "    analysis = {'groups': []}\n",
    "    \n",
    "    skill_cols = [col for col in df.columns if col.endswith('_score')]\n",
    "    \n",
    "    for group in sorted(groups):\n",
    "        group_data = df[df['group'] == group]\n",
    "        \n",
    "        group_analysis = {\n",
    "            'group_id': group,\n",
    "            'size': len(group_data),\n",
    "            'clusters_represented': len(group_data['cluster'].unique()),\n",
    "            'specializations_represented': len(group_data['specialization'].unique()),\n",
    "            'programming_languages': len(group_data['preferred_programming_language'].unique()),\n",
    "            'learning_styles': len(group_data['primary_learning_style'].unique()),\n",
    "            'avg_moyenne': round(group_data['moyenne'].mean(), 2),\n",
    "            'moyenne_std': round(group_data['moyenne'].std(), 2),\n",
    "            'skill_averages': {},\n",
    "            'skill_diversity': {}\n",
    "        }\n",
    "        \n",
    "        # Calculate skill averages and diversity\n",
    "        for skill in skill_cols:\n",
    "            group_analysis['skill_averages'][skill] = round(group_data[skill].mean(), 2)\n",
    "            group_analysis['skill_diversity'][skill] = round(group_data[skill].std(), 2)\n",
    "        \n",
    "        analysis['groups'].append(group_analysis)\n",
    "    \n",
    "    # Overall statistics\n",
    "    analysis['overall'] = {\n",
    "        'total_groups': len(groups),\n",
    "        'avg_group_size': round(np.mean([g['size'] for g in analysis['groups']]), 1),\n",
    "        'avg_clusters_per_group': round(np.mean([g['clusters_represented'] for g in analysis['groups']]), 1),\n",
    "        'avg_specializations_per_group': round(np.mean([g['specializations_represented'] for g in analysis['groups']]), 1)\n",
    "    }\n",
    "    \n",
    "    return analysis\n",
    "\n",
    "# Create heterogeneous groups\n",
    "print(\"\\n🎯 Creating heterogeneous IT engineering student groups...\")\n",
    "students_with_groups = create_heterogeneous_groups(students_df, group_size=5, strategy='diverse')\n",
    "\n",
    "# Analyze group diversity\n",
    "group_analysis = analyze_group_diversity(students_with_groups)\n",
    "\n",
    "print(f\"📊 Group Formation Results:\")\n",
    "print(f\"Total groups created: {group_analysis['overall']['total_groups']}\")\n",
    "print(f\"Average group size: {group_analysis['overall']['avg_group_size']}\")\n",
    "print(f\"Average clusters per group: {group_analysis['overall']['avg_clusters_per_group']}\")\n",
    "print(f\"Average specializations per group: {group_analysis['overall']['avg_specializations_per_group']}\")\n",
    "\n",
    "# Display sample groups\n",
    "print(f\"\\n👥 Sample Groups:\")\n",
    "for i in range(min(3, group_analysis['overall']['total_groups'])):\n",
    "    group_data = students_with_groups[students_with_groups['group'] == i + 1]\n",
    "    print(f\"\\nGroupe {i + 1}:\")  # French: Group\n",
    "    print(f\"  Étudiants: {', '.join(group_data['student_id'].tolist())}\")  # French: Students\n",
    "    print(f\"  Clusters: {group_data['cluster'].tolist()}\")\n",
    "    print(f\"  Spécialisations: {group_data['specialization'].tolist()}\")  # French: Specializations\n",
    "    print(f\"  Archétypes: {group_data['archetype'].tolist()}\")  # French: Archetypes\n",
    "    print(f\"  Moyenne moyenne: {group_data['moyenne'].mean():.2f}/20\")  # French: Average moyenne\n",
    "    \n",
    "    skill_avgs = {}\n",
    "    for skill in ['communication_score', 'leadership_score', 'time_management_score', 'analytical_score']:\n",
    "        skill_avgs[skill.replace('_score', '')] = f\"{group_data[skill].mean():.1f}\"\n",
    "    print(f\"  Moyennes des compétences: {skill_avgs}\")  # French: Skill averages\n",
    "\n",
    "# Show group distribution by cluster\n",
    "print(f\"\\n📈 Distribution Groupe-Cluster:\")  # French: Group-Cluster Distribution\n",
    "group_cluster_dist = students_with_groups.groupby(['group', 'cluster']).size().unstack(fill_value=0)\n",
    "display(group_cluster_dist)"
   ]
  },
  {
   "cell_type": "code",
   "execution_count": 72,
   "metadata": {},
   "outputs": [
    {
     "name": "stdout",
     "output_type": "stream",
     "text": [
      "📊 Generating clustering and group formation visualizations...\n"
     ]
    },
    {
     "data": {
      "application/vnd.plotly.v1+json": {
       "config": {
        "plotlyServerURL": "https://plot.ly"
       },
       "data": [
        {
         "line": {
          "color": "blue"
         },
         "mode": "lines+markers",
         "name": "Inertia",
         "type": "scatter",
         "x": [
          2,
          3,
          4,
          5,
          6,
          7,
          8
         ],
         "xaxis": "x",
         "y": [
          1472.7131826684442,
          1333.21687704205,
          1236.7009529922848,
          1142.5253984577762,
          1100.8826641452208,
          1044.517851066418,
          1014.1701506107179
         ],
         "yaxis": "y"
        },
        {
         "line": {
          "color": "red"
         },
         "mode": "lines+markers",
         "name": "Silhouette Score",
         "type": "scatter",
         "x": [
          2,
          3,
          4,
          5,
          6,
          7,
          8
         ],
         "xaxis": "x2",
         "y": [
          0.11259843795270566,
          0.10426909808064355,
          0.10470698723249049,
          0.10777540373231478,
          0.10370521056607092,
          0.10927761159948564,
          0.10476931792088616
         ],
         "yaxis": "y2"
        },
        {
         "marker": {
          "color": "lightblue"
         },
         "name": "Student Count",
         "type": "bar",
         "x": [
          "Cluster 0",
          "Cluster 1",
          "Cluster 2",
          "Cluster 3"
         ],
         "xaxis": "x3",
         "y": [
          24,
          27,
          37,
          32
         ],
         "yaxis": "y3"
        },
        {
         "colorscale": [
          [
           0,
           "#440154"
          ],
          [
           0.1111111111111111,
           "#482878"
          ],
          [
           0.2222222222222222,
           "#3e4989"
          ],
          [
           0.3333333333333333,
           "#31688e"
          ],
          [
           0.4444444444444444,
           "#26828e"
          ],
          [
           0.5555555555555556,
           "#1f9e89"
          ],
          [
           0.6666666666666666,
           "#35b779"
          ],
          [
           0.7777777777777778,
           "#6ece58"
          ],
          [
           0.8888888888888888,
           "#b5de2b"
          ],
          [
           1,
           "#fde725"
          ]
         ],
         "name": "Avg Score",
         "type": "heatmap",
         "x": [
          "Communication",
          "Leadership",
          "Time_Management",
          "Analytical",
          "Extroversion",
          "Creativity",
          "Moyenne"
         ],
         "xaxis": "x4",
         "y": [
          "Cluster 0",
          "Cluster 1",
          "Cluster 2",
          "Cluster 3"
         ],
         "yaxis": "y4",
         "z": [
          [
           3.2075,
           2.50875,
           3.486666666666667,
           3.970833333333333,
           1.9841666666666666,
           3.6612500000000003,
           13.85125
          ],
          [
           3.8144444444444443,
           3.1544444444444446,
           2.397037037037037,
           2.958888888888889,
           3.0933333333333333,
           2.3014814814814817,
           12.841851851851853
          ],
          [
           3.571351351351352,
           3.3716216216216215,
           3.906216216216216,
           4.048648648648649,
           2.621081081081081,
           1.664864864864865,
           15.26027027027027
          ],
          [
           3.6746875,
           3.8078125,
           3.508125,
           3.7512499999999998,
           4.0540625,
           3.6140625,
           14.5409375
          ]
         ]
        }
       ],
       "layout": {
        "annotations": [
         {
          "font": {
           "size": 16
          },
          "showarrow": false,
          "text": "Elbow Method for Optimal Clusters",
          "x": 0.225,
          "xanchor": "center",
          "xref": "paper",
          "y": 1,
          "yanchor": "bottom",
          "yref": "paper"
         },
         {
          "font": {
           "size": 16
          },
          "showarrow": false,
          "text": "Silhouette Score Analysis",
          "x": 0.775,
          "xanchor": "center",
          "xref": "paper",
          "y": 1,
          "yanchor": "bottom",
          "yref": "paper"
         },
         {
          "font": {
           "size": 16
          },
          "showarrow": false,
          "text": "Student Distribution by Cluster",
          "x": 0.225,
          "xanchor": "center",
          "xref": "paper",
          "y": 0.375,
          "yanchor": "bottom",
          "yref": "paper"
         },
         {
          "font": {
           "size": 16
          },
          "showarrow": false,
          "text": "Cluster Characteristics",
          "x": 0.775,
          "xanchor": "center",
          "xref": "paper",
          "y": 0.375,
          "yanchor": "bottom",
          "yref": "paper"
         }
        ],
        "height": 800,
        "showlegend": false,
        "template": {
         "data": {
          "bar": [
           {
            "error_x": {
             "color": "#2a3f5f"
            },
            "error_y": {
             "color": "#2a3f5f"
            },
            "marker": {
             "line": {
              "color": "#E5ECF6",
              "width": 0.5
             },
             "pattern": {
              "fillmode": "overlay",
              "size": 10,
              "solidity": 0.2
             }
            },
            "type": "bar"
           }
          ],
          "barpolar": [
           {
            "marker": {
             "line": {
              "color": "#E5ECF6",
              "width": 0.5
             },
             "pattern": {
              "fillmode": "overlay",
              "size": 10,
              "solidity": 0.2
             }
            },
            "type": "barpolar"
           }
          ],
          "carpet": [
           {
            "aaxis": {
             "endlinecolor": "#2a3f5f",
             "gridcolor": "white",
             "linecolor": "white",
             "minorgridcolor": "white",
             "startlinecolor": "#2a3f5f"
            },
            "baxis": {
             "endlinecolor": "#2a3f5f",
             "gridcolor": "white",
             "linecolor": "white",
             "minorgridcolor": "white",
             "startlinecolor": "#2a3f5f"
            },
            "type": "carpet"
           }
          ],
          "choropleth": [
           {
            "colorbar": {
             "outlinewidth": 0,
             "ticks": ""
            },
            "type": "choropleth"
           }
          ],
          "contour": [
           {
            "colorbar": {
             "outlinewidth": 0,
             "ticks": ""
            },
            "colorscale": [
             [
              0,
              "#0d0887"
             ],
             [
              0.1111111111111111,
              "#46039f"
             ],
             [
              0.2222222222222222,
              "#7201a8"
             ],
             [
              0.3333333333333333,
              "#9c179e"
             ],
             [
              0.4444444444444444,
              "#bd3786"
             ],
             [
              0.5555555555555556,
              "#d8576b"
             ],
             [
              0.6666666666666666,
              "#ed7953"
             ],
             [
              0.7777777777777778,
              "#fb9f3a"
             ],
             [
              0.8888888888888888,
              "#fdca26"
             ],
             [
              1,
              "#f0f921"
             ]
            ],
            "type": "contour"
           }
          ],
          "contourcarpet": [
           {
            "colorbar": {
             "outlinewidth": 0,
             "ticks": ""
            },
            "type": "contourcarpet"
           }
          ],
          "heatmap": [
           {
            "colorbar": {
             "outlinewidth": 0,
             "ticks": ""
            },
            "colorscale": [
             [
              0,
              "#0d0887"
             ],
             [
              0.1111111111111111,
              "#46039f"
             ],
             [
              0.2222222222222222,
              "#7201a8"
             ],
             [
              0.3333333333333333,
              "#9c179e"
             ],
             [
              0.4444444444444444,
              "#bd3786"
             ],
             [
              0.5555555555555556,
              "#d8576b"
             ],
             [
              0.6666666666666666,
              "#ed7953"
             ],
             [
              0.7777777777777778,
              "#fb9f3a"
             ],
             [
              0.8888888888888888,
              "#fdca26"
             ],
             [
              1,
              "#f0f921"
             ]
            ],
            "type": "heatmap"
           }
          ],
          "heatmapgl": [
           {
            "colorbar": {
             "outlinewidth": 0,
             "ticks": ""
            },
            "colorscale": [
             [
              0,
              "#0d0887"
             ],
             [
              0.1111111111111111,
              "#46039f"
             ],
             [
              0.2222222222222222,
              "#7201a8"
             ],
             [
              0.3333333333333333,
              "#9c179e"
             ],
             [
              0.4444444444444444,
              "#bd3786"
             ],
             [
              0.5555555555555556,
              "#d8576b"
             ],
             [
              0.6666666666666666,
              "#ed7953"
             ],
             [
              0.7777777777777778,
              "#fb9f3a"
             ],
             [
              0.8888888888888888,
              "#fdca26"
             ],
             [
              1,
              "#f0f921"
             ]
            ],
            "type": "heatmapgl"
           }
          ],
          "histogram": [
           {
            "marker": {
             "pattern": {
              "fillmode": "overlay",
              "size": 10,
              "solidity": 0.2
             }
            },
            "type": "histogram"
           }
          ],
          "histogram2d": [
           {
            "colorbar": {
             "outlinewidth": 0,
             "ticks": ""
            },
            "colorscale": [
             [
              0,
              "#0d0887"
             ],
             [
              0.1111111111111111,
              "#46039f"
             ],
             [
              0.2222222222222222,
              "#7201a8"
             ],
             [
              0.3333333333333333,
              "#9c179e"
             ],
             [
              0.4444444444444444,
              "#bd3786"
             ],
             [
              0.5555555555555556,
              "#d8576b"
             ],
             [
              0.6666666666666666,
              "#ed7953"
             ],
             [
              0.7777777777777778,
              "#fb9f3a"
             ],
             [
              0.8888888888888888,
              "#fdca26"
             ],
             [
              1,
              "#f0f921"
             ]
            ],
            "type": "histogram2d"
           }
          ],
          "histogram2dcontour": [
           {
            "colorbar": {
             "outlinewidth": 0,
             "ticks": ""
            },
            "colorscale": [
             [
              0,
              "#0d0887"
             ],
             [
              0.1111111111111111,
              "#46039f"
             ],
             [
              0.2222222222222222,
              "#7201a8"
             ],
             [
              0.3333333333333333,
              "#9c179e"
             ],
             [
              0.4444444444444444,
              "#bd3786"
             ],
             [
              0.5555555555555556,
              "#d8576b"
             ],
             [
              0.6666666666666666,
              "#ed7953"
             ],
             [
              0.7777777777777778,
              "#fb9f3a"
             ],
             [
              0.8888888888888888,
              "#fdca26"
             ],
             [
              1,
              "#f0f921"
             ]
            ],
            "type": "histogram2dcontour"
           }
          ],
          "mesh3d": [
           {
            "colorbar": {
             "outlinewidth": 0,
             "ticks": ""
            },
            "type": "mesh3d"
           }
          ],
          "parcoords": [
           {
            "line": {
             "colorbar": {
              "outlinewidth": 0,
              "ticks": ""
             }
            },
            "type": "parcoords"
           }
          ],
          "pie": [
           {
            "automargin": true,
            "type": "pie"
           }
          ],
          "scatter": [
           {
            "fillpattern": {
             "fillmode": "overlay",
             "size": 10,
             "solidity": 0.2
            },
            "type": "scatter"
           }
          ],
          "scatter3d": [
           {
            "line": {
             "colorbar": {
              "outlinewidth": 0,
              "ticks": ""
             }
            },
            "marker": {
             "colorbar": {
              "outlinewidth": 0,
              "ticks": ""
             }
            },
            "type": "scatter3d"
           }
          ],
          "scattercarpet": [
           {
            "marker": {
             "colorbar": {
              "outlinewidth": 0,
              "ticks": ""
             }
            },
            "type": "scattercarpet"
           }
          ],
          "scattergeo": [
           {
            "marker": {
             "colorbar": {
              "outlinewidth": 0,
              "ticks": ""
             }
            },
            "type": "scattergeo"
           }
          ],
          "scattergl": [
           {
            "marker": {
             "colorbar": {
              "outlinewidth": 0,
              "ticks": ""
             }
            },
            "type": "scattergl"
           }
          ],
          "scattermapbox": [
           {
            "marker": {
             "colorbar": {
              "outlinewidth": 0,
              "ticks": ""
             }
            },
            "type": "scattermapbox"
           }
          ],
          "scatterpolar": [
           {
            "marker": {
             "colorbar": {
              "outlinewidth": 0,
              "ticks": ""
             }
            },
            "type": "scatterpolar"
           }
          ],
          "scatterpolargl": [
           {
            "marker": {
             "colorbar": {
              "outlinewidth": 0,
              "ticks": ""
             }
            },
            "type": "scatterpolargl"
           }
          ],
          "scatterternary": [
           {
            "marker": {
             "colorbar": {
              "outlinewidth": 0,
              "ticks": ""
             }
            },
            "type": "scatterternary"
           }
          ],
          "surface": [
           {
            "colorbar": {
             "outlinewidth": 0,
             "ticks": ""
            },
            "colorscale": [
             [
              0,
              "#0d0887"
             ],
             [
              0.1111111111111111,
              "#46039f"
             ],
             [
              0.2222222222222222,
              "#7201a8"
             ],
             [
              0.3333333333333333,
              "#9c179e"
             ],
             [
              0.4444444444444444,
              "#bd3786"
             ],
             [
              0.5555555555555556,
              "#d8576b"
             ],
             [
              0.6666666666666666,
              "#ed7953"
             ],
             [
              0.7777777777777778,
              "#fb9f3a"
             ],
             [
              0.8888888888888888,
              "#fdca26"
             ],
             [
              1,
              "#f0f921"
             ]
            ],
            "type": "surface"
           }
          ],
          "table": [
           {
            "cells": {
             "fill": {
              "color": "#EBF0F8"
             },
             "line": {
              "color": "white"
             }
            },
            "header": {
             "fill": {
              "color": "#C8D4E3"
             },
             "line": {
              "color": "white"
             }
            },
            "type": "table"
           }
          ]
         },
         "layout": {
          "annotationdefaults": {
           "arrowcolor": "#2a3f5f",
           "arrowhead": 0,
           "arrowwidth": 1
          },
          "autotypenumbers": "strict",
          "coloraxis": {
           "colorbar": {
            "outlinewidth": 0,
            "ticks": ""
           }
          },
          "colorscale": {
           "diverging": [
            [
             0,
             "#8e0152"
            ],
            [
             0.1,
             "#c51b7d"
            ],
            [
             0.2,
             "#de77ae"
            ],
            [
             0.3,
             "#f1b6da"
            ],
            [
             0.4,
             "#fde0ef"
            ],
            [
             0.5,
             "#f7f7f7"
            ],
            [
             0.6,
             "#e6f5d0"
            ],
            [
             0.7,
             "#b8e186"
            ],
            [
             0.8,
             "#7fbc41"
            ],
            [
             0.9,
             "#4d9221"
            ],
            [
             1,
             "#276419"
            ]
           ],
           "sequential": [
            [
             0,
             "#0d0887"
            ],
            [
             0.1111111111111111,
             "#46039f"
            ],
            [
             0.2222222222222222,
             "#7201a8"
            ],
            [
             0.3333333333333333,
             "#9c179e"
            ],
            [
             0.4444444444444444,
             "#bd3786"
            ],
            [
             0.5555555555555556,
             "#d8576b"
            ],
            [
             0.6666666666666666,
             "#ed7953"
            ],
            [
             0.7777777777777778,
             "#fb9f3a"
            ],
            [
             0.8888888888888888,
             "#fdca26"
            ],
            [
             1,
             "#f0f921"
            ]
           ],
           "sequentialminus": [
            [
             0,
             "#0d0887"
            ],
            [
             0.1111111111111111,
             "#46039f"
            ],
            [
             0.2222222222222222,
             "#7201a8"
            ],
            [
             0.3333333333333333,
             "#9c179e"
            ],
            [
             0.4444444444444444,
             "#bd3786"
            ],
            [
             0.5555555555555556,
             "#d8576b"
            ],
            [
             0.6666666666666666,
             "#ed7953"
            ],
            [
             0.7777777777777778,
             "#fb9f3a"
            ],
            [
             0.8888888888888888,
             "#fdca26"
            ],
            [
             1,
             "#f0f921"
            ]
           ]
          },
          "colorway": [
           "#636efa",
           "#EF553B",
           "#00cc96",
           "#ab63fa",
           "#FFA15A",
           "#19d3f3",
           "#FF6692",
           "#B6E880",
           "#FF97FF",
           "#FECB52"
          ],
          "font": {
           "color": "#2a3f5f"
          },
          "geo": {
           "bgcolor": "white",
           "lakecolor": "white",
           "landcolor": "#E5ECF6",
           "showlakes": true,
           "showland": true,
           "subunitcolor": "white"
          },
          "hoverlabel": {
           "align": "left"
          },
          "hovermode": "closest",
          "mapbox": {
           "style": "light"
          },
          "paper_bgcolor": "white",
          "plot_bgcolor": "#E5ECF6",
          "polar": {
           "angularaxis": {
            "gridcolor": "white",
            "linecolor": "white",
            "ticks": ""
           },
           "bgcolor": "#E5ECF6",
           "radialaxis": {
            "gridcolor": "white",
            "linecolor": "white",
            "ticks": ""
           }
          },
          "scene": {
           "xaxis": {
            "backgroundcolor": "#E5ECF6",
            "gridcolor": "white",
            "gridwidth": 2,
            "linecolor": "white",
            "showbackground": true,
            "ticks": "",
            "zerolinecolor": "white"
           },
           "yaxis": {
            "backgroundcolor": "#E5ECF6",
            "gridcolor": "white",
            "gridwidth": 2,
            "linecolor": "white",
            "showbackground": true,
            "ticks": "",
            "zerolinecolor": "white"
           },
           "zaxis": {
            "backgroundcolor": "#E5ECF6",
            "gridcolor": "white",
            "gridwidth": 2,
            "linecolor": "white",
            "showbackground": true,
            "ticks": "",
            "zerolinecolor": "white"
           }
          },
          "shapedefaults": {
           "line": {
            "color": "#2a3f5f"
           }
          },
          "ternary": {
           "aaxis": {
            "gridcolor": "white",
            "linecolor": "white",
            "ticks": ""
           },
           "baxis": {
            "gridcolor": "white",
            "linecolor": "white",
            "ticks": ""
           },
           "bgcolor": "#E5ECF6",
           "caxis": {
            "gridcolor": "white",
            "linecolor": "white",
            "ticks": ""
           }
          },
          "title": {
           "x": 0.05
          },
          "xaxis": {
           "automargin": true,
           "gridcolor": "white",
           "linecolor": "white",
           "ticks": "",
           "title": {
            "standoff": 15
           },
           "zerolinecolor": "white",
           "zerolinewidth": 2
          },
          "yaxis": {
           "automargin": true,
           "gridcolor": "white",
           "linecolor": "white",
           "ticks": "",
           "title": {
            "standoff": 15
           },
           "zerolinecolor": "white",
           "zerolinewidth": 2
          }
         }
        },
        "title": {
         "text": "Clustering Analysis Results"
        },
        "xaxis": {
         "anchor": "y",
         "domain": [
          0,
          0.45
         ]
        },
        "xaxis2": {
         "anchor": "y2",
         "domain": [
          0.55,
          1
         ]
        },
        "xaxis3": {
         "anchor": "y3",
         "domain": [
          0,
          0.45
         ]
        },
        "xaxis4": {
         "anchor": "y4",
         "domain": [
          0.55,
          1
         ]
        },
        "yaxis": {
         "anchor": "x",
         "domain": [
          0.625,
          1
         ]
        },
        "yaxis2": {
         "anchor": "x2",
         "domain": [
          0.625,
          1
         ]
        },
        "yaxis3": {
         "anchor": "x3",
         "domain": [
          0,
          0.375
         ]
        },
        "yaxis4": {
         "anchor": "x4",
         "domain": [
          0,
          0.375
         ]
        }
       }
      }
     },
     "metadata": {},
     "output_type": "display_data"
    },
    {
     "data": {
      "application/vnd.plotly.v1+json": {
       "config": {
        "plotlyServerURL": "https://plot.ly"
       },
       "data": [
        {
         "name": "Size",
         "type": "bar",
         "x": [
          1,
          2,
          3,
          4,
          5,
          6,
          7,
          8,
          9,
          10,
          11,
          12,
          13,
          14,
          15,
          16,
          17,
          18,
          19,
          20,
          21,
          22,
          23,
          24
         ],
         "xaxis": "x",
         "y": [
          5,
          5,
          5,
          5,
          5,
          5,
          5,
          5,
          5,
          5,
          5,
          5,
          5,
          5,
          5,
          5,
          5,
          5,
          5,
          5,
          5,
          5,
          5,
          5
         ],
         "yaxis": "y"
        },
        {
         "name": "Clusters",
         "type": "bar",
         "x": [
          1,
          2,
          3,
          4,
          5,
          6,
          7,
          8,
          9,
          10,
          11,
          12,
          13,
          14,
          15,
          16,
          17,
          18,
          19,
          20,
          21,
          22,
          23,
          24
         ],
         "xaxis": "x2",
         "y": [
          4,
          4,
          4,
          4,
          4,
          4,
          4,
          4,
          4,
          4,
          4,
          4,
          4,
          4,
          4,
          4,
          4,
          4,
          4,
          3,
          3,
          3,
          3,
          1
         ],
         "yaxis": "y2"
        },
        {
         "name": "Specializations",
         "type": "bar",
         "x": [
          1,
          2,
          3,
          4,
          5,
          6,
          7,
          8,
          9,
          10,
          11,
          12,
          13,
          14,
          15,
          16,
          17,
          18,
          19,
          20,
          21,
          22,
          23,
          24
         ],
         "xaxis": "x3",
         "y": [
          5,
          5,
          5,
          5,
          5,
          4,
          5,
          5,
          3,
          4,
          5,
          4,
          5,
          4,
          4,
          4,
          5,
          5,
          4,
          5,
          5,
          5,
          4,
          5
         ],
         "yaxis": "y3"
        }
       ],
       "layout": {
        "annotations": [
         {
          "font": {
           "size": 16
          },
          "showarrow": false,
          "text": "Group Sizes",
          "x": 0.14444444444444446,
          "xanchor": "center",
          "xref": "paper",
          "y": 1,
          "yanchor": "bottom",
          "yref": "paper"
         },
         {
          "font": {
           "size": 16
          },
          "showarrow": false,
          "text": "Clusters per Group",
          "x": 0.5,
          "xanchor": "center",
          "xref": "paper",
          "y": 1,
          "yanchor": "bottom",
          "yref": "paper"
         },
         {
          "font": {
           "size": 16
          },
          "showarrow": false,
          "text": "Specializations per Group",
          "x": 0.8555555555555556,
          "xanchor": "center",
          "xref": "paper",
          "y": 1,
          "yanchor": "bottom",
          "yref": "paper"
         }
        ],
        "height": 400,
        "showlegend": false,
        "template": {
         "data": {
          "bar": [
           {
            "error_x": {
             "color": "#2a3f5f"
            },
            "error_y": {
             "color": "#2a3f5f"
            },
            "marker": {
             "line": {
              "color": "#E5ECF6",
              "width": 0.5
             },
             "pattern": {
              "fillmode": "overlay",
              "size": 10,
              "solidity": 0.2
             }
            },
            "type": "bar"
           }
          ],
          "barpolar": [
           {
            "marker": {
             "line": {
              "color": "#E5ECF6",
              "width": 0.5
             },
             "pattern": {
              "fillmode": "overlay",
              "size": 10,
              "solidity": 0.2
             }
            },
            "type": "barpolar"
           }
          ],
          "carpet": [
           {
            "aaxis": {
             "endlinecolor": "#2a3f5f",
             "gridcolor": "white",
             "linecolor": "white",
             "minorgridcolor": "white",
             "startlinecolor": "#2a3f5f"
            },
            "baxis": {
             "endlinecolor": "#2a3f5f",
             "gridcolor": "white",
             "linecolor": "white",
             "minorgridcolor": "white",
             "startlinecolor": "#2a3f5f"
            },
            "type": "carpet"
           }
          ],
          "choropleth": [
           {
            "colorbar": {
             "outlinewidth": 0,
             "ticks": ""
            },
            "type": "choropleth"
           }
          ],
          "contour": [
           {
            "colorbar": {
             "outlinewidth": 0,
             "ticks": ""
            },
            "colorscale": [
             [
              0,
              "#0d0887"
             ],
             [
              0.1111111111111111,
              "#46039f"
             ],
             [
              0.2222222222222222,
              "#7201a8"
             ],
             [
              0.3333333333333333,
              "#9c179e"
             ],
             [
              0.4444444444444444,
              "#bd3786"
             ],
             [
              0.5555555555555556,
              "#d8576b"
             ],
             [
              0.6666666666666666,
              "#ed7953"
             ],
             [
              0.7777777777777778,
              "#fb9f3a"
             ],
             [
              0.8888888888888888,
              "#fdca26"
             ],
             [
              1,
              "#f0f921"
             ]
            ],
            "type": "contour"
           }
          ],
          "contourcarpet": [
           {
            "colorbar": {
             "outlinewidth": 0,
             "ticks": ""
            },
            "type": "contourcarpet"
           }
          ],
          "heatmap": [
           {
            "colorbar": {
             "outlinewidth": 0,
             "ticks": ""
            },
            "colorscale": [
             [
              0,
              "#0d0887"
             ],
             [
              0.1111111111111111,
              "#46039f"
             ],
             [
              0.2222222222222222,
              "#7201a8"
             ],
             [
              0.3333333333333333,
              "#9c179e"
             ],
             [
              0.4444444444444444,
              "#bd3786"
             ],
             [
              0.5555555555555556,
              "#d8576b"
             ],
             [
              0.6666666666666666,
              "#ed7953"
             ],
             [
              0.7777777777777778,
              "#fb9f3a"
             ],
             [
              0.8888888888888888,
              "#fdca26"
             ],
             [
              1,
              "#f0f921"
             ]
            ],
            "type": "heatmap"
           }
          ],
          "heatmapgl": [
           {
            "colorbar": {
             "outlinewidth": 0,
             "ticks": ""
            },
            "colorscale": [
             [
              0,
              "#0d0887"
             ],
             [
              0.1111111111111111,
              "#46039f"
             ],
             [
              0.2222222222222222,
              "#7201a8"
             ],
             [
              0.3333333333333333,
              "#9c179e"
             ],
             [
              0.4444444444444444,
              "#bd3786"
             ],
             [
              0.5555555555555556,
              "#d8576b"
             ],
             [
              0.6666666666666666,
              "#ed7953"
             ],
             [
              0.7777777777777778,
              "#fb9f3a"
             ],
             [
              0.8888888888888888,
              "#fdca26"
             ],
             [
              1,
              "#f0f921"
             ]
            ],
            "type": "heatmapgl"
           }
          ],
          "histogram": [
           {
            "marker": {
             "pattern": {
              "fillmode": "overlay",
              "size": 10,
              "solidity": 0.2
             }
            },
            "type": "histogram"
           }
          ],
          "histogram2d": [
           {
            "colorbar": {
             "outlinewidth": 0,
             "ticks": ""
            },
            "colorscale": [
             [
              0,
              "#0d0887"
             ],
             [
              0.1111111111111111,
              "#46039f"
             ],
             [
              0.2222222222222222,
              "#7201a8"
             ],
             [
              0.3333333333333333,
              "#9c179e"
             ],
             [
              0.4444444444444444,
              "#bd3786"
             ],
             [
              0.5555555555555556,
              "#d8576b"
             ],
             [
              0.6666666666666666,
              "#ed7953"
             ],
             [
              0.7777777777777778,
              "#fb9f3a"
             ],
             [
              0.8888888888888888,
              "#fdca26"
             ],
             [
              1,
              "#f0f921"
             ]
            ],
            "type": "histogram2d"
           }
          ],
          "histogram2dcontour": [
           {
            "colorbar": {
             "outlinewidth": 0,
             "ticks": ""
            },
            "colorscale": [
             [
              0,
              "#0d0887"
             ],
             [
              0.1111111111111111,
              "#46039f"
             ],
             [
              0.2222222222222222,
              "#7201a8"
             ],
             [
              0.3333333333333333,
              "#9c179e"
             ],
             [
              0.4444444444444444,
              "#bd3786"
             ],
             [
              0.5555555555555556,
              "#d8576b"
             ],
             [
              0.6666666666666666,
              "#ed7953"
             ],
             [
              0.7777777777777778,
              "#fb9f3a"
             ],
             [
              0.8888888888888888,
              "#fdca26"
             ],
             [
              1,
              "#f0f921"
             ]
            ],
            "type": "histogram2dcontour"
           }
          ],
          "mesh3d": [
           {
            "colorbar": {
             "outlinewidth": 0,
             "ticks": ""
            },
            "type": "mesh3d"
           }
          ],
          "parcoords": [
           {
            "line": {
             "colorbar": {
              "outlinewidth": 0,
              "ticks": ""
             }
            },
            "type": "parcoords"
           }
          ],
          "pie": [
           {
            "automargin": true,
            "type": "pie"
           }
          ],
          "scatter": [
           {
            "fillpattern": {
             "fillmode": "overlay",
             "size": 10,
             "solidity": 0.2
            },
            "type": "scatter"
           }
          ],
          "scatter3d": [
           {
            "line": {
             "colorbar": {
              "outlinewidth": 0,
              "ticks": ""
             }
            },
            "marker": {
             "colorbar": {
              "outlinewidth": 0,
              "ticks": ""
             }
            },
            "type": "scatter3d"
           }
          ],
          "scattercarpet": [
           {
            "marker": {
             "colorbar": {
              "outlinewidth": 0,
              "ticks": ""
             }
            },
            "type": "scattercarpet"
           }
          ],
          "scattergeo": [
           {
            "marker": {
             "colorbar": {
              "outlinewidth": 0,
              "ticks": ""
             }
            },
            "type": "scattergeo"
           }
          ],
          "scattergl": [
           {
            "marker": {
             "colorbar": {
              "outlinewidth": 0,
              "ticks": ""
             }
            },
            "type": "scattergl"
           }
          ],
          "scattermapbox": [
           {
            "marker": {
             "colorbar": {
              "outlinewidth": 0,
              "ticks": ""
             }
            },
            "type": "scattermapbox"
           }
          ],
          "scatterpolar": [
           {
            "marker": {
             "colorbar": {
              "outlinewidth": 0,
              "ticks": ""
             }
            },
            "type": "scatterpolar"
           }
          ],
          "scatterpolargl": [
           {
            "marker": {
             "colorbar": {
              "outlinewidth": 0,
              "ticks": ""
             }
            },
            "type": "scatterpolargl"
           }
          ],
          "scatterternary": [
           {
            "marker": {
             "colorbar": {
              "outlinewidth": 0,
              "ticks": ""
             }
            },
            "type": "scatterternary"
           }
          ],
          "surface": [
           {
            "colorbar": {
             "outlinewidth": 0,
             "ticks": ""
            },
            "colorscale": [
             [
              0,
              "#0d0887"
             ],
             [
              0.1111111111111111,
              "#46039f"
             ],
             [
              0.2222222222222222,
              "#7201a8"
             ],
             [
              0.3333333333333333,
              "#9c179e"
             ],
             [
              0.4444444444444444,
              "#bd3786"
             ],
             [
              0.5555555555555556,
              "#d8576b"
             ],
             [
              0.6666666666666666,
              "#ed7953"
             ],
             [
              0.7777777777777778,
              "#fb9f3a"
             ],
             [
              0.8888888888888888,
              "#fdca26"
             ],
             [
              1,
              "#f0f921"
             ]
            ],
            "type": "surface"
           }
          ],
          "table": [
           {
            "cells": {
             "fill": {
              "color": "#EBF0F8"
             },
             "line": {
              "color": "white"
             }
            },
            "header": {
             "fill": {
              "color": "#C8D4E3"
             },
             "line": {
              "color": "white"
             }
            },
            "type": "table"
           }
          ]
         },
         "layout": {
          "annotationdefaults": {
           "arrowcolor": "#2a3f5f",
           "arrowhead": 0,
           "arrowwidth": 1
          },
          "autotypenumbers": "strict",
          "coloraxis": {
           "colorbar": {
            "outlinewidth": 0,
            "ticks": ""
           }
          },
          "colorscale": {
           "diverging": [
            [
             0,
             "#8e0152"
            ],
            [
             0.1,
             "#c51b7d"
            ],
            [
             0.2,
             "#de77ae"
            ],
            [
             0.3,
             "#f1b6da"
            ],
            [
             0.4,
             "#fde0ef"
            ],
            [
             0.5,
             "#f7f7f7"
            ],
            [
             0.6,
             "#e6f5d0"
            ],
            [
             0.7,
             "#b8e186"
            ],
            [
             0.8,
             "#7fbc41"
            ],
            [
             0.9,
             "#4d9221"
            ],
            [
             1,
             "#276419"
            ]
           ],
           "sequential": [
            [
             0,
             "#0d0887"
            ],
            [
             0.1111111111111111,
             "#46039f"
            ],
            [
             0.2222222222222222,
             "#7201a8"
            ],
            [
             0.3333333333333333,
             "#9c179e"
            ],
            [
             0.4444444444444444,
             "#bd3786"
            ],
            [
             0.5555555555555556,
             "#d8576b"
            ],
            [
             0.6666666666666666,
             "#ed7953"
            ],
            [
             0.7777777777777778,
             "#fb9f3a"
            ],
            [
             0.8888888888888888,
             "#fdca26"
            ],
            [
             1,
             "#f0f921"
            ]
           ],
           "sequentialminus": [
            [
             0,
             "#0d0887"
            ],
            [
             0.1111111111111111,
             "#46039f"
            ],
            [
             0.2222222222222222,
             "#7201a8"
            ],
            [
             0.3333333333333333,
             "#9c179e"
            ],
            [
             0.4444444444444444,
             "#bd3786"
            ],
            [
             0.5555555555555556,
             "#d8576b"
            ],
            [
             0.6666666666666666,
             "#ed7953"
            ],
            [
             0.7777777777777778,
             "#fb9f3a"
            ],
            [
             0.8888888888888888,
             "#fdca26"
            ],
            [
             1,
             "#f0f921"
            ]
           ]
          },
          "colorway": [
           "#636efa",
           "#EF553B",
           "#00cc96",
           "#ab63fa",
           "#FFA15A",
           "#19d3f3",
           "#FF6692",
           "#B6E880",
           "#FF97FF",
           "#FECB52"
          ],
          "font": {
           "color": "#2a3f5f"
          },
          "geo": {
           "bgcolor": "white",
           "lakecolor": "white",
           "landcolor": "#E5ECF6",
           "showlakes": true,
           "showland": true,
           "subunitcolor": "white"
          },
          "hoverlabel": {
           "align": "left"
          },
          "hovermode": "closest",
          "mapbox": {
           "style": "light"
          },
          "paper_bgcolor": "white",
          "plot_bgcolor": "#E5ECF6",
          "polar": {
           "angularaxis": {
            "gridcolor": "white",
            "linecolor": "white",
            "ticks": ""
           },
           "bgcolor": "#E5ECF6",
           "radialaxis": {
            "gridcolor": "white",
            "linecolor": "white",
            "ticks": ""
           }
          },
          "scene": {
           "xaxis": {
            "backgroundcolor": "#E5ECF6",
            "gridcolor": "white",
            "gridwidth": 2,
            "linecolor": "white",
            "showbackground": true,
            "ticks": "",
            "zerolinecolor": "white"
           },
           "yaxis": {
            "backgroundcolor": "#E5ECF6",
            "gridcolor": "white",
            "gridwidth": 2,
            "linecolor": "white",
            "showbackground": true,
            "ticks": "",
            "zerolinecolor": "white"
           },
           "zaxis": {
            "backgroundcolor": "#E5ECF6",
            "gridcolor": "white",
            "gridwidth": 2,
            "linecolor": "white",
            "showbackground": true,
            "ticks": "",
            "zerolinecolor": "white"
           }
          },
          "shapedefaults": {
           "line": {
            "color": "#2a3f5f"
           }
          },
          "ternary": {
           "aaxis": {
            "gridcolor": "white",
            "linecolor": "white",
            "ticks": ""
           },
           "baxis": {
            "gridcolor": "white",
            "linecolor": "white",
            "ticks": ""
           },
           "bgcolor": "#E5ECF6",
           "caxis": {
            "gridcolor": "white",
            "linecolor": "white",
            "ticks": ""
           }
          },
          "title": {
           "x": 0.05
          },
          "xaxis": {
           "automargin": true,
           "gridcolor": "white",
           "linecolor": "white",
           "ticks": "",
           "title": {
            "standoff": 15
           },
           "zerolinecolor": "white",
           "zerolinewidth": 2
          },
          "yaxis": {
           "automargin": true,
           "gridcolor": "white",
           "linecolor": "white",
           "ticks": "",
           "title": {
            "standoff": 15
           },
           "zerolinecolor": "white",
           "zerolinewidth": 2
          }
         }
        },
        "title": {
         "text": "Group Composition Overview"
        },
        "xaxis": {
         "anchor": "y",
         "domain": [
          0,
          0.2888888888888889
         ]
        },
        "xaxis2": {
         "anchor": "y2",
         "domain": [
          0.35555555555555557,
          0.6444444444444445
         ]
        },
        "xaxis3": {
         "anchor": "y3",
         "domain": [
          0.7111111111111111,
          1
         ]
        },
        "yaxis": {
         "anchor": "x",
         "domain": [
          0,
          1
         ]
        },
        "yaxis2": {
         "anchor": "x2",
         "domain": [
          0,
          1
         ]
        },
        "yaxis3": {
         "anchor": "x3",
         "domain": [
          0,
          1
         ]
        }
       }
      }
     },
     "metadata": {},
     "output_type": "display_data"
    },
    {
     "data": {
      "application/vnd.plotly.v1+json": {
       "config": {
        "plotlyServerURL": "https://plot.ly"
       },
       "data": [
        {
         "name": "Communication",
         "offsetgroup": "0",
         "type": "bar",
         "x": [
          1,
          2,
          3,
          4,
          5,
          6,
          7,
          8,
          9,
          10,
          11,
          12,
          13,
          14,
          15,
          16,
          17,
          18,
          19,
          20,
          21,
          22,
          23,
          24
         ],
         "y": [
          3.82,
          3.41,
          3.17,
          3.81,
          3.57,
          3.31,
          3.52,
          3.51,
          3.6,
          3.41,
          3.54,
          3.21,
          3.22,
          3.82,
          3.55,
          4.02,
          3.9,
          3.23,
          3.89,
          3.86,
          3.76,
          3.74,
          3.37,
          3.72
         ]
        },
        {
         "name": "Leadership",
         "offsetgroup": "1",
         "type": "bar",
         "x": [
          1,
          2,
          3,
          4,
          5,
          6,
          7,
          8,
          9,
          10,
          11,
          12,
          13,
          14,
          15,
          16,
          17,
          18,
          19,
          20,
          21,
          22,
          23,
          24
         ],
         "y": [
          2.83,
          3.59,
          2.96,
          3.48,
          3.51,
          3.31,
          2.89,
          3.22,
          3.36,
          3.08,
          3.14,
          3.24,
          2.62,
          3.48,
          3.06,
          3.21,
          3.17,
          3.51,
          3.4,
          3.75,
          3.48,
          3.26,
          3.59,
          3.23
         ]
        },
        {
         "name": "Time_Management",
         "offsetgroup": "2",
         "type": "bar",
         "x": [
          1,
          2,
          3,
          4,
          5,
          6,
          7,
          8,
          9,
          10,
          11,
          12,
          13,
          14,
          15,
          16,
          17,
          18,
          19,
          20,
          21,
          22,
          23,
          24
         ],
         "y": [
          3.49,
          3.99,
          2.85,
          3.51,
          3.48,
          3.81,
          2.91,
          3.14,
          3.5,
          3.33,
          2.67,
          2.82,
          3.78,
          3.43,
          3.46,
          3.09,
          3.13,
          3.76,
          3.34,
          3.86,
          3.32,
          3.19,
          3.22,
          3.96
         ]
        },
        {
         "name": "Analytical",
         "offsetgroup": "3",
         "type": "bar",
         "x": [
          1,
          2,
          3,
          4,
          5,
          6,
          7,
          8,
          9,
          10,
          11,
          12,
          13,
          14,
          15,
          16,
          17,
          18,
          19,
          20,
          21,
          22,
          23,
          24
         ],
         "y": [
          3.64,
          3.78,
          3.77,
          3.91,
          3.67,
          3.32,
          3.77,
          3.62,
          4.2,
          3.53,
          3.56,
          3.38,
          3.83,
          3.6,
          3.48,
          3.61,
          3.73,
          3.92,
          3.57,
          3.61,
          3.92,
          3.48,
          4.26,
          3.82
         ]
        },
        {
         "name": "Extroversion",
         "offsetgroup": "4",
         "type": "bar",
         "x": [
          1,
          2,
          3,
          4,
          5,
          6,
          7,
          8,
          9,
          10,
          11,
          12,
          13,
          14,
          15,
          16,
          17,
          18,
          19,
          20,
          21,
          22,
          23,
          24
         ],
         "y": [
          3.09,
          2.93,
          2.98,
          3.36,
          2.46,
          3.15,
          3.07,
          2.3,
          3.01,
          3.58,
          3.3,
          2.98,
          2.68,
          2.37,
          2.9,
          2.68,
          2.55,
          3.06,
          3.77,
          3.36,
          3.42,
          3.83,
          2.81,
          1.92
         ]
        },
        {
         "name": "Creativity",
         "offsetgroup": "5",
         "type": "bar",
         "x": [
          1,
          2,
          3,
          4,
          5,
          6,
          7,
          8,
          9,
          10,
          11,
          12,
          13,
          14,
          15,
          16,
          17,
          18,
          19,
          20,
          21,
          22,
          23,
          24
         ],
         "y": [
          2.87,
          2.46,
          3.37,
          3.02,
          2.47,
          2.75,
          2.79,
          2.55,
          2.16,
          2.88,
          2.39,
          2.87,
          2.77,
          2.72,
          2.62,
          2.46,
          2.7,
          3.06,
          3.38,
          3.13,
          3.55,
          2.85,
          1.9,
          1.73
         ]
        }
       ],
       "layout": {
        "barmode": "group",
        "height": 500,
        "template": {
         "data": {
          "bar": [
           {
            "error_x": {
             "color": "#2a3f5f"
            },
            "error_y": {
             "color": "#2a3f5f"
            },
            "marker": {
             "line": {
              "color": "#E5ECF6",
              "width": 0.5
             },
             "pattern": {
              "fillmode": "overlay",
              "size": 10,
              "solidity": 0.2
             }
            },
            "type": "bar"
           }
          ],
          "barpolar": [
           {
            "marker": {
             "line": {
              "color": "#E5ECF6",
              "width": 0.5
             },
             "pattern": {
              "fillmode": "overlay",
              "size": 10,
              "solidity": 0.2
             }
            },
            "type": "barpolar"
           }
          ],
          "carpet": [
           {
            "aaxis": {
             "endlinecolor": "#2a3f5f",
             "gridcolor": "white",
             "linecolor": "white",
             "minorgridcolor": "white",
             "startlinecolor": "#2a3f5f"
            },
            "baxis": {
             "endlinecolor": "#2a3f5f",
             "gridcolor": "white",
             "linecolor": "white",
             "minorgridcolor": "white",
             "startlinecolor": "#2a3f5f"
            },
            "type": "carpet"
           }
          ],
          "choropleth": [
           {
            "colorbar": {
             "outlinewidth": 0,
             "ticks": ""
            },
            "type": "choropleth"
           }
          ],
          "contour": [
           {
            "colorbar": {
             "outlinewidth": 0,
             "ticks": ""
            },
            "colorscale": [
             [
              0,
              "#0d0887"
             ],
             [
              0.1111111111111111,
              "#46039f"
             ],
             [
              0.2222222222222222,
              "#7201a8"
             ],
             [
              0.3333333333333333,
              "#9c179e"
             ],
             [
              0.4444444444444444,
              "#bd3786"
             ],
             [
              0.5555555555555556,
              "#d8576b"
             ],
             [
              0.6666666666666666,
              "#ed7953"
             ],
             [
              0.7777777777777778,
              "#fb9f3a"
             ],
             [
              0.8888888888888888,
              "#fdca26"
             ],
             [
              1,
              "#f0f921"
             ]
            ],
            "type": "contour"
           }
          ],
          "contourcarpet": [
           {
            "colorbar": {
             "outlinewidth": 0,
             "ticks": ""
            },
            "type": "contourcarpet"
           }
          ],
          "heatmap": [
           {
            "colorbar": {
             "outlinewidth": 0,
             "ticks": ""
            },
            "colorscale": [
             [
              0,
              "#0d0887"
             ],
             [
              0.1111111111111111,
              "#46039f"
             ],
             [
              0.2222222222222222,
              "#7201a8"
             ],
             [
              0.3333333333333333,
              "#9c179e"
             ],
             [
              0.4444444444444444,
              "#bd3786"
             ],
             [
              0.5555555555555556,
              "#d8576b"
             ],
             [
              0.6666666666666666,
              "#ed7953"
             ],
             [
              0.7777777777777778,
              "#fb9f3a"
             ],
             [
              0.8888888888888888,
              "#fdca26"
             ],
             [
              1,
              "#f0f921"
             ]
            ],
            "type": "heatmap"
           }
          ],
          "heatmapgl": [
           {
            "colorbar": {
             "outlinewidth": 0,
             "ticks": ""
            },
            "colorscale": [
             [
              0,
              "#0d0887"
             ],
             [
              0.1111111111111111,
              "#46039f"
             ],
             [
              0.2222222222222222,
              "#7201a8"
             ],
             [
              0.3333333333333333,
              "#9c179e"
             ],
             [
              0.4444444444444444,
              "#bd3786"
             ],
             [
              0.5555555555555556,
              "#d8576b"
             ],
             [
              0.6666666666666666,
              "#ed7953"
             ],
             [
              0.7777777777777778,
              "#fb9f3a"
             ],
             [
              0.8888888888888888,
              "#fdca26"
             ],
             [
              1,
              "#f0f921"
             ]
            ],
            "type": "heatmapgl"
           }
          ],
          "histogram": [
           {
            "marker": {
             "pattern": {
              "fillmode": "overlay",
              "size": 10,
              "solidity": 0.2
             }
            },
            "type": "histogram"
           }
          ],
          "histogram2d": [
           {
            "colorbar": {
             "outlinewidth": 0,
             "ticks": ""
            },
            "colorscale": [
             [
              0,
              "#0d0887"
             ],
             [
              0.1111111111111111,
              "#46039f"
             ],
             [
              0.2222222222222222,
              "#7201a8"
             ],
             [
              0.3333333333333333,
              "#9c179e"
             ],
             [
              0.4444444444444444,
              "#bd3786"
             ],
             [
              0.5555555555555556,
              "#d8576b"
             ],
             [
              0.6666666666666666,
              "#ed7953"
             ],
             [
              0.7777777777777778,
              "#fb9f3a"
             ],
             [
              0.8888888888888888,
              "#fdca26"
             ],
             [
              1,
              "#f0f921"
             ]
            ],
            "type": "histogram2d"
           }
          ],
          "histogram2dcontour": [
           {
            "colorbar": {
             "outlinewidth": 0,
             "ticks": ""
            },
            "colorscale": [
             [
              0,
              "#0d0887"
             ],
             [
              0.1111111111111111,
              "#46039f"
             ],
             [
              0.2222222222222222,
              "#7201a8"
             ],
             [
              0.3333333333333333,
              "#9c179e"
             ],
             [
              0.4444444444444444,
              "#bd3786"
             ],
             [
              0.5555555555555556,
              "#d8576b"
             ],
             [
              0.6666666666666666,
              "#ed7953"
             ],
             [
              0.7777777777777778,
              "#fb9f3a"
             ],
             [
              0.8888888888888888,
              "#fdca26"
             ],
             [
              1,
              "#f0f921"
             ]
            ],
            "type": "histogram2dcontour"
           }
          ],
          "mesh3d": [
           {
            "colorbar": {
             "outlinewidth": 0,
             "ticks": ""
            },
            "type": "mesh3d"
           }
          ],
          "parcoords": [
           {
            "line": {
             "colorbar": {
              "outlinewidth": 0,
              "ticks": ""
             }
            },
            "type": "parcoords"
           }
          ],
          "pie": [
           {
            "automargin": true,
            "type": "pie"
           }
          ],
          "scatter": [
           {
            "fillpattern": {
             "fillmode": "overlay",
             "size": 10,
             "solidity": 0.2
            },
            "type": "scatter"
           }
          ],
          "scatter3d": [
           {
            "line": {
             "colorbar": {
              "outlinewidth": 0,
              "ticks": ""
             }
            },
            "marker": {
             "colorbar": {
              "outlinewidth": 0,
              "ticks": ""
             }
            },
            "type": "scatter3d"
           }
          ],
          "scattercarpet": [
           {
            "marker": {
             "colorbar": {
              "outlinewidth": 0,
              "ticks": ""
             }
            },
            "type": "scattercarpet"
           }
          ],
          "scattergeo": [
           {
            "marker": {
             "colorbar": {
              "outlinewidth": 0,
              "ticks": ""
             }
            },
            "type": "scattergeo"
           }
          ],
          "scattergl": [
           {
            "marker": {
             "colorbar": {
              "outlinewidth": 0,
              "ticks": ""
             }
            },
            "type": "scattergl"
           }
          ],
          "scattermapbox": [
           {
            "marker": {
             "colorbar": {
              "outlinewidth": 0,
              "ticks": ""
             }
            },
            "type": "scattermapbox"
           }
          ],
          "scatterpolar": [
           {
            "marker": {
             "colorbar": {
              "outlinewidth": 0,
              "ticks": ""
             }
            },
            "type": "scatterpolar"
           }
          ],
          "scatterpolargl": [
           {
            "marker": {
             "colorbar": {
              "outlinewidth": 0,
              "ticks": ""
             }
            },
            "type": "scatterpolargl"
           }
          ],
          "scatterternary": [
           {
            "marker": {
             "colorbar": {
              "outlinewidth": 0,
              "ticks": ""
             }
            },
            "type": "scatterternary"
           }
          ],
          "surface": [
           {
            "colorbar": {
             "outlinewidth": 0,
             "ticks": ""
            },
            "colorscale": [
             [
              0,
              "#0d0887"
             ],
             [
              0.1111111111111111,
              "#46039f"
             ],
             [
              0.2222222222222222,
              "#7201a8"
             ],
             [
              0.3333333333333333,
              "#9c179e"
             ],
             [
              0.4444444444444444,
              "#bd3786"
             ],
             [
              0.5555555555555556,
              "#d8576b"
             ],
             [
              0.6666666666666666,
              "#ed7953"
             ],
             [
              0.7777777777777778,
              "#fb9f3a"
             ],
             [
              0.8888888888888888,
              "#fdca26"
             ],
             [
              1,
              "#f0f921"
             ]
            ],
            "type": "surface"
           }
          ],
          "table": [
           {
            "cells": {
             "fill": {
              "color": "#EBF0F8"
             },
             "line": {
              "color": "white"
             }
            },
            "header": {
             "fill": {
              "color": "#C8D4E3"
             },
             "line": {
              "color": "white"
             }
            },
            "type": "table"
           }
          ]
         },
         "layout": {
          "annotationdefaults": {
           "arrowcolor": "#2a3f5f",
           "arrowhead": 0,
           "arrowwidth": 1
          },
          "autotypenumbers": "strict",
          "coloraxis": {
           "colorbar": {
            "outlinewidth": 0,
            "ticks": ""
           }
          },
          "colorscale": {
           "diverging": [
            [
             0,
             "#8e0152"
            ],
            [
             0.1,
             "#c51b7d"
            ],
            [
             0.2,
             "#de77ae"
            ],
            [
             0.3,
             "#f1b6da"
            ],
            [
             0.4,
             "#fde0ef"
            ],
            [
             0.5,
             "#f7f7f7"
            ],
            [
             0.6,
             "#e6f5d0"
            ],
            [
             0.7,
             "#b8e186"
            ],
            [
             0.8,
             "#7fbc41"
            ],
            [
             0.9,
             "#4d9221"
            ],
            [
             1,
             "#276419"
            ]
           ],
           "sequential": [
            [
             0,
             "#0d0887"
            ],
            [
             0.1111111111111111,
             "#46039f"
            ],
            [
             0.2222222222222222,
             "#7201a8"
            ],
            [
             0.3333333333333333,
             "#9c179e"
            ],
            [
             0.4444444444444444,
             "#bd3786"
            ],
            [
             0.5555555555555556,
             "#d8576b"
            ],
            [
             0.6666666666666666,
             "#ed7953"
            ],
            [
             0.7777777777777778,
             "#fb9f3a"
            ],
            [
             0.8888888888888888,
             "#fdca26"
            ],
            [
             1,
             "#f0f921"
            ]
           ],
           "sequentialminus": [
            [
             0,
             "#0d0887"
            ],
            [
             0.1111111111111111,
             "#46039f"
            ],
            [
             0.2222222222222222,
             "#7201a8"
            ],
            [
             0.3333333333333333,
             "#9c179e"
            ],
            [
             0.4444444444444444,
             "#bd3786"
            ],
            [
             0.5555555555555556,
             "#d8576b"
            ],
            [
             0.6666666666666666,
             "#ed7953"
            ],
            [
             0.7777777777777778,
             "#fb9f3a"
            ],
            [
             0.8888888888888888,
             "#fdca26"
            ],
            [
             1,
             "#f0f921"
            ]
           ]
          },
          "colorway": [
           "#636efa",
           "#EF553B",
           "#00cc96",
           "#ab63fa",
           "#FFA15A",
           "#19d3f3",
           "#FF6692",
           "#B6E880",
           "#FF97FF",
           "#FECB52"
          ],
          "font": {
           "color": "#2a3f5f"
          },
          "geo": {
           "bgcolor": "white",
           "lakecolor": "white",
           "landcolor": "#E5ECF6",
           "showlakes": true,
           "showland": true,
           "subunitcolor": "white"
          },
          "hoverlabel": {
           "align": "left"
          },
          "hovermode": "closest",
          "mapbox": {
           "style": "light"
          },
          "paper_bgcolor": "white",
          "plot_bgcolor": "#E5ECF6",
          "polar": {
           "angularaxis": {
            "gridcolor": "white",
            "linecolor": "white",
            "ticks": ""
           },
           "bgcolor": "#E5ECF6",
           "radialaxis": {
            "gridcolor": "white",
            "linecolor": "white",
            "ticks": ""
           }
          },
          "scene": {
           "xaxis": {
            "backgroundcolor": "#E5ECF6",
            "gridcolor": "white",
            "gridwidth": 2,
            "linecolor": "white",
            "showbackground": true,
            "ticks": "",
            "zerolinecolor": "white"
           },
           "yaxis": {
            "backgroundcolor": "#E5ECF6",
            "gridcolor": "white",
            "gridwidth": 2,
            "linecolor": "white",
            "showbackground": true,
            "ticks": "",
            "zerolinecolor": "white"
           },
           "zaxis": {
            "backgroundcolor": "#E5ECF6",
            "gridcolor": "white",
            "gridwidth": 2,
            "linecolor": "white",
            "showbackground": true,
            "ticks": "",
            "zerolinecolor": "white"
           }
          },
          "shapedefaults": {
           "line": {
            "color": "#2a3f5f"
           }
          },
          "ternary": {
           "aaxis": {
            "gridcolor": "white",
            "linecolor": "white",
            "ticks": ""
           },
           "baxis": {
            "gridcolor": "white",
            "linecolor": "white",
            "ticks": ""
           },
           "bgcolor": "#E5ECF6",
           "caxis": {
            "gridcolor": "white",
            "linecolor": "white",
            "ticks": ""
           }
          },
          "title": {
           "x": 0.05
          },
          "xaxis": {
           "automargin": true,
           "gridcolor": "white",
           "linecolor": "white",
           "ticks": "",
           "title": {
            "standoff": 15
           },
           "zerolinecolor": "white",
           "zerolinewidth": 2
          },
          "yaxis": {
           "automargin": true,
           "gridcolor": "white",
           "linecolor": "white",
           "ticks": "",
           "title": {
            "standoff": 15
           },
           "zerolinecolor": "white",
           "zerolinewidth": 2
          }
         }
        },
        "title": {
         "text": "Average Skill Scores by Group"
        },
        "xaxis": {
         "title": {
          "text": "Group ID"
         }
        },
        "yaxis": {
         "title": {
          "text": "Average Score"
         }
        }
       }
      }
     },
     "metadata": {},
     "output_type": "display_data"
    },
    {
     "data": {
      "application/vnd.plotly.v1+json": {
       "config": {
        "plotlyServerURL": "https://plot.ly"
       },
       "data": [
        {
         "name": "Group 1",
         "type": "box",
         "xaxis": "x",
         "y": [
          12.14,
          18.47,
          12.59,
          15.07,
          12.78
         ],
         "yaxis": "y"
        },
        {
         "name": "Group 2",
         "type": "box",
         "xaxis": "x",
         "y": [
          14.87,
          15.32,
          13.73,
          14.78,
          17.3
         ],
         "yaxis": "y"
        },
        {
         "name": "Group 3",
         "type": "box",
         "xaxis": "x",
         "y": [
          13.86,
          10.63,
          14.35,
          12.89,
          14.56
         ],
         "yaxis": "y"
        },
        {
         "name": "Group 4",
         "type": "box",
         "xaxis": "x",
         "y": [
          14.38,
          15.27,
          12.33,
          12.1,
          14.8
         ],
         "yaxis": "y"
        },
        {
         "name": "Group 5",
         "type": "box",
         "xaxis": "x",
         "y": [
          14.02,
          14.03,
          13.25,
          15.93,
          12.17
         ],
         "yaxis": "y"
        },
        {
         "colorscale": [
          [
           0,
           "rgb(247,251,255)"
          ],
          [
           0.125,
           "rgb(222,235,247)"
          ],
          [
           0.25,
           "rgb(198,219,239)"
          ],
          [
           0.375,
           "rgb(158,202,225)"
          ],
          [
           0.5,
           "rgb(107,174,214)"
          ],
          [
           0.625,
           "rgb(66,146,198)"
          ],
          [
           0.75,
           "rgb(33,113,181)"
          ],
          [
           0.875,
           "rgb(8,81,156)"
          ],
          [
           1,
           "rgb(8,48,107)"
          ]
         ],
         "type": "heatmap",
         "x": [
          "Cluster 0",
          "Cluster 1",
          "Cluster 2",
          "Cluster 3"
         ],
         "xaxis": "x2",
         "y": [
          "Group 1",
          "Group 2",
          "Group 3",
          "Group 4",
          "Group 5",
          "Group 6",
          "Group 7",
          "Group 8",
          "Group 9",
          "Group 10",
          "Group 11",
          "Group 12",
          "Group 13",
          "Group 14",
          "Group 15",
          "Group 16",
          "Group 17",
          "Group 18",
          "Group 19",
          "Group 20",
          "Group 21",
          "Group 22",
          "Group 23",
          "Group 24"
         ],
         "yaxis": "y2",
         "z": [
          [
           2,
           1,
           1,
           1
          ],
          [
           1,
           1,
           2,
           1
          ],
          [
           1,
           1,
           1,
           2
          ],
          [
           2,
           1,
           1,
           1
          ],
          [
           2,
           1,
           1,
           1
          ],
          [
           1,
           1,
           2,
           1
          ],
          [
           1,
           2,
           1,
           1
          ],
          [
           2,
           1,
           1,
           1
          ],
          [
           1,
           1,
           2,
           1
          ],
          [
           1,
           1,
           1,
           2
          ],
          [
           1,
           2,
           1,
           1
          ],
          [
           1,
           2,
           1,
           1
          ],
          [
           1,
           1,
           2,
           1
          ],
          [
           1,
           1,
           2,
           1
          ],
          [
           2,
           1,
           1,
           1
          ],
          [
           1,
           1,
           1,
           2
          ],
          [
           1,
           2,
           1,
           1
          ],
          [
           1,
           1,
           1,
           2
          ],
          [
           1,
           1,
           1,
           2
          ],
          [
           0,
           1,
           2,
           2
          ],
          [
           0,
           1,
           1,
           3
          ],
          [
           0,
           1,
           2,
           2
          ],
          [
           0,
           1,
           3,
           1
          ],
          [
           0,
           0,
           5,
           0
          ]
         ]
        },
        {
         "colorscale": [
          [
           0,
           "rgb(247,252,245)"
          ],
          [
           0.125,
           "rgb(229,245,224)"
          ],
          [
           0.25,
           "rgb(199,233,192)"
          ],
          [
           0.375,
           "rgb(161,217,155)"
          ],
          [
           0.5,
           "rgb(116,196,118)"
          ],
          [
           0.625,
           "rgb(65,171,93)"
          ],
          [
           0.75,
           "rgb(35,139,69)"
          ],
          [
           0.875,
           "rgb(0,109,44)"
          ],
          [
           1,
           "rgb(0,68,27)"
          ]
         ],
         "type": "heatmap",
         "x": [
          "Cybersecurity",
          "Data Science & AI",
          "DevOps & Cloud Computing",
          "Embedded Systems",
          "Mobile Development",
          "Network Engineering",
          "Software Engineering",
          "Web Development"
         ],
         "xaxis": "x3",
         "y": [
          "Group 1",
          "Group 2",
          "Group 3",
          "Group 4",
          "Group 5",
          "Group 6",
          "Group 7",
          "Group 8",
          "Group 9",
          "Group 10",
          "Group 11",
          "Group 12",
          "Group 13",
          "Group 14",
          "Group 15",
          "Group 16",
          "Group 17",
          "Group 18",
          "Group 19",
          "Group 20",
          "Group 21",
          "Group 22",
          "Group 23",
          "Group 24"
         ],
         "yaxis": "y3",
         "z": [
          [
           1,
           0,
           1,
           1,
           0,
           1,
           0,
           1
          ],
          [
           1,
           1,
           0,
           1,
           0,
           1,
           0,
           1
          ],
          [
           1,
           1,
           0,
           0,
           1,
           1,
           0,
           1
          ],
          [
           1,
           1,
           1,
           1,
           0,
           1,
           0,
           0
          ],
          [
           1,
           1,
           1,
           0,
           1,
           0,
           0,
           1
          ],
          [
           0,
           0,
           1,
           1,
           0,
           0,
           2,
           1
          ],
          [
           0,
           0,
           1,
           1,
           1,
           0,
           1,
           1
          ],
          [
           1,
           0,
           1,
           1,
           0,
           0,
           1,
           1
          ],
          [
           1,
           0,
           3,
           0,
           0,
           0,
           0,
           1
          ],
          [
           0,
           0,
           1,
           1,
           2,
           0,
           0,
           1
          ],
          [
           1,
           1,
           1,
           1,
           0,
           0,
           0,
           1
          ],
          [
           0,
           0,
           2,
           1,
           0,
           0,
           1,
           1
          ],
          [
           1,
           0,
           1,
           1,
           1,
           1,
           0,
           0
          ],
          [
           0,
           0,
           2,
           0,
           1,
           1,
           1,
           0
          ],
          [
           2,
           0,
           1,
           1,
           0,
           0,
           1,
           0
          ],
          [
           1,
           0,
           0,
           1,
           0,
           0,
           2,
           1
          ],
          [
           1,
           1,
           0,
           1,
           0,
           1,
           1,
           0
          ],
          [
           1,
           0,
           1,
           1,
           1,
           0,
           1,
           0
          ],
          [
           0,
           0,
           1,
           1,
           0,
           1,
           2,
           0
          ],
          [
           1,
           1,
           0,
           1,
           1,
           1,
           0,
           0
          ],
          [
           0,
           1,
           1,
           1,
           0,
           1,
           1,
           0
          ],
          [
           1,
           1,
           1,
           0,
           1,
           0,
           1,
           0
          ],
          [
           2,
           0,
           0,
           0,
           1,
           1,
           1,
           0
          ],
          [
           1,
           1,
           1,
           0,
           1,
           1,
           0,
           0
          ]
         ]
        },
        {
         "colorscale": [
          [
           0,
           "rgb(255,245,235)"
          ],
          [
           0.125,
           "rgb(254,230,206)"
          ],
          [
           0.25,
           "rgb(253,208,162)"
          ],
          [
           0.375,
           "rgb(253,174,107)"
          ],
          [
           0.5,
           "rgb(253,141,60)"
          ],
          [
           0.625,
           "rgb(241,105,19)"
          ],
          [
           0.75,
           "rgb(217,72,1)"
          ],
          [
           0.875,
           "rgb(166,54,3)"
          ],
          [
           1,
           "rgb(127,39,4)"
          ]
         ],
         "type": "heatmap",
         "x": [
          "Auditory",
          "Kinesthetic",
          "Logical",
          "Reading",
          "Social",
          "Solitary",
          "Visual"
         ],
         "xaxis": "x4",
         "y": [
          "Group 1",
          "Group 2",
          "Group 3",
          "Group 4",
          "Group 5",
          "Group 6",
          "Group 7",
          "Group 8",
          "Group 9",
          "Group 10",
          "Group 11",
          "Group 12",
          "Group 13",
          "Group 14",
          "Group 15",
          "Group 16",
          "Group 17",
          "Group 18",
          "Group 19",
          "Group 20",
          "Group 21",
          "Group 22",
          "Group 23",
          "Group 24"
         ],
         "yaxis": "y4",
         "z": [
          [
           2,
           0,
           0,
           1,
           0,
           2,
           0
          ],
          [
           1,
           0,
           1,
           0,
           1,
           2,
           0
          ],
          [
           1,
           0,
           0,
           2,
           1,
           0,
           1
          ],
          [
           2,
           1,
           0,
           0,
           1,
           0,
           1
          ],
          [
           0,
           3,
           1,
           0,
           0,
           0,
           1
          ],
          [
           1,
           1,
           1,
           1,
           0,
           0,
           1
          ],
          [
           3,
           0,
           0,
           0,
           0,
           2,
           0
          ],
          [
           1,
           2,
           1,
           0,
           0,
           0,
           1
          ],
          [
           1,
           2,
           1,
           0,
           0,
           0,
           1
          ],
          [
           0,
           2,
           0,
           0,
           0,
           0,
           3
          ],
          [
           1,
           1,
           0,
           1,
           1,
           1,
           0
          ],
          [
           2,
           0,
           0,
           0,
           1,
           0,
           2
          ],
          [
           1,
           0,
           0,
           1,
           0,
           0,
           3
          ],
          [
           0,
           1,
           0,
           0,
           1,
           1,
           2
          ],
          [
           1,
           1,
           1,
           1,
           0,
           0,
           1
          ],
          [
           0,
           1,
           1,
           1,
           2,
           0,
           0
          ],
          [
           1,
           2,
           1,
           0,
           0,
           0,
           1
          ],
          [
           2,
           0,
           0,
           0,
           0,
           0,
           3
          ],
          [
           1,
           1,
           0,
           0,
           1,
           1,
           1
          ],
          [
           0,
           1,
           0,
           1,
           1,
           0,
           2
          ],
          [
           0,
           2,
           0,
           0,
           1,
           0,
           2
          ],
          [
           0,
           1,
           0,
           0,
           1,
           2,
           1
          ],
          [
           1,
           2,
           1,
           0,
           0,
           0,
           1
          ],
          [
           0,
           1,
           0,
           0,
           1,
           0,
           3
          ]
         ]
        }
       ],
       "layout": {
        "annotations": [
         {
          "font": {
           "size": 16
          },
          "showarrow": false,
          "text": "Moyenne Distribution",
          "x": 0.225,
          "xanchor": "center",
          "xref": "paper",
          "y": 1,
          "yanchor": "bottom",
          "yref": "paper"
         },
         {
          "font": {
           "size": 16
          },
          "showarrow": false,
          "text": "Cluster Distribution",
          "x": 0.775,
          "xanchor": "center",
          "xref": "paper",
          "y": 1,
          "yanchor": "bottom",
          "yref": "paper"
         },
         {
          "font": {
           "size": 16
          },
          "showarrow": false,
          "text": "Specialization Distribution",
          "x": 0.225,
          "xanchor": "center",
          "xref": "paper",
          "y": 0.375,
          "yanchor": "bottom",
          "yref": "paper"
         },
         {
          "font": {
           "size": 16
          },
          "showarrow": false,
          "text": "Learning Style Distribution",
          "x": 0.775,
          "xanchor": "center",
          "xref": "paper",
          "y": 0.375,
          "yanchor": "bottom",
          "yref": "paper"
         }
        ],
        "height": 800,
        "showlegend": false,
        "template": {
         "data": {
          "bar": [
           {
            "error_x": {
             "color": "#2a3f5f"
            },
            "error_y": {
             "color": "#2a3f5f"
            },
            "marker": {
             "line": {
              "color": "#E5ECF6",
              "width": 0.5
             },
             "pattern": {
              "fillmode": "overlay",
              "size": 10,
              "solidity": 0.2
             }
            },
            "type": "bar"
           }
          ],
          "barpolar": [
           {
            "marker": {
             "line": {
              "color": "#E5ECF6",
              "width": 0.5
             },
             "pattern": {
              "fillmode": "overlay",
              "size": 10,
              "solidity": 0.2
             }
            },
            "type": "barpolar"
           }
          ],
          "carpet": [
           {
            "aaxis": {
             "endlinecolor": "#2a3f5f",
             "gridcolor": "white",
             "linecolor": "white",
             "minorgridcolor": "white",
             "startlinecolor": "#2a3f5f"
            },
            "baxis": {
             "endlinecolor": "#2a3f5f",
             "gridcolor": "white",
             "linecolor": "white",
             "minorgridcolor": "white",
             "startlinecolor": "#2a3f5f"
            },
            "type": "carpet"
           }
          ],
          "choropleth": [
           {
            "colorbar": {
             "outlinewidth": 0,
             "ticks": ""
            },
            "type": "choropleth"
           }
          ],
          "contour": [
           {
            "colorbar": {
             "outlinewidth": 0,
             "ticks": ""
            },
            "colorscale": [
             [
              0,
              "#0d0887"
             ],
             [
              0.1111111111111111,
              "#46039f"
             ],
             [
              0.2222222222222222,
              "#7201a8"
             ],
             [
              0.3333333333333333,
              "#9c179e"
             ],
             [
              0.4444444444444444,
              "#bd3786"
             ],
             [
              0.5555555555555556,
              "#d8576b"
             ],
             [
              0.6666666666666666,
              "#ed7953"
             ],
             [
              0.7777777777777778,
              "#fb9f3a"
             ],
             [
              0.8888888888888888,
              "#fdca26"
             ],
             [
              1,
              "#f0f921"
             ]
            ],
            "type": "contour"
           }
          ],
          "contourcarpet": [
           {
            "colorbar": {
             "outlinewidth": 0,
             "ticks": ""
            },
            "type": "contourcarpet"
           }
          ],
          "heatmap": [
           {
            "colorbar": {
             "outlinewidth": 0,
             "ticks": ""
            },
            "colorscale": [
             [
              0,
              "#0d0887"
             ],
             [
              0.1111111111111111,
              "#46039f"
             ],
             [
              0.2222222222222222,
              "#7201a8"
             ],
             [
              0.3333333333333333,
              "#9c179e"
             ],
             [
              0.4444444444444444,
              "#bd3786"
             ],
             [
              0.5555555555555556,
              "#d8576b"
             ],
             [
              0.6666666666666666,
              "#ed7953"
             ],
             [
              0.7777777777777778,
              "#fb9f3a"
             ],
             [
              0.8888888888888888,
              "#fdca26"
             ],
             [
              1,
              "#f0f921"
             ]
            ],
            "type": "heatmap"
           }
          ],
          "heatmapgl": [
           {
            "colorbar": {
             "outlinewidth": 0,
             "ticks": ""
            },
            "colorscale": [
             [
              0,
              "#0d0887"
             ],
             [
              0.1111111111111111,
              "#46039f"
             ],
             [
              0.2222222222222222,
              "#7201a8"
             ],
             [
              0.3333333333333333,
              "#9c179e"
             ],
             [
              0.4444444444444444,
              "#bd3786"
             ],
             [
              0.5555555555555556,
              "#d8576b"
             ],
             [
              0.6666666666666666,
              "#ed7953"
             ],
             [
              0.7777777777777778,
              "#fb9f3a"
             ],
             [
              0.8888888888888888,
              "#fdca26"
             ],
             [
              1,
              "#f0f921"
             ]
            ],
            "type": "heatmapgl"
           }
          ],
          "histogram": [
           {
            "marker": {
             "pattern": {
              "fillmode": "overlay",
              "size": 10,
              "solidity": 0.2
             }
            },
            "type": "histogram"
           }
          ],
          "histogram2d": [
           {
            "colorbar": {
             "outlinewidth": 0,
             "ticks": ""
            },
            "colorscale": [
             [
              0,
              "#0d0887"
             ],
             [
              0.1111111111111111,
              "#46039f"
             ],
             [
              0.2222222222222222,
              "#7201a8"
             ],
             [
              0.3333333333333333,
              "#9c179e"
             ],
             [
              0.4444444444444444,
              "#bd3786"
             ],
             [
              0.5555555555555556,
              "#d8576b"
             ],
             [
              0.6666666666666666,
              "#ed7953"
             ],
             [
              0.7777777777777778,
              "#fb9f3a"
             ],
             [
              0.8888888888888888,
              "#fdca26"
             ],
             [
              1,
              "#f0f921"
             ]
            ],
            "type": "histogram2d"
           }
          ],
          "histogram2dcontour": [
           {
            "colorbar": {
             "outlinewidth": 0,
             "ticks": ""
            },
            "colorscale": [
             [
              0,
              "#0d0887"
             ],
             [
              0.1111111111111111,
              "#46039f"
             ],
             [
              0.2222222222222222,
              "#7201a8"
             ],
             [
              0.3333333333333333,
              "#9c179e"
             ],
             [
              0.4444444444444444,
              "#bd3786"
             ],
             [
              0.5555555555555556,
              "#d8576b"
             ],
             [
              0.6666666666666666,
              "#ed7953"
             ],
             [
              0.7777777777777778,
              "#fb9f3a"
             ],
             [
              0.8888888888888888,
              "#fdca26"
             ],
             [
              1,
              "#f0f921"
             ]
            ],
            "type": "histogram2dcontour"
           }
          ],
          "mesh3d": [
           {
            "colorbar": {
             "outlinewidth": 0,
             "ticks": ""
            },
            "type": "mesh3d"
           }
          ],
          "parcoords": [
           {
            "line": {
             "colorbar": {
              "outlinewidth": 0,
              "ticks": ""
             }
            },
            "type": "parcoords"
           }
          ],
          "pie": [
           {
            "automargin": true,
            "type": "pie"
           }
          ],
          "scatter": [
           {
            "fillpattern": {
             "fillmode": "overlay",
             "size": 10,
             "solidity": 0.2
            },
            "type": "scatter"
           }
          ],
          "scatter3d": [
           {
            "line": {
             "colorbar": {
              "outlinewidth": 0,
              "ticks": ""
             }
            },
            "marker": {
             "colorbar": {
              "outlinewidth": 0,
              "ticks": ""
             }
            },
            "type": "scatter3d"
           }
          ],
          "scattercarpet": [
           {
            "marker": {
             "colorbar": {
              "outlinewidth": 0,
              "ticks": ""
             }
            },
            "type": "scattercarpet"
           }
          ],
          "scattergeo": [
           {
            "marker": {
             "colorbar": {
              "outlinewidth": 0,
              "ticks": ""
             }
            },
            "type": "scattergeo"
           }
          ],
          "scattergl": [
           {
            "marker": {
             "colorbar": {
              "outlinewidth": 0,
              "ticks": ""
             }
            },
            "type": "scattergl"
           }
          ],
          "scattermapbox": [
           {
            "marker": {
             "colorbar": {
              "outlinewidth": 0,
              "ticks": ""
             }
            },
            "type": "scattermapbox"
           }
          ],
          "scatterpolar": [
           {
            "marker": {
             "colorbar": {
              "outlinewidth": 0,
              "ticks": ""
             }
            },
            "type": "scatterpolar"
           }
          ],
          "scatterpolargl": [
           {
            "marker": {
             "colorbar": {
              "outlinewidth": 0,
              "ticks": ""
             }
            },
            "type": "scatterpolargl"
           }
          ],
          "scatterternary": [
           {
            "marker": {
             "colorbar": {
              "outlinewidth": 0,
              "ticks": ""
             }
            },
            "type": "scatterternary"
           }
          ],
          "surface": [
           {
            "colorbar": {
             "outlinewidth": 0,
             "ticks": ""
            },
            "colorscale": [
             [
              0,
              "#0d0887"
             ],
             [
              0.1111111111111111,
              "#46039f"
             ],
             [
              0.2222222222222222,
              "#7201a8"
             ],
             [
              0.3333333333333333,
              "#9c179e"
             ],
             [
              0.4444444444444444,
              "#bd3786"
             ],
             [
              0.5555555555555556,
              "#d8576b"
             ],
             [
              0.6666666666666666,
              "#ed7953"
             ],
             [
              0.7777777777777778,
              "#fb9f3a"
             ],
             [
              0.8888888888888888,
              "#fdca26"
             ],
             [
              1,
              "#f0f921"
             ]
            ],
            "type": "surface"
           }
          ],
          "table": [
           {
            "cells": {
             "fill": {
              "color": "#EBF0F8"
             },
             "line": {
              "color": "white"
             }
            },
            "header": {
             "fill": {
              "color": "#C8D4E3"
             },
             "line": {
              "color": "white"
             }
            },
            "type": "table"
           }
          ]
         },
         "layout": {
          "annotationdefaults": {
           "arrowcolor": "#2a3f5f",
           "arrowhead": 0,
           "arrowwidth": 1
          },
          "autotypenumbers": "strict",
          "coloraxis": {
           "colorbar": {
            "outlinewidth": 0,
            "ticks": ""
           }
          },
          "colorscale": {
           "diverging": [
            [
             0,
             "#8e0152"
            ],
            [
             0.1,
             "#c51b7d"
            ],
            [
             0.2,
             "#de77ae"
            ],
            [
             0.3,
             "#f1b6da"
            ],
            [
             0.4,
             "#fde0ef"
            ],
            [
             0.5,
             "#f7f7f7"
            ],
            [
             0.6,
             "#e6f5d0"
            ],
            [
             0.7,
             "#b8e186"
            ],
            [
             0.8,
             "#7fbc41"
            ],
            [
             0.9,
             "#4d9221"
            ],
            [
             1,
             "#276419"
            ]
           ],
           "sequential": [
            [
             0,
             "#0d0887"
            ],
            [
             0.1111111111111111,
             "#46039f"
            ],
            [
             0.2222222222222222,
             "#7201a8"
            ],
            [
             0.3333333333333333,
             "#9c179e"
            ],
            [
             0.4444444444444444,
             "#bd3786"
            ],
            [
             0.5555555555555556,
             "#d8576b"
            ],
            [
             0.6666666666666666,
             "#ed7953"
            ],
            [
             0.7777777777777778,
             "#fb9f3a"
            ],
            [
             0.8888888888888888,
             "#fdca26"
            ],
            [
             1,
             "#f0f921"
            ]
           ],
           "sequentialminus": [
            [
             0,
             "#0d0887"
            ],
            [
             0.1111111111111111,
             "#46039f"
            ],
            [
             0.2222222222222222,
             "#7201a8"
            ],
            [
             0.3333333333333333,
             "#9c179e"
            ],
            [
             0.4444444444444444,
             "#bd3786"
            ],
            [
             0.5555555555555556,
             "#d8576b"
            ],
            [
             0.6666666666666666,
             "#ed7953"
            ],
            [
             0.7777777777777778,
             "#fb9f3a"
            ],
            [
             0.8888888888888888,
             "#fdca26"
            ],
            [
             1,
             "#f0f921"
            ]
           ]
          },
          "colorway": [
           "#636efa",
           "#EF553B",
           "#00cc96",
           "#ab63fa",
           "#FFA15A",
           "#19d3f3",
           "#FF6692",
           "#B6E880",
           "#FF97FF",
           "#FECB52"
          ],
          "font": {
           "color": "#2a3f5f"
          },
          "geo": {
           "bgcolor": "white",
           "lakecolor": "white",
           "landcolor": "#E5ECF6",
           "showlakes": true,
           "showland": true,
           "subunitcolor": "white"
          },
          "hoverlabel": {
           "align": "left"
          },
          "hovermode": "closest",
          "mapbox": {
           "style": "light"
          },
          "paper_bgcolor": "white",
          "plot_bgcolor": "#E5ECF6",
          "polar": {
           "angularaxis": {
            "gridcolor": "white",
            "linecolor": "white",
            "ticks": ""
           },
           "bgcolor": "#E5ECF6",
           "radialaxis": {
            "gridcolor": "white",
            "linecolor": "white",
            "ticks": ""
           }
          },
          "scene": {
           "xaxis": {
            "backgroundcolor": "#E5ECF6",
            "gridcolor": "white",
            "gridwidth": 2,
            "linecolor": "white",
            "showbackground": true,
            "ticks": "",
            "zerolinecolor": "white"
           },
           "yaxis": {
            "backgroundcolor": "#E5ECF6",
            "gridcolor": "white",
            "gridwidth": 2,
            "linecolor": "white",
            "showbackground": true,
            "ticks": "",
            "zerolinecolor": "white"
           },
           "zaxis": {
            "backgroundcolor": "#E5ECF6",
            "gridcolor": "white",
            "gridwidth": 2,
            "linecolor": "white",
            "showbackground": true,
            "ticks": "",
            "zerolinecolor": "white"
           }
          },
          "shapedefaults": {
           "line": {
            "color": "#2a3f5f"
           }
          },
          "ternary": {
           "aaxis": {
            "gridcolor": "white",
            "linecolor": "white",
            "ticks": ""
           },
           "baxis": {
            "gridcolor": "white",
            "linecolor": "white",
            "ticks": ""
           },
           "bgcolor": "#E5ECF6",
           "caxis": {
            "gridcolor": "white",
            "linecolor": "white",
            "ticks": ""
           }
          },
          "title": {
           "x": 0.05
          },
          "xaxis": {
           "automargin": true,
           "gridcolor": "white",
           "linecolor": "white",
           "ticks": "",
           "title": {
            "standoff": 15
           },
           "zerolinecolor": "white",
           "zerolinewidth": 2
          },
          "yaxis": {
           "automargin": true,
           "gridcolor": "white",
           "linecolor": "white",
           "ticks": "",
           "title": {
            "standoff": 15
           },
           "zerolinecolor": "white",
           "zerolinewidth": 2
          }
         }
        },
        "title": {
         "text": "Group Diversity Analysis"
        },
        "xaxis": {
         "anchor": "y",
         "domain": [
          0,
          0.45
         ]
        },
        "xaxis2": {
         "anchor": "y2",
         "domain": [
          0.55,
          1
         ]
        },
        "xaxis3": {
         "anchor": "y3",
         "domain": [
          0,
          0.45
         ]
        },
        "xaxis4": {
         "anchor": "y4",
         "domain": [
          0.55,
          1
         ]
        },
        "yaxis": {
         "anchor": "x",
         "domain": [
          0.625,
          1
         ]
        },
        "yaxis2": {
         "anchor": "x2",
         "domain": [
          0.625,
          1
         ]
        },
        "yaxis3": {
         "anchor": "x3",
         "domain": [
          0,
          0.375
         ]
        },
        "yaxis4": {
         "anchor": "x4",
         "domain": [
          0,
          0.375
         ]
        }
       }
      }
     },
     "metadata": {},
     "output_type": "display_data"
    },
    {
     "name": "stdout",
     "output_type": "stream",
     "text": [
      "\n",
      "👤 Sample Student Profiles:\n"
     ]
    },
    {
     "data": {
      "application/vnd.plotly.v1+json": {
       "config": {
        "plotlyServerURL": "https://plot.ly"
       },
       "data": [
        {
         "fill": "toself",
         "name": "Student ETU_045",
         "r": [
          4.54,
          3.2,
          4.57,
          3.23,
          4.54
         ],
         "theta": [
          "Communication",
          "Leadership",
          "Time Management",
          "Analytical",
          "Communication"
         ],
         "type": "scatterpolar"
        }
       ],
       "layout": {
        "polar": {
         "radialaxis": {
          "range": [
           0,
           5
          ],
          "visible": true
         }
        },
        "showlegend": true,
        "template": {
         "data": {
          "bar": [
           {
            "error_x": {
             "color": "#2a3f5f"
            },
            "error_y": {
             "color": "#2a3f5f"
            },
            "marker": {
             "line": {
              "color": "#E5ECF6",
              "width": 0.5
             },
             "pattern": {
              "fillmode": "overlay",
              "size": 10,
              "solidity": 0.2
             }
            },
            "type": "bar"
           }
          ],
          "barpolar": [
           {
            "marker": {
             "line": {
              "color": "#E5ECF6",
              "width": 0.5
             },
             "pattern": {
              "fillmode": "overlay",
              "size": 10,
              "solidity": 0.2
             }
            },
            "type": "barpolar"
           }
          ],
          "carpet": [
           {
            "aaxis": {
             "endlinecolor": "#2a3f5f",
             "gridcolor": "white",
             "linecolor": "white",
             "minorgridcolor": "white",
             "startlinecolor": "#2a3f5f"
            },
            "baxis": {
             "endlinecolor": "#2a3f5f",
             "gridcolor": "white",
             "linecolor": "white",
             "minorgridcolor": "white",
             "startlinecolor": "#2a3f5f"
            },
            "type": "carpet"
           }
          ],
          "choropleth": [
           {
            "colorbar": {
             "outlinewidth": 0,
             "ticks": ""
            },
            "type": "choropleth"
           }
          ],
          "contour": [
           {
            "colorbar": {
             "outlinewidth": 0,
             "ticks": ""
            },
            "colorscale": [
             [
              0,
              "#0d0887"
             ],
             [
              0.1111111111111111,
              "#46039f"
             ],
             [
              0.2222222222222222,
              "#7201a8"
             ],
             [
              0.3333333333333333,
              "#9c179e"
             ],
             [
              0.4444444444444444,
              "#bd3786"
             ],
             [
              0.5555555555555556,
              "#d8576b"
             ],
             [
              0.6666666666666666,
              "#ed7953"
             ],
             [
              0.7777777777777778,
              "#fb9f3a"
             ],
             [
              0.8888888888888888,
              "#fdca26"
             ],
             [
              1,
              "#f0f921"
             ]
            ],
            "type": "contour"
           }
          ],
          "contourcarpet": [
           {
            "colorbar": {
             "outlinewidth": 0,
             "ticks": ""
            },
            "type": "contourcarpet"
           }
          ],
          "heatmap": [
           {
            "colorbar": {
             "outlinewidth": 0,
             "ticks": ""
            },
            "colorscale": [
             [
              0,
              "#0d0887"
             ],
             [
              0.1111111111111111,
              "#46039f"
             ],
             [
              0.2222222222222222,
              "#7201a8"
             ],
             [
              0.3333333333333333,
              "#9c179e"
             ],
             [
              0.4444444444444444,
              "#bd3786"
             ],
             [
              0.5555555555555556,
              "#d8576b"
             ],
             [
              0.6666666666666666,
              "#ed7953"
             ],
             [
              0.7777777777777778,
              "#fb9f3a"
             ],
             [
              0.8888888888888888,
              "#fdca26"
             ],
             [
              1,
              "#f0f921"
             ]
            ],
            "type": "heatmap"
           }
          ],
          "heatmapgl": [
           {
            "colorbar": {
             "outlinewidth": 0,
             "ticks": ""
            },
            "colorscale": [
             [
              0,
              "#0d0887"
             ],
             [
              0.1111111111111111,
              "#46039f"
             ],
             [
              0.2222222222222222,
              "#7201a8"
             ],
             [
              0.3333333333333333,
              "#9c179e"
             ],
             [
              0.4444444444444444,
              "#bd3786"
             ],
             [
              0.5555555555555556,
              "#d8576b"
             ],
             [
              0.6666666666666666,
              "#ed7953"
             ],
             [
              0.7777777777777778,
              "#fb9f3a"
             ],
             [
              0.8888888888888888,
              "#fdca26"
             ],
             [
              1,
              "#f0f921"
             ]
            ],
            "type": "heatmapgl"
           }
          ],
          "histogram": [
           {
            "marker": {
             "pattern": {
              "fillmode": "overlay",
              "size": 10,
              "solidity": 0.2
             }
            },
            "type": "histogram"
           }
          ],
          "histogram2d": [
           {
            "colorbar": {
             "outlinewidth": 0,
             "ticks": ""
            },
            "colorscale": [
             [
              0,
              "#0d0887"
             ],
             [
              0.1111111111111111,
              "#46039f"
             ],
             [
              0.2222222222222222,
              "#7201a8"
             ],
             [
              0.3333333333333333,
              "#9c179e"
             ],
             [
              0.4444444444444444,
              "#bd3786"
             ],
             [
              0.5555555555555556,
              "#d8576b"
             ],
             [
              0.6666666666666666,
              "#ed7953"
             ],
             [
              0.7777777777777778,
              "#fb9f3a"
             ],
             [
              0.8888888888888888,
              "#fdca26"
             ],
             [
              1,
              "#f0f921"
             ]
            ],
            "type": "histogram2d"
           }
          ],
          "histogram2dcontour": [
           {
            "colorbar": {
             "outlinewidth": 0,
             "ticks": ""
            },
            "colorscale": [
             [
              0,
              "#0d0887"
             ],
             [
              0.1111111111111111,
              "#46039f"
             ],
             [
              0.2222222222222222,
              "#7201a8"
             ],
             [
              0.3333333333333333,
              "#9c179e"
             ],
             [
              0.4444444444444444,
              "#bd3786"
             ],
             [
              0.5555555555555556,
              "#d8576b"
             ],
             [
              0.6666666666666666,
              "#ed7953"
             ],
             [
              0.7777777777777778,
              "#fb9f3a"
             ],
             [
              0.8888888888888888,
              "#fdca26"
             ],
             [
              1,
              "#f0f921"
             ]
            ],
            "type": "histogram2dcontour"
           }
          ],
          "mesh3d": [
           {
            "colorbar": {
             "outlinewidth": 0,
             "ticks": ""
            },
            "type": "mesh3d"
           }
          ],
          "parcoords": [
           {
            "line": {
             "colorbar": {
              "outlinewidth": 0,
              "ticks": ""
             }
            },
            "type": "parcoords"
           }
          ],
          "pie": [
           {
            "automargin": true,
            "type": "pie"
           }
          ],
          "scatter": [
           {
            "fillpattern": {
             "fillmode": "overlay",
             "size": 10,
             "solidity": 0.2
            },
            "type": "scatter"
           }
          ],
          "scatter3d": [
           {
            "line": {
             "colorbar": {
              "outlinewidth": 0,
              "ticks": ""
             }
            },
            "marker": {
             "colorbar": {
              "outlinewidth": 0,
              "ticks": ""
             }
            },
            "type": "scatter3d"
           }
          ],
          "scattercarpet": [
           {
            "marker": {
             "colorbar": {
              "outlinewidth": 0,
              "ticks": ""
             }
            },
            "type": "scattercarpet"
           }
          ],
          "scattergeo": [
           {
            "marker": {
             "colorbar": {
              "outlinewidth": 0,
              "ticks": ""
             }
            },
            "type": "scattergeo"
           }
          ],
          "scattergl": [
           {
            "marker": {
             "colorbar": {
              "outlinewidth": 0,
              "ticks": ""
             }
            },
            "type": "scattergl"
           }
          ],
          "scattermapbox": [
           {
            "marker": {
             "colorbar": {
              "outlinewidth": 0,
              "ticks": ""
             }
            },
            "type": "scattermapbox"
           }
          ],
          "scatterpolar": [
           {
            "marker": {
             "colorbar": {
              "outlinewidth": 0,
              "ticks": ""
             }
            },
            "type": "scatterpolar"
           }
          ],
          "scatterpolargl": [
           {
            "marker": {
             "colorbar": {
              "outlinewidth": 0,
              "ticks": ""
             }
            },
            "type": "scatterpolargl"
           }
          ],
          "scatterternary": [
           {
            "marker": {
             "colorbar": {
              "outlinewidth": 0,
              "ticks": ""
             }
            },
            "type": "scatterternary"
           }
          ],
          "surface": [
           {
            "colorbar": {
             "outlinewidth": 0,
             "ticks": ""
            },
            "colorscale": [
             [
              0,
              "#0d0887"
             ],
             [
              0.1111111111111111,
              "#46039f"
             ],
             [
              0.2222222222222222,
              "#7201a8"
             ],
             [
              0.3333333333333333,
              "#9c179e"
             ],
             [
              0.4444444444444444,
              "#bd3786"
             ],
             [
              0.5555555555555556,
              "#d8576b"
             ],
             [
              0.6666666666666666,
              "#ed7953"
             ],
             [
              0.7777777777777778,
              "#fb9f3a"
             ],
             [
              0.8888888888888888,
              "#fdca26"
             ],
             [
              1,
              "#f0f921"
             ]
            ],
            "type": "surface"
           }
          ],
          "table": [
           {
            "cells": {
             "fill": {
              "color": "#EBF0F8"
             },
             "line": {
              "color": "white"
             }
            },
            "header": {
             "fill": {
              "color": "#C8D4E3"
             },
             "line": {
              "color": "white"
             }
            },
            "type": "table"
           }
          ]
         },
         "layout": {
          "annotationdefaults": {
           "arrowcolor": "#2a3f5f",
           "arrowhead": 0,
           "arrowwidth": 1
          },
          "autotypenumbers": "strict",
          "coloraxis": {
           "colorbar": {
            "outlinewidth": 0,
            "ticks": ""
           }
          },
          "colorscale": {
           "diverging": [
            [
             0,
             "#8e0152"
            ],
            [
             0.1,
             "#c51b7d"
            ],
            [
             0.2,
             "#de77ae"
            ],
            [
             0.3,
             "#f1b6da"
            ],
            [
             0.4,
             "#fde0ef"
            ],
            [
             0.5,
             "#f7f7f7"
            ],
            [
             0.6,
             "#e6f5d0"
            ],
            [
             0.7,
             "#b8e186"
            ],
            [
             0.8,
             "#7fbc41"
            ],
            [
             0.9,
             "#4d9221"
            ],
            [
             1,
             "#276419"
            ]
           ],
           "sequential": [
            [
             0,
             "#0d0887"
            ],
            [
             0.1111111111111111,
             "#46039f"
            ],
            [
             0.2222222222222222,
             "#7201a8"
            ],
            [
             0.3333333333333333,
             "#9c179e"
            ],
            [
             0.4444444444444444,
             "#bd3786"
            ],
            [
             0.5555555555555556,
             "#d8576b"
            ],
            [
             0.6666666666666666,
             "#ed7953"
            ],
            [
             0.7777777777777778,
             "#fb9f3a"
            ],
            [
             0.8888888888888888,
             "#fdca26"
            ],
            [
             1,
             "#f0f921"
            ]
           ],
           "sequentialminus": [
            [
             0,
             "#0d0887"
            ],
            [
             0.1111111111111111,
             "#46039f"
            ],
            [
             0.2222222222222222,
             "#7201a8"
            ],
            [
             0.3333333333333333,
             "#9c179e"
            ],
            [
             0.4444444444444444,
             "#bd3786"
            ],
            [
             0.5555555555555556,
             "#d8576b"
            ],
            [
             0.6666666666666666,
             "#ed7953"
            ],
            [
             0.7777777777777778,
             "#fb9f3a"
            ],
            [
             0.8888888888888888,
             "#fdca26"
            ],
            [
             1,
             "#f0f921"
            ]
           ]
          },
          "colorway": [
           "#636efa",
           "#EF553B",
           "#00cc96",
           "#ab63fa",
           "#FFA15A",
           "#19d3f3",
           "#FF6692",
           "#B6E880",
           "#FF97FF",
           "#FECB52"
          ],
          "font": {
           "color": "#2a3f5f"
          },
          "geo": {
           "bgcolor": "white",
           "lakecolor": "white",
           "landcolor": "#E5ECF6",
           "showlakes": true,
           "showland": true,
           "subunitcolor": "white"
          },
          "hoverlabel": {
           "align": "left"
          },
          "hovermode": "closest",
          "mapbox": {
           "style": "light"
          },
          "paper_bgcolor": "white",
          "plot_bgcolor": "#E5ECF6",
          "polar": {
           "angularaxis": {
            "gridcolor": "white",
            "linecolor": "white",
            "ticks": ""
           },
           "bgcolor": "#E5ECF6",
           "radialaxis": {
            "gridcolor": "white",
            "linecolor": "white",
            "ticks": ""
           }
          },
          "scene": {
           "xaxis": {
            "backgroundcolor": "#E5ECF6",
            "gridcolor": "white",
            "gridwidth": 2,
            "linecolor": "white",
            "showbackground": true,
            "ticks": "",
            "zerolinecolor": "white"
           },
           "yaxis": {
            "backgroundcolor": "#E5ECF6",
            "gridcolor": "white",
            "gridwidth": 2,
            "linecolor": "white",
            "showbackground": true,
            "ticks": "",
            "zerolinecolor": "white"
           },
           "zaxis": {
            "backgroundcolor": "#E5ECF6",
            "gridcolor": "white",
            "gridwidth": 2,
            "linecolor": "white",
            "showbackground": true,
            "ticks": "",
            "zerolinecolor": "white"
           }
          },
          "shapedefaults": {
           "line": {
            "color": "#2a3f5f"
           }
          },
          "ternary": {
           "aaxis": {
            "gridcolor": "white",
            "linecolor": "white",
            "ticks": ""
           },
           "baxis": {
            "gridcolor": "white",
            "linecolor": "white",
            "ticks": ""
           },
           "bgcolor": "#E5ECF6",
           "caxis": {
            "gridcolor": "white",
            "linecolor": "white",
            "ticks": ""
           }
          },
          "title": {
           "x": 0.05
          },
          "xaxis": {
           "automargin": true,
           "gridcolor": "white",
           "linecolor": "white",
           "ticks": "",
           "title": {
            "standoff": 15
           },
           "zerolinecolor": "white",
           "zerolinewidth": 2
          },
          "yaxis": {
           "automargin": true,
           "gridcolor": "white",
           "linecolor": "white",
           "ticks": "",
           "title": {
            "standoff": 15
           },
           "zerolinecolor": "white",
           "zerolinewidth": 2
          }
         }
        },
        "title": {
         "text": "Skill Profile: ETU_045 (Collaborative Communicator)"
        }
       }
      }
     },
     "metadata": {},
     "output_type": "display_data"
    },
    {
     "name": "stdout",
     "output_type": "stream",
     "text": [
      "Student: ETU_045, Cluster: 1, Group: 2\n",
      "Archetype: Collaborative Communicator, Specialization: Cybersecurity, Moyenne: 13.73\n",
      "---\n"
     ]
    },
    {
     "data": {
      "application/vnd.plotly.v1+json": {
       "config": {
        "plotlyServerURL": "https://plot.ly"
       },
       "data": [
        {
         "fill": "toself",
         "name": "Student ETU_048",
         "r": [
          2.51,
          3.88,
          4.02,
          3.51,
          2.51
         ],
         "theta": [
          "Communication",
          "Leadership",
          "Time Management",
          "Analytical",
          "Communication"
         ],
         "type": "scatterpolar"
        }
       ],
       "layout": {
        "polar": {
         "radialaxis": {
          "range": [
           0,
           5
          ],
          "visible": true
         }
        },
        "showlegend": true,
        "template": {
         "data": {
          "bar": [
           {
            "error_x": {
             "color": "#2a3f5f"
            },
            "error_y": {
             "color": "#2a3f5f"
            },
            "marker": {
             "line": {
              "color": "#E5ECF6",
              "width": 0.5
             },
             "pattern": {
              "fillmode": "overlay",
              "size": 10,
              "solidity": 0.2
             }
            },
            "type": "bar"
           }
          ],
          "barpolar": [
           {
            "marker": {
             "line": {
              "color": "#E5ECF6",
              "width": 0.5
             },
             "pattern": {
              "fillmode": "overlay",
              "size": 10,
              "solidity": 0.2
             }
            },
            "type": "barpolar"
           }
          ],
          "carpet": [
           {
            "aaxis": {
             "endlinecolor": "#2a3f5f",
             "gridcolor": "white",
             "linecolor": "white",
             "minorgridcolor": "white",
             "startlinecolor": "#2a3f5f"
            },
            "baxis": {
             "endlinecolor": "#2a3f5f",
             "gridcolor": "white",
             "linecolor": "white",
             "minorgridcolor": "white",
             "startlinecolor": "#2a3f5f"
            },
            "type": "carpet"
           }
          ],
          "choropleth": [
           {
            "colorbar": {
             "outlinewidth": 0,
             "ticks": ""
            },
            "type": "choropleth"
           }
          ],
          "contour": [
           {
            "colorbar": {
             "outlinewidth": 0,
             "ticks": ""
            },
            "colorscale": [
             [
              0,
              "#0d0887"
             ],
             [
              0.1111111111111111,
              "#46039f"
             ],
             [
              0.2222222222222222,
              "#7201a8"
             ],
             [
              0.3333333333333333,
              "#9c179e"
             ],
             [
              0.4444444444444444,
              "#bd3786"
             ],
             [
              0.5555555555555556,
              "#d8576b"
             ],
             [
              0.6666666666666666,
              "#ed7953"
             ],
             [
              0.7777777777777778,
              "#fb9f3a"
             ],
             [
              0.8888888888888888,
              "#fdca26"
             ],
             [
              1,
              "#f0f921"
             ]
            ],
            "type": "contour"
           }
          ],
          "contourcarpet": [
           {
            "colorbar": {
             "outlinewidth": 0,
             "ticks": ""
            },
            "type": "contourcarpet"
           }
          ],
          "heatmap": [
           {
            "colorbar": {
             "outlinewidth": 0,
             "ticks": ""
            },
            "colorscale": [
             [
              0,
              "#0d0887"
             ],
             [
              0.1111111111111111,
              "#46039f"
             ],
             [
              0.2222222222222222,
              "#7201a8"
             ],
             [
              0.3333333333333333,
              "#9c179e"
             ],
             [
              0.4444444444444444,
              "#bd3786"
             ],
             [
              0.5555555555555556,
              "#d8576b"
             ],
             [
              0.6666666666666666,
              "#ed7953"
             ],
             [
              0.7777777777777778,
              "#fb9f3a"
             ],
             [
              0.8888888888888888,
              "#fdca26"
             ],
             [
              1,
              "#f0f921"
             ]
            ],
            "type": "heatmap"
           }
          ],
          "heatmapgl": [
           {
            "colorbar": {
             "outlinewidth": 0,
             "ticks": ""
            },
            "colorscale": [
             [
              0,
              "#0d0887"
             ],
             [
              0.1111111111111111,
              "#46039f"
             ],
             [
              0.2222222222222222,
              "#7201a8"
             ],
             [
              0.3333333333333333,
              "#9c179e"
             ],
             [
              0.4444444444444444,
              "#bd3786"
             ],
             [
              0.5555555555555556,
              "#d8576b"
             ],
             [
              0.6666666666666666,
              "#ed7953"
             ],
             [
              0.7777777777777778,
              "#fb9f3a"
             ],
             [
              0.8888888888888888,
              "#fdca26"
             ],
             [
              1,
              "#f0f921"
             ]
            ],
            "type": "heatmapgl"
           }
          ],
          "histogram": [
           {
            "marker": {
             "pattern": {
              "fillmode": "overlay",
              "size": 10,
              "solidity": 0.2
             }
            },
            "type": "histogram"
           }
          ],
          "histogram2d": [
           {
            "colorbar": {
             "outlinewidth": 0,
             "ticks": ""
            },
            "colorscale": [
             [
              0,
              "#0d0887"
             ],
             [
              0.1111111111111111,
              "#46039f"
             ],
             [
              0.2222222222222222,
              "#7201a8"
             ],
             [
              0.3333333333333333,
              "#9c179e"
             ],
             [
              0.4444444444444444,
              "#bd3786"
             ],
             [
              0.5555555555555556,
              "#d8576b"
             ],
             [
              0.6666666666666666,
              "#ed7953"
             ],
             [
              0.7777777777777778,
              "#fb9f3a"
             ],
             [
              0.8888888888888888,
              "#fdca26"
             ],
             [
              1,
              "#f0f921"
             ]
            ],
            "type": "histogram2d"
           }
          ],
          "histogram2dcontour": [
           {
            "colorbar": {
             "outlinewidth": 0,
             "ticks": ""
            },
            "colorscale": [
             [
              0,
              "#0d0887"
             ],
             [
              0.1111111111111111,
              "#46039f"
             ],
             [
              0.2222222222222222,
              "#7201a8"
             ],
             [
              0.3333333333333333,
              "#9c179e"
             ],
             [
              0.4444444444444444,
              "#bd3786"
             ],
             [
              0.5555555555555556,
              "#d8576b"
             ],
             [
              0.6666666666666666,
              "#ed7953"
             ],
             [
              0.7777777777777778,
              "#fb9f3a"
             ],
             [
              0.8888888888888888,
              "#fdca26"
             ],
             [
              1,
              "#f0f921"
             ]
            ],
            "type": "histogram2dcontour"
           }
          ],
          "mesh3d": [
           {
            "colorbar": {
             "outlinewidth": 0,
             "ticks": ""
            },
            "type": "mesh3d"
           }
          ],
          "parcoords": [
           {
            "line": {
             "colorbar": {
              "outlinewidth": 0,
              "ticks": ""
             }
            },
            "type": "parcoords"
           }
          ],
          "pie": [
           {
            "automargin": true,
            "type": "pie"
           }
          ],
          "scatter": [
           {
            "fillpattern": {
             "fillmode": "overlay",
             "size": 10,
             "solidity": 0.2
            },
            "type": "scatter"
           }
          ],
          "scatter3d": [
           {
            "line": {
             "colorbar": {
              "outlinewidth": 0,
              "ticks": ""
             }
            },
            "marker": {
             "colorbar": {
              "outlinewidth": 0,
              "ticks": ""
             }
            },
            "type": "scatter3d"
           }
          ],
          "scattercarpet": [
           {
            "marker": {
             "colorbar": {
              "outlinewidth": 0,
              "ticks": ""
             }
            },
            "type": "scattercarpet"
           }
          ],
          "scattergeo": [
           {
            "marker": {
             "colorbar": {
              "outlinewidth": 0,
              "ticks": ""
             }
            },
            "type": "scattergeo"
           }
          ],
          "scattergl": [
           {
            "marker": {
             "colorbar": {
              "outlinewidth": 0,
              "ticks": ""
             }
            },
            "type": "scattergl"
           }
          ],
          "scattermapbox": [
           {
            "marker": {
             "colorbar": {
              "outlinewidth": 0,
              "ticks": ""
             }
            },
            "type": "scattermapbox"
           }
          ],
          "scatterpolar": [
           {
            "marker": {
             "colorbar": {
              "outlinewidth": 0,
              "ticks": ""
             }
            },
            "type": "scatterpolar"
           }
          ],
          "scatterpolargl": [
           {
            "marker": {
             "colorbar": {
              "outlinewidth": 0,
              "ticks": ""
             }
            },
            "type": "scatterpolargl"
           }
          ],
          "scatterternary": [
           {
            "marker": {
             "colorbar": {
              "outlinewidth": 0,
              "ticks": ""
             }
            },
            "type": "scatterternary"
           }
          ],
          "surface": [
           {
            "colorbar": {
             "outlinewidth": 0,
             "ticks": ""
            },
            "colorscale": [
             [
              0,
              "#0d0887"
             ],
             [
              0.1111111111111111,
              "#46039f"
             ],
             [
              0.2222222222222222,
              "#7201a8"
             ],
             [
              0.3333333333333333,
              "#9c179e"
             ],
             [
              0.4444444444444444,
              "#bd3786"
             ],
             [
              0.5555555555555556,
              "#d8576b"
             ],
             [
              0.6666666666666666,
              "#ed7953"
             ],
             [
              0.7777777777777778,
              "#fb9f3a"
             ],
             [
              0.8888888888888888,
              "#fdca26"
             ],
             [
              1,
              "#f0f921"
             ]
            ],
            "type": "surface"
           }
          ],
          "table": [
           {
            "cells": {
             "fill": {
              "color": "#EBF0F8"
             },
             "line": {
              "color": "white"
             }
            },
            "header": {
             "fill": {
              "color": "#C8D4E3"
             },
             "line": {
              "color": "white"
             }
            },
            "type": "table"
           }
          ]
         },
         "layout": {
          "annotationdefaults": {
           "arrowcolor": "#2a3f5f",
           "arrowhead": 0,
           "arrowwidth": 1
          },
          "autotypenumbers": "strict",
          "coloraxis": {
           "colorbar": {
            "outlinewidth": 0,
            "ticks": ""
           }
          },
          "colorscale": {
           "diverging": [
            [
             0,
             "#8e0152"
            ],
            [
             0.1,
             "#c51b7d"
            ],
            [
             0.2,
             "#de77ae"
            ],
            [
             0.3,
             "#f1b6da"
            ],
            [
             0.4,
             "#fde0ef"
            ],
            [
             0.5,
             "#f7f7f7"
            ],
            [
             0.6,
             "#e6f5d0"
            ],
            [
             0.7,
             "#b8e186"
            ],
            [
             0.8,
             "#7fbc41"
            ],
            [
             0.9,
             "#4d9221"
            ],
            [
             1,
             "#276419"
            ]
           ],
           "sequential": [
            [
             0,
             "#0d0887"
            ],
            [
             0.1111111111111111,
             "#46039f"
            ],
            [
             0.2222222222222222,
             "#7201a8"
            ],
            [
             0.3333333333333333,
             "#9c179e"
            ],
            [
             0.4444444444444444,
             "#bd3786"
            ],
            [
             0.5555555555555556,
             "#d8576b"
            ],
            [
             0.6666666666666666,
             "#ed7953"
            ],
            [
             0.7777777777777778,
             "#fb9f3a"
            ],
            [
             0.8888888888888888,
             "#fdca26"
            ],
            [
             1,
             "#f0f921"
            ]
           ],
           "sequentialminus": [
            [
             0,
             "#0d0887"
            ],
            [
             0.1111111111111111,
             "#46039f"
            ],
            [
             0.2222222222222222,
             "#7201a8"
            ],
            [
             0.3333333333333333,
             "#9c179e"
            ],
            [
             0.4444444444444444,
             "#bd3786"
            ],
            [
             0.5555555555555556,
             "#d8576b"
            ],
            [
             0.6666666666666666,
             "#ed7953"
            ],
            [
             0.7777777777777778,
             "#fb9f3a"
            ],
            [
             0.8888888888888888,
             "#fdca26"
            ],
            [
             1,
             "#f0f921"
            ]
           ]
          },
          "colorway": [
           "#636efa",
           "#EF553B",
           "#00cc96",
           "#ab63fa",
           "#FFA15A",
           "#19d3f3",
           "#FF6692",
           "#B6E880",
           "#FF97FF",
           "#FECB52"
          ],
          "font": {
           "color": "#2a3f5f"
          },
          "geo": {
           "bgcolor": "white",
           "lakecolor": "white",
           "landcolor": "#E5ECF6",
           "showlakes": true,
           "showland": true,
           "subunitcolor": "white"
          },
          "hoverlabel": {
           "align": "left"
          },
          "hovermode": "closest",
          "mapbox": {
           "style": "light"
          },
          "paper_bgcolor": "white",
          "plot_bgcolor": "#E5ECF6",
          "polar": {
           "angularaxis": {
            "gridcolor": "white",
            "linecolor": "white",
            "ticks": ""
           },
           "bgcolor": "#E5ECF6",
           "radialaxis": {
            "gridcolor": "white",
            "linecolor": "white",
            "ticks": ""
           }
          },
          "scene": {
           "xaxis": {
            "backgroundcolor": "#E5ECF6",
            "gridcolor": "white",
            "gridwidth": 2,
            "linecolor": "white",
            "showbackground": true,
            "ticks": "",
            "zerolinecolor": "white"
           },
           "yaxis": {
            "backgroundcolor": "#E5ECF6",
            "gridcolor": "white",
            "gridwidth": 2,
            "linecolor": "white",
            "showbackground": true,
            "ticks": "",
            "zerolinecolor": "white"
           },
           "zaxis": {
            "backgroundcolor": "#E5ECF6",
            "gridcolor": "white",
            "gridwidth": 2,
            "linecolor": "white",
            "showbackground": true,
            "ticks": "",
            "zerolinecolor": "white"
           }
          },
          "shapedefaults": {
           "line": {
            "color": "#2a3f5f"
           }
          },
          "ternary": {
           "aaxis": {
            "gridcolor": "white",
            "linecolor": "white",
            "ticks": ""
           },
           "baxis": {
            "gridcolor": "white",
            "linecolor": "white",
            "ticks": ""
           },
           "bgcolor": "#E5ECF6",
           "caxis": {
            "gridcolor": "white",
            "linecolor": "white",
            "ticks": ""
           }
          },
          "title": {
           "x": 0.05
          },
          "xaxis": {
           "automargin": true,
           "gridcolor": "white",
           "linecolor": "white",
           "ticks": "",
           "title": {
            "standoff": 15
           },
           "zerolinecolor": "white",
           "zerolinewidth": 2
          },
          "yaxis": {
           "automargin": true,
           "gridcolor": "white",
           "linecolor": "white",
           "ticks": "",
           "title": {
            "standoff": 15
           },
           "zerolinecolor": "white",
           "zerolinewidth": 2
          }
         }
        },
        "title": {
         "text": "Skill Profile: ETU_048 (Mixed Profile)"
        }
       }
      }
     },
     "metadata": {},
     "output_type": "display_data"
    },
    {
     "name": "stdout",
     "output_type": "stream",
     "text": [
      "Student: ETU_048, Cluster: 2, Group: 23\n",
      "Archetype: Mixed Profile, Specialization: Mobile Development, Moyenne: 14.58\n",
      "---\n"
     ]
    },
    {
     "data": {
      "application/vnd.plotly.v1+json": {
       "config": {
        "plotlyServerURL": "https://plot.ly"
       },
       "data": [
        {
         "fill": "toself",
         "name": "Student ETU_005",
         "r": [
          3.23,
          2.77,
          2.57,
          2.64,
          3.23
         ],
         "theta": [
          "Communication",
          "Leadership",
          "Time Management",
          "Analytical",
          "Communication"
         ],
         "type": "scatterpolar"
        }
       ],
       "layout": {
        "polar": {
         "radialaxis": {
          "range": [
           0,
           5
          ],
          "visible": true
         }
        },
        "showlegend": true,
        "template": {
         "data": {
          "bar": [
           {
            "error_x": {
             "color": "#2a3f5f"
            },
            "error_y": {
             "color": "#2a3f5f"
            },
            "marker": {
             "line": {
              "color": "#E5ECF6",
              "width": 0.5
             },
             "pattern": {
              "fillmode": "overlay",
              "size": 10,
              "solidity": 0.2
             }
            },
            "type": "bar"
           }
          ],
          "barpolar": [
           {
            "marker": {
             "line": {
              "color": "#E5ECF6",
              "width": 0.5
             },
             "pattern": {
              "fillmode": "overlay",
              "size": 10,
              "solidity": 0.2
             }
            },
            "type": "barpolar"
           }
          ],
          "carpet": [
           {
            "aaxis": {
             "endlinecolor": "#2a3f5f",
             "gridcolor": "white",
             "linecolor": "white",
             "minorgridcolor": "white",
             "startlinecolor": "#2a3f5f"
            },
            "baxis": {
             "endlinecolor": "#2a3f5f",
             "gridcolor": "white",
             "linecolor": "white",
             "minorgridcolor": "white",
             "startlinecolor": "#2a3f5f"
            },
            "type": "carpet"
           }
          ],
          "choropleth": [
           {
            "colorbar": {
             "outlinewidth": 0,
             "ticks": ""
            },
            "type": "choropleth"
           }
          ],
          "contour": [
           {
            "colorbar": {
             "outlinewidth": 0,
             "ticks": ""
            },
            "colorscale": [
             [
              0,
              "#0d0887"
             ],
             [
              0.1111111111111111,
              "#46039f"
             ],
             [
              0.2222222222222222,
              "#7201a8"
             ],
             [
              0.3333333333333333,
              "#9c179e"
             ],
             [
              0.4444444444444444,
              "#bd3786"
             ],
             [
              0.5555555555555556,
              "#d8576b"
             ],
             [
              0.6666666666666666,
              "#ed7953"
             ],
             [
              0.7777777777777778,
              "#fb9f3a"
             ],
             [
              0.8888888888888888,
              "#fdca26"
             ],
             [
              1,
              "#f0f921"
             ]
            ],
            "type": "contour"
           }
          ],
          "contourcarpet": [
           {
            "colorbar": {
             "outlinewidth": 0,
             "ticks": ""
            },
            "type": "contourcarpet"
           }
          ],
          "heatmap": [
           {
            "colorbar": {
             "outlinewidth": 0,
             "ticks": ""
            },
            "colorscale": [
             [
              0,
              "#0d0887"
             ],
             [
              0.1111111111111111,
              "#46039f"
             ],
             [
              0.2222222222222222,
              "#7201a8"
             ],
             [
              0.3333333333333333,
              "#9c179e"
             ],
             [
              0.4444444444444444,
              "#bd3786"
             ],
             [
              0.5555555555555556,
              "#d8576b"
             ],
             [
              0.6666666666666666,
              "#ed7953"
             ],
             [
              0.7777777777777778,
              "#fb9f3a"
             ],
             [
              0.8888888888888888,
              "#fdca26"
             ],
             [
              1,
              "#f0f921"
             ]
            ],
            "type": "heatmap"
           }
          ],
          "heatmapgl": [
           {
            "colorbar": {
             "outlinewidth": 0,
             "ticks": ""
            },
            "colorscale": [
             [
              0,
              "#0d0887"
             ],
             [
              0.1111111111111111,
              "#46039f"
             ],
             [
              0.2222222222222222,
              "#7201a8"
             ],
             [
              0.3333333333333333,
              "#9c179e"
             ],
             [
              0.4444444444444444,
              "#bd3786"
             ],
             [
              0.5555555555555556,
              "#d8576b"
             ],
             [
              0.6666666666666666,
              "#ed7953"
             ],
             [
              0.7777777777777778,
              "#fb9f3a"
             ],
             [
              0.8888888888888888,
              "#fdca26"
             ],
             [
              1,
              "#f0f921"
             ]
            ],
            "type": "heatmapgl"
           }
          ],
          "histogram": [
           {
            "marker": {
             "pattern": {
              "fillmode": "overlay",
              "size": 10,
              "solidity": 0.2
             }
            },
            "type": "histogram"
           }
          ],
          "histogram2d": [
           {
            "colorbar": {
             "outlinewidth": 0,
             "ticks": ""
            },
            "colorscale": [
             [
              0,
              "#0d0887"
             ],
             [
              0.1111111111111111,
              "#46039f"
             ],
             [
              0.2222222222222222,
              "#7201a8"
             ],
             [
              0.3333333333333333,
              "#9c179e"
             ],
             [
              0.4444444444444444,
              "#bd3786"
             ],
             [
              0.5555555555555556,
              "#d8576b"
             ],
             [
              0.6666666666666666,
              "#ed7953"
             ],
             [
              0.7777777777777778,
              "#fb9f3a"
             ],
             [
              0.8888888888888888,
              "#fdca26"
             ],
             [
              1,
              "#f0f921"
             ]
            ],
            "type": "histogram2d"
           }
          ],
          "histogram2dcontour": [
           {
            "colorbar": {
             "outlinewidth": 0,
             "ticks": ""
            },
            "colorscale": [
             [
              0,
              "#0d0887"
             ],
             [
              0.1111111111111111,
              "#46039f"
             ],
             [
              0.2222222222222222,
              "#7201a8"
             ],
             [
              0.3333333333333333,
              "#9c179e"
             ],
             [
              0.4444444444444444,
              "#bd3786"
             ],
             [
              0.5555555555555556,
              "#d8576b"
             ],
             [
              0.6666666666666666,
              "#ed7953"
             ],
             [
              0.7777777777777778,
              "#fb9f3a"
             ],
             [
              0.8888888888888888,
              "#fdca26"
             ],
             [
              1,
              "#f0f921"
             ]
            ],
            "type": "histogram2dcontour"
           }
          ],
          "mesh3d": [
           {
            "colorbar": {
             "outlinewidth": 0,
             "ticks": ""
            },
            "type": "mesh3d"
           }
          ],
          "parcoords": [
           {
            "line": {
             "colorbar": {
              "outlinewidth": 0,
              "ticks": ""
             }
            },
            "type": "parcoords"
           }
          ],
          "pie": [
           {
            "automargin": true,
            "type": "pie"
           }
          ],
          "scatter": [
           {
            "fillpattern": {
             "fillmode": "overlay",
             "size": 10,
             "solidity": 0.2
            },
            "type": "scatter"
           }
          ],
          "scatter3d": [
           {
            "line": {
             "colorbar": {
              "outlinewidth": 0,
              "ticks": ""
             }
            },
            "marker": {
             "colorbar": {
              "outlinewidth": 0,
              "ticks": ""
             }
            },
            "type": "scatter3d"
           }
          ],
          "scattercarpet": [
           {
            "marker": {
             "colorbar": {
              "outlinewidth": 0,
              "ticks": ""
             }
            },
            "type": "scattercarpet"
           }
          ],
          "scattergeo": [
           {
            "marker": {
             "colorbar": {
              "outlinewidth": 0,
              "ticks": ""
             }
            },
            "type": "scattergeo"
           }
          ],
          "scattergl": [
           {
            "marker": {
             "colorbar": {
              "outlinewidth": 0,
              "ticks": ""
             }
            },
            "type": "scattergl"
           }
          ],
          "scattermapbox": [
           {
            "marker": {
             "colorbar": {
              "outlinewidth": 0,
              "ticks": ""
             }
            },
            "type": "scattermapbox"
           }
          ],
          "scatterpolar": [
           {
            "marker": {
             "colorbar": {
              "outlinewidth": 0,
              "ticks": ""
             }
            },
            "type": "scatterpolar"
           }
          ],
          "scatterpolargl": [
           {
            "marker": {
             "colorbar": {
              "outlinewidth": 0,
              "ticks": ""
             }
            },
            "type": "scatterpolargl"
           }
          ],
          "scatterternary": [
           {
            "marker": {
             "colorbar": {
              "outlinewidth": 0,
              "ticks": ""
             }
            },
            "type": "scatterternary"
           }
          ],
          "surface": [
           {
            "colorbar": {
             "outlinewidth": 0,
             "ticks": ""
            },
            "colorscale": [
             [
              0,
              "#0d0887"
             ],
             [
              0.1111111111111111,
              "#46039f"
             ],
             [
              0.2222222222222222,
              "#7201a8"
             ],
             [
              0.3333333333333333,
              "#9c179e"
             ],
             [
              0.4444444444444444,
              "#bd3786"
             ],
             [
              0.5555555555555556,
              "#d8576b"
             ],
             [
              0.6666666666666666,
              "#ed7953"
             ],
             [
              0.7777777777777778,
              "#fb9f3a"
             ],
             [
              0.8888888888888888,
              "#fdca26"
             ],
             [
              1,
              "#f0f921"
             ]
            ],
            "type": "surface"
           }
          ],
          "table": [
           {
            "cells": {
             "fill": {
              "color": "#EBF0F8"
             },
             "line": {
              "color": "white"
             }
            },
            "header": {
             "fill": {
              "color": "#C8D4E3"
             },
             "line": {
              "color": "white"
             }
            },
            "type": "table"
           }
          ]
         },
         "layout": {
          "annotationdefaults": {
           "arrowcolor": "#2a3f5f",
           "arrowhead": 0,
           "arrowwidth": 1
          },
          "autotypenumbers": "strict",
          "coloraxis": {
           "colorbar": {
            "outlinewidth": 0,
            "ticks": ""
           }
          },
          "colorscale": {
           "diverging": [
            [
             0,
             "#8e0152"
            ],
            [
             0.1,
             "#c51b7d"
            ],
            [
             0.2,
             "#de77ae"
            ],
            [
             0.3,
             "#f1b6da"
            ],
            [
             0.4,
             "#fde0ef"
            ],
            [
             0.5,
             "#f7f7f7"
            ],
            [
             0.6,
             "#e6f5d0"
            ],
            [
             0.7,
             "#b8e186"
            ],
            [
             0.8,
             "#7fbc41"
            ],
            [
             0.9,
             "#4d9221"
            ],
            [
             1,
             "#276419"
            ]
           ],
           "sequential": [
            [
             0,
             "#0d0887"
            ],
            [
             0.1111111111111111,
             "#46039f"
            ],
            [
             0.2222222222222222,
             "#7201a8"
            ],
            [
             0.3333333333333333,
             "#9c179e"
            ],
            [
             0.4444444444444444,
             "#bd3786"
            ],
            [
             0.5555555555555556,
             "#d8576b"
            ],
            [
             0.6666666666666666,
             "#ed7953"
            ],
            [
             0.7777777777777778,
             "#fb9f3a"
            ],
            [
             0.8888888888888888,
             "#fdca26"
            ],
            [
             1,
             "#f0f921"
            ]
           ],
           "sequentialminus": [
            [
             0,
             "#0d0887"
            ],
            [
             0.1111111111111111,
             "#46039f"
            ],
            [
             0.2222222222222222,
             "#7201a8"
            ],
            [
             0.3333333333333333,
             "#9c179e"
            ],
            [
             0.4444444444444444,
             "#bd3786"
            ],
            [
             0.5555555555555556,
             "#d8576b"
            ],
            [
             0.6666666666666666,
             "#ed7953"
            ],
            [
             0.7777777777777778,
             "#fb9f3a"
            ],
            [
             0.8888888888888888,
             "#fdca26"
            ],
            [
             1,
             "#f0f921"
            ]
           ]
          },
          "colorway": [
           "#636efa",
           "#EF553B",
           "#00cc96",
           "#ab63fa",
           "#FFA15A",
           "#19d3f3",
           "#FF6692",
           "#B6E880",
           "#FF97FF",
           "#FECB52"
          ],
          "font": {
           "color": "#2a3f5f"
          },
          "geo": {
           "bgcolor": "white",
           "lakecolor": "white",
           "landcolor": "#E5ECF6",
           "showlakes": true,
           "showland": true,
           "subunitcolor": "white"
          },
          "hoverlabel": {
           "align": "left"
          },
          "hovermode": "closest",
          "mapbox": {
           "style": "light"
          },
          "paper_bgcolor": "white",
          "plot_bgcolor": "#E5ECF6",
          "polar": {
           "angularaxis": {
            "gridcolor": "white",
            "linecolor": "white",
            "ticks": ""
           },
           "bgcolor": "#E5ECF6",
           "radialaxis": {
            "gridcolor": "white",
            "linecolor": "white",
            "ticks": ""
           }
          },
          "scene": {
           "xaxis": {
            "backgroundcolor": "#E5ECF6",
            "gridcolor": "white",
            "gridwidth": 2,
            "linecolor": "white",
            "showbackground": true,
            "ticks": "",
            "zerolinecolor": "white"
           },
           "yaxis": {
            "backgroundcolor": "#E5ECF6",
            "gridcolor": "white",
            "gridwidth": 2,
            "linecolor": "white",
            "showbackground": true,
            "ticks": "",
            "zerolinecolor": "white"
           },
           "zaxis": {
            "backgroundcolor": "#E5ECF6",
            "gridcolor": "white",
            "gridwidth": 2,
            "linecolor": "white",
            "showbackground": true,
            "ticks": "",
            "zerolinecolor": "white"
           }
          },
          "shapedefaults": {
           "line": {
            "color": "#2a3f5f"
           }
          },
          "ternary": {
           "aaxis": {
            "gridcolor": "white",
            "linecolor": "white",
            "ticks": ""
           },
           "baxis": {
            "gridcolor": "white",
            "linecolor": "white",
            "ticks": ""
           },
           "bgcolor": "#E5ECF6",
           "caxis": {
            "gridcolor": "white",
            "linecolor": "white",
            "ticks": ""
           }
          },
          "title": {
           "x": 0.05
          },
          "xaxis": {
           "automargin": true,
           "gridcolor": "white",
           "linecolor": "white",
           "ticks": "",
           "title": {
            "standoff": 15
           },
           "zerolinecolor": "white",
           "zerolinewidth": 2
          },
          "yaxis": {
           "automargin": true,
           "gridcolor": "white",
           "linecolor": "white",
           "ticks": "",
           "title": {
            "standoff": 15
           },
           "zerolinecolor": "white",
           "zerolinewidth": 2
          }
         }
        },
        "title": {
         "text": "Skill Profile: ETU_005 (Well-Rounded Student)"
        }
       }
      }
     },
     "metadata": {},
     "output_type": "display_data"
    },
    {
     "name": "stdout",
     "output_type": "stream",
     "text": [
      "Student: ETU_005, Cluster: 1, Group: 5\n",
      "Archetype: Well-Rounded Student, Specialization: DevOps & Cloud Computing, Moyenne: 14.03\n",
      "---\n"
     ]
    }
   ],
   "source": [
    "def visualize_clustering_analysis(cluster_analysis, students_df):\n",
    "    \"\"\"\n",
    "    Create comprehensive visualizations for clustering analysis\n",
    "    \"\"\"\n",
    "    # Create subplots\n",
    "    fig = make_subplots(\n",
    "        rows=2, cols=2,\n",
    "        subplot_titles=[\n",
    "            'Elbow Method for Optimal Clusters',\n",
    "            'Silhouette Score Analysis', \n",
    "            'Student Distribution by Cluster',\n",
    "            'Cluster Characteristics'\n",
    "        ],\n",
    "        specs=[[{\"secondary_y\": False}, {\"secondary_y\": False}],\n",
    "               [{\"type\": \"bar\"}, {\"type\": \"heatmap\"}]]\n",
    "    )\n",
    "    \n",
    "    # Elbow method plot\n",
    "    fig.add_trace(\n",
    "        go.Scatter(\n",
    "            x=cluster_analysis['cluster_range'],\n",
    "            y=cluster_analysis['inertias'],\n",
    "            mode='lines+markers',\n",
    "            name='Inertia',\n",
    "            line=dict(color='blue')\n",
    "        ),\n",
    "        row=1, col=1\n",
    "    )\n",
    "    \n",
    "    # Silhouette score plot\n",
    "    fig.add_trace(\n",
    "        go.Scatter(\n",
    "            x=cluster_analysis['cluster_range'],\n",
    "            y=cluster_analysis['silhouette_scores'],\n",
    "            mode='lines+markers',\n",
    "            name='Silhouette Score',\n",
    "            line=dict(color='red')\n",
    "        ),\n",
    "        row=1, col=2\n",
    "    )\n",
    "    \n",
    "    # Cluster distribution\n",
    "    cluster_counts = students_df['cluster'].value_counts().sort_index()\n",
    "    fig.add_trace(\n",
    "        go.Bar(\n",
    "            x=[f'Cluster {i}' for i in cluster_counts.index],\n",
    "            y=cluster_counts.values,\n",
    "            name='Student Count',\n",
    "            marker_color='lightblue'\n",
    "        ),\n",
    "        row=2, col=1\n",
    "    )\n",
    "    \n",
    "    # Cluster characteristics heatmap\n",
    "    skill_cols = [col for col in students_df.columns if col.endswith('_score')]\n",
    "    cluster_means = students_df.groupby('cluster')[skill_cols + ['moyenne']].mean()\n",
    "    \n",
    "    fig.add_trace(\n",
    "        go.Heatmap(\n",
    "            z=cluster_means.values,\n",
    "            x=[col.replace('_score', '').title() for col in cluster_means.columns],\n",
    "            y=[f'Cluster {i}' for i in cluster_means.index],\n",
    "            colorscale='Viridis',\n",
    "            name='Avg Score'\n",
    "        ),\n",
    "        row=2, col=2\n",
    "    )\n",
    "    \n",
    "    fig.update_layout(\n",
    "        height=800,\n",
    "        title_text=\"Clustering Analysis Results\",\n",
    "        showlegend=False\n",
    "    )\n",
    "    \n",
    "    fig.show()\n",
    "\n",
    "def visualize_group_formation(students_df, group_analysis):\n",
    "    \"\"\"\n",
    "    Create visualizations for group formation results\n",
    "    \"\"\"\n",
    "    # Create multiple visualizations\n",
    "    \n",
    "    # 1. Group composition overview\n",
    "    fig1 = make_subplots(\n",
    "        rows=1, cols=3,\n",
    "        subplot_titles=['Group Sizes', 'Clusters per Group', 'Specializations per Group'],\n",
    "        specs=[[{\"type\": \"bar\"}, {\"type\": \"bar\"}, {\"type\": \"bar\"}]]\n",
    "    )\n",
    "    \n",
    "    groups_data = group_analysis['groups']\n",
    "    group_ids = [g['group_id'] for g in groups_data]\n",
    "    \n",
    "    # Group sizes\n",
    "    fig1.add_trace(\n",
    "        go.Bar(x=group_ids, y=[g['size'] for g in groups_data], name='Size'),\n",
    "        row=1, col=1\n",
    "    )\n",
    "    \n",
    "    # Clusters per group\n",
    "    fig1.add_trace(\n",
    "        go.Bar(x=group_ids, y=[g['clusters_represented'] for g in groups_data], name='Clusters'),\n",
    "        row=1, col=2\n",
    "    )\n",
    "    \n",
    "    # Specializations per group\n",
    "    fig1.add_trace(\n",
    "        go.Bar(x=group_ids, y=[g['specializations_represented'] for g in groups_data], name='Specializations'),\n",
    "        row=1, col=3\n",
    "    )\n",
    "    \n",
    "    fig1.update_layout(height=400, title_text=\"Group Composition Overview\", showlegend=False)\n",
    "    fig1.show()\n",
    "    \n",
    "    # 2. Skill distribution across groups\n",
    "    skill_cols = [col for col in students_df.columns if col.endswith('_score')]\n",
    "    skill_names = [col.replace('_score', '').title() for col in skill_cols]\n",
    "    \n",
    "    fig2 = go.Figure()\n",
    "    \n",
    "    for i, skill in enumerate(skill_cols):\n",
    "        skill_name = skill.replace('_score', '').title()\n",
    "        group_avgs = [g['skill_averages'][skill] for g in groups_data]\n",
    "        \n",
    "        fig2.add_trace(go.Bar(\n",
    "            name=skill_name,\n",
    "            x=group_ids,\n",
    "            y=group_avgs,\n",
    "            offsetgroup=i\n",
    "        ))\n",
    "    \n",
    "    fig2.update_layout(\n",
    "        title=\"Average Skill Scores by Group\",\n",
    "        xaxis_title=\"Group ID\",\n",
    "        yaxis_title=\"Average Score\",\n",
    "        barmode='group',\n",
    "        height=500\n",
    "    )\n",
    "    fig2.show()\n",
    "    \n",
    "    # 3. Group diversity analysis\n",
    "    fig3 = make_subplots(\n",
    "        rows=2, cols=2,\n",
    "        subplot_titles=['Moyenne Distribution', 'Cluster Distribution', 'Specialization Distribution', 'Learning Style Distribution']\n",
    "    )\n",
    "    \n",
    "    # Moyenne distribution by group\n",
    "    for group_id in group_ids[:5]:  # Show first 5 groups\n",
    "        group_data = students_df[students_df['group'] == group_id]\n",
    "        fig3.add_trace(\n",
    "            go.Box(y=group_data['moyenne'], name=f'Group {group_id}'),\n",
    "            row=1, col=1\n",
    "        )\n",
    "    \n",
    "    # Cluster distribution heatmap\n",
    "    group_cluster_dist = students_df.groupby(['group', 'cluster']).size().unstack(fill_value=0)\n",
    "    fig3.add_trace(\n",
    "        go.Heatmap(\n",
    "            z=group_cluster_dist.values,\n",
    "            x=[f'Cluster {i}' for i in group_cluster_dist.columns],\n",
    "            y=[f'Group {i}' for i in group_cluster_dist.index],\n",
    "            colorscale='Blues'\n",
    "        ),\n",
    "        row=1, col=2\n",
    "    )\n",
    "    \n",
    "    # Specialization distribution\n",
    "    specialization_dist = students_df.groupby(['group', 'specialization']).size().unstack(fill_value=0)\n",
    "    fig3.add_trace(\n",
    "        go.Heatmap(\n",
    "            z=specialization_dist.values,\n",
    "            x=specialization_dist.columns,\n",
    "            y=[f'Group {i}' for i in specialization_dist.index],\n",
    "            colorscale='Greens'\n",
    "        ),\n",
    "        row=2, col=1\n",
    "    )\n",
    "    \n",
    "    # Learning style distribution\n",
    "    style_dist = students_df.groupby(['group', 'primary_learning_style']).size().unstack(fill_value=0)\n",
    "    fig3.add_trace(\n",
    "        go.Heatmap(\n",
    "            z=style_dist.values,\n",
    "            x=style_dist.columns,\n",
    "            y=[f'Group {i}' for i in style_dist.index],\n",
    "            colorscale='Oranges'\n",
    "        ),\n",
    "        row=2, col=2\n",
    "    )\n",
    "    \n",
    "    fig3.update_layout(height=800, title_text=\"Group Diversity Analysis\", showlegend=False)\n",
    "    fig3.show()\n",
    "\n",
    "def create_student_profile_radar(student_data):\n",
    "    \"\"\"\n",
    "    Create a radar chart for individual student profile\n",
    "    \"\"\"\n",
    "    skills = ['Communication', 'Leadership', 'Time Management', 'Analytical']\n",
    "    skill_cols = ['communication_score', 'leadership_score', 'time_management_score', 'analytical_score']\n",
    "    values = [student_data[col] for col in skill_cols]\n",
    "    \n",
    "    fig = go.Figure()\n",
    "    \n",
    "    fig.add_trace(go.Scatterpolar(\n",
    "        r=values + [values[0]],  # Close the polygon\n",
    "        theta=skills + [skills[0]],\n",
    "        fill='toself',\n",
    "        name=f\"Student {student_data['student_id']}\"\n",
    "    ))\n",
    "    \n",
    "    fig.update_layout(\n",
    "        polar=dict(\n",
    "            radialaxis=dict(\n",
    "                visible=True,\n",
    "                range=[0, 5]\n",
    "            )),\n",
    "        title=f\"Skill Profile: {student_data['student_id']} ({student_data['archetype']})\",\n",
    "        showlegend=True\n",
    "    )\n",
    "    \n",
    "    return fig\n",
    "\n",
    "# Generate visualizations\n",
    "print(\"📊 Generating clustering and group formation visualizations...\")\n",
    "\n",
    "# Visualize clustering analysis\n",
    "visualize_clustering_analysis(cluster_analysis, students_df)\n",
    "\n",
    "# Visualize group formation results\n",
    "visualize_group_formation(students_with_groups, group_analysis)\n",
    "\n",
    "# Show sample student profiles\n",
    "print(\"\\n👤 Sample Student Profiles:\")\n",
    "sample_students = students_with_groups.sample(3, random_state=42)\n",
    "for _, student in sample_students.iterrows():\n",
    "    fig = create_student_profile_radar(student)\n",
    "    fig.show()\n",
    "    print(f\"Student: {student['student_id']}, Cluster: {student['cluster']}, Group: {student['group']}\")\n",
    "    print(f\"Archetype: {student['archetype']}, Specialization: {student['specialization']}, Moyenne: {student['moyenne']}\")\n",
    "    print(\"---\")"
   ]
  },
  {
   "cell_type": "markdown",
   "metadata": {},
   "source": [
    "## 9. Practical Implementation: Web Application with Gamification\n",
    "\n",
    "### Integration with Your Project Goals\n",
    "\n",
    "This clustering analysis can be directly integrated into your web application for automatic heterogeneous group formation:\n",
    "\n",
    "### **Web Application Features:**\n",
    "\n",
    "1. **Student Assessment Interface**\n",
    "   - Students complete soft skills assessment\n",
    "   - Collect additional data: moyenne, specialization, learning style preferences\n",
    "   - User-friendly questionnaire with progress tracking\n",
    "\n",
    "2. **Automatic Group Formation**\n",
    "   - Apply clustering algorithms in real-time\n",
    "   - Create balanced groups based on diversity metrics\n",
    "   - Ensure equal representation across skill levels\n",
    "\n",
    "3. **Gamification Elements**\n",
    "   - **Avatar Selection**: Students choose personalized avatars\n",
    "   - **Progress Badges**: Earn badges for assessment completion, group participation\n",
    "   - **Skill Visualization**: Radar charts showing individual and group profiles\n",
    "   - **Group Challenges**: Collaborative tasks that leverage diverse skills\n",
    "\n",
    "### **Implementation Steps:**\n",
    "\n",
    "1. **Data Collection Layer**\n",
    "   ```python\n",
    "   # Collect student data through web forms\n",
    "   student_data = {\n",
    "       'soft_skills': assessment_scores,\n",
    "       'academic': {'moyenne': moyenne, 'specialization': specialization},\n",
    "       'preferences': {'learning_style': style, 'interests': interests},\n",
    "       'gamification': {'avatar': avatar_choice, 'badges': earned_badges}\n",
    "   }\n",
    "   ```\n",
    "\n",
    "2. **Clustering Pipeline**\n",
    "   ```python\n",
    "   # Real-time clustering and group formation\n",
    "   clusters = perform_clustering(student_data)\n",
    "   groups = create_heterogeneous_groups(students_with_clusters)\n",
    "   ```\n",
    "\n",
    "3. **Visualization Dashboard**\n",
    "   - Interactive group composition displays\n",
    "   - Skill distribution charts\n",
    "   - Progress tracking and feedback\n",
    "\n",
    "### **Benefits for Educational Outcomes:**\n",
    "\n",
    "- **Reduced Bias**: Eliminates instructor preferences in group formation\n",
    "- **Enhanced Learning**: Diverse perspectives improve critical thinking\n",
    "- **Improved Engagement**: Gamification increases participation\n",
    "- **Data-Driven Insights**: Analytics on group performance and dynamics\n",
    "- **Scalability**: Handles large class sizes automatically\n",
    "\n",
    "### **Next Steps for Your Project:**\n",
    "\n",
    "1. Build web interface using Streamlit/Flask/Django\n",
    "2. Integrate clustering algorithms as backend services\n",
    "3. Implement gamification features and avatar system\n",
    "4. Add real-time group formation and visualization\n",
    "5. Create instructor dashboard for monitoring and analytics"
   ]
  },
  {
   "cell_type": "code",
   "execution_count": 73,
   "metadata": {},
   "outputs": [
    {
     "name": "stdout",
     "output_type": "stream",
     "text": [
      "💾 Exporting Results for Web Application Integration...\n",
      "✅ Group assignments exported to: data/student_group_assignments.csv\n",
      "\n",
      "📋 Summary Report:\n",
      "Total Students: 120\n",
      "Total Groups: 24\n",
      "Clusters Identified: 4\n",
      "Average Students per Group: 5.0\n",
      "\n",
      "🎯 Diversity Achieved:\n",
      "Unique Specializations: 8\n",
      "Unique Programming Languages: 8\n",
      "Unique Learning Styles: 7\n",
      "Moyenne Range per Class: 8.56\n",
      "\n",
      "📊 Sample Group Analysis:\n",
      "\n",
      "Group 1:\n",
      "  Size: 5 students\n",
      "  Clusters: 4 different clusters\n",
      "  Specializations: ['DevOps & Cloud Computing', 'Web Development', 'Cybersecurity', 'Network Engineering', 'Embedded Systems']\n",
      "  Programming Languages: ['JavaScript', 'C#', 'React', 'PHP']\n",
      "  Avg Moyenne: 14.21\n",
      "  Skill Balance: {'communication': 3.82, 'leadership': 2.83, 'time_management': 3.49, 'analytical': 3.64, 'extroversion': 3.09, 'creativity': 2.87}\n",
      "\n",
      "Group 2:\n",
      "  Size: 5 students\n",
      "  Clusters: 4 different clusters\n",
      "  Specializations: ['Embedded Systems', 'Data Science & AI', 'Cybersecurity', 'Web Development', 'Network Engineering']\n",
      "  Programming Languages: ['C++', 'React', 'Java', 'C#']\n",
      "  Avg Moyenne: 15.2\n",
      "  Skill Balance: {'communication': 3.41, 'leadership': 3.59, 'time_management': 3.99, 'analytical': 3.78, 'extroversion': 2.93, 'creativity': 2.46}\n",
      "\n",
      "Group 3:\n",
      "  Size: 5 students\n",
      "  Clusters: 4 different clusters\n",
      "  Specializations: ['Cybersecurity', 'Mobile Development', 'Network Engineering', 'Data Science & AI', 'Web Development']\n",
      "  Programming Languages: ['C#', 'Python', 'Java']\n",
      "  Avg Moyenne: 13.26\n",
      "  Skill Balance: {'communication': 3.17, 'leadership': 2.96, 'time_management': 2.85, 'analytical': 3.77, 'extroversion': 2.98, 'creativity': 3.37}\n",
      "\n",
      "🚀 Ready for Web Application Integration!\n",
      "✅ Student assessment data: Generated and validated\n",
      "✅ Clustering algorithms: Implemented and tested\n",
      "✅ Group formation: Automated and optimized\n",
      "✅ Diversity metrics: Calculated and verified\n",
      "✅ Export functionality: Available for web app\n",
      "✅ Visualization tools: Ready for dashboard\n",
      "\n",
      "🎮 Next Steps for Gamification:\n",
      "1. Integrate avatar selection system\n",
      "2. Implement badge and achievement tracking\n",
      "3. Create group challenge and collaboration features\n",
      "4. Add real-time progress visualization\n",
      "5. Build instructor dashboard for monitoring\n",
      "\n",
      "💾 Complete analysis saved to: data/complete_student_analysis.csv\n"
     ]
    }
   ],
   "source": [
    "def export_group_assignments(students_df, filename='student_group_assignments.csv'):\n",
    "    \"\"\"\n",
    "    Export group assignments for use in web application\n",
    "    \"\"\"\n",
    "    # Select relevant columns for export\n",
    "    export_columns = [\n",
    "        'student_id', 'group', 'cluster', 'archetype',\n",
    "        'communication_score', 'leadership_score', 'time_management_score', 'analytical_score',\n",
    "        'moyenne', 'specialization', 'preferred_programming_language', 'primary_learning_style', 'primary_interest'\n",
    "    ]\n",
    "    \n",
    "    export_df = students_df[export_columns].copy()\n",
    "    export_df = export_df[export_df['group'] > 0]  # Only assigned students\n",
    "    \n",
    "    # Sort by group and then by student ID\n",
    "    export_df = export_df.sort_values(['group', 'student_id'])\n",
    "    \n",
    "    # Save to CSV\n",
    "    export_df.to_csv(filename, index=False)\n",
    "    print(f\"✅ Group assignments exported to: {filename}\")\n",
    "    \n",
    "    return export_df\n",
    "\n",
    "def generate_group_summary_report(students_df):\n",
    "    \"\"\"\n",
    "    Generate a comprehensive summary report for instructors\n",
    "    \"\"\"\n",
    "    report = {\n",
    "        'total_students': len(students_df),\n",
    "        'total_groups': len(students_df[students_df['group'] > 0]['group'].unique()),\n",
    "        'clustering_summary': {},\n",
    "        'diversity_metrics': {},\n",
    "        'group_details': []\n",
    "    }\n",
    "    \n",
    "    # Clustering summary\n",
    "    cluster_distribution = students_df['cluster'].value_counts().to_dict()\n",
    "    report['clustering_summary'] = {\n",
    "        'num_clusters': len(cluster_distribution),\n",
    "        'cluster_distribution': cluster_distribution,\n",
    "        'largest_cluster': max(cluster_distribution.values()),\n",
    "        'smallest_cluster': min(cluster_distribution.values())\n",
    "    }\n",
    "    \n",
    "    # Diversity metrics\n",
    "    assigned_students = students_df[students_df['group'] > 0]\n",
    "    report['diversity_metrics'] = {\n",
    "        'avg_moyenne_range': round(assigned_students['moyenne'].max() - assigned_students['moyenne'].min(), 2),\n",
    "        'unique_specializations': len(assigned_students['specialization'].unique()),\n",
    "        'unique_programming_languages': len(assigned_students['preferred_programming_language'].unique()),\n",
    "        'unique_learning_styles': len(assigned_students['primary_learning_style'].unique()),\n",
    "        'skill_score_ranges': {}\n",
    "    }\n",
    "    \n",
    "    # Skill score ranges\n",
    "    skill_cols = [col for col in students_df.columns if col.endswith('_score')]\n",
    "    for skill in skill_cols:\n",
    "        skill_name = skill.replace('_score', '')\n",
    "        report['diversity_metrics']['skill_score_ranges'][skill_name] = {\n",
    "            'min': round(assigned_students[skill].min(), 2),\n",
    "            'max': round(assigned_students[skill].max(), 2),\n",
    "            'range': round(assigned_students[skill].max() - assigned_students[skill].min(), 2)\n",
    "        }\n",
    "    \n",
    "    # Group details\n",
    "    for group_id in sorted(assigned_students['group'].unique()):\n",
    "        group_data = assigned_students[assigned_students['group'] == group_id]\n",
    "        \n",
    "        group_detail = {\n",
    "            'group_id': group_id,\n",
    "            'size': len(group_data),\n",
    "            'students': group_data['student_id'].tolist(),\n",
    "            'clusters_represented': len(group_data['cluster'].unique()),\n",
    "            'specializations': group_data['specialization'].unique().tolist(),\n",
    "            'programming_languages': group_data['preferred_programming_language'].unique().tolist(),\n",
    "            'avg_moyenne': round(group_data['moyenne'].mean(), 2),\n",
    "            'skill_averages': {}\n",
    "        }\n",
    "        \n",
    "        for skill in skill_cols:\n",
    "            skill_name = skill.replace('_score', '')\n",
    "            group_detail['skill_averages'][skill_name] = round(group_data[skill].mean(), 2)\n",
    "        \n",
    "        report['group_details'].append(group_detail)\n",
    "    \n",
    "    return report\n",
    "\n",
    "# Export results for web application\n",
    "print(\"💾 Exporting Results for Web Application Integration...\")\n",
    "\n",
    "# Export group assignments\n",
    "exported_data = export_group_assignments(students_with_groups, 'data/student_group_assignments.csv')\n",
    "\n",
    "# Generate summary report\n",
    "summary_report = generate_group_summary_report(students_with_groups)\n",
    "\n",
    "print(f\"\\n📋 Summary Report:\")\n",
    "print(f\"Total Students: {summary_report['total_students']}\")\n",
    "print(f\"Total Groups: {summary_report['total_groups']}\")\n",
    "print(f\"Clusters Identified: {summary_report['clustering_summary']['num_clusters']}\")\n",
    "print(f\"Average Students per Group: {summary_report['total_students'] / summary_report['total_groups']:.1f}\")\n",
    "\n",
    "print(f\"\\n🎯 Diversity Achieved:\")\n",
    "print(f\"Unique Specializations: {summary_report['diversity_metrics']['unique_specializations']}\")\n",
    "print(f\"Unique Programming Languages: {summary_report['diversity_metrics']['unique_programming_languages']}\")\n",
    "print(f\"Unique Learning Styles: {summary_report['diversity_metrics']['unique_learning_styles']}\")\n",
    "print(f\"Moyenne Range per Class: {summary_report['diversity_metrics']['avg_moyenne_range']}\")\n",
    "\n",
    "print(f\"\\n📊 Sample Group Analysis:\")\n",
    "for i in range(min(3, len(summary_report['group_details']))):\n",
    "    group = summary_report['group_details'][i]\n",
    "    print(f\"\\nGroup {group['group_id']}:\")\n",
    "    print(f\"  Size: {group['size']} students\")\n",
    "    print(f\"  Clusters: {group['clusters_represented']} different clusters\")\n",
    "    print(f\"  Specializations: {group['specializations']}\")\n",
    "    print(f\"  Programming Languages: {group['programming_languages']}\")\n",
    "    print(f\"  Avg Moyenne: {group['avg_moyenne']}\")\n",
    "    print(f\"  Skill Balance: {group['skill_averages']}\")\n",
    "\n",
    "print(f\"\\n🚀 Ready for Web Application Integration!\")\n",
    "print(f\"✅ Student assessment data: Generated and validated\")\n",
    "print(f\"✅ Clustering algorithms: Implemented and tested\") \n",
    "print(f\"✅ Group formation: Automated and optimized\")\n",
    "print(f\"✅ Diversity metrics: Calculated and verified\")\n",
    "print(f\"✅ Export functionality: Available for web app\")\n",
    "print(f\"✅ Visualization tools: Ready for dashboard\")\n",
    "\n",
    "print(f\"\\n🎮 Next Steps for Gamification:\")\n",
    "print(f\"1. Integrate avatar selection system\")\n",
    "print(f\"2. Implement badge and achievement tracking\")\n",
    "print(f\"3. Create group challenge and collaboration features\")\n",
    "print(f\"4. Add real-time progress visualization\")\n",
    "print(f\"5. Build instructor dashboard for monitoring\")\n",
    "\n",
    "# Save the processed data\n",
    "students_with_groups.to_csv('data/complete_student_analysis.csv', index=False)\n",
    "print(f\"\\n💾 Complete analysis saved to: data/complete_student_analysis.csv\")"
   ]
  }
 ],
 "metadata": {
  "kernelspec": {
   "display_name": "base",
   "language": "python",
   "name": "python3"
  },
  "language_info": {
   "codemirror_mode": {
    "name": "ipython",
    "version": 3
   },
   "file_extension": ".py",
   "mimetype": "text/x-python",
   "name": "python",
   "nbconvert_exporter": "python",
   "pygments_lexer": "ipython3",
   "version": "3.12.7"
  }
 },
 "nbformat": 4,
 "nbformat_minor": 4
}
