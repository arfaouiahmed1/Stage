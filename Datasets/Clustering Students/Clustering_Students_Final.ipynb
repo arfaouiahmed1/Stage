{
 "cells": [
  {
   "cell_type": "markdown",
   "metadata": {},
   "source": [
    "# Project: A Competitive Analysis of Clustering Models for Student Team Formation (Enhanced)\n",
    "## CRISP-DM Methodology"
   ]
  },
  {
   "cell_type": "markdown",
   "metadata": {},
   "source": [
    "### 1. Business Understanding\n",
    "The primary business objective is to develop a data-driven method for forming balanced, effective student teams of a fixed size (6 members). The success of a team is predicated on a balanced distribution of key skills: hard skills, soft skills, teamwork, and creativity. This project will deliver a comprehensive workflow that not only clusters students based on these skills but also provides a practical tool for team formation within any given class."
   ]
  },
  {
   "cell_type": "markdown",
   "metadata": {},
   "source": [
    "### 2. Data Understanding\n",
    "We will begin by generating and exploring a synthetic dataset that mirrors a real-world student population, with specific rules for class naming and size. This allows us to evaluate our unsupervised clustering models on a more realistic dataset."
   ]
  },
  {
   "cell_type": "code",
   "execution_count": 79,
   "metadata": {},
   "outputs": [
    {
     "name": "stdout",
     "output_type": "stream",
     "text": [
      "Generating a dataset (3,600 students)...\n",
      "SUCCESS: Data generated and split into 'students_train.csv' and 'students_test.csv'\n",
      "\n",
      "--- Class Size Distribution ---\n"
     ]
    },
    {
     "data": {
      "text/plain": [
       "count    114.000000\n",
       "mean      31.578947\n",
       "std        6.472398\n",
       "min       25.000000\n",
       "25%       28.000000\n",
       "50%       31.000000\n",
       "75%       33.750000\n",
       "max       65.000000\n",
       "Name: count, dtype: float64"
      ]
     },
     "metadata": {},
     "output_type": "display_data"
    },
    {
     "data": {
      "text/html": [
       "<div>\n",
       "<style scoped>\n",
       "    .dataframe tbody tr th:only-of-type {\n",
       "        vertical-align: middle;\n",
       "    }\n",
       "\n",
       "    .dataframe tbody tr th {\n",
       "        vertical-align: top;\n",
       "    }\n",
       "\n",
       "    .dataframe thead th {\n",
       "        text-align: right;\n",
       "    }\n",
       "</style>\n",
       "<table border=\"1\" class=\"dataframe\">\n",
       "  <thead>\n",
       "    <tr style=\"text-align: right;\">\n",
       "      <th></th>\n",
       "      <th>first_name</th>\n",
       "      <th>last_name</th>\n",
       "      <th>hard_skills</th>\n",
       "      <th>soft_skills</th>\n",
       "      <th>teamwork</th>\n",
       "      <th>creativity</th>\n",
       "      <th>class</th>\n",
       "    </tr>\n",
       "  </thead>\n",
       "  <tbody>\n",
       "    <tr>\n",
       "      <th>3281</th>\n",
       "      <td>Dorra</td>\n",
       "      <td>Ben Ali</td>\n",
       "      <td>3.39</td>\n",
       "      <td>4.59</td>\n",
       "      <td>4.96</td>\n",
       "      <td>3.07</td>\n",
       "      <td>2P84</td>\n",
       "    </tr>\n",
       "    <tr>\n",
       "      <th>2383</th>\n",
       "      <td>Hela</td>\n",
       "      <td>Chebbi</td>\n",
       "      <td>2.64</td>\n",
       "      <td>1.22</td>\n",
       "      <td>3.01</td>\n",
       "      <td>2.69</td>\n",
       "      <td>3B31</td>\n",
       "    </tr>\n",
       "    <tr>\n",
       "      <th>2009</th>\n",
       "      <td>Rania</td>\n",
       "      <td>Slimani</td>\n",
       "      <td>0.30</td>\n",
       "      <td>1.31</td>\n",
       "      <td>3.15</td>\n",
       "      <td>0.01</td>\n",
       "      <td>2A57</td>\n",
       "    </tr>\n",
       "    <tr>\n",
       "      <th>2114</th>\n",
       "      <td>Adel</td>\n",
       "      <td>Chebbi</td>\n",
       "      <td>4.34</td>\n",
       "      <td>2.76</td>\n",
       "      <td>4.92</td>\n",
       "      <td>1.16</td>\n",
       "      <td>3B82</td>\n",
       "    </tr>\n",
       "    <tr>\n",
       "      <th>1128</th>\n",
       "      <td>Haythem</td>\n",
       "      <td>Ferjani</td>\n",
       "      <td>4.60</td>\n",
       "      <td>2.16</td>\n",
       "      <td>3.40</td>\n",
       "      <td>2.65</td>\n",
       "      <td>3B15</td>\n",
       "    </tr>\n",
       "  </tbody>\n",
       "</table>\n",
       "</div>"
      ],
      "text/plain": [
       "     first_name last_name  hard_skills  soft_skills  teamwork  creativity  \\\n",
       "3281      Dorra   Ben Ali         3.39         4.59      4.96        3.07   \n",
       "2383       Hela    Chebbi         2.64         1.22      3.01        2.69   \n",
       "2009      Rania   Slimani         0.30         1.31      3.15        0.01   \n",
       "2114       Adel    Chebbi         4.34         2.76      4.92        1.16   \n",
       "1128    Haythem   Ferjani         4.60         2.16      3.40        2.65   \n",
       "\n",
       "     class  \n",
       "3281  2P84  \n",
       "2383  3B31  \n",
       "2009  2A57  \n",
       "2114  3B82  \n",
       "1128  3B15  "
      ]
     },
     "metadata": {},
     "output_type": "display_data"
    }
   ],
   "source": [
    "import pandas as pd\n",
    "import numpy as np\n",
    "import random\n",
    "import os\n",
    "import itertools\n",
    "from sklearn.model_selection import train_test_split\n",
    "import plotly.express as px\n",
    "import plotly.graph_objects as go\n",
    "from sklearn.preprocessing import StandardScaler\n",
    "from sklearn.cluster import KMeans, DBSCAN, AgglomerativeClustering\n",
    "from sklearn.mixture import GaussianMixture\n",
    "from sklearn.decomposition import PCA\n",
    "from sklearn.metrics import silhouette_score, calinski_harabasz_score, davies_bouldin_score\n",
    "from k_means_constrained import KMeansConstrained\n",
    "import warnings\n",
    "warnings.filterwarnings('ignore')\n",
    "\n",
    "print(\"Generating a dataset (3,600 students)...\")\n",
    "\n",
    "# --- Configuration & Setup ---\n",
    "NUM_STUDENTS = 3600\n",
    "BASE_PATH = os.path.join(\"Datasets\", \"Clustering Students\", \"clustering_students\")\n",
    "TRAIN_FILE = \"students_train.csv\"\n",
    "TEST_FILE = \"students_test.csv\"\n",
    "os.makedirs(BASE_PATH, exist_ok=True)\n",
    "\n",
    "# --- Enhanced Data Generation ---\n",
    "FIRST_NAMES = ['Ahmed', 'Mohamed', 'Youssef', 'Ali', 'Omar', 'Karim', 'Sami', 'Hedi', 'Fares', 'Mehdi', 'Amine', 'Walid', 'Zied', 'Anis', 'Nabil', 'Skander', 'Ghassen', 'Rami', 'Wassim', 'Iheb', 'Hatem', 'Foued', 'Lotfi', 'Mourad', 'Adel', 'Bechir', 'Tarek', 'Sofiene', 'Nizar', 'Ismail', 'Aymen', 'Marwen', 'Oussama', 'Khalil', 'Hamza', 'Haythem', 'Bilel', 'Chokri', 'Fethi', 'Hichem', 'Fatma', 'Amina', 'Mariem', 'Sarra', 'Nour', 'Salma', 'Yasmine', 'Rania', 'Chaima', 'Emna', 'Ines', 'Asma', 'Hiba', 'Khadija', 'Lina', 'Dorra', 'Manel', 'Wided', 'Oumaima', 'Farah', 'Leila', 'Hend', 'Amel', 'Nadia', 'Sonia', 'Mouna', 'Samira', 'Rim', 'Meriem', 'Siwar', 'Cyrine', 'Eya', 'Ghada', 'Lobna', 'Olfa', 'Rym', 'Sabrine', 'Wafa', 'Zaineb', 'Hela']\n",
    "LAST_NAMES = ['Trabelsi', 'Ghanouchi', 'Ben Ali', 'Mejri', 'Jaziri', 'Chebbi', 'Toumi', 'Bouazizi', 'Haddad', 'Slimani', 'Khemiri', 'Maaloul', 'Abidi', 'Cherif', 'Baccouche', 'Mabrouk', 'Jebali', 'Saidi', 'Guettari', 'Zouari', 'Khlifi', 'Ayari', 'Hamdi', 'Ammar', 'Chouchene', 'Mansour', 'Belkhir', 'Jlassi', 'Ben Salah', 'Driss', 'Fourati', 'Gharbi', 'Karoui', 'Lahmar', 'Makni', 'Nasri', 'Rekik', 'Sassi', 'Turki', 'Zayani', 'Ben Amor', 'Chaabane', 'Ferjani', 'Kanzari', 'Miled']\n",
    "\n",
    "SPECIALTIES_BY_YEAR = {\n",
    "    '1': ['A'],\n",
    "    '2': ['A', 'P'],\n",
    "    '3': ['A', 'B'],\n",
    "    '4': ['DS', 'ARCTIC', 'SIM', 'TWIN', 'NIDS', 'INFINI', 'BI', 'SAE', 'GAMIX', 'IOSYS', 'SE', 'SLEAM'],\n",
    "    '5': ['DS', 'ARCTIC', 'SIM', 'TWIN', 'NIDS', 'INFINI', 'BI', 'SAE', 'GAMIX', 'IOSYS', 'SE', 'SLEAM']\n",
    "}\n",
    "\n",
    "def generate_class_name(year):\n",
    "    specialty = random.choice(SPECIALTIES_BY_YEAR[year])\n",
    "    return f'{year}{specialty}{random.randint(1, 100)}'\n",
    "\n",
    "# Generate a list of classes, ensuring we have enough for the students\n",
    "num_classes = int(NUM_STUDENTS / 30) # Aim for an average of 30 students per class\n",
    "all_generated_classes = []\n",
    "for _ in range(num_classes):\n",
    "    year = random.choice(list(SPECIALTIES_BY_YEAR.keys()))\n",
    "    all_generated_classes.append(generate_class_name(year))\n",
    "all_generated_classes = list(set(all_generated_classes)) # Ensure unique class names\n",
    "\n",
    "# Generate students\n",
    "all_possible_names = list(itertools.product(FIRST_NAMES, LAST_NAMES)); random.shuffle(all_possible_names)\n",
    "unique_names_sample = all_possible_names[:NUM_STUDENTS]\n",
    "student_data = []\n",
    "for first_name, last_name in unique_names_sample:\n",
    "    scores = {\n",
    "        'hard_skills': np.random.uniform(0, 5),\n",
    "        'soft_skills': np.random.uniform(0, 5),\n",
    "        'teamwork': np.random.uniform(0, 5),\n",
    "        'creativity': np.random.uniform(0, 5)\n",
    "    }\n",
    "    student_data.append({'first_name': first_name, 'last_name': last_name, **{k: round(v, 2) for k, v in scores.items()}})\n",
    "\n",
    "full_df = pd.DataFrame(student_data)\n",
    "\n",
    "# Assign students to classes, respecting size constraints\n",
    "class_assignments = []\n",
    "student_indices = list(range(NUM_STUDENTS))\n",
    "random.shuffle(student_indices)\n",
    "class_idx = 0\n",
    "while student_indices:\n",
    "    class_size = random.randint(25, 35)\n",
    "    current_class_name = all_generated_classes[class_idx % len(all_generated_classes)]\n",
    "    \n",
    "    # Take a slice of students for the current class\n",
    "    assigned_student_indices = student_indices[:class_size]\n",
    "    student_indices = student_indices[class_size:]\n",
    "    \n",
    "    for i in assigned_student_indices:\n",
    "        class_assignments.append(current_class_name)\n",
    "    \n",
    "    class_idx += 1\n",
    "    # If we run out of unique classes, just cycle through them\n",
    "    if not student_indices and len(class_assignments) < NUM_STUDENTS:\n",
    "        # Assign remaining students to the last class if it's a small number\n",
    "        remaining_count = NUM_STUDENTS - len(class_assignments)\n",
    "        class_assignments.extend([current_class_name] * remaining_count)\n",
    "\n",
    "full_df['class'] = class_assignments[:NUM_STUDENTS]\n",
    "\n",
    "# --- Data Splitting ---\n",
    "train_df, test_df = train_test_split(full_df, test_size=0.2, random_state=42)\n",
    "train_df.to_csv(os.path.join(BASE_PATH, TRAIN_FILE), index=False)\n",
    "test_df.to_csv(os.path.join(BASE_PATH, TEST_FILE), index=False)\n",
    "\n",
    "print(f\"SUCCESS: Data generated and split into '{TRAIN_FILE}' and '{TEST_FILE}'\")\n",
    "print(\"\\n--- Class Size Distribution ---\")\n",
    "display(full_df['class'].value_counts().describe())\n",
    "display(train_df.head())"
   ]
  },
  {
   "cell_type": "markdown",
   "metadata": {},
   "source": [
    "## Approach 1: Enhanced Similarity-Based Clustering"
   ]
  },
  {
   "cell_type": "markdown",
   "metadata": {},
   "source": [
    "### 3. Data Preparation"
   ]
  },
  {
   "cell_type": "code",
   "execution_count": 80,
   "metadata": {},
   "outputs": [],
   "source": [
    "df = pd.read_csv(os.path.join(BASE_PATH, TRAIN_FILE))\n",
    "features = ['hard_skills', 'soft_skills', 'teamwork', 'creativity']\n",
    "X = df[features]\n",
    "\n",
    "# Standardize the features\n",
    "scaler = StandardScaler()\n",
    "X_scaled = scaler.fit_transform(X)"
   ]
  },
  {
   "cell_type": "markdown",
   "metadata": {},
   "source": [
    "### 4. Modeling"
   ]
  },
  {
   "cell_type": "code",
   "execution_count": 81,
   "metadata": {},
   "outputs": [
    {
     "name": "stdout",
     "output_type": "stream",
     "text": [
      "Optimal number of clusters (k): 2\n"
     ]
    }
   ],
   "source": [
    "def get_optimal_k(X_scaled, max_k=10):\n",
    "    \"\"\"Determine the optimal number of clusters (k) using the Elbow method.\"\"\"\n",
    "    wcss = []\n",
    "    for i in range(1, max_k + 1):\n",
    "        kmeans = KMeans(n_clusters=i, init='k-means++', random_state=42, n_init=10)\n",
    "        kmeans.fit(X_scaled)\n",
    "        wcss.append(kmeans.inertia_)\n",
    "    \n",
    "    # Find the elbow point\n",
    "    try:\n",
    "        # Calculate the differences between consecutive WCSS values\n",
    "        deltas = np.diff(wcss, 2)\n",
    "        optimal_k = np.argmax(deltas) + 2  # Add 2 to get the correct k value\n",
    "    except ValueError:\n",
    "        optimal_k = 4 # Default value\n",
    "        \n",
    "    return optimal_k\n",
    "\n",
    "optimal_k = get_optimal_k(X_scaled)\n",
    "print(f\"Optimal number of clusters (k): {optimal_k}\")"
   ]
  },
  {
   "cell_type": "code",
   "execution_count": 82,
   "metadata": {},
   "outputs": [],
   "source": [
    "# Train the models\n",
    "kmeans = KMeans(n_clusters=optimal_k, random_state=42, n_init=10)\n",
    "gmm = GaussianMixture(n_components=optimal_k, random_state=42)\n",
    "dbscan = DBSCAN(eps=0.5, min_samples=5)\n",
    "\n",
    "df['kmeans_cluster'] = kmeans.fit_predict(X_scaled)\n",
    "df['gmm_cluster'] = gmm.fit_predict(X_scaled)\n",
    "df['dbscan_cluster'] = dbscan.fit_predict(X_scaled)"
   ]
  },
  {
   "cell_type": "markdown",
   "metadata": {},
   "source": [
    "### 5. Evaluation"
   ]
  },
  {
   "cell_type": "code",
   "execution_count": 83,
   "metadata": {},
   "outputs": [
    {
     "data": {
      "text/html": [
       "<div>\n",
       "<style scoped>\n",
       "    .dataframe tbody tr th:only-of-type {\n",
       "        vertical-align: middle;\n",
       "    }\n",
       "\n",
       "    .dataframe tbody tr th {\n",
       "        vertical-align: top;\n",
       "    }\n",
       "\n",
       "    .dataframe thead th {\n",
       "        text-align: right;\n",
       "    }\n",
       "</style>\n",
       "<table border=\"1\" class=\"dataframe\">\n",
       "  <thead>\n",
       "    <tr style=\"text-align: right;\">\n",
       "      <th></th>\n",
       "      <th>Model</th>\n",
       "      <th>Silhouette</th>\n",
       "      <th>Calinski-Harabasz</th>\n",
       "      <th>Davies-Bouldin</th>\n",
       "    </tr>\n",
       "  </thead>\n",
       "  <tbody>\n",
       "    <tr>\n",
       "      <th>0</th>\n",
       "      <td>KMeans</td>\n",
       "      <td>0.186495</td>\n",
       "      <td>675.269245</td>\n",
       "      <td>1.997634</td>\n",
       "    </tr>\n",
       "    <tr>\n",
       "      <th>1</th>\n",
       "      <td>GMM</td>\n",
       "      <td>0.183486</td>\n",
       "      <td>663.182089</td>\n",
       "      <td>2.018436</td>\n",
       "    </tr>\n",
       "    <tr>\n",
       "      <th>2</th>\n",
       "      <td>DBSCAN</td>\n",
       "      <td>-0.364808</td>\n",
       "      <td>9.814723</td>\n",
       "      <td>3.895268</td>\n",
       "    </tr>\n",
       "  </tbody>\n",
       "</table>\n",
       "</div>"
      ],
      "text/plain": [
       "    Model  Silhouette  Calinski-Harabasz  Davies-Bouldin\n",
       "0  KMeans    0.186495         675.269245        1.997634\n",
       "1     GMM    0.183486         663.182089        2.018436\n",
       "2  DBSCAN   -0.364808           9.814723        3.895268"
      ]
     },
     "metadata": {},
     "output_type": "display_data"
    }
   ],
   "source": [
    "def evaluate_clustering(X_scaled, labels, model_name):\n",
    "    \"\"\"Evaluate clustering performance using multiple metrics.\"\"\"\n",
    "    if len(set(labels)) > 1:\n",
    "        silhouette = silhouette_score(X_scaled, labels)\n",
    "        calinski = calinski_harabasz_score(X_scaled, labels)\n",
    "        davies = davies_bouldin_score(X_scaled, labels)\n",
    "    else:\n",
    "        silhouette, calinski, davies = -1, -1, -1 # Invalid for single cluster\n",
    "        \n",
    "    return {'Model': model_name, 'Silhouette': silhouette, 'Calinski-Harabasz': calinski, 'Davies-Bouldin': davies}\n",
    "\n",
    "kmeans_eval = evaluate_clustering(X_scaled, df['kmeans_cluster'], 'KMeans')\n",
    "gmm_eval = evaluate_clustering(X_scaled, df['gmm_cluster'], 'GMM')\n",
    "dbscan_eval = evaluate_clustering(X_scaled, df['dbscan_cluster'], 'DBSCAN')\n",
    "\n",
    "evaluation_df = pd.DataFrame([kmeans_eval, gmm_eval, dbscan_eval])\n",
    "display(evaluation_df)"
   ]
  },
  {
   "cell_type": "markdown",
   "metadata": {},
   "source": [
    "## Approach 2: Complementary-Skill-Based Grouping"
   ]
  },
  {
   "cell_type": "code",
   "execution_count": 84,
   "metadata": {},
   "outputs": [],
   "source": [
    "def create_balanced_groups(df, features, group_size=6):\n",
    "    \"\"\"Create balanced groups based on complementary skills.\"\"\"\n",
    "    df_copy = df.copy()\n",
    "    df_copy['group'] = -1\n",
    "    \n",
    "    # Calculate a composite score for each student\n",
    "    df_copy['composite_score'] = df_copy[features].sum(axis=1)\n",
    "    df_copy = df_copy.sort_values(by='composite_score', ascending=False)\n",
    "    \n",
    "    num_groups = len(df) // group_size\n",
    "    groups = [[] for _ in range(num_groups)]\n",
    "    \n",
    "    # Distribute students into groups in a serpentine manner\n",
    "    for i, student_idx in enumerate(df_copy.index):\n",
    "        group_idx = i % num_groups\n",
    "        groups[group_idx].append(student_idx)\n",
    "        \n",
    "    # Assign group numbers to the dataframe\n",
    "    for i, group in enumerate(groups):\n",
    "        df_copy.loc[group, 'group'] = i\n",
    "        \n",
    "    return df_copy\n",
    "\n",
    "balanced_df = create_balanced_groups(df, features)\n",
    "df['balanced_group'] = balanced_df['group']"
   ]
  },
  {
   "cell_type": "markdown",
   "metadata": {},
   "source": [
    "### Comparison of Approaches"
   ]
  },
  {
   "cell_type": "code",
   "execution_count": 85,
   "metadata": {},
   "outputs": [
    {
     "data": {
      "application/vnd.plotly.v1+json": {
       "config": {
        "plotlyServerURL": "https://plot.ly"
       },
       "data": [
        {
         "hovertemplate": "pca1=%{x}<br>pca2=%{y}<br>kmeans_cluster=%{marker.color}<extra></extra>",
         "legendgroup": "",
         "marker": {
          "color": {
           "bdata": "AAAAAAEAAAABAAAAAAAAAAEAAAABAAAAAQAAAAAAAAAAAAAAAAAAAAEAAAABAAAAAQAAAAEAAAABAAAAAAAAAAEAAAAAAAAAAAAAAAAAAAABAAAAAAAAAAEAAAABAAAAAAAAAAEAAAAAAAAAAAAAAAAAAAAAAAAAAQAAAAAAAAABAAAAAAAAAAAAAAABAAAAAQAAAAEAAAABAAAAAQAAAAEAAAABAAAAAAAAAAAAAAABAAAAAAAAAAEAAAAAAAAAAQAAAAAAAAAAAAAAAAAAAAAAAAABAAAAAQAAAAEAAAAAAAAAAAAAAAEAAAABAAAAAAAAAAEAAAABAAAAAAAAAAEAAAAAAAAAAAAAAAAAAAAAAAAAAAAAAAAAAAAAAAAAAQAAAAAAAAABAAAAAQAAAAAAAAAAAAAAAQAAAAEAAAAAAAAAAAAAAAAAAAAAAAAAAAAAAAEAAAABAAAAAAAAAAEAAAABAAAAAAAAAAEAAAABAAAAAQAAAAAAAAAAAAAAAQAAAAAAAAAAAAAAAAAAAAEAAAABAAAAAAAAAAAAAAABAAAAAAAAAAAAAAABAAAAAAAAAAEAAAAAAAAAAQAAAAEAAAAAAAAAAQAAAAEAAAAAAAAAAAAAAAEAAAAAAAAAAAAAAAAAAAAAAAAAAQAAAAEAAAABAAAAAAAAAAAAAAABAAAAAAAAAAEAAAAAAAAAAQAAAAAAAAAAAAAAAAAAAAAAAAAAAAAAAAAAAAEAAAAAAAAAAAAAAAAAAAAAAAAAAAAAAAAAAAAAAAAAAAAAAAAAAAAAAAAAAAAAAAEAAAABAAAAAQAAAAAAAAABAAAAAAAAAAAAAAABAAAAAAAAAAEAAAAAAAAAAAAAAAAAAAAAAAAAAAAAAAEAAAAAAAAAAAAAAAAAAAAAAAAAAQAAAAEAAAABAAAAAQAAAAEAAAABAAAAAAAAAAAAAAABAAAAAQAAAAEAAAAAAAAAAQAAAAEAAAABAAAAAQAAAAEAAAAAAAAAAAAAAAAAAAABAAAAAAAAAAAAAAABAAAAAAAAAAEAAAABAAAAAAAAAAEAAAAAAAAAAQAAAAAAAAAAAAAAAQAAAAEAAAAAAAAAAAAAAAEAAAAAAAAAAQAAAAAAAAABAAAAAQAAAAAAAAABAAAAAQAAAAEAAAAAAAAAAQAAAAAAAAABAAAAAAAAAAEAAAAAAAAAAQAAAAAAAAABAAAAAAAAAAAAAAAAAAAAAQAAAAEAAAAAAAAAAQAAAAAAAAAAAAAAAQAAAAEAAAAAAAAAAQAAAAAAAAAAAAAAAQAAAAEAAAAAAAAAAAAAAAAAAAAAAAAAAAAAAAEAAAABAAAAAQAAAAAAAAAAAAAAAQAAAAEAAAABAAAAAQAAAAEAAAAAAAAAAAAAAAEAAAAAAAAAAAAAAAAAAAAAAAAAAAAAAAAAAAABAAAAAQAAAAAAAAAAAAAAAQAAAAAAAAABAAAAAQAAAAEAAAAAAAAAAAAAAAAAAAABAAAAAQAAAAAAAAABAAAAAAAAAAAAAAAAAAAAAAAAAAAAAAABAAAAAAAAAAEAAAAAAAAAAAAAAAAAAAABAAAAAAAAAAEAAAAAAAAAAAAAAAEAAAAAAAAAAQAAAAEAAAABAAAAAQAAAAEAAAAAAAAAAAAAAAAAAAABAAAAAQAAAAEAAAABAAAAAAAAAAEAAAABAAAAAAAAAAAAAAAAAAAAAAAAAAEAAAABAAAAAQAAAAAAAAAAAAAAAQAAAAAAAAABAAAAAQAAAAAAAAABAAAAAQAAAAAAAAAAAAAAAQAAAAAAAAABAAAAAQAAAAAAAAAAAAAAAAAAAAAAAAABAAAAAAAAAAEAAAABAAAAAQAAAAAAAAABAAAAAAAAAAAAAAABAAAAAAAAAAEAAAAAAAAAAAAAAAAAAAABAAAAAQAAAAEAAAAAAAAAAQAAAAEAAAABAAAAAQAAAAAAAAAAAAAAAAAAAAAAAAABAAAAAAAAAAEAAAABAAAAAAAAAAEAAAABAAAAAAAAAAAAAAAAAAAAAAAAAAEAAAABAAAAAQAAAAEAAAAAAAAAAAAAAAEAAAABAAAAAAAAAAAAAAAAAAAAAAAAAAAAAAAAAAAAAAAAAAEAAAAAAAAAAQAAAAAAAAABAAAAAAAAAAEAAAABAAAAAAAAAAEAAAAAAAAAAAAAAAEAAAAAAAAAAAAAAAAAAAAAAAAAAAAAAAEAAAABAAAAAQAAAAAAAAAAAAAAAQAAAAEAAAAAAAAAAAAAAAEAAAAAAAAAAQAAAAEAAAABAAAAAQAAAAAAAAAAAAAAAAAAAAEAAAABAAAAAQAAAAAAAAABAAAAAQAAAAAAAAABAAAAAQAAAAAAAAABAAAAAAAAAAEAAAABAAAAAQAAAAEAAAAAAAAAAAAAAAAAAAAAAAAAAQAAAAAAAAABAAAAAQAAAAEAAAABAAAAAQAAAAEAAAAAAAAAAQAAAAEAAAABAAAAAQAAAAEAAAAAAAAAAAAAAAAAAAABAAAAAAAAAAAAAAABAAAAAQAAAAAAAAAAAAAAAQAAAAEAAAABAAAAAQAAAAAAAAAAAAAAAAAAAAEAAAABAAAAAAAAAAEAAAAAAAAAAQAAAAEAAAABAAAAAAAAAAEAAAABAAAAAAAAAAEAAAABAAAAAQAAAAEAAAABAAAAAQAAAAEAAAAAAAAAAQAAAAAAAAAAAAAAAAAAAAEAAAABAAAAAQAAAAAAAAAAAAAAAAAAAAAAAAABAAAAAQAAAAEAAAAAAAAAAAAAAAAAAAABAAAAAQAAAAEAAAAAAAAAAQAAAAEAAAAAAAAAAAAAAAAAAAAAAAAAAAAAAAEAAAABAAAAAQAAAAAAAAABAAAAAQAAAAEAAAAAAAAAAAAAAAAAAAAAAAAAAAAAAAAAAAABAAAAAQAAAAEAAAAAAAAAAQAAAAEAAAAAAAAAAQAAAAEAAAABAAAAAAAAAAAAAAABAAAAAAAAAAAAAAABAAAAAQAAAAEAAAAAAAAAAQAAAAEAAAAAAAAAAQAAAAAAAAABAAAAAQAAAAAAAAAAAAAAAQAAAAEAAAAAAAAAAQAAAAEAAAAAAAAAAAAAAAEAAAABAAAAAAAAAAAAAAABAAAAAAAAAAEAAAABAAAAAQAAAAEAAAAAAAAAAQAAAAEAAAABAAAAAQAAAAEAAAAAAAAAAQAAAAAAAAAAAAAAAAAAAAEAAAABAAAAAQAAAAAAAAABAAAAAQAAAAAAAAAAAAAAAQAAAAAAAAAAAAAAAAAAAAAAAAAAAAAAAAAAAAEAAAABAAAAAAAAAAEAAAAAAAAAAAAAAAAAAAAAAAAAAAAAAAEAAAABAAAAAQAAAAEAAAABAAAAAAAAAAEAAAAAAAAAAQAAAAEAAAABAAAAAAAAAAAAAAAAAAAAAAAAAAAAAAABAAAAAQAAAAEAAAAAAAAAAQAAAAEAAAAAAAAAAQAAAAAAAAAAAAAAAQAAAAAAAAABAAAAAAAAAAEAAAABAAAAAQAAAAAAAAAAAAAAAAAAAAAAAAABAAAAAAAAAAAAAAABAAAAAQAAAAEAAAAAAAAAAAAAAAEAAAABAAAAAQAAAAEAAAAAAAAAAAAAAAEAAAAAAAAAAAAAAAEAAAABAAAAAQAAAAEAAAAAAAAAAQAAAAEAAAAAAAAAAQAAAAEAAAABAAAAAQAAAAAAAAABAAAAAAAAAAEAAAAAAAAAAQAAAAEAAAABAAAAAAAAAAEAAAABAAAAAQAAAAAAAAABAAAAAAAAAAEAAAAAAAAAAAAAAAEAAAABAAAAAQAAAAAAAAAAAAAAAAAAAAAAAAABAAAAAAAAAAEAAAABAAAAAAAAAAAAAAABAAAAAQAAAAAAAAABAAAAAQAAAAEAAAAAAAAAAQAAAAAAAAAAAAAAAQAAAAEAAAABAAAAAQAAAAEAAAAAAAAAAAAAAAEAAAAAAAAAAQAAAAAAAAAAAAAAAAAAAAEAAAABAAAAAQAAAAAAAAAAAAAAAQAAAAEAAAAAAAAAAAAAAAEAAAAAAAAAAQAAAAEAAAABAAAAAQAAAAAAAAAAAAAAAAAAAAEAAAAAAAAAAQAAAAAAAAABAAAAAQAAAAAAAAABAAAAAQAAAAAAAAABAAAAAAAAAAAAAAAAAAAAAAAAAAEAAAAAAAAAAQAAAAAAAAAAAAAAAQAAAAEAAAAAAAAAAQAAAAEAAAAAAAAAAQAAAAEAAAAAAAAAAQAAAAAAAAABAAAAAAAAAAEAAAABAAAAAQAAAAEAAAAAAAAAAQAAAAAAAAABAAAAAQAAAAAAAAAAAAAAAQAAAAEAAAABAAAAAAAAAAAAAAAAAAAAAQAAAAAAAAABAAAAAAAAAAAAAAABAAAAAQAAAAAAAAAAAAAAAQAAAAEAAAABAAAAAAAAAAAAAAABAAAAAQAAAAEAAAABAAAAAAAAAAEAAAAAAAAAAQAAAAEAAAAAAAAAAQAAAAEAAAABAAAAAAAAAAEAAAAAAAAAAQAAAAAAAAABAAAAAAAAAAEAAAABAAAAAAAAAAAAAAAAAAAAAQAAAAEAAAABAAAAAAAAAAEAAAABAAAAAQAAAAAAAAAAAAAAAQAAAAEAAAAAAAAAAQAAAAEAAAABAAAAAAAAAAEAAAAAAAAAAQAAAAEAAAABAAAAAAAAAAAAAAAAAAAAAAAAAAAAAAAAAAAAAQAAAAAAAAAAAAAAAAAAAAAAAAABAAAAAQAAAAEAAAABAAAAAAAAAAEAAAABAAAAAQAAAAAAAAAAAAAAAQAAAAEAAAABAAAAAQAAAAAAAAAAAAAAAAAAAAEAAAABAAAAAQAAAAEAAAAAAAAAAQAAAAAAAAAAAAAAAAAAAAAAAAAAAAAAAAAAAAEAAAAAAAAAAAAAAAEAAAABAAAAAAAAAAEAAAAAAAAAAAAAAAEAAAABAAAAAQAAAAEAAAAAAAAAAQAAAAAAAAAAAAAAAQAAAAAAAAAAAAAAAQAAAAAAAAABAAAAAAAAAAEAAAABAAAAAQAAAAEAAAABAAAAAQAAAAEAAAABAAAAAQAAAAEAAAAAAAAAAAAAAAEAAAAAAAAAAAAAAAEAAAABAAAAAQAAAAAAAAABAAAAAQAAAAEAAAABAAAAAAAAAAEAAAABAAAAAQAAAAAAAAAAAAAAAQAAAAEAAAABAAAAAQAAAAAAAAAAAAAAAQAAAAAAAAAAAAAAAAAAAAEAAAAAAAAAAQAAAAAAAAAAAAAAAAAAAAAAAAABAAAAAQAAAAAAAAABAAAAAQAAAAEAAAAAAAAAAQAAAAEAAAABAAAAAQAAAAEAAAAAAAAAAQAAAAAAAAABAAAAAAAAAAAAAAABAAAAAAAAAAAAAAABAAAAAAAAAAAAAAAAAAAAAQAAAAAAAAABAAAAAQAAAAEAAAABAAAAAAAAAAAAAAAAAAAAAQAAAAEAAAABAAAAAQAAAAEAAAAAAAAAAQAAAAEAAAAAAAAAAQAAAAEAAAAAAAAAAAAAAAAAAAAAAAAAAAAAAAEAAAABAAAAAQAAAAAAAAABAAAAAAAAAAAAAAABAAAAAQAAAAAAAAAAAAAAAAAAAAAAAAABAAAAAQAAAAEAAAABAAAAAAAAAAEAAAAAAAAAAAAAAAAAAAAAAAAAAQAAAAEAAAABAAAAAQAAAAEAAAAAAAAAAAAAAAAAAAAAAAAAAQAAAAAAAAAAAAAAAAAAAAEAAAABAAAAAAAAAAEAAAABAAAAAAAAAAAAAAABAAAAAQAAAAAAAAAAAAAAAAAAAAAAAAAAAAAAAQAAAAEAAAAAAAAAAAAAAAAAAAAAAAAAAQAAAAEAAAAAAAAAAAAAAAEAAAABAAAAAAAAAAEAAAABAAAAAQAAAAEAAAAAAAAAAQAAAAAAAAABAAAAAQAAAAAAAAABAAAAAAAAAAEAAAAAAAAAAQAAAAEAAAAAAAAAAAAAAAEAAAAAAAAAAAAAAAAAAAABAAAAAQAAAAAAAAAAAAAAAAAAAAEAAAAAAAAAAAAAAAEAAAAAAAAAAQAAAAAAAAAAAAAAAAAAAAEAAAAAAAAAAQAAAAAAAAABAAAAAQAAAAEAAAAAAAAAAQAAAAEAAAABAAAAAAAAAAAAAAABAAAAAQAAAAAAAAABAAAAAQAAAAEAAAABAAAAAQAAAAAAAAABAAAAAQAAAAAAAAAAAAAAAQAAAAAAAAAAAAAAAQAAAAEAAAABAAAAAAAAAAEAAAAAAAAAAAAAAAAAAAABAAAAAAAAAAEAAAAAAAAAAQAAAAAAAAABAAAAAQAAAAAAAAAAAAAAAAAAAAEAAAAAAAAAAQAAAAAAAAABAAAAAAAAAAEAAAABAAAAAQAAAAAAAAAAAAAAAQAAAAAAAAAAAAAAAQAAAAAAAAABAAAAAQAAAAEAAAAAAAAAAAAAAAEAAAABAAAAAAAAAAEAAAAAAAAAAAAAAAEAAAABAAAAAAAAAAEAAAABAAAAAQAAAAEAAAABAAAAAAAAAAAAAAAAAAAAAQAAAAEAAAABAAAAAQAAAAEAAAAAAAAAAAAAAAAAAAAAAAAAAAAAAAEAAAABAAAAAAAAAAAAAAABAAAAAQAAAAAAAAAAAAAAAAAAAAAAAAABAAAAAAAAAAEAAAAAAAAAAQAAAAAAAAABAAAAAAAAAAAAAAAAAAAAAAAAAAEAAAABAAAAAAAAAAEAAAABAAAAAAAAAAEAAAABAAAAAQAAAAAAAAAAAAAAAAAAAAAAAAABAAAAAQAAAAAAAAABAAAAAAAAAAAAAAAAAAAAAAAAAAAAAAABAAAAAQAAAAEAAAAAAAAAAQAAAAAAAAABAAAAAAAAAAEAAAAAAAAAAAAAAAAAAAABAAAAAAAAAAEAAAABAAAAAQAAAAAAAAABAAAAAAAAAAAAAAAAAAAAAQAAAAEAAAABAAAAAAAAAAAAAAABAAAAAAAAAAEAAAABAAAAAAAAAAAAAAAAAAAAAAAAAAEAAAAAAAAAAQAAAAEAAAAAAAAAAQAAAAEAAAAAAAAAAAAAAAAAAAAAAAAAAQAAAAAAAAABAAAAAQAAAAAAAAAAAAAAAQAAAAEAAAAAAAAAAAAAAAAAAAAAAAAAAAAAAAEAAAABAAAAAQAAAAAAAAABAAAAAQAAAAEAAAAAAAAAAAAAAAEAAAABAAAAAAAAAAAAAAAAAAAAAAAAAAEAAAAAAAAAAQAAAAAAAAAAAAAAAAAAAAAAAAAAAAAAAQAAAAAAAAAAAAAAAAAAAAAAAAABAAAAAQAAAAEAAAABAAAAAQAAAAAAAAABAAAAAQAAAAEAAAABAAAAAQAAAAAAAAAAAAAAAAAAAAAAAAAAAAAAAQAAAAEAAAABAAAAAQAAAAAAAAABAAAAAQAAAAAAAAAAAAAAAAAAAAEAAAAAAAAAAAAAAAAAAAAAAAAAAQAAAAEAAAABAAAAAQAAAAAAAAAAAAAAAAAAAAEAAAAAAAAAAAAAAAAAAAABAAAAAAAAAAEAAAAAAAAAAAAAAAAAAAABAAAAAQAAAAAAAAAAAAAAAQAAAAAAAAABAAAAAAAAAAAAAAAAAAAAAQAAAAAAAAAAAAAAAQAAAAAAAAABAAAAAQAAAAAAAAAAAAAAAQAAAAAAAAAAAAAAAAAAAAAAAAAAAAAAAQAAAAAAAAABAAAAAAAAAAEAAAAAAAAAAQAAAAEAAAAAAAAAAQAAAAAAAAABAAAAAAAAAAEAAAAAAAAAAQAAAAAAAAABAAAAAQAAAAEAAAABAAAAAQAAAAAAAAAAAAAAAQAAAAEAAAABAAAAAQAAAAAAAAAAAAAAAAAAAAEAAAAAAAAAAAAAAAAAAAABAAAAAQAAAAEAAAAAAAAAAAAAAAEAAAAAAAAAAAAAAAAAAAABAAAAAQAAAAEAAAAAAAAAAQAAAAAAAAAAAAAAAQAAAAAAAAABAAAAAAAAAAEAAAAAAAAAAQAAAAAAAAAAAAAAAAAAAAAAAAABAAAAAQAAAAEAAAABAAAAAAAAAAEAAAAAAAAAAQAAAAEAAAAAAAAAAAAAAAAAAAABAAAAAQAAAAEAAAABAAAAAAAAAAEAAAABAAAAAQAAAAEAAAABAAAAAQAAAAAAAAAAAAAAAAAAAAEAAAAAAAAAAQAAAAAAAAABAAAAAAAAAAAAAAAAAAAAAQAAAAAAAAABAAAAAQAAAAEAAAAAAAAAAAAAAAEAAAABAAAAAQAAAAEAAAABAAAAAQAAAAAAAAABAAAAAQAAAAEAAAAAAAAAAAAAAAAAAAAAAAAAAAAAAAAAAAAAAAAAAQAAAAEAAAABAAAAAAAAAAAAAAAAAAAAAAAAAAAAAAABAAAAAQAAAAAAAAABAAAAAQAAAAAAAAABAAAAAAAAAAEAAAABAAAAAAAAAAEAAAABAAAAAQAAAAEAAAAAAAAAAAAAAAAAAAAAAAAAAAAAAAEAAAABAAAAAAAAAAAAAAABAAAAAAAAAAEAAAABAAAAAQAAAAEAAAAAAAAAAAAAAAAAAAAAAAAAAQAAAAAAAAABAAAAAQAAAAEAAAABAAAAAQAAAAEAAAAAAAAAAQAAAAAAAAABAAAAAQAAAAEAAAAAAAAAAAAAAAAAAAAAAAAAAAAAAAEAAAABAAAAAQAAAAEAAAAAAAAAAQAAAAAAAAAAAAAAAQAAAAAAAAAAAAAAAQAAAAEAAAABAAAAAAAAAAAAAAABAAAAAQAAAAEAAAABAAAAAAAAAAAAAAABAAAAAAAAAAAAAAAAAAAAAQAAAAAAAAABAAAAAAAAAAEAAAAAAAAAAQAAAAAAAAABAAAAAAAAAAAAAAABAAAAAAAAAAAAAAAAAAAAAQAAAAEAAAABAAAAAAAAAAEAAAABAAAAAQAAAAAAAAABAAAAAQAAAAAAAAABAAAAAAAAAAAAAAABAAAAAQAAAAAAAAABAAAAAQAAAAEAAAAAAAAAAAAAAAAAAAAAAAAAAAAAAAAAAAABAAAAAQAAAAEAAAAAAAAAAQAAAAAAAAABAAAAAQAAAAAAAAAAAAAAAAAAAAEAAAAAAAAAAAAAAAAAAAAAAAAAAAAAAAEAAAAAAAAAAQAAAAEAAAAAAAAAAAAAAAEAAAABAAAAAQAAAAAAAAAAAAAAAAAAAAEAAAAAAAAAAQAAAAAAAAAAAAAAAAAAAAAAAAABAAAAAAAAAAEAAAABAAAAAQAAAAAAAAABAAAAAAAAAAEAAAABAAAAAQAAAAAAAAAAAAAAAQAAAAEAAAAAAAAAAQAAAAAAAAABAAAAAQAAAAAAAAAAAAAAAAAAAAEAAAABAAAAAQAAAAAAAAAAAAAAAAAAAAAAAAAAAAAAAAAAAAEAAAAAAAAAAAAAAAEAAAAAAAAAAQAAAAEAAAAAAAAAAQAAAAEAAAABAAAAAAAAAAAAAAABAAAAAAAAAAAAAAAAAAAAAAAAAAAAAAAAAAAAAAAAAAAAAAABAAAAAAAAAAAAAAABAAAAAAAAAAAAAAAAAAAAAQAAAAEAAAAAAAAAAAAAAAEAAAAAAAAAAAAAAAEAAAAAAAAAAQAAAAAAAAABAAAAAQAAAAAAAAAAAAAAAQAAAAAAAAABAAAAAAAAAAEAAAAAAAAAAAAAAAEAAAAAAAAAAQAAAAAAAAAAAAAAAAAAAAAAAAABAAAAAAAAAAAAAAAAAAAAAQAAAAEAAAABAAAAAAAAAAEAAAAAAAAAAAAAAAAAAAAAAAAAAQAAAAEAAAAAAAAAAQAAAAEAAAAAAAAAAAAAAAAAAAAAAAAAAQAAAAAAAAAAAAAAAAAAAAEAAAABAAAAAAAAAAAAAAAAAAAAAAAAAAEAAAAAAAAAAQAAAAAAAAAAAAAAAAAAAAEAAAAAAAAAAQAAAAEAAAAAAAAAAQAAAAAAAAAAAAAAAAAAAAEAAAABAAAAAQAAAAAAAAAAAAAAAAAAAAAAAAABAAAAAAAAAAEAAAABAAAAAAAAAAAAAAABAAAAAQAAAAAAAAAAAAAAAAAAAAAAAAABAAAAAAAAAAAAAAAAAAAAAAAAAAEAAAAAAAAAAAAAAAEAAAAAAAAAAAAAAAEAAAABAAAAAAAAAAAAAAAAAAAAAAAAAAEAAAAAAAAAAAAAAAEAAAAAAAAAAQAAAAAAAAAAAAAAAQAAAAEAAAAAAAAAAAAAAAEAAAABAAAAAQAAAAEAAAAAAAAAAQAAAAAAAAABAAAAAAAAAAAAAAAAAAAAAQAAAAEAAAAAAAAAAQAAAAEAAAABAAAAAAAAAAAAAAABAAAAAAAAAAEAAAAAAAAAAQAAAAEAAAABAAAAAQAAAAEAAAAAAAAAAQAAAAEAAAAAAAAAAQAAAAAAAAAAAAAAAQAAAAEAAAAAAAAAAQAAAAAAAAAAAAAAAQAAAAEAAAAAAAAAAAAAAAEAAAAAAAAAAQAAAAEAAAABAAAAAQAAAAEAAAAAAAAAAAAAAAAAAAABAAAAAAAAAAAAAAABAAAAAAAAAAAAAAABAAAAAQAAAAEAAAABAAAAAQAAAAEAAAABAAAAAAAAAAEAAAABAAAAAQAAAAAAAAABAAAAAAAAAAEAAAAAAAAAAAAAAAAAAAABAAAAAAAAAAEAAAAAAAAAAAAAAAAAAAAAAAAAAQAAAAAAAAABAAAAAAAAAAAAAAAAAAAAAQAAAAEAAAAAAAAAAQAAAAAAAAABAAAAAAAAAAEAAAAAAAAAAQAAAAEAAAAAAAAAAQAAAAEAAAABAAAAAQAAAAEAAAAAAAAAAAAAAAEAAAAAAAAAAAAAAAEAAAAAAAAAAQAAAAAAAAABAAAAAAAAAAEAAAABAAAAAQAAAAAAAAABAAAAAQAAAAEAAAABAAAAAAAAAAAAAAABAAAAAAAAAAEAAAABAAAAAQAAAAAAAAAAAAAAAQAAAAEAAAABAAAAAQAAAAEAAAAAAAAAAAAAAAAAAAABAAAAAAAAAAEAAAABAAAAAQAAAAEAAAABAAAAAAAAAAEAAAAAAAAAAQAAAAAAAAABAAAAAQAAAAAAAAAAAAAAAQAAAAEAAAAAAAAAAQAAAAAAAAAAAAAAAAAAAAAAAAABAAAAAQAAAAAAAAAAAAAAAAAAAAAAAAABAAAAAAAAAAEAAAAAAAAAAQAAAAAAAAAAAAAAAAAAAAAAAAABAAAAAQAAAAAAAAAAAAAAAAAAAAEAAAAAAAAAAAAAAAAAAAAAAAAAAQAAAAEAAAABAAAAAQAAAAEAAAAAAAAAAAAAAAAAAAAAAAAAAQAAAAEAAAAAAAAAAQAAAAEAAAABAAAAAAAAAAEAAAAAAAAAAQAAAAEAAAAAAAAAAQAAAAEAAAABAAAAAQAAAAEAAAAAAAAAAQAAAAAAAAAAAAAAAAAAAAEAAAABAAAAAAAAAAEAAAABAAAAAAAAAAAAAAABAAAAAQAAAAEAAAAAAAAAAQAAAAEAAAAAAAAAAAAAAAEAAAAAAAAAAAAAAAAAAAABAAAAAAAAAAAAAAAAAAAAAAAAAAEAAAABAAAAAAAAAAAAAAAAAAAAAAAAAAAAAAAAAAAAAAAAAAAAAAAAAAAAAQAAAAAAAAABAAAAAAAAAAAAAAABAAAAAAAAAAAAAAAAAAAAAAAAAAAAAAABAAAAAQAAAAAAAAABAAAAAAAAAAAAAAABAAAAAAAAAAAAAAAAAAAAAQAAAAAAAAAAAAAAAQAAAAAAAAAAAAAAAQAAAAAAAAAAAAAAAAAAAAEAAAAAAAAAAQAAAAAAAAAAAAAAAAAAAAEAAAAAAAAAAQAAAAEAAAAAAAAAAAAAAAEAAAAAAAAAAAAAAAAAAAAAAAAAAAAAAAAAAAABAAAAAAAAAAAAAAABAAAAAAAAAAEAAAAAAAAAAAAAAAAAAAAAAAAAAQAAAAEAAAABAAAAAQAAAAAAAAABAAAAAAAAAAEAAAABAAAAAQAAAAAAAAABAAAAAAAAAAEAAAABAAAAAQAAAAAAAAABAAAAAAAAAAAAAAAAAAAAAQAAAAEAAAABAAAAAAAAAAAAAAABAAAAAAAAAAEAAAABAAAAAAAAAAEAAAAAAAAAAAAAAAAAAAABAAAAAAAAAAAAAAABAAAAAQAAAAEAAAABAAAAAQAAAAAAAAABAAAAAQAAAAEAAAABAAAAAAAAAAEAAAABAAAAAQAAAAAAAAABAAAAAQAAAAEAAAAAAAAAAAAAAAEAAAABAAAAAQAAAAEAAAAAAAAAAQAAAAAAAAABAAAAAAAAAAAAAAABAAAAAQAAAAEAAAAAAAAAAQAAAAAAAAABAAAAAAAAAAEAAAAAAAAAAQAAAAEAAAABAAAAAQAAAAAAAAABAAAAAAAAAAAAAAABAAAAAAAAAAAAAAAAAAAAAQAAAAAAAAABAAAAAAAAAAAAAAAAAAAAAAAAAAEAAAAAAAAAAQAAAAAAAAAAAAAAAAAAAAEAAAABAAAAAAAAAAEAAAABAAAAAAAAAAAAAAABAAAAAQAAAAAAAAABAAAAAQAAAAAAAAABAAAAAQAAAAEAAAAAAAAAAQAAAAEAAAABAAAAAQAAAAAAAAABAAAAAQAAAAAAAAAAAAAAAAAAAAEAAAABAAAAAAAAAAEAAAABAAAAAQAAAAAAAAABAAAAAAAAAAAAAAABAAAAAQAAAAEAAAAAAAAAAAAAAAAAAAAAAAAAAAAAAAEAAAAAAAAAAAAAAAAAAAAAAAAAAAAAAAEAAAAAAAAAAAAAAAAAAAAAAAAAAAAAAAAAAAABAAAAAAAAAAAAAAABAAAAAAAAAAEAAAABAAAAAAAAAAEAAAAAAAAAAQAAAAAAAAAAAAAAAAAAAAAAAAABAAAAAAAAAAEAAAAAAAAAAAAAAAAAAAABAAAAAQAAAAEAAAAAAAAAAAAAAAEAAAAAAAAAAQAAAAAAAAAAAAAAAQAAAAAAAAABAAAAAQAAAAAAAAAAAAAAAQAAAAEAAAAAAAAAAQAAAAAAAAABAAAAAQAAAAAAAAAAAAAAAAAAAAEAAAAAAAAAAAAAAAEAAAAAAAAAAQAAAAAAAAAAAAAAAQAAAAEAAAABAAAAAQAAAAAAAAABAAAAAAAAAAAAAAAAAAAAAQAAAAAAAAAAAAAAAAAAAAAAAAABAAAAAQAAAAAAAAAAAAAAAAAAAAAAAAAAAAAAAAAAAAAAAAAAAAAAAAAAAAAAAAABAAAAAAAAAAAAAAABAAAAAAAAAAEAAAAAAAAAAAAAAAEAAAAAAAAAAQAAAAAAAAABAAAAAAAAAAEAAAABAAAAAAAAAAAAAAAAAAAAAQAAAAEAAAABAAAAAAAAAAEAAAAAAAAAAQAAAAAAAAAAAAAAAAAAAAEAAAAAAAAAAAAAAAAAAAAAAAAAAQAAAAAAAAAAAAAAAQAAAAAAAAABAAAAAAAAAAEAAAABAAAAAAAAAAAAAAAAAAAAAAAAAAAAAAABAAAAAQAAAAAAAAAAAAAAAAAAAAAAAAAAAAAAAAAAAAEAAAAAAAAAAAAAAAAAAAAAAAAAAQAAAAEAAAAAAAAAAAAAAAEAAAABAAAAAAAAAAEAAAAAAAAAAAAAAAEAAAAAAAAAAQAAAAAAAAAAAAAAAAAAAAEAAAAAAAAAAAAAAAAAAAABAAAAAAAAAAAAAAAAAAAAAQAAAAEAAAABAAAAAAAAAAEAAAAAAAAAAAAAAAAAAAAAAAAAAQAAAAEAAAAAAAAAAAAAAAAAAAAAAAAAAQAAAAAAAAABAAAAAQAAAAAAAAAAAAAAAQAAAAEAAAABAAAAAQAAAAAAAAABAAAAAAAAAAAAAAAAAAAAAQAAAAEAAAAAAAAAAQAAAAAAAAABAAAAAAAAAAAAAAABAAAAAAAAAAAAAAAAAAAAAQAAAAEAAAAAAAAAAAAAAAEAAAAAAAAAAQAAAAEAAAABAAAAAQAAAAEAAAABAAAAAAAAAAEAAAAAAAAAAAAAAAEAAAAAAAAAAQAAAAEAAAAAAAAAAAAAAAEAAAABAAAAAQAAAAEAAAABAAAAAQAAAAAAAAABAAAAAAAAAAAAAAAAAAAAAAAAAAAAAAABAAAAAAAAAAAAAAAAAAAAAAAAAAEAAAABAAAAAAAAAAEAAAAAAAAAAQAAAAEAAAAAAAAAAQAAAAEAAAABAAAAAQAAAAEAAAAAAAAAAQAAAAEAAAAAAAAAAAAAAAAAAAAAAAAAAQAAAAEAAAAAAAAAAAAAAAEAAAAAAAAAAAAAAAEAAAABAAAAAQAAAAEAAAABAAAAAAAAAAEAAAABAAAAAQAAAAAAAAABAAAAAAAAAAAAAAABAAAAAQAAAAEAAAAAAAAAAQAAAAAAAAABAAAAAQAAAAAAAAAAAAAAAAAAAAEAAAABAAAAAQAAAAAAAAABAAAAAAAAAAEAAAAAAAAAAQAAAAEAAAABAAAAAAAAAAAAAAABAAAAAQAAAAAAAAAAAAAAAAAAAAEAAAABAAAAAQAAAAAAAAABAAAAAAAAAAAAAAABAAAAAQAAAAEAAAABAAAAAQAAAAAAAAABAAAAAAAAAAEAAAABAAAAAAAAAAEAAAAAAAAAAQAAAAAAAAAAAAAAAAAAAAEAAAABAAAAAAAAAAEAAAAAAAAAAAAAAAEAAAABAAAAAAAAAAEAAAAAAAAAAQAAAAAAAAAAAAAAAAAAAAEAAAABAAAAAAAAAAAAAAAAAAAAAQAAAAEAAAAAAAAAAAAAAAAAAAAAAAAAAAAAAAEAAAABAAAAAAAAAAAAAAAAAAAAAAAAAAAAAAAAAAAAAQAAAAEAAAABAAAAAQAAAAAAAAABAAAAAAAAAAAAAAAAAAAAAQAAAAEAAAABAAAAAAAAAAAAAAAAAAAAAAAAAAEAAAABAAAAAAAAAAEAAAAAAAAAAAAAAAAAAAAAAAAAAQAAAAEAAAAAAAAAAQAAAAAAAAABAAAAAQAAAAAAAAABAAAAAAAAAAAAAAAAAAAAAAAAAAAAAAABAAAAAAAAAAEAAAABAAAAAQAAAAAAAAAAAAAAAAAAAAEAAAABAAAAAAAAAAAAAAAAAAAAAAAAAAAAAAABAAAAAQAAAAAAAAAAAAAAAQAAAAEAAAAAAAAAAQAAAAAAAAABAAAAAAAAAAEAAAAAAAAAAQAAAAEAAAAAAAAAAAAAAAEAAAABAAAAAAAAAAAAAAAAAAAAAQAAAAAAAAABAAAAAQAAAAAAAAABAAAAAAAAAAEAAAAAAAAAAQAAAAEAAAABAAAAAQAAAAEAAAABAAAAAQAAAAAAAAAAAAAAAQAAAAAAAAABAAAAAQAAAAAAAAABAAAAAQAAAAAAAAABAAAAAQAAAAEAAAAAAAAAAAAAAAEAAAAAAAAAAAAAAAEAAAABAAAAAAAAAAAAAAABAAAAAAAAAAAAAAABAAAAAAAAAAAAAAABAAAAAAAAAAAAAAABAAAA",
           "dtype": "i4"
          },
          "coloraxis": "coloraxis",
          "symbol": "circle"
         },
         "mode": "markers",
         "name": "",
         "showlegend": false,
         "type": "scattergl",
         "x": {
          "bdata": "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",
          "dtype": "f8"
         },
         "xaxis": "x",
         "y": {
          "bdata": "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",
          "dtype": "f8"
         },
         "yaxis": "y"
        }
       ],
       "layout": {
        "coloraxis": {
         "colorbar": {
          "title": {
           "text": "kmeans_cluster"
          }
         },
         "colorscale": [
          [
           0,
           "#0d0887"
          ],
          [
           0.1111111111111111,
           "#46039f"
          ],
          [
           0.2222222222222222,
           "#7201a8"
          ],
          [
           0.3333333333333333,
           "#9c179e"
          ],
          [
           0.4444444444444444,
           "#bd3786"
          ],
          [
           0.5555555555555556,
           "#d8576b"
          ],
          [
           0.6666666666666666,
           "#ed7953"
          ],
          [
           0.7777777777777778,
           "#fb9f3a"
          ],
          [
           0.8888888888888888,
           "#fdca26"
          ],
          [
           1,
           "#f0f921"
          ]
         ]
        },
        "legend": {
         "tracegroupgap": 0
        },
        "template": {
         "data": {
          "bar": [
           {
            "error_x": {
             "color": "#2a3f5f"
            },
            "error_y": {
             "color": "#2a3f5f"
            },
            "marker": {
             "line": {
              "color": "#E5ECF6",
              "width": 0.5
             },
             "pattern": {
              "fillmode": "overlay",
              "size": 10,
              "solidity": 0.2
             }
            },
            "type": "bar"
           }
          ],
          "barpolar": [
           {
            "marker": {
             "line": {
              "color": "#E5ECF6",
              "width": 0.5
             },
             "pattern": {
              "fillmode": "overlay",
              "size": 10,
              "solidity": 0.2
             }
            },
            "type": "barpolar"
           }
          ],
          "carpet": [
           {
            "aaxis": {
             "endlinecolor": "#2a3f5f",
             "gridcolor": "white",
             "linecolor": "white",
             "minorgridcolor": "white",
             "startlinecolor": "#2a3f5f"
            },
            "baxis": {
             "endlinecolor": "#2a3f5f",
             "gridcolor": "white",
             "linecolor": "white",
             "minorgridcolor": "white",
             "startlinecolor": "#2a3f5f"
            },
            "type": "carpet"
           }
          ],
          "choropleth": [
           {
            "colorbar": {
             "outlinewidth": 0,
             "ticks": ""
            },
            "type": "choropleth"
           }
          ],
          "contour": [
           {
            "colorbar": {
             "outlinewidth": 0,
             "ticks": ""
            },
            "colorscale": [
             [
              0,
              "#0d0887"
             ],
             [
              0.1111111111111111,
              "#46039f"
             ],
             [
              0.2222222222222222,
              "#7201a8"
             ],
             [
              0.3333333333333333,
              "#9c179e"
             ],
             [
              0.4444444444444444,
              "#bd3786"
             ],
             [
              0.5555555555555556,
              "#d8576b"
             ],
             [
              0.6666666666666666,
              "#ed7953"
             ],
             [
              0.7777777777777778,
              "#fb9f3a"
             ],
             [
              0.8888888888888888,
              "#fdca26"
             ],
             [
              1,
              "#f0f921"
             ]
            ],
            "type": "contour"
           }
          ],
          "contourcarpet": [
           {
            "colorbar": {
             "outlinewidth": 0,
             "ticks": ""
            },
            "type": "contourcarpet"
           }
          ],
          "heatmap": [
           {
            "colorbar": {
             "outlinewidth": 0,
             "ticks": ""
            },
            "colorscale": [
             [
              0,
              "#0d0887"
             ],
             [
              0.1111111111111111,
              "#46039f"
             ],
             [
              0.2222222222222222,
              "#7201a8"
             ],
             [
              0.3333333333333333,
              "#9c179e"
             ],
             [
              0.4444444444444444,
              "#bd3786"
             ],
             [
              0.5555555555555556,
              "#d8576b"
             ],
             [
              0.6666666666666666,
              "#ed7953"
             ],
             [
              0.7777777777777778,
              "#fb9f3a"
             ],
             [
              0.8888888888888888,
              "#fdca26"
             ],
             [
              1,
              "#f0f921"
             ]
            ],
            "type": "heatmap"
           }
          ],
          "histogram": [
           {
            "marker": {
             "pattern": {
              "fillmode": "overlay",
              "size": 10,
              "solidity": 0.2
             }
            },
            "type": "histogram"
           }
          ],
          "histogram2d": [
           {
            "colorbar": {
             "outlinewidth": 0,
             "ticks": ""
            },
            "colorscale": [
             [
              0,
              "#0d0887"
             ],
             [
              0.1111111111111111,
              "#46039f"
             ],
             [
              0.2222222222222222,
              "#7201a8"
             ],
             [
              0.3333333333333333,
              "#9c179e"
             ],
             [
              0.4444444444444444,
              "#bd3786"
             ],
             [
              0.5555555555555556,
              "#d8576b"
             ],
             [
              0.6666666666666666,
              "#ed7953"
             ],
             [
              0.7777777777777778,
              "#fb9f3a"
             ],
             [
              0.8888888888888888,
              "#fdca26"
             ],
             [
              1,
              "#f0f921"
             ]
            ],
            "type": "histogram2d"
           }
          ],
          "histogram2dcontour": [
           {
            "colorbar": {
             "outlinewidth": 0,
             "ticks": ""
            },
            "colorscale": [
             [
              0,
              "#0d0887"
             ],
             [
              0.1111111111111111,
              "#46039f"
             ],
             [
              0.2222222222222222,
              "#7201a8"
             ],
             [
              0.3333333333333333,
              "#9c179e"
             ],
             [
              0.4444444444444444,
              "#bd3786"
             ],
             [
              0.5555555555555556,
              "#d8576b"
             ],
             [
              0.6666666666666666,
              "#ed7953"
             ],
             [
              0.7777777777777778,
              "#fb9f3a"
             ],
             [
              0.8888888888888888,
              "#fdca26"
             ],
             [
              1,
              "#f0f921"
             ]
            ],
            "type": "histogram2dcontour"
           }
          ],
          "mesh3d": [
           {
            "colorbar": {
             "outlinewidth": 0,
             "ticks": ""
            },
            "type": "mesh3d"
           }
          ],
          "parcoords": [
           {
            "line": {
             "colorbar": {
              "outlinewidth": 0,
              "ticks": ""
             }
            },
            "type": "parcoords"
           }
          ],
          "pie": [
           {
            "automargin": true,
            "type": "pie"
           }
          ],
          "scatter": [
           {
            "fillpattern": {
             "fillmode": "overlay",
             "size": 10,
             "solidity": 0.2
            },
            "type": "scatter"
           }
          ],
          "scatter3d": [
           {
            "line": {
             "colorbar": {
              "outlinewidth": 0,
              "ticks": ""
             }
            },
            "marker": {
             "colorbar": {
              "outlinewidth": 0,
              "ticks": ""
             }
            },
            "type": "scatter3d"
           }
          ],
          "scattercarpet": [
           {
            "marker": {
             "colorbar": {
              "outlinewidth": 0,
              "ticks": ""
             }
            },
            "type": "scattercarpet"
           }
          ],
          "scattergeo": [
           {
            "marker": {
             "colorbar": {
              "outlinewidth": 0,
              "ticks": ""
             }
            },
            "type": "scattergeo"
           }
          ],
          "scattergl": [
           {
            "marker": {
             "colorbar": {
              "outlinewidth": 0,
              "ticks": ""
             }
            },
            "type": "scattergl"
           }
          ],
          "scattermap": [
           {
            "marker": {
             "colorbar": {
              "outlinewidth": 0,
              "ticks": ""
             }
            },
            "type": "scattermap"
           }
          ],
          "scattermapbox": [
           {
            "marker": {
             "colorbar": {
              "outlinewidth": 0,
              "ticks": ""
             }
            },
            "type": "scattermapbox"
           }
          ],
          "scatterpolar": [
           {
            "marker": {
             "colorbar": {
              "outlinewidth": 0,
              "ticks": ""
             }
            },
            "type": "scatterpolar"
           }
          ],
          "scatterpolargl": [
           {
            "marker": {
             "colorbar": {
              "outlinewidth": 0,
              "ticks": ""
             }
            },
            "type": "scatterpolargl"
           }
          ],
          "scatterternary": [
           {
            "marker": {
             "colorbar": {
              "outlinewidth": 0,
              "ticks": ""
             }
            },
            "type": "scatterternary"
           }
          ],
          "surface": [
           {
            "colorbar": {
             "outlinewidth": 0,
             "ticks": ""
            },
            "colorscale": [
             [
              0,
              "#0d0887"
             ],
             [
              0.1111111111111111,
              "#46039f"
             ],
             [
              0.2222222222222222,
              "#7201a8"
             ],
             [
              0.3333333333333333,
              "#9c179e"
             ],
             [
              0.4444444444444444,
              "#bd3786"
             ],
             [
              0.5555555555555556,
              "#d8576b"
             ],
             [
              0.6666666666666666,
              "#ed7953"
             ],
             [
              0.7777777777777778,
              "#fb9f3a"
             ],
             [
              0.8888888888888888,
              "#fdca26"
             ],
             [
              1,
              "#f0f921"
             ]
            ],
            "type": "surface"
           }
          ],
          "table": [
           {
            "cells": {
             "fill": {
              "color": "#EBF0F8"
             },
             "line": {
              "color": "white"
             }
            },
            "header": {
             "fill": {
              "color": "#C8D4E3"
             },
             "line": {
              "color": "white"
             }
            },
            "type": "table"
           }
          ]
         },
         "layout": {
          "annotationdefaults": {
           "arrowcolor": "#2a3f5f",
           "arrowhead": 0,
           "arrowwidth": 1
          },
          "autotypenumbers": "strict",
          "coloraxis": {
           "colorbar": {
            "outlinewidth": 0,
            "ticks": ""
           }
          },
          "colorscale": {
           "diverging": [
            [
             0,
             "#8e0152"
            ],
            [
             0.1,
             "#c51b7d"
            ],
            [
             0.2,
             "#de77ae"
            ],
            [
             0.3,
             "#f1b6da"
            ],
            [
             0.4,
             "#fde0ef"
            ],
            [
             0.5,
             "#f7f7f7"
            ],
            [
             0.6,
             "#e6f5d0"
            ],
            [
             0.7,
             "#b8e186"
            ],
            [
             0.8,
             "#7fbc41"
            ],
            [
             0.9,
             "#4d9221"
            ],
            [
             1,
             "#276419"
            ]
           ],
           "sequential": [
            [
             0,
             "#0d0887"
            ],
            [
             0.1111111111111111,
             "#46039f"
            ],
            [
             0.2222222222222222,
             "#7201a8"
            ],
            [
             0.3333333333333333,
             "#9c179e"
            ],
            [
             0.4444444444444444,
             "#bd3786"
            ],
            [
             0.5555555555555556,
             "#d8576b"
            ],
            [
             0.6666666666666666,
             "#ed7953"
            ],
            [
             0.7777777777777778,
             "#fb9f3a"
            ],
            [
             0.8888888888888888,
             "#fdca26"
            ],
            [
             1,
             "#f0f921"
            ]
           ],
           "sequentialminus": [
            [
             0,
             "#0d0887"
            ],
            [
             0.1111111111111111,
             "#46039f"
            ],
            [
             0.2222222222222222,
             "#7201a8"
            ],
            [
             0.3333333333333333,
             "#9c179e"
            ],
            [
             0.4444444444444444,
             "#bd3786"
            ],
            [
             0.5555555555555556,
             "#d8576b"
            ],
            [
             0.6666666666666666,
             "#ed7953"
            ],
            [
             0.7777777777777778,
             "#fb9f3a"
            ],
            [
             0.8888888888888888,
             "#fdca26"
            ],
            [
             1,
             "#f0f921"
            ]
           ]
          },
          "colorway": [
           "#636efa",
           "#EF553B",
           "#00cc96",
           "#ab63fa",
           "#FFA15A",
           "#19d3f3",
           "#FF6692",
           "#B6E880",
           "#FF97FF",
           "#FECB52"
          ],
          "font": {
           "color": "#2a3f5f"
          },
          "geo": {
           "bgcolor": "white",
           "lakecolor": "white",
           "landcolor": "#E5ECF6",
           "showlakes": true,
           "showland": true,
           "subunitcolor": "white"
          },
          "hoverlabel": {
           "align": "left"
          },
          "hovermode": "closest",
          "mapbox": {
           "style": "light"
          },
          "paper_bgcolor": "white",
          "plot_bgcolor": "#E5ECF6",
          "polar": {
           "angularaxis": {
            "gridcolor": "white",
            "linecolor": "white",
            "ticks": ""
           },
           "bgcolor": "#E5ECF6",
           "radialaxis": {
            "gridcolor": "white",
            "linecolor": "white",
            "ticks": ""
           }
          },
          "scene": {
           "xaxis": {
            "backgroundcolor": "#E5ECF6",
            "gridcolor": "white",
            "gridwidth": 2,
            "linecolor": "white",
            "showbackground": true,
            "ticks": "",
            "zerolinecolor": "white"
           },
           "yaxis": {
            "backgroundcolor": "#E5ECF6",
            "gridcolor": "white",
            "gridwidth": 2,
            "linecolor": "white",
            "showbackground": true,
            "ticks": "",
            "zerolinecolor": "white"
           },
           "zaxis": {
            "backgroundcolor": "#E5ECF6",
            "gridcolor": "white",
            "gridwidth": 2,
            "linecolor": "white",
            "showbackground": true,
            "ticks": "",
            "zerolinecolor": "white"
           }
          },
          "shapedefaults": {
           "line": {
            "color": "#2a3f5f"
           }
          },
          "ternary": {
           "aaxis": {
            "gridcolor": "white",
            "linecolor": "white",
            "ticks": ""
           },
           "baxis": {
            "gridcolor": "white",
            "linecolor": "white",
            "ticks": ""
           },
           "bgcolor": "#E5ECF6",
           "caxis": {
            "gridcolor": "white",
            "linecolor": "white",
            "ticks": ""
           }
          },
          "title": {
           "x": 0.05
          },
          "xaxis": {
           "automargin": true,
           "gridcolor": "white",
           "linecolor": "white",
           "ticks": "",
           "title": {
            "standoff": 15
           },
           "zerolinecolor": "white",
           "zerolinewidth": 2
          },
          "yaxis": {
           "automargin": true,
           "gridcolor": "white",
           "linecolor": "white",
           "ticks": "",
           "title": {
            "standoff": 15
           },
           "zerolinecolor": "white",
           "zerolinewidth": 2
          }
         }
        },
        "title": {
         "text": "KMeans Clustering"
        },
        "xaxis": {
         "anchor": "y",
         "domain": [
          0,
          1
         ],
         "title": {
          "text": "pca1"
         }
        },
        "yaxis": {
         "anchor": "x",
         "domain": [
          0,
          1
         ],
         "title": {
          "text": "pca2"
         }
        }
       }
      }
     },
     "metadata": {},
     "output_type": "display_data"
    },
    {
     "data": {
      "application/vnd.plotly.v1+json": {
       "config": {
        "plotlyServerURL": "https://plot.ly"
       },
       "data": [
        {
         "hovertemplate": "pca1=%{x}<br>pca2=%{y}<br>gmm_cluster=%{marker.color}<extra></extra>",
         "legendgroup": "",
         "marker": {
          "color": {
           "bdata": "AQEAAAEBAQAAAQEAAQABAQABAQAAAQEAAQAAAQEAAQEBAQEBAAEAAAAAAAEBAAABAQEBAAEBAAEAAAEAAAAAAQEAAAAAAQAAAQEBAQEAAAEAAQAAAAABAQAAAQAAAAEBAQABAQABAQABAQEBAAEAAQEAAQAAAAEBAQABAQEBAQEAAQEBAQAAAAABAQEAAAEBAAEAAQABAAEBAAEBAAABAAEBAAAAAQEBAAEBAAABAAAAAAEAAQEAAAEBAQEBAQEBAAEBAAEBAAEBAAEBAAABAQEBAQABAQEBAQEAAAAAAAEBAQABAQEAAAEBAQABAQEAAQEAAAABAAEAAAEAAAABAAABAAEBAQABAAABAAAAAQAAAAEBAQEAAQABAQEBAAAAAQAAAQEBAAABAQAAAQEAAQABAQABAAEBAQEBAAAAAQAAAQEAAQAAAAAAAQEBAQEAAQABAAABAQEBAAAAAQEBAQABAAABAAAAAQEBAQEBAQEBAAAAAAEAAQAAAAAAAQEAAAABAAABAQABAAAAAQABAAABAAABAAEBAQEAAAEAAQABAQEAAQABAQABAAAAAQEBAAABAQAAAAABAAABAQEAAQEAAQABAAEAAAABAQEAAQEBAQEBAQABAQAAAAABAQAAAQABAAEAAAAAAQABAQABAQEBAAEBAAABAAEAAQEAAQEAAAAAAAEBAAEBAQABAAEAAAEBAAEBAQAAAQEBAQEBAAAAAQAAAQAAAQABAQEAAAEAAQEAAQEBAQEAAAEAAQEAAAAAAQEAAQEBAAABAAEBAQEBAQAAAQABAAEBAQAAAAABAAEBAQEBAQEBAQEAAQABAQEAAAAAAAAAAAEAAAAAAAABAQABAAAAAAEAAAAAAAABAQAAAQEBAQEAAQEAAAABAQEAAAAAAAEBAQEBAAEAAQABAQEAAQAAAQEBAQEBAQEBAQEAAAEAAAABAAABAQABAQAAAQEBAQEAAAABAAABAAEAAAABAQAAAQABAAEAAQEAAQEBAAEBAQEAAQABAQABAAEBAQEBAAAAAAEAAAAAAAAAAQEBAAEAAAABAQABAQAAAAAAAQEAAQEAAAABAAEBAAABAAAAAQEAAAAAAAEBAQEAAQAAAQEAAAEAAQABAAAAAQEAAAABAQABAAABAQEAAQAAAAAAAQAAAQABAQABAQAAAAEBAQABAQEBAQEAAQABAAAAAAABAQEAAAEBAQEAAAAAAAABAQEBAAEAAAAAAQEBAAEAAAAAAAAAAAEAAQEBAQAAAQEBAAAAAQABAQABAAEBAAAAAQEBAAAAAQAAAAEBAQAAAQEAAQEAAAEBAQAAAAAAAQEAAQEAAAABAQAAAQABAAEBAAEAAAEAAAABAQEBAQEAAQAAAAEAAQEBAAEAAAEAAAABAQAAAAABAAAAAAABAQABAQEBAQABAAEAAQEAAAAAAQABAAEAAAAAAQEAAQABAQEAAAAAAQEAAAABAAAAAAEAAAAAAQEBAAABAQABAAEAAQEAAAEBAAEBAAABAAAAAQAAAAAAAQEBAQEAAQAAAAEBAQAAAQABAAEAAQEBAAEBAQEBAQABAQABAAAAAAABAAAAAQEBAAAAAAEBAQABAAAAAAEBAQEAAAABAQABAQEAAQABAQEAAQEAAAEBAQABAQEAAAABAAEAAAAAAQEBAQAAAAABAAABAQABAQEAAQAAAAAAAQABAQABAQEBAQEAAQEAAAEBAQABAQEAAAABAQEBAAEAAAAAAQAAAAAAAAAAAAABAQEAAAABAQEBAQEBAQEBAQABAAEBAQAAAQAAAQEBAAABAAEBAAABAAEBAQAAAAAAAAEBAAEAAAEBAQAAAQABAAAAAAABAAEBAQEBAQEAAQABAQEBAQEBAQEAAAAAAQEBAAEBAAABAAAAAAABAAABAAABAAEAAQAAAAAAAAEAAAAAAAAAAQAAAAABAAAAAQEAAQAAAAAAAAABAAEBAQEAAQAAAAEAAQEAAQABAQEAAQEBAQABAAEAAQEBAQABAAABAQEBAQAAAAAAAQABAQABAQABAQABAQEBAQEBAQEAAAEBAAAAAAAAAAEBAAAAAQABAQEAAQAAAQABAAEAAQEAAQEBAAAAAAAAAAABAQABAQEAAQAAAAEAAAEBAAABAAABAAEBAQEBAAEBAAABAQEBAQEBAQABAAEBAAEAAAABAQABAQEBAQABAAEAAQEBAQAAAQABAQEBAAEAAQEAAAABAQEAAAEAAAEAAQEAAQEBAAEAAAABAQAAAQEAAQABAQEBAAAAAAABAQABAAABAAEAAQAAAAEAAQABAAEAAQEBAQAAAAEAAQEAAAAAAQEAAAAAAQEAAAEBAQEAAAAAAQABAQABAAEAAQAAAQABAQEAAAABAAABAAEBAQEBAQEBAAEAAQAAAAABAQAAAAABAAAAAQABAQEAAQEBAAAAAQAAAQEAAAEBAAEAAAABAQEBAQEAAAAAAQEBAQABAQEAAAEBAAABAQAAAAEAAAEBAAABAQABAAAAAAAAAQEBAAAAAQEAAQAAAQAAAQEBAQABAAEAAAEBAQAAAAEBAQEBAAEBAAABAAAAAAABAAEAAQABAAABAQEBAAAAAAEBAAEBAQABAQABAQEBAQEBAAABAAEAAQEAAQABAAABAQABAQEAAAEBAQEBAAEAAQABAQEBAAEBAAABAAAAAAEAAAEAAQAAAAEAAQEBAQABAQAAAQEAAQABAAAAAAABAAEBAAEBAAAAAAEBAQEAAQEBAQEAAQEAAAAAAQAAAQEAAAEBAAABAQEBAQEAAAAAAQABAAEBAAEAAQEBAQEBAAABAAAAAQABAAABAQEBAQABAQEAAAEBAQEBAQAAAAABAQEAAAEBAAEBAAEAAAEAAAAAAQEBAAAAAAEBAQEBAAABAQABAAEAAAEAAQABAAABAAAAAAAAAAEAAQAAAQAAAAABAQEBAAABAQABAAABAAEAAQABAAEAAQEBAQABAQAAAAEAAAEBAQEAAAAAAQEAAAABAAABAQABAAAAAQEAAQAAAAAAAQAAAAEAAAABAAEBAQEAAAAAAQEBAQABAAEAAAABAAABAQEAAAABAQEBAQEAAQAAAAEBAAAAAAEAAQEBAAEAAAEBAAABAAEAAQAAAAEBAQABAQEBAAABAQABAAABAQEAAQEBAQEBAAABAQAAAAAAAAEBAQAAAAEBAAEBAAEAAAABAAAAAAEBAAABAAAAAQEAAQAAAAABAAABAQEBAQEBAAAAAAEBAQABAAEAAQEBAQABAQABAAEBAQAAAQEBAQABAQABAQEAAQAAAAAAAQAAAQEAAAEAAAAAAQEBAAABAAAAAAEBAQAAAAABAQEBAQABAAAAAAAAAQEAAAABAQAAAAEBAQEBAQAAAAEAAAEAAAAAAAEAAQABAAAAAQEAAAABAAABAQABAQAAAAEAAAAAAAEAAQAAAQABAAEAAQEBAQAAAQEAAQAAAQEBAAEAAAEAAAEBAAEAAAABAQABAAEAAAABAQEAAQABAQAAAAEBAQEBAAABAQAAAAEBAAEBAQEBAQABAAEAAQAAAAEAAAEAAQABAAAAAQEBAQABAQAAAQEBAAEAAAAAAAEAAQABAQEBAAAAAAEBAAEBAQEAAQEAAAABAAABAQABAQABAQEAAQEAAQAAAAAAAAAAAAABAQEAAAEBAQEBAQABAAEAAQAAAAAAAAABAAEAAQEAAAAAAAEBAAABAQEAAQEAAQEAAQAAAAAAAAAAAQAAAQAAAAABAQABAQEAAQABAQEBAAABAQABAAABAAAAAQAAAQEBAQEAAAABAQAAAQEBAQEAAQABAAABAQABAAABAAAAAQEA",
           "dtype": "i1"
          },
          "coloraxis": "coloraxis",
          "symbol": "circle"
         },
         "mode": "markers",
         "name": "",
         "showlegend": false,
         "type": "scattergl",
         "x": {
          "bdata": "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",
          "dtype": "f8"
         },
         "xaxis": "x",
         "y": {
          "bdata": "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",
          "dtype": "f8"
         },
         "yaxis": "y"
        }
       ],
       "layout": {
        "coloraxis": {
         "colorbar": {
          "title": {
           "text": "gmm_cluster"
          }
         },
         "colorscale": [
          [
           0,
           "#0d0887"
          ],
          [
           0.1111111111111111,
           "#46039f"
          ],
          [
           0.2222222222222222,
           "#7201a8"
          ],
          [
           0.3333333333333333,
           "#9c179e"
          ],
          [
           0.4444444444444444,
           "#bd3786"
          ],
          [
           0.5555555555555556,
           "#d8576b"
          ],
          [
           0.6666666666666666,
           "#ed7953"
          ],
          [
           0.7777777777777778,
           "#fb9f3a"
          ],
          [
           0.8888888888888888,
           "#fdca26"
          ],
          [
           1,
           "#f0f921"
          ]
         ]
        },
        "legend": {
         "tracegroupgap": 0
        },
        "template": {
         "data": {
          "bar": [
           {
            "error_x": {
             "color": "#2a3f5f"
            },
            "error_y": {
             "color": "#2a3f5f"
            },
            "marker": {
             "line": {
              "color": "#E5ECF6",
              "width": 0.5
             },
             "pattern": {
              "fillmode": "overlay",
              "size": 10,
              "solidity": 0.2
             }
            },
            "type": "bar"
           }
          ],
          "barpolar": [
           {
            "marker": {
             "line": {
              "color": "#E5ECF6",
              "width": 0.5
             },
             "pattern": {
              "fillmode": "overlay",
              "size": 10,
              "solidity": 0.2
             }
            },
            "type": "barpolar"
           }
          ],
          "carpet": [
           {
            "aaxis": {
             "endlinecolor": "#2a3f5f",
             "gridcolor": "white",
             "linecolor": "white",
             "minorgridcolor": "white",
             "startlinecolor": "#2a3f5f"
            },
            "baxis": {
             "endlinecolor": "#2a3f5f",
             "gridcolor": "white",
             "linecolor": "white",
             "minorgridcolor": "white",
             "startlinecolor": "#2a3f5f"
            },
            "type": "carpet"
           }
          ],
          "choropleth": [
           {
            "colorbar": {
             "outlinewidth": 0,
             "ticks": ""
            },
            "type": "choropleth"
           }
          ],
          "contour": [
           {
            "colorbar": {
             "outlinewidth": 0,
             "ticks": ""
            },
            "colorscale": [
             [
              0,
              "#0d0887"
             ],
             [
              0.1111111111111111,
              "#46039f"
             ],
             [
              0.2222222222222222,
              "#7201a8"
             ],
             [
              0.3333333333333333,
              "#9c179e"
             ],
             [
              0.4444444444444444,
              "#bd3786"
             ],
             [
              0.5555555555555556,
              "#d8576b"
             ],
             [
              0.6666666666666666,
              "#ed7953"
             ],
             [
              0.7777777777777778,
              "#fb9f3a"
             ],
             [
              0.8888888888888888,
              "#fdca26"
             ],
             [
              1,
              "#f0f921"
             ]
            ],
            "type": "contour"
           }
          ],
          "contourcarpet": [
           {
            "colorbar": {
             "outlinewidth": 0,
             "ticks": ""
            },
            "type": "contourcarpet"
           }
          ],
          "heatmap": [
           {
            "colorbar": {
             "outlinewidth": 0,
             "ticks": ""
            },
            "colorscale": [
             [
              0,
              "#0d0887"
             ],
             [
              0.1111111111111111,
              "#46039f"
             ],
             [
              0.2222222222222222,
              "#7201a8"
             ],
             [
              0.3333333333333333,
              "#9c179e"
             ],
             [
              0.4444444444444444,
              "#bd3786"
             ],
             [
              0.5555555555555556,
              "#d8576b"
             ],
             [
              0.6666666666666666,
              "#ed7953"
             ],
             [
              0.7777777777777778,
              "#fb9f3a"
             ],
             [
              0.8888888888888888,
              "#fdca26"
             ],
             [
              1,
              "#f0f921"
             ]
            ],
            "type": "heatmap"
           }
          ],
          "histogram": [
           {
            "marker": {
             "pattern": {
              "fillmode": "overlay",
              "size": 10,
              "solidity": 0.2
             }
            },
            "type": "histogram"
           }
          ],
          "histogram2d": [
           {
            "colorbar": {
             "outlinewidth": 0,
             "ticks": ""
            },
            "colorscale": [
             [
              0,
              "#0d0887"
             ],
             [
              0.1111111111111111,
              "#46039f"
             ],
             [
              0.2222222222222222,
              "#7201a8"
             ],
             [
              0.3333333333333333,
              "#9c179e"
             ],
             [
              0.4444444444444444,
              "#bd3786"
             ],
             [
              0.5555555555555556,
              "#d8576b"
             ],
             [
              0.6666666666666666,
              "#ed7953"
             ],
             [
              0.7777777777777778,
              "#fb9f3a"
             ],
             [
              0.8888888888888888,
              "#fdca26"
             ],
             [
              1,
              "#f0f921"
             ]
            ],
            "type": "histogram2d"
           }
          ],
          "histogram2dcontour": [
           {
            "colorbar": {
             "outlinewidth": 0,
             "ticks": ""
            },
            "colorscale": [
             [
              0,
              "#0d0887"
             ],
             [
              0.1111111111111111,
              "#46039f"
             ],
             [
              0.2222222222222222,
              "#7201a8"
             ],
             [
              0.3333333333333333,
              "#9c179e"
             ],
             [
              0.4444444444444444,
              "#bd3786"
             ],
             [
              0.5555555555555556,
              "#d8576b"
             ],
             [
              0.6666666666666666,
              "#ed7953"
             ],
             [
              0.7777777777777778,
              "#fb9f3a"
             ],
             [
              0.8888888888888888,
              "#fdca26"
             ],
             [
              1,
              "#f0f921"
             ]
            ],
            "type": "histogram2dcontour"
           }
          ],
          "mesh3d": [
           {
            "colorbar": {
             "outlinewidth": 0,
             "ticks": ""
            },
            "type": "mesh3d"
           }
          ],
          "parcoords": [
           {
            "line": {
             "colorbar": {
              "outlinewidth": 0,
              "ticks": ""
             }
            },
            "type": "parcoords"
           }
          ],
          "pie": [
           {
            "automargin": true,
            "type": "pie"
           }
          ],
          "scatter": [
           {
            "fillpattern": {
             "fillmode": "overlay",
             "size": 10,
             "solidity": 0.2
            },
            "type": "scatter"
           }
          ],
          "scatter3d": [
           {
            "line": {
             "colorbar": {
              "outlinewidth": 0,
              "ticks": ""
             }
            },
            "marker": {
             "colorbar": {
              "outlinewidth": 0,
              "ticks": ""
             }
            },
            "type": "scatter3d"
           }
          ],
          "scattercarpet": [
           {
            "marker": {
             "colorbar": {
              "outlinewidth": 0,
              "ticks": ""
             }
            },
            "type": "scattercarpet"
           }
          ],
          "scattergeo": [
           {
            "marker": {
             "colorbar": {
              "outlinewidth": 0,
              "ticks": ""
             }
            },
            "type": "scattergeo"
           }
          ],
          "scattergl": [
           {
            "marker": {
             "colorbar": {
              "outlinewidth": 0,
              "ticks": ""
             }
            },
            "type": "scattergl"
           }
          ],
          "scattermap": [
           {
            "marker": {
             "colorbar": {
              "outlinewidth": 0,
              "ticks": ""
             }
            },
            "type": "scattermap"
           }
          ],
          "scattermapbox": [
           {
            "marker": {
             "colorbar": {
              "outlinewidth": 0,
              "ticks": ""
             }
            },
            "type": "scattermapbox"
           }
          ],
          "scatterpolar": [
           {
            "marker": {
             "colorbar": {
              "outlinewidth": 0,
              "ticks": ""
             }
            },
            "type": "scatterpolar"
           }
          ],
          "scatterpolargl": [
           {
            "marker": {
             "colorbar": {
              "outlinewidth": 0,
              "ticks": ""
             }
            },
            "type": "scatterpolargl"
           }
          ],
          "scatterternary": [
           {
            "marker": {
             "colorbar": {
              "outlinewidth": 0,
              "ticks": ""
             }
            },
            "type": "scatterternary"
           }
          ],
          "surface": [
           {
            "colorbar": {
             "outlinewidth": 0,
             "ticks": ""
            },
            "colorscale": [
             [
              0,
              "#0d0887"
             ],
             [
              0.1111111111111111,
              "#46039f"
             ],
             [
              0.2222222222222222,
              "#7201a8"
             ],
             [
              0.3333333333333333,
              "#9c179e"
             ],
             [
              0.4444444444444444,
              "#bd3786"
             ],
             [
              0.5555555555555556,
              "#d8576b"
             ],
             [
              0.6666666666666666,
              "#ed7953"
             ],
             [
              0.7777777777777778,
              "#fb9f3a"
             ],
             [
              0.8888888888888888,
              "#fdca26"
             ],
             [
              1,
              "#f0f921"
             ]
            ],
            "type": "surface"
           }
          ],
          "table": [
           {
            "cells": {
             "fill": {
              "color": "#EBF0F8"
             },
             "line": {
              "color": "white"
             }
            },
            "header": {
             "fill": {
              "color": "#C8D4E3"
             },
             "line": {
              "color": "white"
             }
            },
            "type": "table"
           }
          ]
         },
         "layout": {
          "annotationdefaults": {
           "arrowcolor": "#2a3f5f",
           "arrowhead": 0,
           "arrowwidth": 1
          },
          "autotypenumbers": "strict",
          "coloraxis": {
           "colorbar": {
            "outlinewidth": 0,
            "ticks": ""
           }
          },
          "colorscale": {
           "diverging": [
            [
             0,
             "#8e0152"
            ],
            [
             0.1,
             "#c51b7d"
            ],
            [
             0.2,
             "#de77ae"
            ],
            [
             0.3,
             "#f1b6da"
            ],
            [
             0.4,
             "#fde0ef"
            ],
            [
             0.5,
             "#f7f7f7"
            ],
            [
             0.6,
             "#e6f5d0"
            ],
            [
             0.7,
             "#b8e186"
            ],
            [
             0.8,
             "#7fbc41"
            ],
            [
             0.9,
             "#4d9221"
            ],
            [
             1,
             "#276419"
            ]
           ],
           "sequential": [
            [
             0,
             "#0d0887"
            ],
            [
             0.1111111111111111,
             "#46039f"
            ],
            [
             0.2222222222222222,
             "#7201a8"
            ],
            [
             0.3333333333333333,
             "#9c179e"
            ],
            [
             0.4444444444444444,
             "#bd3786"
            ],
            [
             0.5555555555555556,
             "#d8576b"
            ],
            [
             0.6666666666666666,
             "#ed7953"
            ],
            [
             0.7777777777777778,
             "#fb9f3a"
            ],
            [
             0.8888888888888888,
             "#fdca26"
            ],
            [
             1,
             "#f0f921"
            ]
           ],
           "sequentialminus": [
            [
             0,
             "#0d0887"
            ],
            [
             0.1111111111111111,
             "#46039f"
            ],
            [
             0.2222222222222222,
             "#7201a8"
            ],
            [
             0.3333333333333333,
             "#9c179e"
            ],
            [
             0.4444444444444444,
             "#bd3786"
            ],
            [
             0.5555555555555556,
             "#d8576b"
            ],
            [
             0.6666666666666666,
             "#ed7953"
            ],
            [
             0.7777777777777778,
             "#fb9f3a"
            ],
            [
             0.8888888888888888,
             "#fdca26"
            ],
            [
             1,
             "#f0f921"
            ]
           ]
          },
          "colorway": [
           "#636efa",
           "#EF553B",
           "#00cc96",
           "#ab63fa",
           "#FFA15A",
           "#19d3f3",
           "#FF6692",
           "#B6E880",
           "#FF97FF",
           "#FECB52"
          ],
          "font": {
           "color": "#2a3f5f"
          },
          "geo": {
           "bgcolor": "white",
           "lakecolor": "white",
           "landcolor": "#E5ECF6",
           "showlakes": true,
           "showland": true,
           "subunitcolor": "white"
          },
          "hoverlabel": {
           "align": "left"
          },
          "hovermode": "closest",
          "mapbox": {
           "style": "light"
          },
          "paper_bgcolor": "white",
          "plot_bgcolor": "#E5ECF6",
          "polar": {
           "angularaxis": {
            "gridcolor": "white",
            "linecolor": "white",
            "ticks": ""
           },
           "bgcolor": "#E5ECF6",
           "radialaxis": {
            "gridcolor": "white",
            "linecolor": "white",
            "ticks": ""
           }
          },
          "scene": {
           "xaxis": {
            "backgroundcolor": "#E5ECF6",
            "gridcolor": "white",
            "gridwidth": 2,
            "linecolor": "white",
            "showbackground": true,
            "ticks": "",
            "zerolinecolor": "white"
           },
           "yaxis": {
            "backgroundcolor": "#E5ECF6",
            "gridcolor": "white",
            "gridwidth": 2,
            "linecolor": "white",
            "showbackground": true,
            "ticks": "",
            "zerolinecolor": "white"
           },
           "zaxis": {
            "backgroundcolor": "#E5ECF6",
            "gridcolor": "white",
            "gridwidth": 2,
            "linecolor": "white",
            "showbackground": true,
            "ticks": "",
            "zerolinecolor": "white"
           }
          },
          "shapedefaults": {
           "line": {
            "color": "#2a3f5f"
           }
          },
          "ternary": {
           "aaxis": {
            "gridcolor": "white",
            "linecolor": "white",
            "ticks": ""
           },
           "baxis": {
            "gridcolor": "white",
            "linecolor": "white",
            "ticks": ""
           },
           "bgcolor": "#E5ECF6",
           "caxis": {
            "gridcolor": "white",
            "linecolor": "white",
            "ticks": ""
           }
          },
          "title": {
           "x": 0.05
          },
          "xaxis": {
           "automargin": true,
           "gridcolor": "white",
           "linecolor": "white",
           "ticks": "",
           "title": {
            "standoff": 15
           },
           "zerolinecolor": "white",
           "zerolinewidth": 2
          },
          "yaxis": {
           "automargin": true,
           "gridcolor": "white",
           "linecolor": "white",
           "ticks": "",
           "title": {
            "standoff": 15
           },
           "zerolinecolor": "white",
           "zerolinewidth": 2
          }
         }
        },
        "title": {
         "text": "GMM Clustering"
        },
        "xaxis": {
         "anchor": "y",
         "domain": [
          0,
          1
         ],
         "title": {
          "text": "pca1"
         }
        },
        "yaxis": {
         "anchor": "x",
         "domain": [
          0,
          1
         ],
         "title": {
          "text": "pca2"
         }
        }
       }
      }
     },
     "metadata": {},
     "output_type": "display_data"
    },
    {
     "data": {
      "application/vnd.plotly.v1+json": {
       "config": {
        "plotlyServerURL": "https://plot.ly"
       },
       "data": [
        {
         "hovertemplate": "pca1=%{x}<br>pca2=%{y}<br>dbscan_cluster=%{marker.color}<extra></extra>",
         "legendgroup": "",
         "marker": {
          "color": {
           "bdata": "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",
           "dtype": "i1"
          },
          "coloraxis": "coloraxis",
          "symbol": "circle"
         },
         "mode": "markers",
         "name": "",
         "showlegend": false,
         "type": "scattergl",
         "x": {
          "bdata": "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",
          "dtype": "f8"
         },
         "xaxis": "x",
         "y": {
          "bdata": "RsYpkiqM5j9IDaP/HR3dP5TZtLlWZ/U/aNuNIWeA5z+Myhn6gRjCv4UMU60V4uM/McPVT3fz8D+CUCON22zfv6jHfFWwdOa/sx77NGQc9D+kP7hef2b+vxcvEo0elvU/t7rZV9xDzL/A5XhGubDtP0bQ22VZTcY/0k6WVgaA97+wdc9f7z7mv+1xS95/CNk/w5I4Ad+Q/D+aeTOt6fz3v4ICS6yoA+e/0aShhswisL+hYidiNHrpP9kaSiLZVvC/U4Ltprig+j+ridCp3pPcP2duN+n4XPG/dAE37twg6L9wUaPfiJfjP3RMnErXQPc/YP8vekHY8b8Ll2wUoqP9v36OizlWk/w/sUT8eSfh3b8ndU115DvFvy3UhB5FMPg/eJdrGmM357+AbFWfJ//Cvyn6we4NOfG/oFeVzAJf4D8OeEX7Azi+v2C77c9le+o/1twovvEt6r/Tkzb42lPRv5jZq4HeH9s/fTgacozL+r8nFoLVgBPjP/SAhUbsqNK/4+6iyghs7T9pDPd4s5LyPxwj8J1sSN8/O/z8EuZF+79QYi4HPAD2P7acUXsRofM/bj6lIgKV8L/+BEvIyYz1v6LBY4TqAN0//18svXO28b8fvLF9aDvwv4vImFAbOPY/MP+ahtQw9L8vAPh4VX7Gv8+lJl5IPfO/V7Dbv/J377+Gm7aSef/Rv71uixnO7da/9DQoHa35sD87MMBLai76v4pijeVX+8+/dUR13AK35j9vyy9u/lH0v8jgWgZDTdo/eSoQ82PXzb8FaIUnxPbrP3lrp356W+q/g0JQdZTv278jykCiV6/xv2UZ9B59T/S/YW4eq1qn4z/qa3gE+77mP9Jz7BGFfMW/xxPT5SvZuD9JZOQgcBQAwC5KQUjXWN0/rYCu4dcC4j84yTvbIY/0P0Inc++ILek/HUDD/UQu8j9Q1iA+ucr5P+3ZTYKHsABAiEd7TdgN879ufmmd7ofoP0WcJHRtLuU/gg/KJE9/lD8o2zDDOIfwP1d/G9nSIeE/T2CXUv7R/j+HapHyrlHoP2OS5r/m4eC/tQW+X29m5j9nGffN52ryv2H2ORHG8d2/XcS/ucJj8j8hQ3RcUuP8vxH+5e4YfsM/6It8V9NCkr+26JlM1HDOPxOybEZbWus/1IszLakp9T80U3UAPE3kvy3jVTTbXKa/nyd6/BOe/D+XkHPB9kz+P+rwC5C+MOu/srPTCtO11L8B6Fqtrin9P2J/mlW+Hdq/4TXcSQur+j//Va4uXRHzP0qF7/DCIuS/mlVug4iw9b+FTb8rBsrhvxKQ1E7hB9W/RC7nT1lByT+vpmnWQH7jv2ycebJRr8a/ovs1E4nS7D+rfNJRS4/1vysmWJHa1u6/0xv+mO2xxz//j64hFMT+P59h0ar+8vQ/N8tiWAmtv7/EGsoev/LRvxWzUee9S8c/1tmu0l2awT8PadlQKc/Vv8efZIdRp7q/VIL2YLYF+j8t36ZHSe73P1urndxeeda/2jygMjut6b8lbLB7W+z4v37gtmnzwNA/TI/xxNG17j+cj4xbvjfsv2You+fe9ti/uvzH1qDZ8b/JR6kDEGD4vxhe7ERloOI/lgSij3WS6r/gzxRiVsjmv+tCkhl+muQ/3sA2Dkgf7D9IQ/cACcXjPzcCwGUReN6/b1cAATCK7j+RttcHzFD0v7lDlMI86ec/uX3u5afm3D9BBifCCi7jv3vtfGzobOC/g32gGUWr87+UjS1ZvkXfP9mZZb6IrtQ/HdaE0hGj6b8BebFvMYvhP9Wwal91Ufa/tEtgC1L477+hdVcqJSXsv6/5aHcuIPg/6tlvr84n0b8ps+3wae7Yv0bMOVNWAsy/TLCT4JcL37/qTqtTDBz+Pz5gs5s/If4/PUg91Ye34T+7UFVOnlPKvzsh210Gu/I/vIqMUK445L+dZ9zcUcD1P4/xIQfQMdY/e3ZW3QLf479JrHiqN6z+PygVK4rX8du/mWhF59Eixj/qtnqSnU/5v7gA0pzcifY/5/3iArzp3b8RMBIqWbD8v3MeUFsVwNW/qETBT/GI8L9QXAop9c7Tv8QdnqlMr7w/1FihF8OU/D9hsaZHG2TDv+iW/whz8MM/uNl3LMJP479Z1RraqLz+PxwLBlLhxvo/jVffNo6z9b9ZECW078HmP7rHiboEUfa/rm1+MVK3vL/dFTTeK6/hP7yDl7Ih7+M/V2eYA7VC8j8ZLBHtwNPlv5dlnkfQvvQ/z+krMZfr578dAPREPT7gP7cqNqTNFfO/fwatz1fTAEBkNZsQb9L0P7Ubs33wI+Y/QOH8UFPR0D+3zHSUHu7ivxt615w8iPW//gCW+eEK8D9E0kfOCLz2v1L7w8TqTeu/jvVUN0x+vL8BsN7AfpbzPyjHWhXzuNM/+SJ8bk1/qb9PjZrTuETSP0DxkNyUxca/RhmdVgOT9L8qLz1ZuRz2P1s8avjqeuW/iY/Vjpua+b+uaYkNh3PaP/x7QnvCXdm/syIN5wrQ7j/IP2tOcwT6vyV5bKRUPtC/JJjNU240rL++8frn5NDCPyfT00118/u/TbyUnEc55r/0HI22ZVnhv5qDdXdvgeI/zS6udu4y5r+baRTRKXvLP4iyP+hvX6K/BSn5G8yU7L9GmitEKyDlvw1HmilAoui/EaYWWoGh7L83NMi28mDqP06Wy++88Pk/srR3+YOc5D9VHmk7PGvQPy9DEc4TKdG/+aB+w0d06z969Zt3nnnZP5/Bp5aQNNQ/ibZzwmZk0L/uUOfDg3X0vy41NwvbAvw/WvYUBOrd0L+G9wTJUO33P+UGosnTFL8//fmcTFhK1z8o6+FGjBHHPws03LGmL+A/JfK/pqdd9D+3c9S0qhrmv+5z5KM/3eO/6TeJ8Gr2/T9NcC4YSs7mv6CF3Sd3K9Y/RZt4YUx81L+9JghvF5r2v8BkdAZU+Pe/5e6s0kI0+b+9dhVd5t28P2YJm138BOC/CPS0imWZ6z+pdCkSTSnmv5hABVrWore/c7D5noqP9r/3xS89ysPzv+hAHCsG2+i/QPASWrc/479E4/akQ78CwMg89/ejAMg/32+7ohF3+r+aoQf2xKSZP7MNKb+/pdE/tyWZYI0ny7+e1/LcxGD/PzKxnfOX5ti/w+exPDWy+L+eTQmYc7fZvyz+0Zmfa/4/qrNN8MrX4D+edu6cyOPxv/htea3Iyvq//s0K033G7L/Agg+muamyvz3PwUbxO9E/18mgGxd18T9yKH7vlHrtP+DJo5TupoO/7VLqFhN27L+oNXy7ymP3PwNHt+7rAts/M3zo7H12878tPcHofW/Yv8TCDESaiPo/CHQkRMVh1z9Nzuks0OzwP/AIGMESNOw/pc4jRCNv8D//7NM56H6gv+/2bkH2eei/y+ZbQffS0r+cX0T1EvSuv8I5WlFd2YW/1OT4+ZUEAMA2xmoiwIvSvxOShnH6OPw/slfnNOPp7D/noqXT57vrv/Y/O3vFiPy/cCkyRhoc9b/804qdHlblv3+ZZhjtWfK/2TUKaq3P+T/IDmWjRIT1vxIDyRDy694/G8hmtCUX5z8lXJB3LVLXP8sbMqk58Oy/ibGxq1W4wz9F3YhQaar4v/fjSCT2+uk/0pS6EzbGxL/s5O19QJLNP4924fxh5/G/EFINKnDjx7+S7mBfEev2Py11u7TvBOO/T/BKV7aRpD9TXp2blAbOP1Ak2UVOeuY/WqPcwsVAAMCjI9RoSV7Qv6PMpnROXdc/Z+Riv5X44L+v7MMiy44AwEoJuHrd8u+/RxQXujxT/7+oUHll/l/kv0poYq4oZuu/cU4HdBJ16L+aQTgdBsv5P7mierz+lOG/LAveoo7q9r9dCQjI99jfP1LRAmTucfC/ijn1qew48z/mvZB606fnvzWucNe6Bto/AY1NKTRF8j+9IwGWtM79Py8sIxA8l/a/DbBr9aBd6b8OAn8rsAvKv4CQdKSS9pK/MIw6PShQ4L80N1uAkTnTPzmWFrzC6+s/p7vcS5m/+b+ZNgKwmEsBQEwwEPlS3vq/DnrFGrIo1j+Z/FH1v87vv5z4ohMSFcC/CDcmPD9S578fdPjTbwbiP/xpjIQwqtu/BlNpC8SY3r+yCYZWQ1XvPyElOoCAedc/HReQz/qN3b8ObH2XvTXpP1Gc/WrVZuK/wRo8OjTHoD9G2fwT4QjlP+y9VYVi1MK/SyqXYD7h5L/gM3ITF2j4P1Q/bDIzyf+/tiRoqZ4M5T9dlXxEUQDzP+IwcjbevfK/SBh9U3xJ9T+YeA19BxfsP0sUVmAUPfI/Cr+/VnVH4r+GcGHBvE/wP3fRbq9BBJe/t5+sffRP5D/j2moU/7/0P6Pi9FMVjdI/uKqFGSnZzz9lzkBvlErQv1oj01eFftm/vFi5AB8C7r8Zd2yPCmjYPypsx/2gW9u/J3Rq1WNF8D9JpFlxlX/rv8eDyMppnNi/aQAlR53f478VN6Ul5yPpP7HQi33SPv2/MAFmSlrN5r8t+tDfKLnQvw5jaa3ODMc/nWFn8LVK8r8594HkfDH2P9RTCvSjh9y/pgrw4wYOzz+HhKMxcOXzPxlFnG5eOwNAIR+VAoIz1T9DLwztv4Tov0OtixxsetG/Nde2MihL3j+l79dQC17uP0FgMYxHHcG/qE00B+zf0j9+R93HhAT5P5zkBBeRKek/WNwHRz97qb+fu5KEW2WWvztUhl1o8u0/uzo2pwzavT+W3XCzn6X1Py/2M3Bytso/MKwYi2vA8D+tYxD4mZbEvz/uw85MY9G//uh7dt3h2j/78BETuBz0P6xflPqiZ/C/8nxyDCV72D9px4eWuP3gPwL5nNbinQDA3bAj4x6Rzb9NpK3l/vfaP5K8m0YqceA/m+CwbqjdlL8YtWk7HSrTP+TqbcsW7Oe/rCxFNPCP5T9yKQpl6F/6P24wNu2Ti+K/xvMFSWl97b9NyXovvZHrv5H+79tqlvE/2Kgh6oPR5j9DpitxSv3jP0LyrN8FBfi/h0US8ZLn77/8LCghf5DnPxHdbZNak+2/Fe+9Ka654b93Sc/lHdTWP+XozhcnRuQ/9d4MKv4P5r+I3g6C1NHlP9MJR9ERy/E/4/jVqpWAAEBZVeOcQy3wv0DejK9ZI+o/1OpPCuTrtz+ThxgcWqH/v/VOcoYINoe/3EB3cit2+T+YyMEQKGTXP8u+Gk96R/M/qR6C2QR397/sWldcZXXIP00TAAKkrfY/mH8049et5D8yIt1xqf3lvxKdmjpdMM4/V0o5RTaM/7/MHDmI5zr1P6036xeAh+0/VGCsUM8R1b+Q99xEGEfgP/LdjXaEPtw/EnhXzqS43T/1rySXSZ7iv5vsLdnsxP8/PWS4m6NT8L+u2oIR80j+P2UsYJ3NN8M/adyJtQrP0j9xZuWhddqxP1dSkpbZaqw/RDf+lJEX07/Dsms43RffvwBSJ3tVys4/xAdGEwxa9T+wZRq7MJ3RP3ZGDufCN/G/X7QY0Cnx+L9/ZGe/dYKpP0wUM9aZk/I/2r3CiL6K5L8GeedK5k74Pxn/62evIsS/bhZ/WMsl3z87/5Sv6qbnv3KnArVsNuS/Nuszo6zY2T+PhnNrQiPgP55be3yP9PK/i1v7jcmI37/7Gno8J8q7v6cMM0j7VvK/rIwdY2bK2D8EVrM4cMnuPzOIeF+BBsk/WIFfNkwi1D8sGlreD3DwP4DQHKNahOU/NPaXkj584z/7RGbcMne2PwzvI/bEIeK/7WsALSU3uL8Ax+Yi5tLkP+yo0rfXK7o/4B8fHy72/79Z9Tu3bnjvv1kRqvxH8PC/LstviM0O8T84au7pHni+P5ld56Sl9NY/t/obAWkH9T8/bKWwyOsCQPmT8ytdDtc/mUTt5bPn5L/J+0q8+u3nP/ngfYPITPy/bCLhy8ga7j9lu+a66CP1PxqxBXr01ABAn5xTdK1KzT8fz5JfN9j4v8nP/D2o2+I/k3RPBVYx6r9Pst0RdBvbv+lMEFqusuU/hp2yWTuE1b/3Gs0BuLwAQJpy0+1nz9y/VcpEm/qx3r9UMeSY9wH2P2d+o1JSovK/rMLvyHCyAEAedj+wI9DqvwqUTbFhwtu/lci/AOhC9D+fcgLc0Zy0vyShMUMw+f6/RTslIRqOqD+M/kJ1W+7Cv0L2cwrQH7A/jAc/yh/6sr/9d5UWisXzP3NDDHUn5eC/domHSMqK5L+Tq3o5Umf7P1kaTSYjhMC/ETWQIGHt6T+rcNEMs2beP/uEZZ64Eu+/W8ABGN3Y9D8Jvop7L6bHv7KsjL64BuM/4il28eRIrb9uGw2atAbcP7YGHN9z9eG/cyms7sVi4L+AqjJ8gkrgv2aF+KAzhvA/rYHB47//nz88Lb6aHGX7PzkLDjUFUN0/2ll1J8rdsD+5LGNBeCLUP8LigtWo1fA/43LtisGt+b8ERzTbm0bxv8iW0bzcCfW/i8kWTL8o9z9pStAFN3PpPyxLLy63P/0/CLObs2It7L9/xRlcDO/av6p22ELgTuU/bOMtRyt8mj9PvzOO5SXHP9ArbnFujO0/W7RCRvpa4j/ajwhG/tnmv6ca32aNouq/xHLVxGb78T/3w98MO9bpPyN1SH0C4PC/cYLZ4DJK9r+N92vbMW3rv0MV7e5lHvO/JTXh/kez4j/sTFWXq3vkP6DKbqnSRv6/8dgD8Ny/6L/udvNKeUf0v8FEa8ymWeE/atUNzjur9r9BZc722+ncv5ZlOWT2Hu0/LliNa8dp3L+rYdRIAsvMvxHARKywsNk/Md6n/ZIE4z+VaWb7MuvlP7G1W3pLvOw/Z60mkho23b+H69g5vs+2P4p4iRdYbfQ/L70bbCkdo7/e0EGQ/zHbv3+18rGoe68/IrvGKvhW87/sKhxaVfndP0g3k2nDGtM/6bL/mK0u5T91QFHgKK3yP1V5kyuIXeU/FoIxa+fE7L+lNaFdC0zoP2MicWCZJ/A/UmfJkZuS5b+yf+V67kz5v4XLRaElA9A/b+KiPhml8L+yR/O4uDP5PyWUkdZXwMc/eo9A6Gib4T8R0aA84R3RP4zTcrfh57k/gFB0sWuSrL9+o7o7DQXwv1F4p99ubeQ/GDoqnCwK97+rsm1aAI/svyopZV0/vPs/KUkuX12C6b/fPblG1+j6PyaE9oLB2PS/O4n635HB6L+0bgcO7S3nP0hVW+jPm/A/FkMSNmuolT+wgpmRDqL/P1F9P6Dj5eQ/tjAgusJx3D+oHsbEghXJv5EHJbwJ0cg/jITOl5Ua0b9u8IGKiyzrPx6YWy5xQfQ/XI66KXIr5T+X+l+qGH7ovwHVCHC99uC/DvR6nuNeAkBh7ZVhKEPAP87u1hl9tfO/ypFq2j4r3b/hDr79Cr32v8JbgnR6Htg/1cp0inulAEBVFThsLh64v5bRIoHyj9K/GEhfD/zd+L+V+u4EXSL+P/s53ojNytc/t7IvuUSft7/jJnbnO/LjP3fJtKh5Jsg/ejKFzwtAkT8x1zyZnyL/P26SRAaMEfW/MQe7P2hawr9MrKd0b1XbP1f8CArFjPS/YgYasL1cz7+1JxdVhK35PyzcFciXmOe/KJ6DluzLAMCyXP5+rTH1v2zUWJn3Teg/MK+FVOwx0r/RDQ5SGY/pPzQEI8ZfTOu/OmR7dp3t8j+VzrbfHT7QPzGKzf6u7vC/7UtSAMpC8b8JZHlDyKH1v6UZa7YU5vO/V9FiAoIs4j8RB6oDnDD6vxK0WfLNBsa/XE3KplZd8b/MmyNpthzCv9XPrPUYIfk/I6ViHA8U+b8+CA81/yemP6yvqf5sWdK/o9WXdL9u4b+6s54EjtPhv2KXEMvsaeg/1hfuyKld97+j+Mnn0R/0v/+wvhTUkeA/eafuPg4zzL9tnFQ+52/4P6psM8USAPC/ZEa80Aak2T/x40N2YEasP9zGNmf/mPs/mcmCjUBpzb9H+7KmCC65Pwk3zryYetu/jigaBdNU2z9H8gx2FHbKP8f+6FMt8fO/VI2FdK7T9b83BF1agYTxP3GisU38L/k/LAhC+IfH/T/sHpSk4WrgP1VPXOSd4s6/sUdGkJ9I9r97TS+tZPfqvwidylMX++g/djPTLsgI279o8F43CzGYv49gmIjtx5G/etlj5LB26z+sgx9j7urRP/6Y2Er6re8/sIeZl9Oq7L+Z5yK0d/zrPw3Qy0OdsKw/8UA1QpnUoT8rktacozKpP6UP0urFtOc/m9S+6rV79D+UHm5rDOXmPxsuWdiYy/4/Od0NJWFo9T98UX5R9fnRP5XuRvacade/TJfBw7D5+r8/kyX5y2kAwK/ZoiaKxNC/6tBtjpsB4D/hqErSyDbTv09AB39q9uw/5Vx2oEtx8b9t3ZIecanjv/5WJakQBfO/NTAhILEE2D/AmFV7Rt38Py49Gm3iY/c/DSHWGo5V+j8BvHrsWRbjP4QJqsLhevC/TvqfI0+Y17/qaFBcfVDsvxJXMJHfW90/hpRULkmuAEBfv9RgxNHkv2cDvA6Ug+c/LgbiC7E8uj8ZJ5DPE5r2P9M+hQbdm7q/O0toDzlo+T9JxM3DzDTyv0tvKjfTRuM/wzAt4NNv57/3JicUYvTuv65I+wicMuY/Agd9d0Zq3r9FNoFaevzTv2BhQNynk9C/3Gdi4XtCtT//BNDtlK/3PzrVWII6UwNAnLeNMqLM6T96nogeWRPEP0kCvTn8Jew/K8oTvPfp7D+DPiebZHzwv31kqP1HA8O/gNV1lvnb/D9H456voznmP9N8NmWCfv0/pPB6Wa6boz+qcpzp+t/1P9g9oXU2Ccs/w+0/4eMi6D8E7IanKKDlP0cu+v1i7Oe/3xY28off4r9nKmNEM5vtvy/yoVYsK/0/us0H7XfQ7b9fOWvWsnLxvyU9TJ4ySvM/nejLzaHC+T9AvSF2luHyP7eeHfd1A/M/q0CWIxkp1L9YwwfBGwfuP0WY8sadJP2/BeY3GBZY2D+NORkNJpD2Px/3hEuwhuO/gaobK7904b+r97E2xXLwPziCuMYH8Oi/2NhKVPyT779Cqvkr4ZLhvzJOJHjN8vQ/bTzyrLDc+b/bla7dGhffv7r3diV+oP4/NazZN2SF2b+sIcGk/kTmP1Z503hFbtI//tpECYjWzT/cfSrJpRrjP3bCGTX6mde/GCOTQkTC3L9m3mzI1FT5vzetREOWrP+/z3VyYpI3vb9/lucZyLPsP+w7YRq/FPM/8/wMH/Oq9T9Ai5m/20Div5KbJu6wDd2/0Ffjqwuf97/GWG53Yln1Pwa/PTJ8RNE/fzrupm41t7/A9UpZ+0b7vz4ZTLFlP+I//cUt8fMo9r+I9vbqXW3Zv0AOKRutsfI/go60HwAO6b8sDcVEI//tP3bMCBT2Tfa/8AypA/ij278Pj/N4OvXcvynzXO6E7/C/h0CX7T/ju7/QwkRRU6zdv/gHoSNWbMg/lJZi0U9n/b/KfNOKumHUPyX4dN4zpMu/a2sBcW4+5T+mNLKHhRjwP3Alld9WnPg/qLhETGlM5D9tGY/qRai0v4BvGxQwAuq/LH+JatFJwr+pJMmfGI/SvyYz25ca2du/mXq5G5e01L9YxiM/RCfsP4WEoGummfW/uI2GLfh/+z9oG338OWXAP5NjROOLjvA/bO/XEx2n479zSAmLejbrP1CtXteZiOm/u1F6QEwh5b+QIBeWQp/hPx9PjfTqmOI/mUI1Uh1m1D+2nINeTsnEv6djpgs+0OW/zp83tO5n0j/l/RBWhGvhP17tDxVq4tW/g367vQa4mr8JfpSXAYf2v5HBMFbDYfQ/SITQOA1Z77/vVImxuQ/MP7a5JnrEU+c/+zaAOOBG/L8ETBCLl87GP+glJddtw+c/yiLpTUtl4T+xn9L3aRXzv7/Cn86UuPA/0F2AMtq39z9GC1/thqnBvxREXOZakMA/aW2tmdU7yD+TCsAiPg3tv35Va5fdWMA/NSbJ+gX+7b96g2pEmMHwP6UuUNWartY/hbz5VJ61/z+5XBRpGbz8PxSxp08quOO/tmrV9XE5+j9VVpCv88qjP13XBdK4+ce/xASJ5uyp4L/BGHCsEVzcvw7JPYBOM9g/5EXQHOGu+j8BoRMHznP+P13eBB10pPU/RKcnvWcX479k6Dz71vH4P9usG46aG+o/IHgOTiKH8j8KzMZv+6DyPwQLkLwYV+M/Qvn8QtG9zb8Wg4n9pq/9PxyfzfKn5vM/ZERyVfPY7r/m8D1ruDzSP/UHfnFwG86/03v0wo5kwT/+90DyNCj5P0uC3QTm9O6/czE4la6azj+19lYQyOXSP8pByvenG8m/GZ7vpsQCpr/XFkCnaofMv+MSgr+vD9e/sfYUqz1Q3j+GsgVCfXvwP7jvtnAx9qG/px1O+LR3/z+XZA9I52fhv8KsceTA3O8/AUMnHKJ+5T93S6Fj+0Lkv9u99szszQHAk6WKDm1C5T+hlEoNkC7tv++Po6eNMd0/0FNBQOZ57j/6bj+zTaDsv/26q2qOH+K/nLOF3i4H3j8kpyxkmJT5v4bDYi/+8vE/0tFeEz811T+0rsLeZYr+v8X5uKkL790/6TtzPzMR5L8w6FVmD5Pyv86lDgFBoP0/O5Ol6UWy1r+ipxIlM8bgv2nsU6kVwABAL69mIWE6/D+QyrLHje6YP5epi1iJgc6/HtbkLIwiuj8PgE4onpPBP1F2JD+3lOg/ZIj41cw9178Se0E9tXKxv6Z52VKfv6g/bSNdoG7G8D9ivNLQDwP2v5mI4aSM9OA/w9yyQ2Dr9j8P8s75Sd32vxVcLIWmVq2/tm/gPS+23D/j5HH3eELLv31GiGhoQeS/9+a8H+226L+IkFPWWsLvP3ns9/yrVdQ/uljzNNRA4L+ANrsdJ8nIv4aCz0VNzMG/A8pAwdGm/D+YobYMXKbjPxlXMkEQp+G/8WdU7DzN5z+g17OkrHn+P9sN9LIFt9E/Ip4c1Oh53r8kuViFsEPbPyRWdGyq9Om/dzu6B8cM6T/WNpo0KePpvxSy8fl+UN8/z27DqIjr97+0D5p3dva6PxgmGzd388Y//PClyNsmxz8ZO8b3DBLhv9YItwFlJPY//Li/2Ije4z8mjINqu6jRPxKZvAaL5vM/WlnY5bJktD+GGMPq66b2v/loPGPoiNI/TuOdZp9a9L/OMsCpyyHbv2hPRzLMKvo/l1s8r/80xb/bYktMUOzyvzubwISafPW/m9ErbXXn0r8cyLC5V9/oP4TecV/6R/C/60/g/c1o7z+B4WzYmazwv5U9gbDGlPy/HfhukUWt7r9De/wAyd7Cvy6docR1W/2/k5EyViAx4b9w2y0NtMfXvwciRfozZfC/4ScVcAhz5D9sdU3QgHX9v4yrPD651va/dTMpP7Mo+z936NnYMWnyP1+X33d2Sso//ZDU6IAY5r+pL8Y+qgbDvz2jxDEsfve/SalMnEWPxr8z8z0/6Bn7P9F05nd/jsC/KxolMt0pAcAS8qLlnMG5v0TPGs2uf+q/1GPh0tQI1L+o0d4//nH9vy4oymUMStk/PvKQJSW91z/3JDC29jvRv3MPOnGDTQTAImHOsoEq9D+XbkyMFIzzv0mU3pRjaea/Eo+Gncwi9T/U07sxsjPkv4k3WpRxrcI/jsd8f7107D/I05Vaw5nyv8EjbnyFXNA/q8TBtVx28L+onJxPT63Kv5LyvJ2+fPU/5sSuENAM9r8coKNq8nTFPwHFqX+DH+W/5XY/x1NDvz/K5+8YARvmP/Doep8Po+E/PE5i4CGM8j+eANTQXEfyv+6hhFfngrG/ynBFs7H10z92NyAiEuP9vzk8gzJ3KfO/cwrEOIlzzT+C9MlZsnHWP+hxzlvYoOa/XikXRWQv/b88LQXrqQzxv6osqZhSlem/9wDa7iwo8798XYUgw+jCvx7ZXOb57ek/k17yDogB678TSXXoJxLdP6Ax3CKgCu6/ksphGt648j+klVXi7EfyP+n7KATBEOK/LFzSsSBH4T/SqWFJcojVv6lMd2etEuA/GJDsByeOxL9K8a8w8d3Qv4awug6QXLw/iCNKIG0Y/D9rHwNvp2jyP7zph4fc2+k/1JwZS8056T8lkj9dLYfyPy0WMCRA1eY/Ifx8vQo04r9Fx7OFARPtPx9+3z+GfP+/BKJmkcBV0j9QHuFEWtUAwPQ/3YSha/W/gIvSszrBlz8/YO4O4Wn7P41TFK5e4PW/wI5LohY487/Z6kQIklnkP9xJv0QyMP0/TCoctGeD4D91dNnBhECnv1FP/W5r1/o/4NOKdwyg6L/5Q8h1/MHxP7fD4s25euy/iKP55mU6+T+1B3hvsC77v8Qn4JKeSuc/nEusyXcx7j+vH41v4D3wv4k3r2ALGfg/Yc9N0RGn5z8E6FvhBUTcv0ZJwC3NtfK/xwwr/p9O0L9sDb80V2bsv/wTfjeI7Oe/GeFWnJDn8L8wr621VJfRP0fb94cJobw/AJkn+TTw3r/WIHiKiGDwv14nU6/63vC/p72CARpY+L+q1ZPUqvfQvxrLXn/sN64/ZQXY75Il5z8Mh5OyWSTevyp7FmzX1Os/qFH/HkNK5z98z0y/SxHqv+THwNTSzfc/IcPaYyKS8r93tGFRTnq1P0e6zaaw2sI/GJMv5j7Y67/fvJSzAmDAv7xM1UEYyvK/fBiOes5e8j/geJx0KaDwv+l6cKLRbuU/Dze3H4as4r+FlvBNEC71P61Jf7UMN+Q/ncxQl0OG/T8DZy2CnXPyvycvCJG30uc/8uOCxm0X8T8QGpakPWruv2WC+4CW//y/8hxr+hRQ9r8uptpLFujyv5d1HEr0YPu/lXyDnK4x778q+Y79mT/av+WY7pSL0NI/k7k5t//p+79tm5Qxi6Hpv9Yl/NvhSeA/VwM86p1Y9L83tLs+AVrtP4nnq1ad0fQ/Pxiei+fE4z8cG/S/63/Uv+OV7Fwkl8C/tJ+AM3ZX0L/+6HsZr6T4P2ivigILB/I/fq9UVL7LAEA1NUQu8vqnv9GszqSJA96/SAy2SvMm0r/jSUmb0qmtv0O4TES5gP+/IW9mOdz56D836SqHTxKyP+fNf/ClivA/kZsJOqlg8b8hmEArr4vwv7dmrHfLaO2/3cSdSXrd9L8C2X/lVUHLP+WsYjC5EOC/1K9YQFExsT9xOTZQtqvbP6T7r8O9Bc0/CPSuDbRj+z9M7roKzl3lvxtLm0Bpgvs/hfUqAq9YsD/yHU3DUVf6v9yKLRht7Ng/2zOfbSqV9b9RtKXXiI30P9UcmtnbXfC/GupGJUUe4T8hvuZwuzn2vz1Cb7v7J+a//qCFGKz66D932QAPaerzP4jS+LDareW//nCYNQ4m6T9AcK1nBNX3v4vMfVbHlO+/WJzCxfDx/r9Pthcmoyrnv99seW0319Q/pf854bSv5r97OopEWsTxP8dKrWPQrNe/z5pcrtXT0j9bS5ceBV69v48flYsUteK//Fma33l617/GFVfTtQHmPz+tVZUcUuG/Aa2GHdeGsr8Hi5Ywq3zzvwP/7d5oFAFAqLy1qPPAkD94JlL3uHO4vyXfCN9xS+w/YJ9j+Nn0478XYm2oIwDZv53BgnRYTvo/Chiti5kxAMD5VqdlBwn8v4YeWCOyp+q/LxAowi8o8r9+EwnMmjfqv1i/J0YGS7q/HpXn1hZNAUADYEYyqVrQvxXTTG9G9O2/M5N8A23xwb8k1ilHwzn3Px98Vrr5edY/W3S5pFfD4r8rj5FmiVzjv4NFJwD8PN8/tGklnuCXwT8UYc2iIMLevyArXMaS7sM/FqLOrNb69r9qqP+nDNXuvzvOAl2ufO+/ATN3i1Rf4T+NXUDpeRHwv9UzAKVCkMu/58zFevHA6j8X6NHW+AvdP4OZxJwNueI/Br58KOhj3j/mg8cVfS/3vwXImKsLPQBAOBEeBr4J2j+dgi8V9TObP94ISDmpK80/hEW4IOP34D/mrCRo1733P2Ugv42stbm/AjL7uSJV9T+0Bq6xuarmv6a0Q89szPQ/h9JLUizc7r/g9Tu+dPe8P4NlV1Sgz+w/z5uET1xP6L+I/qKBCxTKP7dYjgjk//S/rgFaKnbE4z/o6a7y7XvgvwIQrDVoSgPAH0ghsTHN1L+Qd0WMJvfgv1GKB4w8jsk/eSXkgBYX5b+9mNTr7Hf0v0uRgGQaxN+/xzHtcPab8b9GY/iAksHzP8ZRuaeNUPe/PCDQlIuvpL+Y7sgZ3jLuv4+TsGL5eew/y+nndGyd8D+JUkkbjjDjvxVTJ5kNhO+/1dLixhCA+T/YNGwQC4QBwBjQwJuYIdW/IwHEevqW7r/zzgzwBrLwP2N40S9Y++U/87RVv4le/b/9vk16M1fzP+zW2BP/jcy/LXmPGdv8279mKo+uQvT7PyEB1aOh5+E/vJ/OXytQtr+TKCS/wT/yv/AH2tU1d/y/Ul7ftNrM0L+r31h8sQn0v2cvCi23fso/FKCLIXJP4r+FZgKGGOrov+AEhuJvnes/3KcV9sUH8D++wIC+Kdftv0UeJlePyt6/6uuYhAs49r9Fjrmo2nOpP8UmRtBUOeu/Yk+IP0GG3j9lAwCub7X3P0mNVxtzrN8/yjNjnP348b/wolB+a6zPPx7gEldWJeI/yTf7Ruq38j9sU28oVe7vPxzHHj/gdvw/g77u0KT7sT9rREY2hZjevxAWrmhfHeG/TewR7QQu9L8q2uOju237v2LzeAvb6v+/nJpj9V2w5r8tPhBIoAPRv4jRqfAG79+/4B92MA8+4z87lnAmPEG4v0Cv0NIL07s/9W0X4yWP/T8EWRxMhMC1v6AUXw3ObOS/aYdG4dLU9r+PbR1VHPPmv10bOcI+MPY/UEKyOqs5yz87cDZPw3P/v2ra89O1eP+//WOWd3bO4r9an8M6cLnqv3VmgVJYz+0/Y0UxlCYv7r+W598WWoLsP3RbQTLAM/u/dDbhpheC8b/TO00YZbv7PxkJMoH1nu+/7+xs3OJyrj+gfl+OsPrivyHBITMsg9Q/dTVMZExX5D/v+2NG6qjPPzyNTDOTxvu/EnwaF52m+b/QUx0daPD1P+3BSgdkfNQ//xDQ0yhJ+z+sGdu2QenVP0fw7gIPI/q/472+mz5V3b8ZNQOU7sHgP+GOwrsTAfC/tG4NtgFF+r9B9fv5UQPrv6czJYYT7u0/k0DlD39Z5z9ZBDaJFJrpv8Ii+6AGWdQ/ouZvaVRe+T8tY9IluvbEP9NpD1nTuvG/45Qxrkhg+j9M2ffLMLLUvxl1IkpD3+k/H1mMRUOB8z+Wzy2joL3jv6i6Ckga2bk/cXb4gwYE9D+30MjPoOvovwN58TPhYvo/uBZXVpFF5z9qWIqbnITwP8stNqDkMOS/WVq0PE99oz9gUZSGXaTbv2nvnXOU/80/XFmpweVl+T/evS/3hb3yv+Tp6Bfj6X2/t43B5XQN5j81Qoj3wtvlv397s2dVDf0/frUSsRngzb8wanC0ppzyv3nNlqarYbs/wi759sMYvz83mqgGviP4v9YVQIyzi+q/VkCgPwt78b+cy4JE+V/jPyZN5kMf4OY/CgEQ05Pg8L8KznLA2hTYv8J0xWntxKo/eeAiZooO7T+ihy6GSk+pv+0ZRCMSdYe/cRj0tkV8zL+bqQj01D/svzz9ahYYQvg/mnaG6pvG8r8U+HaBsJTyv8/kIqZ+5PO/2og0u8fD7D9kCYM/r+XwP9vU6Z9B7/G/LMxeC0es8D/uYh2QTqHKv3MVhuTSHee/OsKjziNZ9T91oxlVjRqsv83yccYSvKe/NjMaRB1T7L+/WGNGdD3+v8WNMet/P96/xUj+CKQ35D9SMvSH1/H7v9POcQMRYPY/SzGEWWojzb/d4b4cvDquPy6/lSdOefO/cZhdaN+z9T+gwcxuXyfvP43RehM61+W/q9luPS5H9L8vJO1drcbwv+8okTnl7t8/An5pvHVf2z+z7YlhOsnUv2wIAt6xq8G/jZRpIF4wuD/SG0HHwXHDP5AWQ/QPzPa/J1ZvuMHb8T/QATXKcYHxP/TYI70Po/g/IUNmghfe5D/wt2cA5OrxP14EKoxaruu/yEJoMdiPzT8P38j+AivnP1qnHx4ID/A/V7fPl1ut8T8HDCXf22bjvxodffQakPA/n6S2ZSx37D/0Ee9eU7TrvxiFFnR4c+g/uVkvXzS917+zXJ7PDX+APwJ39MsgZ9M/wJJTllnx87+QgMXyyPzwP7OaiwP66/S/wvXe/lD+6D863174T2bnv5oHcOoUy/S/O6ds3tF83r+vrLhumlzpP8ifItnpwtw/QfgvupYg5z9qJJvLGSnRv+J6l5HoMs+/oaFF/Mpflb9OPf9YI+XOP3Dj+ipyquw/4GbKsLD66D+XWv3EQeH1P0sakUxfvvE/870WWTnl2j+ujwHGImfyv5Y5h3wv7OC/Bk0FSiZP9L/0ZsoWVAHkv5W8uuqqFu2/87slmmkJlT9KUT+fwD/hvwmhU+Isedy/5q/1qVaohT+fBzKpoo7Bv42c7i24Md2/ZnPF0lNf9j+kh+qAMz/0v2nFvM+bzIo/drYRejET9z9EZ3hPEDamv4/VbMNX/Ny/S0WRCUij7T/ajrEU1dPYvzRaL6ErsuK/ORFlinEA/D8fu5ems/fYv2xRdo7kG+O/41QyDRSX0L/U7bRAfbfyP5oE9iDW7ue/3mx4wRwe1D8QhuVNaYfOvwiO91FiguQ/wzz4oGR0rL+Zc4jSK+7zP/1bUetzmOc/jiG3xveK2z8cYapdInbjP0XSsCRLqfA/VnO1s29s+z/wu2y+Q9npPw7c5W0k+ABAN+6NNN/V9r/Y3wb6143Wv+1TYobo5e8/6DmPBasj8z9AWNMBsyLgP4v4kBmlHds/amdlSkLM6z+F3Ssx1R28v675R928iPu/xWL+pmhs2T883TbldRroPxdm5DYzuvU/0lGl8CpP+r9+aIzdpJTHP2NEGSb0+eA/QAEm/nJpuD//HBnwyzPrPxNuG7vqd/g/iwfIu2sH4T/KyGdX9zjZv44UOu3W39C/d1Za8NeN8j86kKy1TIKdPzYIvlgjW+c/SMdSUIWw979G9wSpdc3YP3C4XrXY6/s/GjcxCYST1L+Q1oTjatzavzQkjPWoP+A/hmPFmWxk9j9vy/EsAqLav79AeDhBp/S/WEq+SlahzL80T4lk0QPmv6yJPtlXfOs/WHuO8LXbAECZsfZkXNTjP9d6ejjP/fC/9ptDHB0qAMACmhUbByi+vyCHXRFKAuK/MWwNqlO6+7/1YfX+nNf1vwCt0ROawfA/9FRVCU9i9j+zxeQH9nncvzhqNQsVC+y/kRHinMzY9L8IItxMx3H5P4IAAlOsdua/5yk+9qEsx78tzOHwvacDwLvi/tm/mI+/5XCVIv3F1b+jMxsBMwDYv7Fu/qfHc/c/yOMgPJUe5L93q+DYl6Pnv9Sj79oUb9E/PrxNVvK40T+NiKaASCT9vya6sPdqxue/hgTXrcp0br99iryMNDblv68v+wp80fc/8sTR6zH2278p2FT3nivdP2T8sPXlmag/LCdi+hZA6L+JePpdSJTgPxShwBJlmNG/0Cbo3b2D2L9t0Ieeni+rPzdBKMnrft4/0DGEk2G48r/tzVa8vpjRv1n4Q7untfY/Gidzkyrt4L+K32+p8HDgP31CXpA9xf0/rknaHPh69T/l3zrf4x/yv5vd1z0n1ue/aFtmsncD4D/vqnKDaIv0P1TJ4ft9zf8/Dwuz0EAl0D/o62rDXEvBv2bu81ovowBAuuGrFG+j5T8FKiqa2Ln1v1DD5S/KI94/U2qqXj761T8GIj/2Wfv9vz5TDidVTP0/oYSsHGu76L9UUyBaYEfCv2idT8B6euq/hxd5Qs4k8T89N1rsqkToP5osIMEDwcy/oRrBlJTg1z+jTKK9cGHjPwOGfbT+5uw/x/fFJfuewz8J8pDw1zHXv8gs5PCjnOm/jg7H+jFJgj/Df8jw5sPkv6O7J68+ffc/VEHOuUXo4L8Jq1CJtcr/v0/Qb0+/TfU/EZJuZuKP4z8HoBMM4MLyv/NClbrT9/Y/h/fX4WIy8j+9k4ibhDr3P4GdMMVESvG/xejotmlE6L9Rw4epM576P0ebWh1PFfQ/DVvhLLNnxj9wVmStOXjhv6ZZ8FyCD/+/FoD6RvXo1L/X0o9JZOfzP6VXsxTS/uS/0UbTKDuvsz89l1HPZ0X1P3bRWywfAu+/CxLUtRftsr9wuhGb4AjXvyqlvpr4POo/smmOn3ED9T8A2XnZB76gPyCkDrUnI+8/He3k+r5w9r/tuhpxM87zv7rrOQXRXOE/NmMLiMRS879ZHEupttm5P7Dojl5+w+S/ak86Xwz24L+1z40bHSPNPwu1PNo9m9E/CKGnO9Tg179aR6E/xb/qP5cD1v1skwBAVa61CvUa8T/yThnJcw/hP1+CXu9htN2/fU6qtu+D+b/EUCYprE3Vv3bQ2Bawacu/GS0ezSJ68T9aqqcS/kugvzwjS/nftek/+Njm0gGg/z/Nq8P/1jLav7t+4cbE9eQ/9j3QpTyJ6b+DUSSdMAzpv8CmEFHfJ/k/pDPSWSeE9b8BbJ+6ZrD2Pz/efogjjek/0XzrOZYD+L+79FfqdCjsv9B02kfiGNM/5S0Ohjfm8r+5tUknSVXpv2eGL4B1tLG/YazYvEIxrz+T9ZkWJP/uv+ItXDPYIuI/09cmdM37978x3xLCAFH3P229USixk+K/MdQmkIxv0T8GZUuPwbr0vwLWhK8fyvM/FjMTQL374L/FAJBnTOrgP3rvbP8VItU/f2AXiQEo9j/ZmQwhtx/kv05C5KB+Gea/IuRgn1QP779HSmqtt23uP9RS99pSXNg/MnmEKIT+7b+OaNyx8Zbyv+VCVvzS/fI/g4M0FZvF8z/o0ro3kPC7vzE1DNk1nNi/00fAv8WH4L+MrWSjF0T2P/GaMdeekv8/5VzwYBso678cRwoMdiTJPzqegqsOPvs/zn0KBUpc8b8wuVaSBNfoPwhY0tgE3/O/sDlvflei9D9xw/cqZ5nZP7Wvo1L7Z7o/wzy5wKa65r8/SNFEBo/3P4jNMhPBPLy/nCaWLGwQhb8K+ZnP5oWuv09g2z0fnb2/Xz7dsoZb6T8V5dOtpEfyPyhCZZMhwv4/Z5viVlJ77z+n/v1XZBTrP15DmA7MRsE/sUZDhAuo4L8IX62ooi7nv/Wawm6nGvU/5Ux/yXo+7784TdKfb7/dv2a7Mj4L1+W/fiPEHvHT8z+E4YeCRlX/P4QkEyLxCwLAFKvMRz2J2z/4kppfmG/9v0aIQg/Txcc/+aAYdUeT6T/uM3TyGPrrvws6W57Mb8C/jCNegQh/+D/QpnFuHo/kP0DnSJvkb+2/zJUQWzz/6b/6mLof92QBQJiLkZwHotm/F0BzVWty5b+nXsHda/7yPzqNP4JpKMu/B6xsH45jdz+QQKFY7SCpPx90Exuhs++/fx5LRaj4sT+4QZsLyRfnP8oA945ht+I/cS7wvymA2D/G9uRiRwoBQHEtrLnKUeC/453PjdOe579HSpUTtPPsv56wQ6ucGvI/CN2jKql69T9fpPFuVRvePwKzIvY5SvW/oR/INave8r/TeqsttCnUv9NZCmbRz+c/0mY52/+f9b8r7o8dOwLpPwcm0rR+tds/IjnCeVrYrz84qKKbdnLgv7l4TulmrfW/OV9dScxU8r9a1ulx0RTUP1LPe6nCG+a/9XvkprEh8L+9LVG6fK/Dv1iUQ3BJV/S/D+1a/Z4X779i1goX4PrwP0GDLlsPedw/kGQ01T1b478gNgTNhCv6v03hB8WC+Lk/xv9DHFdXpT97VU7NZt7TP1BJZHrqP9m/n/cwNyVp4T/vZZXVgnD7P9oUVszAzOI/kxtwS5Va5b/b/5F/Ul3TPztFiU9f/9G/A59Qego817+DkFuY7OHjvwHW4YeoYP6/hP5ef1ll8r9EGcliGJP0v0LgE3G7tMC/+6VUvcsp9T9DQyYnluQBwIO2Q3v63/6/DB7c1FaN1b+zZk0Q+VTsv5Y51Sl28cC/aetbDms16j9F94nSnMj4v/kY1yu03vM/AGr4YUsh77+dh0rUHknbP1D3F3lPpdc/pXbXV7Fm9z8E4OSIspzNP4yGGd6Lc8Q/1GpcRJRZ7T/NH1QhbojQP1Sbf42npOw/CArUY8G8/78URwvOdOvxP1XnKE4yWeg//x+MeG076L/VxoPEH2DhP5R6YKbLXfW/NHhDGmoe1D/WJxXpoqHLv0dgVaLi5/e/fShXM1mS7T9uLLMoZvf8v8u4/SxxUfG/dpV9KKuf4r9ATWmVmlHYP2YBEsvZi7a/i0lTDMXW5r8cluVPdFnrPyqQ0CosJwJAIFrUPUe49D8dISf38YH5P9XacDVQf+K/D5J8St50zD8tQ6AWSwrIvx0gehuoeO4/7Q6NFBYN8j/hKjuCEkbpv4RpZfVpxOI/CD8EoCAP4r80d9Luxp3uPz4TqbB4f/i/psZReIy5v79ZhPCiJiruP6kDNwGsO8K/Nzhj0zQlwz8mdFoV9q/hv7xxRINbhf2/KstrgP8S2z+ANvRN8HDjv+D/ivei7u+/cnGcmp8J8z8oS2lkrVn7P96UJsghb+G/9A6W99DB1b9xZXZFQC63P1DLB2d5c94/P/fEvcA44T94yCNY7LDhv7HHYutq+to/c4O0l8jp4r9fLk2QPOTcv9NKrikQI/M/DL5v+RVe6T+DDUzSug/ov6EhcZbzXf2/eVKeX9fE7z8s3W25GMjxv04cgkMVvfQ/8IY7KaGPtL/G0BcO0EOnPwqQzGAmaI2/NyGF6Th1+7/hMmt4r2Trvxvddvf6oPm/IxBS7WAg9j8kSpwgD+vsv9d1ci/MP/o/wpF0fv2Uo7+9HAcb19Smv6JMhsIV3fS/aEhaa7Lerb8GGYy85Zf2v4B2/WJC8rK/jqhbhIhCsb82Mwsl/8nwv+bhE+3uXto/bb05Ln//6L8O1X5Ha3LiP8mHDzR3ns4/DBSsFtHB1D/WTUpNo2PMv73+NGK7yPC/OoYfvkcjAUClJ9xP7sXTP803j5l+qPg/rB3qReL24L8pC3vD5iLzP1Bpg1OreNq/HvcphW/xAUDbXoz8zVPRv8M4FbQS4vI/j9hyjgQpkj/KJTwesbjiv4uipfd71/W/gaG9mWRNuL8j/CDJNaPJPy3Ge/dxHt2/s7rxe+ew7z/ZiSY//vsBQPXQULdSr9k/FiXslDZQ5L+pGT/HwnfePxcBJAJkZOA/L5MmBnqD2T8YBOJKU50CwDOd15WXTaY/EXqovv/XAMAv4cjND5PEv+5nM8+xv6g/L8hR+1rW479igBnekLjqvyaR013R0Py/pQXWdyk4sj/6RMWGeYDsPy5ThNUCx9A/c9MUAvtl9z877wyMenPhP1gCbqUceeA/tO491efg7D/9rS5dfHHVP+tZLceHC/W/e+kkB3wN2b+D7nWNUQHgP+xmnxSnm9e/6UmdWca68T/zCiiGdz/2v5EZGz03o9w/n5GgEEAR5j8ndiqjG+v5v/0j9JxXI/g/3dqLuk3gsb/Sca7vzl7hP16+zU7PM9y/lAzoC0r26z9izLvGhWrPP/ZjcYf+quQ/u4KXNYgl0L8eLhKeDJzsv8jK7/XUh+2/bq9ADmue8L8hgvWkecbCPzYtctIfTfM/ejNmwiGW4b+63A1bM6oAQF281TwjI/k/knP5+5yJ6786MfTIWTX3v4TLkZruCPS/9dnAcrKG7j+UUSqF0kjVP9M38i91wcm/Li6fUjo/2j/EJzYf97LAv3xaQnQmQOy/sjEwE1qqAUB7yUJdie3rP5nfxOS43MA/722DwgYf3z+CycNLSZPXP9jl+lMPBMO/e7KwF9fO7T+1mjzlE8vLP5VZ5pMQqew/PiUChoX90L/foF91FTHJP60Q3/Wyf7e/42IJvCQm378owO4NmHHiv0tbT8REb/g/OY6jL6X747/xV7y7e8T8P24Xc2Q47wHAhK1ZMHme8T85of5k+tH6vxZ57Fn46vc/uh8irnx0+z9huWYREArtP+k4MlNLXeM/NhXiVtdj4L/kIUgD1c3Sv4VBRbO3vNM/qdZH+x1x+T8DRXbi2oDWP22zMoIbBADA9HciSpEB+b/S4NFBTz/dP2lc6kAse+M/yVvqMcAEhj/aGT2p4JTCv0Gl7z9XKey/kk1soIfm1D9AVt2n17TiPxULjkGb6pI/hjBYlyHMyr9hhRjQp77XP+QmyD3cWNq/YF9vaOyr8z9qEi0XU43zPw9SptYw88q/o3xWuNYZ+L9jQtu/IQvkv7Exj2jFLvs/7/Vjw0EH/j/oxTeGUuvsP/vx3mux4fY/O9xeQVFK7L+6bYUugZj6P1r6Nev7AsE/wpe3Fw1S978Trc2Bjq/qv9kl5CLjKwPAjdCdAsXC4D9JLKGUzkcAQGIW/AKiDOm/seklK3HV9r+znDIB7HjyvyTdbXGA/uO/5hOujM+y979VL2lgaZP+v4W9RhL8VpU/B3q4gIhZ9D9oBRWcBHHyP/OAhgWzO/k/eUPoXzDS5D+zqYTvwN78v/56GvHT5Oa/trKW0QG98r+ZVKE1cWXePyeJG1M6W/a/1jfEXlku9T8gWpRrj1/2vzbJYjU8sue/czwiz5Tv7D8DtGMhFXLQv3MMBRif+74/dZsrGiIG6r8W7QTxWjr7v7MP+h3uXfA/Zj6GgU7O+T8UE5w3tpTqv3VEfunwUcw/NkwhpbFm57+6uBmCfMnwP1UVEuR8v+A/p6PL9Y4nAsA99i/ExrTxP5IJZ7oa2di/yDnsvVxgvr/1ENA1rmLeP1KT7WRL+Og/Xmq964EEfT8BBsrHMjvBP7mDnMtIVtI/PlgOTGDf9D8fktQ+Zwn0PxuR1rT7f+6/jVM/gZYa/b9rpY8zeeWnv0Aut9sdNvG/yvUlfi6Q5T8sKqIk78HqPzwt01hfyOo/PBrFpSKi/78wv8Qsx+r2P2vTSKJoueI/Z3SMmzqE4r+/lXM6WCrUvx6l5J5XyrU/63m1IvQX+7//Wkc1pJC6vwtDfAh4wKO/d92y9ITm4T/hLlLVE2b3v6QVavVmsvE//y1/ep5Q8D/VA7iGEjuIvysq4KCI5sY/XI8atycb17/SeGk1Pd3nvzbNsapQeuU/s9N5L4So7T9sKrkUiTz3v5AIYW39uvG/lw3LsR9W4D/jOsHOiI3mv7vbnBudufe/DHxN47I6w7/xeZaIJnDtvzTLZyk0kvC/OZOlzeNe4D9X6YTXft/Mv3zw0CoWa+6/Wynj46Fl6b90A57Gc4rov4mkFNd7e8S/qjhID9zh5z8b/ZMsWxv1vwlVKzg/E+k/y1Jtpts16z8loslyCPH6v2CfcwEg2Oa/NFaGdqzZ9T9LDJvYeTzjP8z07ygqquy/9qszb9fz4L9sw2UXZsC9vwBOubWV7bA/Ve92je8G878FUH5UEu/MvweWGPggTva//qPL9ZjwpT8LuH//4Hn+v+agQPS/mfe/DP3pa1Hy878egEonaVr3v39WZ5t2CtO/peopyB+r+z+uGXgFLn7kPzGbLzrvnQPAWBu+Mxdd8D8b1OSxXYbov9thBD093PI/h5pmXCCf5L/Y6hACgZ7Zv08ByOqAhdW/q1zCeUJS47+R6+PlW5b1v/wwgXVmEeu/84Nelx8W3r/cac+JUQ7tv8fUpoM9euA/pnSgSH7k3j+1QtYLflf3P067+hkXL+w/mvAJD2J1xj/9JtvCN737vzT0kQaRC/s/GT6KLuoM2L9nX7Onzw3yP/4EWPkjFvk/eFbLZxSO9L8vfitLmsu+P25t90Yk8ey/Cb0LtQ0H7z8RfSjJEv72P1d8nLBNOvs/OyIKEtzHwj/JCIyhcRz3PxskYGssuuW/aEXLcOOn+j+dkALt5Tbyvy9rIf50z+4/k0SwdMxh5j/T4aSU4v7Fv7jCfYC0WgBAP32Wep0j07/+gTCuZbvvv9XYLw1fr/i/iFfE6hVC9L8d4glb7gLzP103oTYXpuO/hGUOSq6A/D+AYbDYbZy7v+ZVLQ1kIea/a/Jpne/t5T+ENOVhIKi3v/SlPm509+S/6bdGh+ox9b/npbNxKmfeP25MJsHPRfW/2D8uDVIp9D+aZYElTzjYv5C4i/AY3NS/B7MplQLS6z+Weg0HgwX8v1mJeWkLc/w/1Ch+UrqE+z9xZf64kjHxvylX/rxMU+o/IO+sQ62N7D/V7GsttnXQP2YnB/3w7fY/B5UwqNJ71b+Nv9yDtiXSv6DNwLmCacY/hV56kRNo178eXYD2GhjzP09pX41MaOW/N7PeINC/9z9DlUpaqli+P+Xf1XnOK9g/qDmd/Og4+L+tsWI2ZxbxP+4G7mabpPa/qCwUkj7B8L/t+6r5ekTdv1TJPjzJruE/Ns4tOu6I/D85vjM7OIzoP8SrAiyX2fA/TxRs+8FE7j946tQiiFr3v27758Gsp+s/zbpTtpG++79dzHxMsC70PzM5G6kU+Oe/xphUnGy6zD+cs7dX9p3xP9Z/0Aya1fG/2MKQQOYx6L9JyOYxDGTiP0BJEEntWfW/7smevCDp7j8m3BaSplLxvwQgr7/k6Pm/mq0Gtwop6L+FciNDhtnEP+hZ+9Z+gOI/w0L9GuJq+T/PErQ0IaIAwPiLAfYdL+i/9NKEM1r07r8AfHmBeFvfP5uLw9TMdOW/GPaqFuuN7j9CyWKdHyzsP+8vFWKxKvE/8gnXUH1Nlb+xsA4T3kryv7KzGc8O//U/Vy/fmuIS/78Vyrbk7wfxvw9x34D2KgPAP3pBXhzrxr+jnD2x2J3aP4IvzOopq+s/1hfq+ozeqb/Sack2stfEP/JCtOQNaPM/acMvKq2i8L/tl1glSITyP3o9I1gG0e6/hbH5GrsLAMDgrSUuiALnP+Qg0+xgUtm/lc2e+MVivb8bGklx7izKv2fZAybllfe/XNBdBuQW1z9R3hDbtlfvvzjruercT+4/LnTJ2WMH9b/jfJg9g8K/P5Z9WmRLb/U/LDUY9zCe5781+5QOHpr+v3Nd3hiJM/U/ZtO8kIS64j/zh2UbhKH+P0yAKT7uNe6/mTPIsl604r+knhqhVIHsv7miXdAJjL2/bYk+0Af+wr9llXRpG/rUv4TnDprVRvm/XsYZPul81j/oHw5kMvjkPwIRUH5AL/a/L9tc9pK49r8D8S1pDA/lP0AopcSIiP0/k/cwZMRN5D8lGKRwJpTsv1Krp3ikGu0/CPcF57iR+78jnEvtMwP9v7giHErYFcw/Gquy98pxrr+aq8BsRWDpP6+e3zmzWuY/L3IS9tM+37/ZrK5a/uviP7JwVwgQJJc/a3nSTKPS97/ZZSZ6NGr1v9kcDBg5zJQ/weMhRXC86T9zrqxTAFfVvxRFfZTfb9Y/3sj1I+jX679CC4Z1Hq3tv/R/Sdd2HeG/Ori30huN778d4xQoTBbxP6pnyKauM9Y/8rG8wpl4+b8AJfwBRTviv9/Lh/1ZivE/HAsargop6L8NdfjDHYbdv0Wgtt2zjLg/ohomPH4P7L/ZTOyTbrzyPwRc5t3Xe+4/xBd9inhO4b9TIzBDI5rCvxhfoYYKRPY/tGWJLCTm0j8sGtfQ51z0vzmi75kZlfa/OdcAJhWi2T8rL1qq8PLjv7N7f0BOA84/MQ/K/ekn6r+vV3mDN6b8P1brMRNkk/s/13oNEHXU3L8U/bDJ+jvOP63CPKqK/+A/N3Njzg5U9r89XhFSknT9PybacjZJN8u/RVKL/MS4qb/0MkKS79znP4W8n/MUIQLAKfih+Kv03L/v4dzTMUPhP/DHboAOleQ/S8D+Qi8i9L/u0PzbT1L0v6zvtVO8kPI/wY1fuWTT8T9ez4r/clHWP0Z+QioWHtU/wST+enzx8z9iYIdkCDrwP6HfaA0c5tO/8ow7VQhN8T/lNc+s3HO/v44yA1X6X9Q/+Z8gx2LI4z+ensuHJEPNP3EVFNcrGuY/Cb4iwWof1r+O1l5u2mntP0C9pc71kvo/Ae7en30z5D9Sf16EVdTWPzpvEy+jvdq/9JVOYNQ4vD/hqXup4mnbP4TBCoUTebk/qy6oy7vCrT/Nc5lIA7PivwnawsE1eeu/XEsOwqDt87+tdm4uT1bZP+ajp7uuaeg/pbBNGzCj87+VJ81CqEcAwCJKmLOvt/c/8vNO2Cqy9b/xbzK0O1XsP8P/34jlUbu/XjGBVN1E4D8JJirF89zTPzCh+vnwXGm/upiyGQlpsL/sWl61k0XzP6iW8lVq2PA/XfgEl5dK9T8ValGMJ9jgv21ztC9h1dm/NiplV08I8b+yCbl6zRPjv5WOPRIy1uE/SmMNJybw+L+aWS8p3L3xP1hRpB67ZuM/ucWvZ0zR0b9sWOkhjlrnP2dxJ2uG0u8/1D6nMH/k8j8V5z4cSXDCP79A/3/lwvC/rJHHmeDa0z8vMLK3qoKkP1lCIp3KZMQ/rxvRYTIG6D+xDuHLE2jev2StlhhiK+q/jmt5bkhz+T9GF6lUeSDjP5YZqkNbV/4/Db5dcyQe57+7g6RaDyb2v8QDtk4+qbK/tlhHjKvq0L+CdTHMiMr9P07llgvm4d6/RCCF9v85zD/VjBCG+z3Qv9w35uo73da/Cvzb5VrswL+DgLOp0obiv0SwUaeM1fm/Nsp4iAR38z/COzm2tIP5P0P0LvzhulE/GHHa676c4D9PikGiu4T7v5xTSkN55tI/tglgY+Tx8T+yJOVYtyvkP5goLPzyoe6/8TFvfV+Y3r8Qg555vyz3vzJ5c2fTj8o/T17Am/5I3785SyHB+c/7v6VhxDzyXe0/bmXWBnB557+bwhHfMAHwPx5c4oJA1Oe/lz21aDQZ8T8oJiBavjH6v2HbV0++ft4/Rw6uRgDs7D8qrqfGA1XOP3shLAaZVgLAX9Z0jmXinT/iNelBESb2P2BXGUuMS+c/fwh38Bl9m79IRHDtphD1Pyfjp2/4lfS/Qvx4L6477z9E3hp50iX6P5RUjHtHvOE/5ngwEbtQ179mM1HFNHLUv0n2lkLcfty/nr8iozcX7D84e335kFz1v4RVEDMaG/w/SBk0W0LQAMDV5ChQwe/hP0aYlonbU/y/GKmGfBMuwj/4z6lTDLDyv/7KGIjr0PE/UJHBiH6n3r9D88cmkav1v42bRweSMPi/0Zy9U1zM9L/KbGb0uj73PwdMWvorqgHAwa2zNn2U0z8vjxPZgjHDP7L+Jj8wz8o/OuE4mmxT9T8CPb3WMQ32v0OEm1nbO9e/2fTKdov+0T/I87JqfxzRP9beimuL6fo/iti/CEFU/L8NJGhvNBYDQGhwxy9QeM0/2tNbEwXp6r9mpehmO2r3v0E/C8IIIfy/s1Ib5EvJ4L9QpW/0tBLOv2VUknlzINy/Dk9Cl1d02r/CneMAOML2v4zBtHqIl9O/RzY7f4mKvT/rbeWkCvHxv+cXepbEdZ4/Xz78CrSX8D+xgBGycAfsv7DuX6T1HXS/jFGHQF9W8z/S92wJebTav6V92D5QfK0/1YymhW3f4D/Z8VHo+ZzwP5/kj+QDcO4/u/zzHgZP4D9l8Es1LGvuvzcyOwoLrfQ/IfWlRroH7j9jib9mugbZv44yPvPys+I/KbzlswlwpT8u4o2EDmDvv6i5uvX3bf4/ShCG+a95878IdrOEl1rpv2rf5iJd3OA/DBNzqx3g6T/AxQAxzFjxP4AIKcbh7vS/DDyJY7X9+b+WYI6MLRnVP1mtODt21fe/gYD/wJJl5r89cIcn0vT+P417GySJTea/Wl8FiXKjwb9De49MKNDyvx5WyGI0IdQ/MKlVdcOc77/IwFL4HA3Uv4jgqwkae+W/fIMoPU9xnL9cMNXp5mXZP/vkrzMFr94/MuJzYO9u7j+9+TdIJK/tvyS++N50+e0/37RgSxbv1b8XIdQBjWPSP+XveETvIv+/e+csj2165r/1MXvztXv9P+Nx8hIGg/0/NdWcjeKg9L/TVkBhdmjFv/yFOd4KBco/tfYfPIPT0D9QsSjG/I3ov8nDhky0vtA/GE3zerxbsj+THGiUTBPcvxTozUQszfS/EZjjWMGPAMDVDVuDWrb2P2pMTDX+Ec8/AoOfVdPAuj8PXBqsRRzhvyKdK+laPdy/wG5mhPMs0b/wqkIGAIb2vyWuJ83iAsG/ztylxxUs0b9vKm1mUp78P/ms4gOsK/m/HtngtmMl8T/lC3BgH/fgv5uSbDghIuK/oOKiJj547L9iKoRV3bLjP2fSNONWL/M/a82uDMDlwb8woZ1L3cv2PzDzuMss6vq/y6yRKnjX3L8mBg+vQ7jSv/vr8DsI1wA/LyT2INAx7T+RRZIDB66sP09be1qLzPg/+RPqvvS81b9rUT6kcZ7IP7lNz3a4mNS/zlKXIqs/8T8a7gDoVvD3v331o8oikuA/fu/xNlO4wL/IRznT8d3yv3q2VUXMcAJAx+3pji7w7z+7YtxpwAbwP6bmp/wj9vc/LHrCoLtU8L8ZudABawH3P16TTDYAl+w/jnQhSkOu5z90Rd8tT3fLP/e9ERQWLuA/qLJJI/gf478+tjeio8Hsv7uI17WMJ/K/VviOvGVf+b94boes+yLzP4pWgr7FctA/Z4U/CRvD4r+MuDMRZ2wAwHtfQJ3RVtw/UTALogjD6z9ElXC91sDgP66zzG6SQfW/ieyY/AfVm791kK5dMEjIPy8nhdvYltk/1WN5InHz8b+8aJmJbFvQPzL1pHwO0fM/ANJBLEZB4L/VO/7xfVzmv5BlU90gwOq/44dILtYZ2r97+aFnYc7wPxuKBeiQn+8/RD5o1ii/478zI38Yjxm6v8sYOeZcb+6/VMYJOo/htD/DevPKRLLUv+VTcxKg7vE/GAZ3WyJ3x795O2VtrRnvPy216ljAl/u/0ag/kDY/AUAADksIogrlv5pQP1yG3fc/hRJw2QmV1L8Zn4x7Tzbmv1/lxK96COo/2ijFVaeCt7/4j9s6uCzxvyaMp36I5wBAoT8NgOLL+j+HAx19Cunlvz3y5wLtUuK/nBye/5U157+U4XTcN8XZv3FY4QO9U/w/yPUK0b1Y+b/tiw1jKGrNP2LFZOD0YLk/Z1+UegGo5b9KATfcj0Pqv7SuzbMLX62/TQmU9LQq5L9nGs8YSY7lP7DzTcpE2PC/XRyfZ/x59j/SmJqohFnmv6akm5R+kvi//ZuNOoTQ5z8bBj1pToPOv/JSuFTbjfW/ElDVvt144r9q8JbE9w7AP3CMxL5m+u6/ZQ4LeF+l57+ptxYq7GG1v28NjsJHa++/oke7fdD5678HqYgXWSLcvz1jQBXyWta/uBmocnPY3b/Mc/aijsfWPwgikBMgdeO/ece2GuBO4j+6rezNwHnAP1xOJg8s3fE/TK9EStw11L/KGLC6R0TpP3J8ek9QVeG/WZ8AMdYe6L8YTeM0AkDov34PPkj+MO6/2m/l8ylA6L8q2tMwU0vGPwS+e//DkfG/OJ5Fndrcyr+snTeQN6L2PxUP/g3ME/6/y/r9YZ1Fzb/IbF+SefHdv4+Tqdo0+vW/1sdaGyr4/L/DZPE8CAnRP7hoj62NZc8/kO36Y8f+/7+FhS4FMqXFv0QiIUzXQfM/QAXBlnWs2L+qoRMSOrzcP11UsxDFz+k/nkyzx7r64r9mJnjjtsz+v6P0+nXi2QDAOw7riAzm0T+oFuoSSNT7P5RILJDgaOe/NjMv1uzn5b9xNk5YHoj1v4Lrx1+2FvU/BwYZg3kc979/Xi0jcCvtvxqzabQO9dK/y/1iKBkj6b+3GWppfJL/P1GCy9QVp+k/vMaVt6M94L9yx5oWH/nxP894ivY9YfM/j7PiY6omVj+U5p3A0K+6P2TaGxYCZ/M/9PYXmghC+L9U1Ng4TymWv7/g1XifZADAMHyVSDQm87/r4MlIu4/yvwsCEfOW9f0/J4kt2vb35r8HA0Wfsqz2P3Dvb6fFRuY/GETASAhE+T9ItXE+K0evvycdmXHlzr4/8ueSggl89b8daiSHfZLvP20VfSXroeE/f5i9eGiq8j8EXNKv/1XhP9GiM/zUZ+e/Ztr7pCEs9b8w7IBBrGTwP2OBcWaT6bO/kkID1Brc5z+yHgl8+D/rvywvLk7Arto/aYAOIIPeij81wjTrOWDUP6/Hl1Yue+2/wtOiUVDOfz8mDyhnC5Xrv2VuuIQKVeO/ItVI6y91wj+bj7R1oDHiv1Y0W1thYuE/7XQ7MxcvAMCx1sPszRvoP8dRr0oNpvW/DUbeFH+X8b+rsRlsFlH+P+/RGxDgg/Y/9C3i11Iy8L8p2v2MPt3wP/GbY1YKru2/9Ln81enW4T8ajSeiCzzzP8OLneOsx/I/DYzpKmRM4r8Z+TMZ6uT0vwN0D8Xvt8m/1+Nfl47z0L88w/0H9LP+PzN6GD2gO/C/pVvKgJ9a/j/NeZTmOWDhP09y4FDlGNQ/KsEJWA5wzD+ZoUs74Cjcv4dnsGUKT/o/EsgucCIS8L9DMwz7Vu7yv/1PiQrB0sM/z/mmS9uG/z9Zz+a9asnJPxDuzIvOIgFANV/clot/6r+TL2pib+Phvxjp2jxiOPe/70yzvrXA9D9klUzscxrlP5FdEbtB5fu/PRGyS3ia5T+2VIgBYV7tv8lPnlP4lMe//s/D5G8K+7/6zdBqk53mPxek/uC6OO6/DnEPMWTb67+EgmRY2Db4v+2JPRLtfPc/qKGDUPbmxj+BYJMTnK/RPyY/curIzeU/ns1nDXt44b+61Vqtn5z9P+B6jUlRZeE/5CWoZ1oByb+RS8eGIFPeP5OPRBJ8d+w/ZqC3ZK//xb9e2xX3Ya/Vv8r0QEVW7fG/",
          "dtype": "f8"
         },
         "yaxis": "y"
        }
       ],
       "layout": {
        "coloraxis": {
         "colorbar": {
          "title": {
           "text": "dbscan_cluster"
          }
         },
         "colorscale": [
          [
           0,
           "#0d0887"
          ],
          [
           0.1111111111111111,
           "#46039f"
          ],
          [
           0.2222222222222222,
           "#7201a8"
          ],
          [
           0.3333333333333333,
           "#9c179e"
          ],
          [
           0.4444444444444444,
           "#bd3786"
          ],
          [
           0.5555555555555556,
           "#d8576b"
          ],
          [
           0.6666666666666666,
           "#ed7953"
          ],
          [
           0.7777777777777778,
           "#fb9f3a"
          ],
          [
           0.8888888888888888,
           "#fdca26"
          ],
          [
           1,
           "#f0f921"
          ]
         ]
        },
        "legend": {
         "tracegroupgap": 0
        },
        "template": {
         "data": {
          "bar": [
           {
            "error_x": {
             "color": "#2a3f5f"
            },
            "error_y": {
             "color": "#2a3f5f"
            },
            "marker": {
             "line": {
              "color": "#E5ECF6",
              "width": 0.5
             },
             "pattern": {
              "fillmode": "overlay",
              "size": 10,
              "solidity": 0.2
             }
            },
            "type": "bar"
           }
          ],
          "barpolar": [
           {
            "marker": {
             "line": {
              "color": "#E5ECF6",
              "width": 0.5
             },
             "pattern": {
              "fillmode": "overlay",
              "size": 10,
              "solidity": 0.2
             }
            },
            "type": "barpolar"
           }
          ],
          "carpet": [
           {
            "aaxis": {
             "endlinecolor": "#2a3f5f",
             "gridcolor": "white",
             "linecolor": "white",
             "minorgridcolor": "white",
             "startlinecolor": "#2a3f5f"
            },
            "baxis": {
             "endlinecolor": "#2a3f5f",
             "gridcolor": "white",
             "linecolor": "white",
             "minorgridcolor": "white",
             "startlinecolor": "#2a3f5f"
            },
            "type": "carpet"
           }
          ],
          "choropleth": [
           {
            "colorbar": {
             "outlinewidth": 0,
             "ticks": ""
            },
            "type": "choropleth"
           }
          ],
          "contour": [
           {
            "colorbar": {
             "outlinewidth": 0,
             "ticks": ""
            },
            "colorscale": [
             [
              0,
              "#0d0887"
             ],
             [
              0.1111111111111111,
              "#46039f"
             ],
             [
              0.2222222222222222,
              "#7201a8"
             ],
             [
              0.3333333333333333,
              "#9c179e"
             ],
             [
              0.4444444444444444,
              "#bd3786"
             ],
             [
              0.5555555555555556,
              "#d8576b"
             ],
             [
              0.6666666666666666,
              "#ed7953"
             ],
             [
              0.7777777777777778,
              "#fb9f3a"
             ],
             [
              0.8888888888888888,
              "#fdca26"
             ],
             [
              1,
              "#f0f921"
             ]
            ],
            "type": "contour"
           }
          ],
          "contourcarpet": [
           {
            "colorbar": {
             "outlinewidth": 0,
             "ticks": ""
            },
            "type": "contourcarpet"
           }
          ],
          "heatmap": [
           {
            "colorbar": {
             "outlinewidth": 0,
             "ticks": ""
            },
            "colorscale": [
             [
              0,
              "#0d0887"
             ],
             [
              0.1111111111111111,
              "#46039f"
             ],
             [
              0.2222222222222222,
              "#7201a8"
             ],
             [
              0.3333333333333333,
              "#9c179e"
             ],
             [
              0.4444444444444444,
              "#bd3786"
             ],
             [
              0.5555555555555556,
              "#d8576b"
             ],
             [
              0.6666666666666666,
              "#ed7953"
             ],
             [
              0.7777777777777778,
              "#fb9f3a"
             ],
             [
              0.8888888888888888,
              "#fdca26"
             ],
             [
              1,
              "#f0f921"
             ]
            ],
            "type": "heatmap"
           }
          ],
          "histogram": [
           {
            "marker": {
             "pattern": {
              "fillmode": "overlay",
              "size": 10,
              "solidity": 0.2
             }
            },
            "type": "histogram"
           }
          ],
          "histogram2d": [
           {
            "colorbar": {
             "outlinewidth": 0,
             "ticks": ""
            },
            "colorscale": [
             [
              0,
              "#0d0887"
             ],
             [
              0.1111111111111111,
              "#46039f"
             ],
             [
              0.2222222222222222,
              "#7201a8"
             ],
             [
              0.3333333333333333,
              "#9c179e"
             ],
             [
              0.4444444444444444,
              "#bd3786"
             ],
             [
              0.5555555555555556,
              "#d8576b"
             ],
             [
              0.6666666666666666,
              "#ed7953"
             ],
             [
              0.7777777777777778,
              "#fb9f3a"
             ],
             [
              0.8888888888888888,
              "#fdca26"
             ],
             [
              1,
              "#f0f921"
             ]
            ],
            "type": "histogram2d"
           }
          ],
          "histogram2dcontour": [
           {
            "colorbar": {
             "outlinewidth": 0,
             "ticks": ""
            },
            "colorscale": [
             [
              0,
              "#0d0887"
             ],
             [
              0.1111111111111111,
              "#46039f"
             ],
             [
              0.2222222222222222,
              "#7201a8"
             ],
             [
              0.3333333333333333,
              "#9c179e"
             ],
             [
              0.4444444444444444,
              "#bd3786"
             ],
             [
              0.5555555555555556,
              "#d8576b"
             ],
             [
              0.6666666666666666,
              "#ed7953"
             ],
             [
              0.7777777777777778,
              "#fb9f3a"
             ],
             [
              0.8888888888888888,
              "#fdca26"
             ],
             [
              1,
              "#f0f921"
             ]
            ],
            "type": "histogram2dcontour"
           }
          ],
          "mesh3d": [
           {
            "colorbar": {
             "outlinewidth": 0,
             "ticks": ""
            },
            "type": "mesh3d"
           }
          ],
          "parcoords": [
           {
            "line": {
             "colorbar": {
              "outlinewidth": 0,
              "ticks": ""
             }
            },
            "type": "parcoords"
           }
          ],
          "pie": [
           {
            "automargin": true,
            "type": "pie"
           }
          ],
          "scatter": [
           {
            "fillpattern": {
             "fillmode": "overlay",
             "size": 10,
             "solidity": 0.2
            },
            "type": "scatter"
           }
          ],
          "scatter3d": [
           {
            "line": {
             "colorbar": {
              "outlinewidth": 0,
              "ticks": ""
             }
            },
            "marker": {
             "colorbar": {
              "outlinewidth": 0,
              "ticks": ""
             }
            },
            "type": "scatter3d"
           }
          ],
          "scattercarpet": [
           {
            "marker": {
             "colorbar": {
              "outlinewidth": 0,
              "ticks": ""
             }
            },
            "type": "scattercarpet"
           }
          ],
          "scattergeo": [
           {
            "marker": {
             "colorbar": {
              "outlinewidth": 0,
              "ticks": ""
             }
            },
            "type": "scattergeo"
           }
          ],
          "scattergl": [
           {
            "marker": {
             "colorbar": {
              "outlinewidth": 0,
              "ticks": ""
             }
            },
            "type": "scattergl"
           }
          ],
          "scattermap": [
           {
            "marker": {
             "colorbar": {
              "outlinewidth": 0,
              "ticks": ""
             }
            },
            "type": "scattermap"
           }
          ],
          "scattermapbox": [
           {
            "marker": {
             "colorbar": {
              "outlinewidth": 0,
              "ticks": ""
             }
            },
            "type": "scattermapbox"
           }
          ],
          "scatterpolar": [
           {
            "marker": {
             "colorbar": {
              "outlinewidth": 0,
              "ticks": ""
             }
            },
            "type": "scatterpolar"
           }
          ],
          "scatterpolargl": [
           {
            "marker": {
             "colorbar": {
              "outlinewidth": 0,
              "ticks": ""
             }
            },
            "type": "scatterpolargl"
           }
          ],
          "scatterternary": [
           {
            "marker": {
             "colorbar": {
              "outlinewidth": 0,
              "ticks": ""
             }
            },
            "type": "scatterternary"
           }
          ],
          "surface": [
           {
            "colorbar": {
             "outlinewidth": 0,
             "ticks": ""
            },
            "colorscale": [
             [
              0,
              "#0d0887"
             ],
             [
              0.1111111111111111,
              "#46039f"
             ],
             [
              0.2222222222222222,
              "#7201a8"
             ],
             [
              0.3333333333333333,
              "#9c179e"
             ],
             [
              0.4444444444444444,
              "#bd3786"
             ],
             [
              0.5555555555555556,
              "#d8576b"
             ],
             [
              0.6666666666666666,
              "#ed7953"
             ],
             [
              0.7777777777777778,
              "#fb9f3a"
             ],
             [
              0.8888888888888888,
              "#fdca26"
             ],
             [
              1,
              "#f0f921"
             ]
            ],
            "type": "surface"
           }
          ],
          "table": [
           {
            "cells": {
             "fill": {
              "color": "#EBF0F8"
             },
             "line": {
              "color": "white"
             }
            },
            "header": {
             "fill": {
              "color": "#C8D4E3"
             },
             "line": {
              "color": "white"
             }
            },
            "type": "table"
           }
          ]
         },
         "layout": {
          "annotationdefaults": {
           "arrowcolor": "#2a3f5f",
           "arrowhead": 0,
           "arrowwidth": 1
          },
          "autotypenumbers": "strict",
          "coloraxis": {
           "colorbar": {
            "outlinewidth": 0,
            "ticks": ""
           }
          },
          "colorscale": {
           "diverging": [
            [
             0,
             "#8e0152"
            ],
            [
             0.1,
             "#c51b7d"
            ],
            [
             0.2,
             "#de77ae"
            ],
            [
             0.3,
             "#f1b6da"
            ],
            [
             0.4,
             "#fde0ef"
            ],
            [
             0.5,
             "#f7f7f7"
            ],
            [
             0.6,
             "#e6f5d0"
            ],
            [
             0.7,
             "#b8e186"
            ],
            [
             0.8,
             "#7fbc41"
            ],
            [
             0.9,
             "#4d9221"
            ],
            [
             1,
             "#276419"
            ]
           ],
           "sequential": [
            [
             0,
             "#0d0887"
            ],
            [
             0.1111111111111111,
             "#46039f"
            ],
            [
             0.2222222222222222,
             "#7201a8"
            ],
            [
             0.3333333333333333,
             "#9c179e"
            ],
            [
             0.4444444444444444,
             "#bd3786"
            ],
            [
             0.5555555555555556,
             "#d8576b"
            ],
            [
             0.6666666666666666,
             "#ed7953"
            ],
            [
             0.7777777777777778,
             "#fb9f3a"
            ],
            [
             0.8888888888888888,
             "#fdca26"
            ],
            [
             1,
             "#f0f921"
            ]
           ],
           "sequentialminus": [
            [
             0,
             "#0d0887"
            ],
            [
             0.1111111111111111,
             "#46039f"
            ],
            [
             0.2222222222222222,
             "#7201a8"
            ],
            [
             0.3333333333333333,
             "#9c179e"
            ],
            [
             0.4444444444444444,
             "#bd3786"
            ],
            [
             0.5555555555555556,
             "#d8576b"
            ],
            [
             0.6666666666666666,
             "#ed7953"
            ],
            [
             0.7777777777777778,
             "#fb9f3a"
            ],
            [
             0.8888888888888888,
             "#fdca26"
            ],
            [
             1,
             "#f0f921"
            ]
           ]
          },
          "colorway": [
           "#636efa",
           "#EF553B",
           "#00cc96",
           "#ab63fa",
           "#FFA15A",
           "#19d3f3",
           "#FF6692",
           "#B6E880",
           "#FF97FF",
           "#FECB52"
          ],
          "font": {
           "color": "#2a3f5f"
          },
          "geo": {
           "bgcolor": "white",
           "lakecolor": "white",
           "landcolor": "#E5ECF6",
           "showlakes": true,
           "showland": true,
           "subunitcolor": "white"
          },
          "hoverlabel": {
           "align": "left"
          },
          "hovermode": "closest",
          "mapbox": {
           "style": "light"
          },
          "paper_bgcolor": "white",
          "plot_bgcolor": "#E5ECF6",
          "polar": {
           "angularaxis": {
            "gridcolor": "white",
            "linecolor": "white",
            "ticks": ""
           },
           "bgcolor": "#E5ECF6",
           "radialaxis": {
            "gridcolor": "white",
            "linecolor": "white",
            "ticks": ""
           }
          },
          "scene": {
           "xaxis": {
            "backgroundcolor": "#E5ECF6",
            "gridcolor": "white",
            "gridwidth": 2,
            "linecolor": "white",
            "showbackground": true,
            "ticks": "",
            "zerolinecolor": "white"
           },
           "yaxis": {
            "backgroundcolor": "#E5ECF6",
            "gridcolor": "white",
            "gridwidth": 2,
            "linecolor": "white",
            "showbackground": true,
            "ticks": "",
            "zerolinecolor": "white"
           },
           "zaxis": {
            "backgroundcolor": "#E5ECF6",
            "gridcolor": "white",
            "gridwidth": 2,
            "linecolor": "white",
            "showbackground": true,
            "ticks": "",
            "zerolinecolor": "white"
           }
          },
          "shapedefaults": {
           "line": {
            "color": "#2a3f5f"
           }
          },
          "ternary": {
           "aaxis": {
            "gridcolor": "white",
            "linecolor": "white",
            "ticks": ""
           },
           "baxis": {
            "gridcolor": "white",
            "linecolor": "white",
            "ticks": ""
           },
           "bgcolor": "#E5ECF6",
           "caxis": {
            "gridcolor": "white",
            "linecolor": "white",
            "ticks": ""
           }
          },
          "title": {
           "x": 0.05
          },
          "xaxis": {
           "automargin": true,
           "gridcolor": "white",
           "linecolor": "white",
           "ticks": "",
           "title": {
            "standoff": 15
           },
           "zerolinecolor": "white",
           "zerolinewidth": 2
          },
          "yaxis": {
           "automargin": true,
           "gridcolor": "white",
           "linecolor": "white",
           "ticks": "",
           "title": {
            "standoff": 15
           },
           "zerolinecolor": "white",
           "zerolinewidth": 2
          }
         }
        },
        "title": {
         "text": "DBSCAN Clustering"
        },
        "xaxis": {
         "anchor": "y",
         "domain": [
          0,
          1
         ],
         "title": {
          "text": "pca1"
         }
        },
        "yaxis": {
         "anchor": "x",
         "domain": [
          0,
          1
         ],
         "title": {
          "text": "pca2"
         }
        }
       }
      }
     },
     "metadata": {},
     "output_type": "display_data"
    },
    {
     "data": {
      "application/vnd.plotly.v1+json": {
       "config": {
        "plotlyServerURL": "https://plot.ly"
       },
       "data": [
        {
         "hovertemplate": "pca1=%{x}<br>pca2=%{y}<br>balanced_group=%{marker.color}<extra></extra>",
         "legendgroup": "",
         "marker": {
          "color": {
           "bdata": "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",
           "dtype": "i2"
          },
          "coloraxis": "coloraxis",
          "symbol": "circle"
         },
         "mode": "markers",
         "name": "",
         "showlegend": false,
         "type": "scattergl",
         "x": {
          "bdata": "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",
          "dtype": "f8"
         },
         "xaxis": "x",
         "y": {
          "bdata": "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",
          "dtype": "f8"
         },
         "yaxis": "y"
        }
       ],
       "layout": {
        "coloraxis": {
         "colorbar": {
          "title": {
           "text": "balanced_group"
          }
         },
         "colorscale": [
          [
           0,
           "#0d0887"
          ],
          [
           0.1111111111111111,
           "#46039f"
          ],
          [
           0.2222222222222222,
           "#7201a8"
          ],
          [
           0.3333333333333333,
           "#9c179e"
          ],
          [
           0.4444444444444444,
           "#bd3786"
          ],
          [
           0.5555555555555556,
           "#d8576b"
          ],
          [
           0.6666666666666666,
           "#ed7953"
          ],
          [
           0.7777777777777778,
           "#fb9f3a"
          ],
          [
           0.8888888888888888,
           "#fdca26"
          ],
          [
           1,
           "#f0f921"
          ]
         ]
        },
        "legend": {
         "tracegroupgap": 0
        },
        "template": {
         "data": {
          "bar": [
           {
            "error_x": {
             "color": "#2a3f5f"
            },
            "error_y": {
             "color": "#2a3f5f"
            },
            "marker": {
             "line": {
              "color": "#E5ECF6",
              "width": 0.5
             },
             "pattern": {
              "fillmode": "overlay",
              "size": 10,
              "solidity": 0.2
             }
            },
            "type": "bar"
           }
          ],
          "barpolar": [
           {
            "marker": {
             "line": {
              "color": "#E5ECF6",
              "width": 0.5
             },
             "pattern": {
              "fillmode": "overlay",
              "size": 10,
              "solidity": 0.2
             }
            },
            "type": "barpolar"
           }
          ],
          "carpet": [
           {
            "aaxis": {
             "endlinecolor": "#2a3f5f",
             "gridcolor": "white",
             "linecolor": "white",
             "minorgridcolor": "white",
             "startlinecolor": "#2a3f5f"
            },
            "baxis": {
             "endlinecolor": "#2a3f5f",
             "gridcolor": "white",
             "linecolor": "white",
             "minorgridcolor": "white",
             "startlinecolor": "#2a3f5f"
            },
            "type": "carpet"
           }
          ],
          "choropleth": [
           {
            "colorbar": {
             "outlinewidth": 0,
             "ticks": ""
            },
            "type": "choropleth"
           }
          ],
          "contour": [
           {
            "colorbar": {
             "outlinewidth": 0,
             "ticks": ""
            },
            "colorscale": [
             [
              0,
              "#0d0887"
             ],
             [
              0.1111111111111111,
              "#46039f"
             ],
             [
              0.2222222222222222,
              "#7201a8"
             ],
             [
              0.3333333333333333,
              "#9c179e"
             ],
             [
              0.4444444444444444,
              "#bd3786"
             ],
             [
              0.5555555555555556,
              "#d8576b"
             ],
             [
              0.6666666666666666,
              "#ed7953"
             ],
             [
              0.7777777777777778,
              "#fb9f3a"
             ],
             [
              0.8888888888888888,
              "#fdca26"
             ],
             [
              1,
              "#f0f921"
             ]
            ],
            "type": "contour"
           }
          ],
          "contourcarpet": [
           {
            "colorbar": {
             "outlinewidth": 0,
             "ticks": ""
            },
            "type": "contourcarpet"
           }
          ],
          "heatmap": [
           {
            "colorbar": {
             "outlinewidth": 0,
             "ticks": ""
            },
            "colorscale": [
             [
              0,
              "#0d0887"
             ],
             [
              0.1111111111111111,
              "#46039f"
             ],
             [
              0.2222222222222222,
              "#7201a8"
             ],
             [
              0.3333333333333333,
              "#9c179e"
             ],
             [
              0.4444444444444444,
              "#bd3786"
             ],
             [
              0.5555555555555556,
              "#d8576b"
             ],
             [
              0.6666666666666666,
              "#ed7953"
             ],
             [
              0.7777777777777778,
              "#fb9f3a"
             ],
             [
              0.8888888888888888,
              "#fdca26"
             ],
             [
              1,
              "#f0f921"
             ]
            ],
            "type": "heatmap"
           }
          ],
          "histogram": [
           {
            "marker": {
             "pattern": {
              "fillmode": "overlay",
              "size": 10,
              "solidity": 0.2
             }
            },
            "type": "histogram"
           }
          ],
          "histogram2d": [
           {
            "colorbar": {
             "outlinewidth": 0,
             "ticks": ""
            },
            "colorscale": [
             [
              0,
              "#0d0887"
             ],
             [
              0.1111111111111111,
              "#46039f"
             ],
             [
              0.2222222222222222,
              "#7201a8"
             ],
             [
              0.3333333333333333,
              "#9c179e"
             ],
             [
              0.4444444444444444,
              "#bd3786"
             ],
             [
              0.5555555555555556,
              "#d8576b"
             ],
             [
              0.6666666666666666,
              "#ed7953"
             ],
             [
              0.7777777777777778,
              "#fb9f3a"
             ],
             [
              0.8888888888888888,
              "#fdca26"
             ],
             [
              1,
              "#f0f921"
             ]
            ],
            "type": "histogram2d"
           }
          ],
          "histogram2dcontour": [
           {
            "colorbar": {
             "outlinewidth": 0,
             "ticks": ""
            },
            "colorscale": [
             [
              0,
              "#0d0887"
             ],
             [
              0.1111111111111111,
              "#46039f"
             ],
             [
              0.2222222222222222,
              "#7201a8"
             ],
             [
              0.3333333333333333,
              "#9c179e"
             ],
             [
              0.4444444444444444,
              "#bd3786"
             ],
             [
              0.5555555555555556,
              "#d8576b"
             ],
             [
              0.6666666666666666,
              "#ed7953"
             ],
             [
              0.7777777777777778,
              "#fb9f3a"
             ],
             [
              0.8888888888888888,
              "#fdca26"
             ],
             [
              1,
              "#f0f921"
             ]
            ],
            "type": "histogram2dcontour"
           }
          ],
          "mesh3d": [
           {
            "colorbar": {
             "outlinewidth": 0,
             "ticks": ""
            },
            "type": "mesh3d"
           }
          ],
          "parcoords": [
           {
            "line": {
             "colorbar": {
              "outlinewidth": 0,
              "ticks": ""
             }
            },
            "type": "parcoords"
           }
          ],
          "pie": [
           {
            "automargin": true,
            "type": "pie"
           }
          ],
          "scatter": [
           {
            "fillpattern": {
             "fillmode": "overlay",
             "size": 10,
             "solidity": 0.2
            },
            "type": "scatter"
           }
          ],
          "scatter3d": [
           {
            "line": {
             "colorbar": {
              "outlinewidth": 0,
              "ticks": ""
             }
            },
            "marker": {
             "colorbar": {
              "outlinewidth": 0,
              "ticks": ""
             }
            },
            "type": "scatter3d"
           }
          ],
          "scattercarpet": [
           {
            "marker": {
             "colorbar": {
              "outlinewidth": 0,
              "ticks": ""
             }
            },
            "type": "scattercarpet"
           }
          ],
          "scattergeo": [
           {
            "marker": {
             "colorbar": {
              "outlinewidth": 0,
              "ticks": ""
             }
            },
            "type": "scattergeo"
           }
          ],
          "scattergl": [
           {
            "marker": {
             "colorbar": {
              "outlinewidth": 0,
              "ticks": ""
             }
            },
            "type": "scattergl"
           }
          ],
          "scattermap": [
           {
            "marker": {
             "colorbar": {
              "outlinewidth": 0,
              "ticks": ""
             }
            },
            "type": "scattermap"
           }
          ],
          "scattermapbox": [
           {
            "marker": {
             "colorbar": {
              "outlinewidth": 0,
              "ticks": ""
             }
            },
            "type": "scattermapbox"
           }
          ],
          "scatterpolar": [
           {
            "marker": {
             "colorbar": {
              "outlinewidth": 0,
              "ticks": ""
             }
            },
            "type": "scatterpolar"
           }
          ],
          "scatterpolargl": [
           {
            "marker": {
             "colorbar": {
              "outlinewidth": 0,
              "ticks": ""
             }
            },
            "type": "scatterpolargl"
           }
          ],
          "scatterternary": [
           {
            "marker": {
             "colorbar": {
              "outlinewidth": 0,
              "ticks": ""
             }
            },
            "type": "scatterternary"
           }
          ],
          "surface": [
           {
            "colorbar": {
             "outlinewidth": 0,
             "ticks": ""
            },
            "colorscale": [
             [
              0,
              "#0d0887"
             ],
             [
              0.1111111111111111,
              "#46039f"
             ],
             [
              0.2222222222222222,
              "#7201a8"
             ],
             [
              0.3333333333333333,
              "#9c179e"
             ],
             [
              0.4444444444444444,
              "#bd3786"
             ],
             [
              0.5555555555555556,
              "#d8576b"
             ],
             [
              0.6666666666666666,
              "#ed7953"
             ],
             [
              0.7777777777777778,
              "#fb9f3a"
             ],
             [
              0.8888888888888888,
              "#fdca26"
             ],
             [
              1,
              "#f0f921"
             ]
            ],
            "type": "surface"
           }
          ],
          "table": [
           {
            "cells": {
             "fill": {
              "color": "#EBF0F8"
             },
             "line": {
              "color": "white"
             }
            },
            "header": {
             "fill": {
              "color": "#C8D4E3"
             },
             "line": {
              "color": "white"
             }
            },
            "type": "table"
           }
          ]
         },
         "layout": {
          "annotationdefaults": {
           "arrowcolor": "#2a3f5f",
           "arrowhead": 0,
           "arrowwidth": 1
          },
          "autotypenumbers": "strict",
          "coloraxis": {
           "colorbar": {
            "outlinewidth": 0,
            "ticks": ""
           }
          },
          "colorscale": {
           "diverging": [
            [
             0,
             "#8e0152"
            ],
            [
             0.1,
             "#c51b7d"
            ],
            [
             0.2,
             "#de77ae"
            ],
            [
             0.3,
             "#f1b6da"
            ],
            [
             0.4,
             "#fde0ef"
            ],
            [
             0.5,
             "#f7f7f7"
            ],
            [
             0.6,
             "#e6f5d0"
            ],
            [
             0.7,
             "#b8e186"
            ],
            [
             0.8,
             "#7fbc41"
            ],
            [
             0.9,
             "#4d9221"
            ],
            [
             1,
             "#276419"
            ]
           ],
           "sequential": [
            [
             0,
             "#0d0887"
            ],
            [
             0.1111111111111111,
             "#46039f"
            ],
            [
             0.2222222222222222,
             "#7201a8"
            ],
            [
             0.3333333333333333,
             "#9c179e"
            ],
            [
             0.4444444444444444,
             "#bd3786"
            ],
            [
             0.5555555555555556,
             "#d8576b"
            ],
            [
             0.6666666666666666,
             "#ed7953"
            ],
            [
             0.7777777777777778,
             "#fb9f3a"
            ],
            [
             0.8888888888888888,
             "#fdca26"
            ],
            [
             1,
             "#f0f921"
            ]
           ],
           "sequentialminus": [
            [
             0,
             "#0d0887"
            ],
            [
             0.1111111111111111,
             "#46039f"
            ],
            [
             0.2222222222222222,
             "#7201a8"
            ],
            [
             0.3333333333333333,
             "#9c179e"
            ],
            [
             0.4444444444444444,
             "#bd3786"
            ],
            [
             0.5555555555555556,
             "#d8576b"
            ],
            [
             0.6666666666666666,
             "#ed7953"
            ],
            [
             0.7777777777777778,
             "#fb9f3a"
            ],
            [
             0.8888888888888888,
             "#fdca26"
            ],
            [
             1,
             "#f0f921"
            ]
           ]
          },
          "colorway": [
           "#636efa",
           "#EF553B",
           "#00cc96",
           "#ab63fa",
           "#FFA15A",
           "#19d3f3",
           "#FF6692",
           "#B6E880",
           "#FF97FF",
           "#FECB52"
          ],
          "font": {
           "color": "#2a3f5f"
          },
          "geo": {
           "bgcolor": "white",
           "lakecolor": "white",
           "landcolor": "#E5ECF6",
           "showlakes": true,
           "showland": true,
           "subunitcolor": "white"
          },
          "hoverlabel": {
           "align": "left"
          },
          "hovermode": "closest",
          "mapbox": {
           "style": "light"
          },
          "paper_bgcolor": "white",
          "plot_bgcolor": "#E5ECF6",
          "polar": {
           "angularaxis": {
            "gridcolor": "white",
            "linecolor": "white",
            "ticks": ""
           },
           "bgcolor": "#E5ECF6",
           "radialaxis": {
            "gridcolor": "white",
            "linecolor": "white",
            "ticks": ""
           }
          },
          "scene": {
           "xaxis": {
            "backgroundcolor": "#E5ECF6",
            "gridcolor": "white",
            "gridwidth": 2,
            "linecolor": "white",
            "showbackground": true,
            "ticks": "",
            "zerolinecolor": "white"
           },
           "yaxis": {
            "backgroundcolor": "#E5ECF6",
            "gridcolor": "white",
            "gridwidth": 2,
            "linecolor": "white",
            "showbackground": true,
            "ticks": "",
            "zerolinecolor": "white"
           },
           "zaxis": {
            "backgroundcolor": "#E5ECF6",
            "gridcolor": "white",
            "gridwidth": 2,
            "linecolor": "white",
            "showbackground": true,
            "ticks": "",
            "zerolinecolor": "white"
           }
          },
          "shapedefaults": {
           "line": {
            "color": "#2a3f5f"
           }
          },
          "ternary": {
           "aaxis": {
            "gridcolor": "white",
            "linecolor": "white",
            "ticks": ""
           },
           "baxis": {
            "gridcolor": "white",
            "linecolor": "white",
            "ticks": ""
           },
           "bgcolor": "#E5ECF6",
           "caxis": {
            "gridcolor": "white",
            "linecolor": "white",
            "ticks": ""
           }
          },
          "title": {
           "x": 0.05
          },
          "xaxis": {
           "automargin": true,
           "gridcolor": "white",
           "linecolor": "white",
           "ticks": "",
           "title": {
            "standoff": 15
           },
           "zerolinecolor": "white",
           "zerolinewidth": 2
          },
          "yaxis": {
           "automargin": true,
           "gridcolor": "white",
           "linecolor": "white",
           "ticks": "",
           "title": {
            "standoff": 15
           },
           "zerolinecolor": "white",
           "zerolinewidth": 2
          }
         }
        },
        "title": {
         "text": "Complementary-Skill-Based Grouping"
        },
        "xaxis": {
         "anchor": "y",
         "domain": [
          0,
          1
         ],
         "title": {
          "text": "pca1"
         }
        },
        "yaxis": {
         "anchor": "x",
         "domain": [
          0,
          1
         ],
         "title": {
          "text": "pca2"
         }
        }
       }
      }
     },
     "metadata": {},
     "output_type": "display_data"
    }
   ],
   "source": [
    "# --- Visualize Clusters (Approach 1) --- #\n",
    "pca = PCA(n_components=2)\n",
    "X_pca = pca.fit_transform(X_scaled)\n",
    "df['pca1'] = X_pca[:, 0]\n",
    "df['pca2'] = X_pca[:, 1]\n",
    "\n",
    "fig_kmeans = px.scatter(df, x='pca1', y='pca2', color='kmeans_cluster', title='KMeans Clustering')\n",
    "fig_gmm = px.scatter(df, x='pca1', y='pca2', color='gmm_cluster', title='GMM Clustering')\n",
    "fig_dbscan = px.scatter(df, x='pca1', y='pca2', color='dbscan_cluster', title='DBSCAN Clustering')\n",
    "\n",
    "fig_kmeans.show()\n",
    "fig_gmm.show()\n",
    "fig_dbscan.show()\n",
    "\n",
    "# --- Visualize Groups (Approach 2) --- #\n",
    "fig_balanced = px.scatter(df, x='pca1', y='pca2', color='balanced_group', title='Complementary-Skill-Based Grouping')\n",
    "fig_balanced.show()"
   ]
  },
  {
   "cell_type": "markdown",
   "metadata": {},
   "source": [
    "### Final Comparison and Conclusion"
   ]
  },
  {
   "cell_type": "markdown",
   "metadata": {},
   "source": [
    "**Approach 1: Similarity-Based Clustering**\n",
    "- **KMeans, GMM, DBSCAN** are effective at grouping students with similar skill profiles.\n",
    "- **Use Case:** Best for identifying students with similar strengths and weaknesses, which can be useful for targeted interventions or specialized projects.\n",
    "- **Limitation:** May create unbalanced teams where all members have the same skill gaps.\n",
    "\n",
    "**Approach 2: Complementary-Skill-Based Grouping**\n",
    "- This approach creates teams with a diverse mix of skills, ensuring that each team has a balanced profile.\n",
    "- **Use Case:** Ideal for forming collaborative teams where members can learn from each other and cover for each other's weaknesses.\n",
    "- **Advantage:** Promotes peer learning and results in more robust and well-rounded teams.\n",
    "\n",
    "**Conclusion**\n",
    "For the stated business objective of creating balanced and effective student teams, **Approach 2 (Complementary-Skill-Based Grouping)** is the more suitable method. While similarity-based clustering has its applications, the complementary approach directly addresses the goal of building teams with a diverse and balanced skill set."
   ]
  }
 ],
 "metadata": {
  "kernelspec": {
   "display_name": "Python 3",
   "language": "python",
   "name": "python3"
  },
  "language_info": {
   "codemirror_mode": {
    "name": "ipython",
    "version": 3
   },
   "file_extension": ".py",
   "mimetype": "text/x-python",
   "name": "python",
   "nbconvert_exporter": "python",
   "pygments_lexer": "ipython3",
   "version": "3.9.7"
  }
 },
 "nbformat": 4,
 "nbformat_minor": 4
}
