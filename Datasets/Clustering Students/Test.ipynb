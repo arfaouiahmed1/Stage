{
 "cells": [
  {
   "cell_type": "markdown",
   "id": "b3607fcd",
   "metadata": {},
   "source": [
    "# Project: A Competitive Analysis of Clustering Models for Student Team Formation\n",
    "\n",
    "**Objective:** The previous analysis showed different models but didn't provide a clear way to compare them or trust their outputs. This notebook addresses that by performing a focused, head-to-head comparison of clustering models on a single, consistent case study.\n",
    "\n",
    "**Workflow:**\n",
    "1.  **Data Generation:** Create a high-quality, unlabeled dataset.\n",
    "2.  **Case Study Setup:** Select one specific class to be our \"arena\" for the model competition.\n",
    "3.  **Model Showdown:** Train K-Means and Gaussian Mixture Models (GMM) on this exact same class data.\n",
    "4.  **Comparative Analysis:**\n",
    "    *   Visualize cluster profiles side-by-side using Radar Charts.\n",
    "    *   Visualize cluster separation side-by-side using PCA plots.\n",
    "    *   Quantitatively measure the similarity of their results using the Adjusted Rand Index (ARI).\n",
    "5.  **Team Formation Showdown:** Show the final teams that would be created from *each model's* clustering results.\n",
    "6.  **Final Recommendation:** Conclude with a data scientist's recommendation on which model to use.\n",
    "---\n",
    "**Setup:**"
   ]
  },
  {
   "cell_type": "code",
   "execution_count": 21,
   "id": "d8391dcd",
   "metadata": {},
   "outputs": [
    {
     "name": "stdout",
     "output_type": "stream",
     "text": [
      "Requirement already satisfied: k-means-constrained in /workspaces/Stage/.venv/lib/python3.12/site-packages (0.7.6)\n",
      "Requirement already satisfied: tqdm in /workspaces/Stage/.venv/lib/python3.12/site-packages (4.67.1)\n",
      "Requirement already satisfied: scikit-learn in /workspaces/Stage/.venv/lib/python3.12/site-packages (1.7.0)\n",
      "Requirement already satisfied: pandas in /workspaces/Stage/.venv/lib/python3.12/site-packages (2.3.1)\n",
      "Requirement already satisfied: numpy in /workspaces/Stage/.venv/lib/python3.12/site-packages (2.3.1)\n",
      "Requirement already satisfied: matplotlib in /workspaces/Stage/.venv/lib/python3.12/site-packages (3.10.3)\n",
      "Requirement already satisfied: seaborn in /workspaces/Stage/.venv/lib/python3.12/site-packages (0.13.2)\n",
      "Requirement already satisfied: ortools>=9.11.4210 in /workspaces/Stage/.venv/lib/python3.12/site-packages (from k-means-constrained) (9.14.6206)\n",
      "Requirement already satisfied: scipy>=1.14.1 in /workspaces/Stage/.venv/lib/python3.12/site-packages (from k-means-constrained) (1.16.0)\n",
      "Requirement already satisfied: six in /workspaces/Stage/.venv/lib/python3.12/site-packages (from k-means-constrained) (1.17.0)\n",
      "Requirement already satisfied: joblib in /workspaces/Stage/.venv/lib/python3.12/site-packages (from k-means-constrained) (1.5.1)\n",
      "Requirement already satisfied: threadpoolctl>=3.1.0 in /workspaces/Stage/.venv/lib/python3.12/site-packages (from scikit-learn) (3.6.0)\n",
      "Requirement already satisfied: python-dateutil>=2.8.2 in /workspaces/Stage/.venv/lib/python3.12/site-packages (from pandas) (2.9.0.post0)\n",
      "Requirement already satisfied: pytz>=2020.1 in /workspaces/Stage/.venv/lib/python3.12/site-packages (from pandas) (2025.2)\n",
      "Requirement already satisfied: tzdata>=2022.7 in /workspaces/Stage/.venv/lib/python3.12/site-packages (from pandas) (2025.2)\n",
      "Requirement already satisfied: contourpy>=1.0.1 in /workspaces/Stage/.venv/lib/python3.12/site-packages (from matplotlib) (1.3.2)\n",
      "Requirement already satisfied: cycler>=0.10 in /workspaces/Stage/.venv/lib/python3.12/site-packages (from matplotlib) (0.12.1)\n",
      "Requirement already satisfied: fonttools>=4.22.0 in /workspaces/Stage/.venv/lib/python3.12/site-packages (from matplotlib) (4.58.5)\n",
      "Requirement already satisfied: kiwisolver>=1.3.1 in /workspaces/Stage/.venv/lib/python3.12/site-packages (from matplotlib) (1.4.8)\n",
      "Requirement already satisfied: packaging>=20.0 in /workspaces/Stage/.venv/lib/python3.12/site-packages (from matplotlib) (25.0)\n",
      "Requirement already satisfied: pillow>=8 in /workspaces/Stage/.venv/lib/python3.12/site-packages (from matplotlib) (11.3.0)\n",
      "Requirement already satisfied: pyparsing>=2.3.1 in /workspaces/Stage/.venv/lib/python3.12/site-packages (from matplotlib) (3.2.3)\n",
      "Requirement already satisfied: absl-py>=2.0.0 in /workspaces/Stage/.venv/lib/python3.12/site-packages (from ortools>=9.11.4210->k-means-constrained) (2.3.1)\n",
      "Requirement already satisfied: protobuf<6.32,>=6.31.1 in /workspaces/Stage/.venv/lib/python3.12/site-packages (from ortools>=9.11.4210->k-means-constrained) (6.31.1)\n",
      "Requirement already satisfied: typing-extensions>=4.12 in /workspaces/Stage/.venv/lib/python3.12/site-packages (from ortools>=9.11.4210->k-means-constrained) (4.14.1)\n",
      "Requirement already satisfied: immutabledict>=3.0.0 in /workspaces/Stage/.venv/lib/python3.12/site-packages (from ortools>=9.11.4210->k-means-constrained) (4.2.1)\n"
     ]
    }
   ],
   "source": [
    "!pip install k-means-constrained tqdm scikit-learn pandas numpy matplotlib seaborn"
   ]
  },
  {
   "cell_type": "markdown",
   "id": "b25b07af",
   "metadata": {},
   "source": [
    "## Part 1: Data Generation\n",
    "\n",
    "We'll start by creating a synthetic dataset. Although we are performing an *unsupervised* analysis (meaning our models won't see any labels), we will generate the data based on hidden \"archetypes\" or roles. This ensures that meaningful patterns exist in the data for our algorithms to discover.\n",
    "\n",
    "The final CSV file will **not** contain the `archetype` column."
   ]
  },
  {
   "cell_type": "code",
   "execution_count": 2,
   "id": "dc99b083",
   "metadata": {},
   "outputs": [
    {
     "name": "stdout",
     "output_type": "stream",
     "text": [
      "Generating an UNSUPERVISED dataset (3,600 students)...\n",
      "SUCCESS: Data generated and saved to 'Datasets/Clustering Students/clustering_students'\n"
     ]
    }
   ],
   "source": [
    "import pandas as pd\n",
    "import numpy as np\n",
    "import random\n",
    "import os\n",
    "import itertools\n",
    "from sklearn.model_selection import train_test_split\n",
    "\n",
    "print(\"Generating an UNSUPERVISED dataset (3,600 students)...\")\n",
    "\n",
    "# --- Configuration & Setup ---\n",
    "NUM_STUDENTS = 3600\n",
    "BASE_PATH = os.path.join(\"Datasets\", \"Clustering Students\", \"clustering_students\")\n",
    "TRAIN_FILE = \"students_train_unsupervised.csv\"\n",
    "os.makedirs(BASE_PATH, exist_ok=True)\n",
    "\n",
    "# --- Data Components ---\n",
    "FIRST_NAMES = ['Ahmed', 'Mohamed', 'Youssef', 'Ali', 'Omar', 'Karim', 'Sami', 'Hedi', 'Fares', 'Mehdi', 'Amine', 'Walid', 'Zied', 'Anis', 'Nabil', 'Skander', 'Ghassen', 'Rami', 'Wassim', 'Iheb', 'Hatem', 'Foued', 'Lotfi', 'Mourad', 'Adel', 'Bechir', 'Tarek', 'Sofiene', 'Nizar', 'Ismail', 'Aymen', 'Marwen', 'Oussama', 'Khalil', 'Hamza', 'Haythem', 'Bilel', 'Chokri', 'Fethi', 'Hichem', 'Fatma', 'Amina', 'Mariem', 'Sarra', 'Nour', 'Salma', 'Yasmine', 'Rania', 'Chaima', 'Emna', 'Ines', 'Asma', 'Hiba', 'Khadija', 'Lina', 'Dorra', 'Manel', 'Wided', 'Oumaima', 'Farah', 'Leila', 'Hend', 'Amel', 'Nadia', 'Sonia', 'Mouna', 'Samira', 'Rim', 'Meriem', 'Siwar', 'Cyrine', 'Eya', 'Ghada', 'Lobna', 'Olfa', 'Rym', 'Sabrine', 'Wafa', 'Zaineb', 'Hela']\n",
    "LAST_NAMES = ['Trabelsi', 'Ghanouchi', 'Ben Ali', 'Mejri', 'Jaziri', 'Chebbi', 'Toumi', 'Bouazizi', 'Haddad', 'Slimani', 'Khemiri', 'Maaloul', 'Abidi', 'Cherif', 'Baccouche', 'Mabrouk', 'Jebali', 'Saidi', 'Guettari', 'Zouari', 'Khlifi', 'Ayari', 'Hamdi', 'Ammar', 'Chouchene', 'Mansour', 'Belkhir', 'Jlassi', 'Ben Salah', 'Driss', 'Fourati', 'Gharbi', 'Karoui', 'Lahmar', 'Makni', 'Nasri', 'Rekik', 'Sassi', 'Turki', 'Zayani', 'Ben Amor', 'Chaabane', 'Ferjani', 'Kanzari', 'Miled']\n",
    "CLASSES_4 = ['4DS5', '4ARCTIC5', '4SIM3', '4TWIN2', '4NIDS3', '4INFINI5', '4BI2', '4GAMIX1', '4IOSYS1', '4SAE2', '4SE2', '4SLEAM2']\n",
    "ALL_CLASSES = ['1A20', '2A40', '2P1', '3A22','3B10','3IA'] + CLASSES_4 + [c.replace('4', '5', 1) for c in CLASSES_4]\n",
    "hidden_archetypes = {'The Architect': {'means': {'hard_skills': 4.8, 'soft_skills': 3.0, 'teamwork': 3.5, 'creativity': 4.2}, 'std_dev': 0.6, 'prob': 0.20}, 'The Specialist': {'means': {'hard_skills': 5.0, 'soft_skills': 1.5, 'teamwork': 2.0, 'creativity': 1.0}, 'std_dev': 0.7, 'prob': 0.25}, 'The Coordinator': {'means': {'hard_skills': 2.5, 'soft_skills': 5.0, 'teamwork': 5.0, 'creativity': 3.0}, 'std_dev': 0.6, 'prob': 0.20}, 'The Finisher': {'means': {'hard_skills': 3.0, 'soft_skills': 4.2, 'teamwork': 4.0, 'creativity': 4.7}, 'std_dev': 0.7, 'prob': 0.20}, 'The Catalyst': {'means': {'hard_skills': 2.0, 'soft_skills': 2.5, 'teamwork': 2.2, 'creativity': 5.0}, 'std_dev': 0.8, 'prob': 0.15}}\n",
    "\n",
    "# --- Data Generation Logic ---\n",
    "all_possible_names = list(itertools.product(FIRST_NAMES, LAST_NAMES)); random.shuffle(all_possible_names)\n",
    "unique_names_sample = all_possible_names[:NUM_STUDENTS]\n",
    "def generate_student(name_tuple, archetypes_dict):\n",
    "    first_name, last_name = name_tuple\n",
    "    chosen_archetype = np.random.choice(list(archetypes_dict.keys()), p=[d['prob'] for d in archetypes_dict.values()])\n",
    "    stats = archetypes_dict[chosen_archetype]\n",
    "    def get_score(mean, std): return np.clip(np.random.normal(loc=mean, scale=std), 0.0, 5.0)\n",
    "    scores = {s: get_score(stats['means'][s], stats['std_dev']) for s in stats['means']}\n",
    "    return {'first_name': first_name, 'last_name': last_name, 'class': random.choice(ALL_CLASSES), **{k: round(v, 2) for k, v in scores.items()}, 'total_score': round(sum(scores.values()) / 4.0, 2)}\n",
    "student_data = [generate_student(name, hidden_archetypes) for name in unique_names_sample]\n",
    "full_df = pd.DataFrame(student_data)\n",
    "full_df.to_csv(os.path.join(BASE_PATH, \"students_full_unsupervised.csv\"), index=False)\n",
    "print(f\"SUCCESS: Data generated and saved to '{BASE_PATH}'\")"
   ]
  },
  {
   "cell_type": "markdown",
   "id": "0f5304c0",
   "metadata": {},
   "source": [
    "## Part 2: Case Study Setup\n",
    "\n",
    "Instead of analyzing the entire student body at once, we will select **one class** to serve as our consistent testbed. All models will be trained and evaluated on this same group of students."
   ]
  },
  {
   "cell_type": "code",
   "execution_count": 3,
   "id": "58462d4f",
   "metadata": {},
   "outputs": [
    {
     "name": "stdout",
     "output_type": "stream",
     "text": [
      "======================================================================\n",
      "CASE STUDY: Analyzing Class '5SLEAM2' (116 students)\n",
      "======================================================================\n"
     ]
    },
    {
     "data": {
      "application/vnd.microsoft.datawrangler.viewer.v0+json": {
       "columns": [
        {
         "name": "index",
         "rawType": "int64",
         "type": "integer"
        },
        {
         "name": "first_name",
         "rawType": "object",
         "type": "string"
        },
        {
         "name": "last_name",
         "rawType": "object",
         "type": "string"
        },
        {
         "name": "class",
         "rawType": "object",
         "type": "string"
        },
        {
         "name": "hard_skills",
         "rawType": "float64",
         "type": "float"
        },
        {
         "name": "soft_skills",
         "rawType": "float64",
         "type": "float"
        },
        {
         "name": "teamwork",
         "rawType": "float64",
         "type": "float"
        },
        {
         "name": "creativity",
         "rawType": "float64",
         "type": "float"
        },
        {
         "name": "total_score",
         "rawType": "float64",
         "type": "float"
        },
        {
         "name": "pca1",
         "rawType": "float64",
         "type": "float"
        },
        {
         "name": "pca2",
         "rawType": "float64",
         "type": "float"
        }
       ],
       "ref": "d997c77d-7b54-482d-82bb-41ef73f0ad8a",
       "rows": [
        [
         "0",
         "Sarra",
         "Jaziri",
         "5SLEAM2",
         "3.0",
         "2.41",
         "2.2",
         "3.73",
         "2.83",
         "-0.5087571542724473",
         "0.9692280695158698"
        ],
        [
         "1",
         "Eya",
         "Fourati",
         "5SLEAM2",
         "1.96",
         "2.16",
         "1.0",
         "5.0",
         "2.53",
         "-0.3695844574851199",
         "2.4244675816212715"
        ],
        [
         "2",
         "Mouna",
         "Ben Ali",
         "5SLEAM2",
         "2.44",
         "3.24",
         "2.69",
         "5.0",
         "3.34",
         "0.5982810765562729",
         "1.294248714241211"
        ],
        [
         "3",
         "Amina",
         "Slimani",
         "5SLEAM2",
         "5.0",
         "3.31",
         "3.13",
         "4.74",
         "4.05",
         "-0.1813437987378505",
         "0.04911514991564482"
        ],
        [
         "4",
         "Amina",
         "Ben Salah",
         "5SLEAM2",
         "4.89",
         "3.7",
         "3.24",
         "4.36",
         "4.05",
         "-0.044678687889977906",
         "-0.21175823607192254"
        ]
       ],
       "shape": {
        "columns": 10,
        "rows": 5
       }
      },
      "text/html": [
       "<div>\n",
       "<style scoped>\n",
       "    .dataframe tbody tr th:only-of-type {\n",
       "        vertical-align: middle;\n",
       "    }\n",
       "\n",
       "    .dataframe tbody tr th {\n",
       "        vertical-align: top;\n",
       "    }\n",
       "\n",
       "    .dataframe thead th {\n",
       "        text-align: right;\n",
       "    }\n",
       "</style>\n",
       "<table border=\"1\" class=\"dataframe\">\n",
       "  <thead>\n",
       "    <tr style=\"text-align: right;\">\n",
       "      <th></th>\n",
       "      <th>first_name</th>\n",
       "      <th>last_name</th>\n",
       "      <th>class</th>\n",
       "      <th>hard_skills</th>\n",
       "      <th>soft_skills</th>\n",
       "      <th>teamwork</th>\n",
       "      <th>creativity</th>\n",
       "      <th>total_score</th>\n",
       "      <th>pca1</th>\n",
       "      <th>pca2</th>\n",
       "    </tr>\n",
       "  </thead>\n",
       "  <tbody>\n",
       "    <tr>\n",
       "      <th>0</th>\n",
       "      <td>Sarra</td>\n",
       "      <td>Jaziri</td>\n",
       "      <td>5SLEAM2</td>\n",
       "      <td>3.00</td>\n",
       "      <td>2.41</td>\n",
       "      <td>2.20</td>\n",
       "      <td>3.73</td>\n",
       "      <td>2.83</td>\n",
       "      <td>-0.508757</td>\n",
       "      <td>0.969228</td>\n",
       "    </tr>\n",
       "    <tr>\n",
       "      <th>1</th>\n",
       "      <td>Eya</td>\n",
       "      <td>Fourati</td>\n",
       "      <td>5SLEAM2</td>\n",
       "      <td>1.96</td>\n",
       "      <td>2.16</td>\n",
       "      <td>1.00</td>\n",
       "      <td>5.00</td>\n",
       "      <td>2.53</td>\n",
       "      <td>-0.369584</td>\n",
       "      <td>2.424468</td>\n",
       "    </tr>\n",
       "    <tr>\n",
       "      <th>2</th>\n",
       "      <td>Mouna</td>\n",
       "      <td>Ben Ali</td>\n",
       "      <td>5SLEAM2</td>\n",
       "      <td>2.44</td>\n",
       "      <td>3.24</td>\n",
       "      <td>2.69</td>\n",
       "      <td>5.00</td>\n",
       "      <td>3.34</td>\n",
       "      <td>0.598281</td>\n",
       "      <td>1.294249</td>\n",
       "    </tr>\n",
       "    <tr>\n",
       "      <th>3</th>\n",
       "      <td>Amina</td>\n",
       "      <td>Slimani</td>\n",
       "      <td>5SLEAM2</td>\n",
       "      <td>5.00</td>\n",
       "      <td>3.31</td>\n",
       "      <td>3.13</td>\n",
       "      <td>4.74</td>\n",
       "      <td>4.05</td>\n",
       "      <td>-0.181344</td>\n",
       "      <td>0.049115</td>\n",
       "    </tr>\n",
       "    <tr>\n",
       "      <th>4</th>\n",
       "      <td>Amina</td>\n",
       "      <td>Ben Salah</td>\n",
       "      <td>5SLEAM2</td>\n",
       "      <td>4.89</td>\n",
       "      <td>3.70</td>\n",
       "      <td>3.24</td>\n",
       "      <td>4.36</td>\n",
       "      <td>4.05</td>\n",
       "      <td>-0.044679</td>\n",
       "      <td>-0.211758</td>\n",
       "    </tr>\n",
       "  </tbody>\n",
       "</table>\n",
       "</div>"
      ],
      "text/plain": [
       "  first_name  last_name    class  hard_skills  soft_skills  teamwork  \\\n",
       "0      Sarra     Jaziri  5SLEAM2         3.00         2.41      2.20   \n",
       "1        Eya    Fourati  5SLEAM2         1.96         2.16      1.00   \n",
       "2      Mouna    Ben Ali  5SLEAM2         2.44         3.24      2.69   \n",
       "3      Amina    Slimani  5SLEAM2         5.00         3.31      3.13   \n",
       "4      Amina  Ben Salah  5SLEAM2         4.89         3.70      3.24   \n",
       "\n",
       "   creativity  total_score      pca1      pca2  \n",
       "0        3.73         2.83 -0.508757  0.969228  \n",
       "1        5.00         2.53 -0.369584  2.424468  \n",
       "2        5.00         3.34  0.598281  1.294249  \n",
       "3        4.74         4.05 -0.181344  0.049115  \n",
       "4        4.36         4.05 -0.044679 -0.211758  "
      ]
     },
     "metadata": {},
     "output_type": "display_data"
    }
   ],
   "source": [
    "import pandas as pd\n",
    "import numpy as np\n",
    "import random\n",
    "from sklearn.preprocessing import StandardScaler\n",
    "from sklearn.decomposition import PCA\n",
    "\n",
    "# --- Load Data and Select a Class ---\n",
    "BASE_PATH = os.path.join(\"Datasets\", \"Clustering Students\", \"clustering_students\")\n",
    "df = pd.read_csv(os.path.join(BASE_PATH, \"students_full_unsupervised.csv\"))\n",
    "FEATURES = ['hard_skills', 'soft_skills', 'teamwork', 'creativity']\n",
    "\n",
    "class_counts = df['class'].value_counts()\n",
    "# Select a class with a decent number of students (e.g., > 20)\n",
    "eligible_classes = class_counts[class_counts > 20].index.tolist()\n",
    "chosen_class = random.choice(eligible_classes)\n",
    "\n",
    "class_df = df[df['class'] == chosen_class].copy().reset_index(drop=True)\n",
    "\n",
    "print(\"=\"*70)\n",
    "print(f\"CASE STUDY: Analyzing Class '{chosen_class}' ({len(class_df)} students)\")\n",
    "print(\"=\"*70)\n",
    "\n",
    "# --- Prepare Data for Clustering ---\n",
    "X_class = class_df[FEATURES]\n",
    "scaler = StandardScaler()\n",
    "X_class_scaled = scaler.fit_transform(X_class)\n",
    "\n",
    "# --- Prepare for Visualization ---\n",
    "pca = PCA(n_components=2)\n",
    "X_class_pca = pca.fit_transform(X_class_scaled)\n",
    "class_df['pca1'] = X_class_pca[:, 0]\n",
    "class_df['pca2'] = X_class_pca[:, 1]\n",
    "\n",
    "display(class_df.head())"
   ]
  },
  {
   "cell_type": "markdown",
   "id": "264e8e97",
   "metadata": {},
   "source": [
    "## Part 3: Model Showdown - K-Means vs. GMM\n",
    "\n",
    "We will now train our two primary clustering models on the selected class data. We'll determine the optimal number of clusters for each and then compare their results directly."
   ]
  },
  {
   "cell_type": "code",
   "execution_count": 4,
   "id": "2dc3bd4e",
   "metadata": {},
   "outputs": [
    {
     "name": "stdout",
     "output_type": "stream",
     "text": [
      "Optimal k for K-Means (via Silhouette): 4\n",
      "Optimal number of components for GMM (via BIC): 3\n"
     ]
    }
   ],
   "source": [
    "from sklearn.cluster import KMeans\n",
    "from sklearn.mixture import GaussianMixture\n",
    "from sklearn.metrics import silhouette_score\n",
    "from tqdm import tqdm\n",
    "\n",
    "# --- K-Means: Find optimal k and train ---\n",
    "k_range = range(2, 8)\n",
    "silhouette_values = [silhouette_score(X_class_scaled, KMeans(n_clusters=k, random_state=42, n_init='auto').fit(X_class_scaled).labels_) for k in k_range]\n",
    "best_k = k_range[np.argmax(silhouette_values)]\n",
    "print(f\"Optimal k for K-Means (via Silhouette): {best_k}\")\n",
    "kmeans_model = KMeans(n_clusters=best_k, random_state=42, n_init='auto')\n",
    "class_df['kmeans_cluster'] = kmeans_model.fit_predict(X_class_scaled)\n",
    "\n",
    "# --- GMM: Find optimal n_components and train ---\n",
    "n_components_range = range(2, 8)\n",
    "bic_scores = [GaussianMixture(n_components=n, random_state=42).fit(X_class_scaled).bic(X_class_scaled) for n in n_components_range]\n",
    "best_n = n_components_range[np.argmin(bic_scores)]\n",
    "print(f\"Optimal number of components for GMM (via BIC): {best_n}\")\n",
    "gmm_model = GaussianMixture(n_components=best_n, random_state=42)\n",
    "class_df['gmm_cluster'] = gmm_model.fit_predict(X_class_scaled)\n",
    "\n",
    "# --- Store Cluster Profiles for Comparison ---\n",
    "profiles_kmeans = class_df.groupby('kmeans_cluster')[FEATURES].mean()\n",
    "profiles_gmm = class_df.groupby('gmm_cluster')[FEATURES].mean()"
   ]
  },
  {
   "cell_type": "markdown",
   "id": "27e78f3f",
   "metadata": {},
   "source": [
    "## Part 4: Comparative Analysis\n",
    "\n",
    "This is the core of our analysis. We will now compare the outputs of K-Means and GMM both quantitatively (with a score) and qualitatively (with side-by-side visualizations)."
   ]
  },
  {
   "cell_type": "code",
   "execution_count": 5,
   "id": "d41012c9",
   "metadata": {},
   "outputs": [
    {
     "name": "stdout",
     "output_type": "stream",
     "text": [
      "--- Model Similarity Score ---\n",
      "Adjusted Rand Index (ARI): 0.4856\n",
      "An ARI > 0.8 suggests the models are in strong agreement.\n"
     ]
    },
    {
     "name": "stderr",
     "output_type": "stream",
     "text": [
      "/tmp/ipykernel_60381/384910078.py:24: FutureWarning: Series.__getitem__ treating keys as positions is deprecated. In a future version, integer keys will always be treated as labels (consistent with DataFrame behavior). To access a value by position, use `ser.iloc[pos]`\n",
      "  values = row.tolist() + [row[0]]\n",
      "/tmp/ipykernel_60381/384910078.py:24: FutureWarning: Series.__getitem__ treating keys as positions is deprecated. In a future version, integer keys will always be treated as labels (consistent with DataFrame behavior). To access a value by position, use `ser.iloc[pos]`\n",
      "  values = row.tolist() + [row[0]]\n"
     ]
    },
    {
     "data": {
      "image/png": "[encoded data removed]",
      "text/plain": [
       "<Figure size 1800x700 with 2 Axes>"
      ]
     },
     "metadata": {},
     "output_type": "display_data"
    },
    {
     "data": {
      "image/png": "[encoded data removed]",
      "text/plain": [
       "<Figure size 2000x800 with 2 Axes>"
      ]
     },
     "metadata": {},
     "output_type": "display_data"
    }
   ],
   "source": [
    "import matplotlib.pyplot as plt\n",
    "import seaborn as sns\n",
    "from sklearn.metrics import adjusted_rand_score\n",
    "\n",
    "# --- Quantitative Comparison: Adjusted Rand Index (ARI) ---\n",
    "ari_score = adjusted_rand_score(class_df['kmeans_cluster'], class_df['gmm_cluster'])\n",
    "print(\"--- Model Similarity Score ---\")\n",
    "print(f\"Adjusted Rand Index (ARI): {ari_score:.4f}\")\n",
    "print(\"An ARI > 0.8 suggests the models are in strong agreement.\")\n",
    "\n",
    "# --- Qualitative Comparison: Side-by-Side Visualizations ---\n",
    "\n",
    "# 1. Radar Charts\n",
    "fig, axes = plt.subplots(1, 2, figsize=(18, 7), subplot_kw=dict(polar=True))\n",
    "fig.suptitle('Head-to-Head: Cluster Profile Comparison', fontsize=20)\n",
    "\n",
    "def plot_radar(ax, df_profiles, title):\n",
    "    labels = df_profiles.columns\n",
    "    num_vars = len(labels)\n",
    "    angles = np.linspace(0, 2 * np.pi, num_vars, endpoint=False).tolist() + [0]\n",
    "    ax.set_xticks(angles[:-1])\n",
    "    ax.set_xticklabels(labels)\n",
    "    for i, row in df_profiles.iterrows():\n",
    "        values = row.tolist() + [row[0]]\n",
    "        ax.plot(angles, values, label=f\"Cluster {i}\", linewidth=2)\n",
    "        ax.fill(angles, values, alpha=0.1)\n",
    "    ax.set_title(title, size=14, y=1.1)\n",
    "    ax.legend(loc='upper right', bbox_to_anchor=(1.3, 1.1))\n",
    "\n",
    "plot_radar(axes[0], profiles_kmeans, \"K-Means Profiles\")\n",
    "plot_radar(axes[1], profiles_gmm, \"GMM Profiles\")\n",
    "plt.show()\n",
    "\n",
    "# 2. PCA Scatter Plots\n",
    "fig, axes = plt.subplots(1, 2, figsize=(20, 8))\n",
    "fig.suptitle('Head-to-Head: Cluster Separation Comparison (PCA)', fontsize=20)\n",
    "\n",
    "# K-Means Plot\n",
    "sns.scatterplot(ax=axes[0], data=class_df, x='pca1', y='pca2', hue='kmeans_cluster', palette='viridis', s=70, alpha=0.8)\n",
    "axes[0].set_title('K-Means Clustering Results', fontsize=14)\n",
    "axes[0].grid(True, linestyle='--', alpha=0.6)\n",
    "\n",
    "# GMM Plot\n",
    "sns.scatterplot(ax=axes[1], data=class_df, x='pca1', y='pca2', hue='gmm_cluster', palette='viridis', s=70, alpha=0.8)\n",
    "axes[1].set_title('GMM Clustering Results', fontsize=14)\n",
    "axes[1].grid(True, linestyle='--', alpha=0.6)\n",
    "\n",
    "plt.show()"
   ]
  },
  {
   "cell_type": "markdown",
   "id": "622caf0d",
   "metadata": {},
   "source": [
    "## Part 5: Team Formation Showdown\n",
    "\n",
    "Now, we translate these abstract clusters into the final product: teams. Since neither K-Means nor GMM guarantees equal-sized clusters, we will use a \"round-robin draft\" method to form teams from their results. This shows the direct impact of choosing one model over the other."
   ]
  },
  {
   "cell_type": "code",
   "execution_count": 6,
   "id": "bab4d979",
   "metadata": {},
   "outputs": [
    {
     "name": "stdout",
     "output_type": "stream",
     "text": [
      "--- TEAMS FORMED BASED ON K-MEANS CLUSTERING ---\n",
      "\n",
      "--- K-Means Team 1 ---\n"
     ]
    },
    {
     "data": {
      "application/vnd.microsoft.datawrangler.viewer.v0+json": {
       "columns": [
        {
         "name": "index",
         "rawType": "int64",
         "type": "integer"
        },
        {
         "name": "first_name",
         "rawType": "object",
         "type": "string"
        },
        {
         "name": "last_name",
         "rawType": "object",
         "type": "string"
        },
        {
         "name": "kmeans_cluster",
         "rawType": "int32",
         "type": "integer"
        },
        {
         "name": "hard_skills",
         "rawType": "float64",
         "type": "float"
        },
        {
         "name": "soft_skills",
         "rawType": "float64",
         "type": "float"
        },
        {
         "name": "teamwork",
         "rawType": "float64",
         "type": "float"
        },
        {
         "name": "creativity",
         "rawType": "float64",
         "type": "float"
        }
       ],
       "ref": "b67daf1d-ae08-4be2-ab65-6100efc50a38",
       "rows": [
        [
         "0",
         "Sarra",
         "Jaziri",
         "2",
         "3.0",
         "2.41",
         "2.2",
         "3.73"
        ],
        [
         "3",
         "Amina",
         "Slimani",
         "0",
         "5.0",
         "3.31",
         "3.13",
         "4.74"
        ],
        [
         "4",
         "Amina",
         "Ben Salah",
         "0",
         "4.89",
         "3.7",
         "3.24",
         "4.36"
        ],
        [
         "6",
         "Iheb",
         "Slimani",
         "1",
         "2.87",
         "5.0",
         "5.0",
         "3.01"
        ],
        [
         "7",
         "Olfa",
         "Saidi",
         "1",
         "2.67",
         "4.99",
         "4.93",
         "2.18"
        ],
        [
         "8",
         "Ines",
         "Rekik",
         "3",
         "5.0",
         "0.46",
         "1.56",
         "0.76"
        ]
       ],
       "shape": {
        "columns": 7,
        "rows": 6
       }
      },
      "text/html": [
       "<div>\n",
       "<style scoped>\n",
       "    .dataframe tbody tr th:only-of-type {\n",
       "        vertical-align: middle;\n",
       "    }\n",
       "\n",
       "    .dataframe tbody tr th {\n",
       "        vertical-align: top;\n",
       "    }\n",
       "\n",
       "    .dataframe thead th {\n",
       "        text-align: right;\n",
       "    }\n",
       "</style>\n",
       "<table border=\"1\" class=\"dataframe\">\n",
       "  <thead>\n",
       "    <tr style=\"text-align: right;\">\n",
       "      <th></th>\n",
       "      <th>first_name</th>\n",
       "      <th>last_name</th>\n",
       "      <th>kmeans_cluster</th>\n",
       "      <th>hard_skills</th>\n",
       "      <th>soft_skills</th>\n",
       "      <th>teamwork</th>\n",
       "      <th>creativity</th>\n",
       "    </tr>\n",
       "  </thead>\n",
       "  <tbody>\n",
       "    <tr>\n",
       "      <th>0</th>\n",
       "      <td>Sarra</td>\n",
       "      <td>Jaziri</td>\n",
       "      <td>2</td>\n",
       "      <td>3.00</td>\n",
       "      <td>2.41</td>\n",
       "      <td>2.20</td>\n",
       "      <td>3.73</td>\n",
       "    </tr>\n",
       "    <tr>\n",
       "      <th>3</th>\n",
       "      <td>Amina</td>\n",
       "      <td>Slimani</td>\n",
       "      <td>0</td>\n",
       "      <td>5.00</td>\n",
       "      <td>3.31</td>\n",
       "      <td>3.13</td>\n",
       "      <td>4.74</td>\n",
       "    </tr>\n",
       "    <tr>\n",
       "      <th>4</th>\n",
       "      <td>Amina</td>\n",
       "      <td>Ben Salah</td>\n",
       "      <td>0</td>\n",
       "      <td>4.89</td>\n",
       "      <td>3.70</td>\n",
       "      <td>3.24</td>\n",
       "      <td>4.36</td>\n",
       "    </tr>\n",
       "    <tr>\n",
       "      <th>6</th>\n",
       "      <td>Iheb</td>\n",
       "      <td>Slimani</td>\n",
       "      <td>1</td>\n",
       "      <td>2.87</td>\n",
       "      <td>5.00</td>\n",
       "      <td>5.00</td>\n",
       "      <td>3.01</td>\n",
       "    </tr>\n",
       "    <tr>\n",
       "      <th>7</th>\n",
       "      <td>Olfa</td>\n",
       "      <td>Saidi</td>\n",
       "      <td>1</td>\n",
       "      <td>2.67</td>\n",
       "      <td>4.99</td>\n",
       "      <td>4.93</td>\n",
       "      <td>2.18</td>\n",
       "    </tr>\n",
       "    <tr>\n",
       "      <th>8</th>\n",
       "      <td>Ines</td>\n",
       "      <td>Rekik</td>\n",
       "      <td>3</td>\n",
       "      <td>5.00</td>\n",
       "      <td>0.46</td>\n",
       "      <td>1.56</td>\n",
       "      <td>0.76</td>\n",
       "    </tr>\n",
       "  </tbody>\n",
       "</table>\n",
       "</div>"
      ],
      "text/plain": [
       "  first_name  last_name  kmeans_cluster  hard_skills  soft_skills  teamwork  \\\n",
       "0      Sarra     Jaziri               2         3.00         2.41      2.20   \n",
       "3      Amina    Slimani               0         5.00         3.31      3.13   \n",
       "4      Amina  Ben Salah               0         4.89         3.70      3.24   \n",
       "6       Iheb    Slimani               1         2.87         5.00      5.00   \n",
       "7       Olfa      Saidi               1         2.67         4.99      4.93   \n",
       "8       Ines      Rekik               3         5.00         0.46      1.56   \n",
       "\n",
       "   creativity  \n",
       "0        3.73  \n",
       "3        4.74  \n",
       "4        4.36  \n",
       "6        3.01  \n",
       "7        2.18  \n",
       "8        0.76  "
      ]
     },
     "metadata": {},
     "output_type": "display_data"
    },
    {
     "name": "stdout",
     "output_type": "stream",
     "text": [
      "\n",
      "--- K-Means Team 2 ---\n"
     ]
    },
    {
     "data": {
      "application/vnd.microsoft.datawrangler.viewer.v0+json": {
       "columns": [
        {
         "name": "index",
         "rawType": "int64",
         "type": "integer"
        },
        {
         "name": "first_name",
         "rawType": "object",
         "type": "string"
        },
        {
         "name": "last_name",
         "rawType": "object",
         "type": "string"
        },
        {
         "name": "kmeans_cluster",
         "rawType": "int32",
         "type": "integer"
        },
        {
         "name": "hard_skills",
         "rawType": "float64",
         "type": "float"
        },
        {
         "name": "soft_skills",
         "rawType": "float64",
         "type": "float"
        },
        {
         "name": "teamwork",
         "rawType": "float64",
         "type": "float"
        },
        {
         "name": "creativity",
         "rawType": "float64",
         "type": "float"
        }
       ],
       "ref": "0e10d8b4-a5cc-400d-bec3-3cf65f2199f8",
       "rows": [
        [
         "1",
         "Eya",
         "Fourati",
         "2",
         "1.96",
         "2.16",
         "1.0",
         "5.0"
        ],
        [
         "10",
         "Wafa",
         "Slimani",
         "3",
         "5.0",
         "0.76",
         "3.69",
         "1.05"
        ],
        [
         "11",
         "Lotfi",
         "Ayari",
         "0",
         "4.94",
         "2.41",
         "3.89",
         "3.95"
        ],
        [
         "16",
         "Eya",
         "Jlassi",
         "1",
         "1.93",
         "4.86",
         "4.68",
         "3.47"
        ],
        [
         "18",
         "Dorra",
         "Mansour",
         "1",
         "2.79",
         "4.06",
         "4.64",
         "3.49"
        ],
        [
         "22",
         "Karim",
         "Ben Amor",
         "0",
         "3.17",
         "4.18",
         "2.87",
         "3.68"
        ]
       ],
       "shape": {
        "columns": 7,
        "rows": 6
       }
      },
      "text/html": [
       "<div>\n",
       "<style scoped>\n",
       "    .dataframe tbody tr th:only-of-type {\n",
       "        vertical-align: middle;\n",
       "    }\n",
       "\n",
       "    .dataframe tbody tr th {\n",
       "        vertical-align: top;\n",
       "    }\n",
       "\n",
       "    .dataframe thead th {\n",
       "        text-align: right;\n",
       "    }\n",
       "</style>\n",
       "<table border=\"1\" class=\"dataframe\">\n",
       "  <thead>\n",
       "    <tr style=\"text-align: right;\">\n",
       "      <th></th>\n",
       "      <th>first_name</th>\n",
       "      <th>last_name</th>\n",
       "      <th>kmeans_cluster</th>\n",
       "      <th>hard_skills</th>\n",
       "      <th>soft_skills</th>\n",
       "      <th>teamwork</th>\n",
       "      <th>creativity</th>\n",
       "    </tr>\n",
       "  </thead>\n",
       "  <tbody>\n",
       "    <tr>\n",
       "      <th>1</th>\n",
       "      <td>Eya</td>\n",
       "      <td>Fourati</td>\n",
       "      <td>2</td>\n",
       "      <td>1.96</td>\n",
       "      <td>2.16</td>\n",
       "      <td>1.00</td>\n",
       "      <td>5.00</td>\n",
       "    </tr>\n",
       "    <tr>\n",
       "      <th>10</th>\n",
       "      <td>Wafa</td>\n",
       "      <td>Slimani</td>\n",
       "      <td>3</td>\n",
       "      <td>5.00</td>\n",
       "      <td>0.76</td>\n",
       "      <td>3.69</td>\n",
       "      <td>1.05</td>\n",
       "    </tr>\n",
       "    <tr>\n",
       "      <th>11</th>\n",
       "      <td>Lotfi</td>\n",
       "      <td>Ayari</td>\n",
       "      <td>0</td>\n",
       "      <td>4.94</td>\n",
       "      <td>2.41</td>\n",
       "      <td>3.89</td>\n",
       "      <td>3.95</td>\n",
       "    </tr>\n",
       "    <tr>\n",
       "      <th>16</th>\n",
       "      <td>Eya</td>\n",
       "      <td>Jlassi</td>\n",
       "      <td>1</td>\n",
       "      <td>1.93</td>\n",
       "      <td>4.86</td>\n",
       "      <td>4.68</td>\n",
       "      <td>3.47</td>\n",
       "    </tr>\n",
       "    <tr>\n",
       "      <th>18</th>\n",
       "      <td>Dorra</td>\n",
       "      <td>Mansour</td>\n",
       "      <td>1</td>\n",
       "      <td>2.79</td>\n",
       "      <td>4.06</td>\n",
       "      <td>4.64</td>\n",
       "      <td>3.49</td>\n",
       "    </tr>\n",
       "    <tr>\n",
       "      <th>22</th>\n",
       "      <td>Karim</td>\n",
       "      <td>Ben Amor</td>\n",
       "      <td>0</td>\n",
       "      <td>3.17</td>\n",
       "      <td>4.18</td>\n",
       "      <td>2.87</td>\n",
       "      <td>3.68</td>\n",
       "    </tr>\n",
       "  </tbody>\n",
       "</table>\n",
       "</div>"
      ],
      "text/plain": [
       "   first_name last_name  kmeans_cluster  hard_skills  soft_skills  teamwork  \\\n",
       "1         Eya   Fourati               2         1.96         2.16      1.00   \n",
       "10       Wafa   Slimani               3         5.00         0.76      3.69   \n",
       "11      Lotfi     Ayari               0         4.94         2.41      3.89   \n",
       "16        Eya    Jlassi               1         1.93         4.86      4.68   \n",
       "18      Dorra   Mansour               1         2.79         4.06      4.64   \n",
       "22      Karim  Ben Amor               0         3.17         4.18      2.87   \n",
       "\n",
       "    creativity  \n",
       "1         5.00  \n",
       "10        1.05  \n",
       "11        3.95  \n",
       "16        3.47  \n",
       "18        3.49  \n",
       "22        3.68  "
      ]
     },
     "metadata": {},
     "output_type": "display_data"
    },
    {
     "name": "stdout",
     "output_type": "stream",
     "text": [
      "\n",
      "--- K-Means Team 3 ---\n"
     ]
    },
    {
     "data": {
      "application/vnd.microsoft.datawrangler.viewer.v0+json": {
       "columns": [
        {
         "name": "index",
         "rawType": "int64",
         "type": "integer"
        },
        {
         "name": "first_name",
         "rawType": "object",
         "type": "string"
        },
        {
         "name": "last_name",
         "rawType": "object",
         "type": "string"
        },
        {
         "name": "kmeans_cluster",
         "rawType": "int32",
         "type": "integer"
        },
        {
         "name": "hard_skills",
         "rawType": "float64",
         "type": "float"
        },
        {
         "name": "soft_skills",
         "rawType": "float64",
         "type": "float"
        },
        {
         "name": "teamwork",
         "rawType": "float64",
         "type": "float"
        },
        {
         "name": "creativity",
         "rawType": "float64",
         "type": "float"
        }
       ],
       "ref": "d8ad88ec-50f2-4f0d-a420-e083763f8b6c",
       "rows": [
        [
         "2",
         "Mouna",
         "Ben Ali",
         "2",
         "2.44",
         "3.24",
         "2.69",
         "5.0"
        ],
        [
         "12",
         "Karim",
         "Slimani",
         "3",
         "5.0",
         "2.22",
         "0.86",
         "0.9"
        ],
        [
         "19",
         "Foued",
         "Baccouche",
         "1",
         "3.26",
         "4.64",
         "5.0",
         "3.02"
        ],
        [
         "20",
         "Mourad",
         "Belkhir",
         "1",
         "2.65",
         "5.0",
         "5.0",
         "4.12"
        ],
        [
         "25",
         "Hatem",
         "Zouari",
         "0",
         "4.28",
         "2.45",
         "3.37",
         "4.2"
        ],
        [
         "26",
         "Oumaima",
         "Khlifi",
         "0",
         "4.19",
         "2.81",
         "2.95",
         "3.33"
        ]
       ],
       "shape": {
        "columns": 7,
        "rows": 6
       }
      },
      "text/html": [
       "<div>\n",
       "<style scoped>\n",
       "    .dataframe tbody tr th:only-of-type {\n",
       "        vertical-align: middle;\n",
       "    }\n",
       "\n",
       "    .dataframe tbody tr th {\n",
       "        vertical-align: top;\n",
       "    }\n",
       "\n",
       "    .dataframe thead th {\n",
       "        text-align: right;\n",
       "    }\n",
       "</style>\n",
       "<table border=\"1\" class=\"dataframe\">\n",
       "  <thead>\n",
       "    <tr style=\"text-align: right;\">\n",
       "      <th></th>\n",
       "      <th>first_name</th>\n",
       "      <th>last_name</th>\n",
       "      <th>kmeans_cluster</th>\n",
       "      <th>hard_skills</th>\n",
       "      <th>soft_skills</th>\n",
       "      <th>teamwork</th>\n",
       "      <th>creativity</th>\n",
       "    </tr>\n",
       "  </thead>\n",
       "  <tbody>\n",
       "    <tr>\n",
       "      <th>2</th>\n",
       "      <td>Mouna</td>\n",
       "      <td>Ben Ali</td>\n",
       "      <td>2</td>\n",
       "      <td>2.44</td>\n",
       "      <td>3.24</td>\n",
       "      <td>2.69</td>\n",
       "      <td>5.00</td>\n",
       "    </tr>\n",
       "    <tr>\n",
       "      <th>12</th>\n",
       "      <td>Karim</td>\n",
       "      <td>Slimani</td>\n",
       "      <td>3</td>\n",
       "      <td>5.00</td>\n",
       "      <td>2.22</td>\n",
       "      <td>0.86</td>\n",
       "      <td>0.90</td>\n",
       "    </tr>\n",
       "    <tr>\n",
       "      <th>19</th>\n",
       "      <td>Foued</td>\n",
       "      <td>Baccouche</td>\n",
       "      <td>1</td>\n",
       "      <td>3.26</td>\n",
       "      <td>4.64</td>\n",
       "      <td>5.00</td>\n",
       "      <td>3.02</td>\n",
       "    </tr>\n",
       "    <tr>\n",
       "      <th>20</th>\n",
       "      <td>Mourad</td>\n",
       "      <td>Belkhir</td>\n",
       "      <td>1</td>\n",
       "      <td>2.65</td>\n",
       "      <td>5.00</td>\n",
       "      <td>5.00</td>\n",
       "      <td>4.12</td>\n",
       "    </tr>\n",
       "    <tr>\n",
       "      <th>25</th>\n",
       "      <td>Hatem</td>\n",
       "      <td>Zouari</td>\n",
       "      <td>0</td>\n",
       "      <td>4.28</td>\n",
       "      <td>2.45</td>\n",
       "      <td>3.37</td>\n",
       "      <td>4.20</td>\n",
       "    </tr>\n",
       "    <tr>\n",
       "      <th>26</th>\n",
       "      <td>Oumaima</td>\n",
       "      <td>Khlifi</td>\n",
       "      <td>0</td>\n",
       "      <td>4.19</td>\n",
       "      <td>2.81</td>\n",
       "      <td>2.95</td>\n",
       "      <td>3.33</td>\n",
       "    </tr>\n",
       "  </tbody>\n",
       "</table>\n",
       "</div>"
      ],
      "text/plain": [
       "   first_name  last_name  kmeans_cluster  hard_skills  soft_skills  teamwork  \\\n",
       "2       Mouna    Ben Ali               2         2.44         3.24      2.69   \n",
       "12      Karim    Slimani               3         5.00         2.22      0.86   \n",
       "19      Foued  Baccouche               1         3.26         4.64      5.00   \n",
       "20     Mourad    Belkhir               1         2.65         5.00      5.00   \n",
       "25      Hatem     Zouari               0         4.28         2.45      3.37   \n",
       "26    Oumaima     Khlifi               0         4.19         2.81      2.95   \n",
       "\n",
       "    creativity  \n",
       "2         5.00  \n",
       "12        0.90  \n",
       "19        3.02  \n",
       "20        4.12  \n",
       "25        4.20  \n",
       "26        3.33  "
      ]
     },
     "metadata": {},
     "output_type": "display_data"
    },
    {
     "name": "stdout",
     "output_type": "stream",
     "text": [
      "\n",
      "--- K-Means Team 4 ---\n"
     ]
    },
    {
     "data": {
      "application/vnd.microsoft.datawrangler.viewer.v0+json": {
       "columns": [
        {
         "name": "index",
         "rawType": "int64",
         "type": "integer"
        },
        {
         "name": "first_name",
         "rawType": "object",
         "type": "string"
        },
        {
         "name": "last_name",
         "rawType": "object",
         "type": "string"
        },
        {
         "name": "kmeans_cluster",
         "rawType": "int32",
         "type": "integer"
        },
        {
         "name": "hard_skills",
         "rawType": "float64",
         "type": "float"
        },
        {
         "name": "soft_skills",
         "rawType": "float64",
         "type": "float"
        },
        {
         "name": "teamwork",
         "rawType": "float64",
         "type": "float"
        },
        {
         "name": "creativity",
         "rawType": "float64",
         "type": "float"
        }
       ],
       "ref": "3ce98474-59c9-477c-9e92-02ebe352eb89",
       "rows": [
        [
         "5",
         "Nour",
         "Kanzari",
         "2",
         "1.69",
         "1.32",
         "1.55",
         "4.46"
        ],
        [
         "15",
         "Rami",
         "Mabrouk",
         "3",
         "5.0",
         "0.88",
         "1.0",
         "0.32"
        ],
        [
         "21",
         "Rim",
         "Khemiri",
         "1",
         "2.04",
         "4.99",
         "5.0",
         "2.84"
        ],
        [
         "27",
         "Rym",
         "Jaziri",
         "1",
         "3.1",
         "4.8",
         "3.58",
         "4.0"
        ],
        [
         "34",
         "Oussama",
         "Mejri",
         "0",
         "4.05",
         "4.65",
         "3.92",
         "5.0"
        ],
        [
         "36",
         "Amina",
         "Maaloul",
         "0",
         "2.79",
         "3.84",
         "4.01",
         "4.81"
        ]
       ],
       "shape": {
        "columns": 7,
        "rows": 6
       }
      },
      "text/html": [
       "<div>\n",
       "<style scoped>\n",
       "    .dataframe tbody tr th:only-of-type {\n",
       "        vertical-align: middle;\n",
       "    }\n",
       "\n",
       "    .dataframe tbody tr th {\n",
       "        vertical-align: top;\n",
       "    }\n",
       "\n",
       "    .dataframe thead th {\n",
       "        text-align: right;\n",
       "    }\n",
       "</style>\n",
       "<table border=\"1\" class=\"dataframe\">\n",
       "  <thead>\n",
       "    <tr style=\"text-align: right;\">\n",
       "      <th></th>\n",
       "      <th>first_name</th>\n",
       "      <th>last_name</th>\n",
       "      <th>kmeans_cluster</th>\n",
       "      <th>hard_skills</th>\n",
       "      <th>soft_skills</th>\n",
       "      <th>teamwork</th>\n",
       "      <th>creativity</th>\n",
       "    </tr>\n",
       "  </thead>\n",
       "  <tbody>\n",
       "    <tr>\n",
       "      <th>5</th>\n",
       "      <td>Nour</td>\n",
       "      <td>Kanzari</td>\n",
       "      <td>2</td>\n",
       "      <td>1.69</td>\n",
       "      <td>1.32</td>\n",
       "      <td>1.55</td>\n",
       "      <td>4.46</td>\n",
       "    </tr>\n",
       "    <tr>\n",
       "      <th>15</th>\n",
       "      <td>Rami</td>\n",
       "      <td>Mabrouk</td>\n",
       "      <td>3</td>\n",
       "      <td>5.00</td>\n",
       "      <td>0.88</td>\n",
       "      <td>1.00</td>\n",
       "      <td>0.32</td>\n",
       "    </tr>\n",
       "    <tr>\n",
       "      <th>21</th>\n",
       "      <td>Rim</td>\n",
       "      <td>Khemiri</td>\n",
       "      <td>1</td>\n",
       "      <td>2.04</td>\n",
       "      <td>4.99</td>\n",
       "      <td>5.00</td>\n",
       "      <td>2.84</td>\n",
       "    </tr>\n",
       "    <tr>\n",
       "      <th>27</th>\n",
       "      <td>Rym</td>\n",
       "      <td>Jaziri</td>\n",
       "      <td>1</td>\n",
       "      <td>3.10</td>\n",
       "      <td>4.80</td>\n",
       "      <td>3.58</td>\n",
       "      <td>4.00</td>\n",
       "    </tr>\n",
       "    <tr>\n",
       "      <th>34</th>\n",
       "      <td>Oussama</td>\n",
       "      <td>Mejri</td>\n",
       "      <td>0</td>\n",
       "      <td>4.05</td>\n",
       "      <td>4.65</td>\n",
       "      <td>3.92</td>\n",
       "      <td>5.00</td>\n",
       "    </tr>\n",
       "    <tr>\n",
       "      <th>36</th>\n",
       "      <td>Amina</td>\n",
       "      <td>Maaloul</td>\n",
       "      <td>0</td>\n",
       "      <td>2.79</td>\n",
       "      <td>3.84</td>\n",
       "      <td>4.01</td>\n",
       "      <td>4.81</td>\n",
       "    </tr>\n",
       "  </tbody>\n",
       "</table>\n",
       "</div>"
      ],
      "text/plain": [
       "   first_name last_name  kmeans_cluster  hard_skills  soft_skills  teamwork  \\\n",
       "5        Nour   Kanzari               2         1.69         1.32      1.55   \n",
       "15       Rami   Mabrouk               3         5.00         0.88      1.00   \n",
       "21        Rim   Khemiri               1         2.04         4.99      5.00   \n",
       "27        Rym    Jaziri               1         3.10         4.80      3.58   \n",
       "34    Oussama     Mejri               0         4.05         4.65      3.92   \n",
       "36      Amina   Maaloul               0         2.79         3.84      4.01   \n",
       "\n",
       "    creativity  \n",
       "5         4.46  \n",
       "15        0.32  \n",
       "21        2.84  \n",
       "27        4.00  \n",
       "34        5.00  \n",
       "36        4.81  "
      ]
     },
     "metadata": {},
     "output_type": "display_data"
    },
    {
     "name": "stdout",
     "output_type": "stream",
     "text": [
      "\n",
      "--- K-Means Team 5 ---\n"
     ]
    },
    {
     "data": {
      "application/vnd.microsoft.datawrangler.viewer.v0+json": {
       "columns": [
        {
         "name": "index",
         "rawType": "int64",
         "type": "integer"
        },
        {
         "name": "first_name",
         "rawType": "object",
         "type": "string"
        },
        {
         "name": "last_name",
         "rawType": "object",
         "type": "string"
        },
        {
         "name": "kmeans_cluster",
         "rawType": "int32",
         "type": "integer"
        },
        {
         "name": "hard_skills",
         "rawType": "float64",
         "type": "float"
        },
        {
         "name": "soft_skills",
         "rawType": "float64",
         "type": "float"
        },
        {
         "name": "teamwork",
         "rawType": "float64",
         "type": "float"
        },
        {
         "name": "creativity",
         "rawType": "float64",
         "type": "float"
        }
       ],
       "ref": "973cf7b2-7b15-4f4c-ab9f-5c4bfbda79ee",
       "rows": [
        [
         "9",
         "Nour",
         "Ben Ali",
         "2",
         "2.24",
         "1.33",
         "2.16",
         "5.0"
        ],
        [
         "17",
         "Fatma",
         "Nasri",
         "3",
         "4.32",
         "2.36",
         "1.75",
         "0.51"
        ],
        [
         "28",
         "Yasmine",
         "Khlifi",
         "1",
         "2.3",
         "5.0",
         "5.0",
         "2.68"
        ],
        [
         "29",
         "Wassim",
         "Ben Amor",
         "1",
         "2.47",
         "4.44",
         "5.0",
         "3.89"
        ],
        [
         "43",
         "Khalil",
         "Mansour",
         "0",
         "5.0",
         "2.86",
         "3.2",
         "3.87"
        ],
        [
         "46",
         "Sarra",
         "Nasri",
         "0",
         "5.0",
         "3.65",
         "3.49",
         "4.97"
        ]
       ],
       "shape": {
        "columns": 7,
        "rows": 6
       }
      },
      "text/html": [
       "<div>\n",
       "<style scoped>\n",
       "    .dataframe tbody tr th:only-of-type {\n",
       "        vertical-align: middle;\n",
       "    }\n",
       "\n",
       "    .dataframe tbody tr th {\n",
       "        vertical-align: top;\n",
       "    }\n",
       "\n",
       "    .dataframe thead th {\n",
       "        text-align: right;\n",
       "    }\n",
       "</style>\n",
       "<table border=\"1\" class=\"dataframe\">\n",
       "  <thead>\n",
       "    <tr style=\"text-align: right;\">\n",
       "      <th></th>\n",
       "      <th>first_name</th>\n",
       "      <th>last_name</th>\n",
       "      <th>kmeans_cluster</th>\n",
       "      <th>hard_skills</th>\n",
       "      <th>soft_skills</th>\n",
       "      <th>teamwork</th>\n",
       "      <th>creativity</th>\n",
       "    </tr>\n",
       "  </thead>\n",
       "  <tbody>\n",
       "    <tr>\n",
       "      <th>9</th>\n",
       "      <td>Nour</td>\n",
       "      <td>Ben Ali</td>\n",
       "      <td>2</td>\n",
       "      <td>2.24</td>\n",
       "      <td>1.33</td>\n",
       "      <td>2.16</td>\n",
       "      <td>5.00</td>\n",
       "    </tr>\n",
       "    <tr>\n",
       "      <th>17</th>\n",
       "      <td>Fatma</td>\n",
       "      <td>Nasri</td>\n",
       "      <td>3</td>\n",
       "      <td>4.32</td>\n",
       "      <td>2.36</td>\n",
       "      <td>1.75</td>\n",
       "      <td>0.51</td>\n",
       "    </tr>\n",
       "    <tr>\n",
       "      <th>28</th>\n",
       "      <td>Yasmine</td>\n",
       "      <td>Khlifi</td>\n",
       "      <td>1</td>\n",
       "      <td>2.30</td>\n",
       "      <td>5.00</td>\n",
       "      <td>5.00</td>\n",
       "      <td>2.68</td>\n",
       "    </tr>\n",
       "    <tr>\n",
       "      <th>29</th>\n",
       "      <td>Wassim</td>\n",
       "      <td>Ben Amor</td>\n",
       "      <td>1</td>\n",
       "      <td>2.47</td>\n",
       "      <td>4.44</td>\n",
       "      <td>5.00</td>\n",
       "      <td>3.89</td>\n",
       "    </tr>\n",
       "    <tr>\n",
       "      <th>43</th>\n",
       "      <td>Khalil</td>\n",
       "      <td>Mansour</td>\n",
       "      <td>0</td>\n",
       "      <td>5.00</td>\n",
       "      <td>2.86</td>\n",
       "      <td>3.20</td>\n",
       "      <td>3.87</td>\n",
       "    </tr>\n",
       "    <tr>\n",
       "      <th>46</th>\n",
       "      <td>Sarra</td>\n",
       "      <td>Nasri</td>\n",
       "      <td>0</td>\n",
       "      <td>5.00</td>\n",
       "      <td>3.65</td>\n",
       "      <td>3.49</td>\n",
       "      <td>4.97</td>\n",
       "    </tr>\n",
       "  </tbody>\n",
       "</table>\n",
       "</div>"
      ],
      "text/plain": [
       "   first_name last_name  kmeans_cluster  hard_skills  soft_skills  teamwork  \\\n",
       "9        Nour   Ben Ali               2         2.24         1.33      2.16   \n",
       "17      Fatma     Nasri               3         4.32         2.36      1.75   \n",
       "28    Yasmine    Khlifi               1         2.30         5.00      5.00   \n",
       "29     Wassim  Ben Amor               1         2.47         4.44      5.00   \n",
       "43     Khalil   Mansour               0         5.00         2.86      3.20   \n",
       "46      Sarra     Nasri               0         5.00         3.65      3.49   \n",
       "\n",
       "    creativity  \n",
       "9         5.00  \n",
       "17        0.51  \n",
       "28        2.68  \n",
       "29        3.89  \n",
       "43        3.87  \n",
       "46        4.97  "
      ]
     },
     "metadata": {},
     "output_type": "display_data"
    },
    {
     "name": "stdout",
     "output_type": "stream",
     "text": [
      "\n",
      "--- K-Means Team 6 ---\n"
     ]
    },
    {
     "data": {
      "application/vnd.microsoft.datawrangler.viewer.v0+json": {
       "columns": [
        {
         "name": "index",
         "rawType": "int64",
         "type": "integer"
        },
        {
         "name": "first_name",
         "rawType": "object",
         "type": "string"
        },
        {
         "name": "last_name",
         "rawType": "object",
         "type": "string"
        },
        {
         "name": "kmeans_cluster",
         "rawType": "int32",
         "type": "integer"
        },
        {
         "name": "hard_skills",
         "rawType": "float64",
         "type": "float"
        },
        {
         "name": "soft_skills",
         "rawType": "float64",
         "type": "float"
        },
        {
         "name": "teamwork",
         "rawType": "float64",
         "type": "float"
        },
        {
         "name": "creativity",
         "rawType": "float64",
         "type": "float"
        }
       ],
       "ref": "464cceb2-cd6e-4fb4-bb39-5d08575cfb4c",
       "rows": [
        [
         "13",
         "Amel",
         "Ferjani",
         "2",
         "2.32",
         "2.09",
         "3.07",
         "4.81"
        ],
        [
         "30",
         "Hichem",
         "Ben Ali",
         "1",
         "3.08",
         "3.58",
         "5.0",
         "3.12"
        ],
        [
         "31",
         "Lobna",
         "Chebbi",
         "3",
         "4.38",
         "2.67",
         "2.08",
         "1.68"
        ],
        [
         "32",
         "Rim",
         "Slimani",
         "1",
         "2.16",
         "5.0",
         "5.0",
         "2.02"
        ],
        [
         "47",
         "Eya",
         "Zayani",
         "0",
         "3.84",
         "3.16",
         "2.87",
         "5.0"
        ],
        [
         "48",
         "Eya",
         "Kanzari",
         "0",
         "3.74",
         "1.82",
         "3.71",
         "4.6"
        ]
       ],
       "shape": {
        "columns": 7,
        "rows": 6
       }
      },
      "text/html": [
       "<div>\n",
       "<style scoped>\n",
       "    .dataframe tbody tr th:only-of-type {\n",
       "        vertical-align: middle;\n",
       "    }\n",
       "\n",
       "    .dataframe tbody tr th {\n",
       "        vertical-align: top;\n",
       "    }\n",
       "\n",
       "    .dataframe thead th {\n",
       "        text-align: right;\n",
       "    }\n",
       "</style>\n",
       "<table border=\"1\" class=\"dataframe\">\n",
       "  <thead>\n",
       "    <tr style=\"text-align: right;\">\n",
       "      <th></th>\n",
       "      <th>first_name</th>\n",
       "      <th>last_name</th>\n",
       "      <th>kmeans_cluster</th>\n",
       "      <th>hard_skills</th>\n",
       "      <th>soft_skills</th>\n",
       "      <th>teamwork</th>\n",
       "      <th>creativity</th>\n",
       "    </tr>\n",
       "  </thead>\n",
       "  <tbody>\n",
       "    <tr>\n",
       "      <th>13</th>\n",
       "      <td>Amel</td>\n",
       "      <td>Ferjani</td>\n",
       "      <td>2</td>\n",
       "      <td>2.32</td>\n",
       "      <td>2.09</td>\n",
       "      <td>3.07</td>\n",
       "      <td>4.81</td>\n",
       "    </tr>\n",
       "    <tr>\n",
       "      <th>30</th>\n",
       "      <td>Hichem</td>\n",
       "      <td>Ben Ali</td>\n",
       "      <td>1</td>\n",
       "      <td>3.08</td>\n",
       "      <td>3.58</td>\n",
       "      <td>5.00</td>\n",
       "      <td>3.12</td>\n",
       "    </tr>\n",
       "    <tr>\n",
       "      <th>31</th>\n",
       "      <td>Lobna</td>\n",
       "      <td>Chebbi</td>\n",
       "      <td>3</td>\n",
       "      <td>4.38</td>\n",
       "      <td>2.67</td>\n",
       "      <td>2.08</td>\n",
       "      <td>1.68</td>\n",
       "    </tr>\n",
       "    <tr>\n",
       "      <th>32</th>\n",
       "      <td>Rim</td>\n",
       "      <td>Slimani</td>\n",
       "      <td>1</td>\n",
       "      <td>2.16</td>\n",
       "      <td>5.00</td>\n",
       "      <td>5.00</td>\n",
       "      <td>2.02</td>\n",
       "    </tr>\n",
       "    <tr>\n",
       "      <th>47</th>\n",
       "      <td>Eya</td>\n",
       "      <td>Zayani</td>\n",
       "      <td>0</td>\n",
       "      <td>3.84</td>\n",
       "      <td>3.16</td>\n",
       "      <td>2.87</td>\n",
       "      <td>5.00</td>\n",
       "    </tr>\n",
       "    <tr>\n",
       "      <th>48</th>\n",
       "      <td>Eya</td>\n",
       "      <td>Kanzari</td>\n",
       "      <td>0</td>\n",
       "      <td>3.74</td>\n",
       "      <td>1.82</td>\n",
       "      <td>3.71</td>\n",
       "      <td>4.60</td>\n",
       "    </tr>\n",
       "  </tbody>\n",
       "</table>\n",
       "</div>"
      ],
      "text/plain": [
       "   first_name last_name  kmeans_cluster  hard_skills  soft_skills  teamwork  \\\n",
       "13       Amel   Ferjani               2         2.32         2.09      3.07   \n",
       "30     Hichem   Ben Ali               1         3.08         3.58      5.00   \n",
       "31      Lobna    Chebbi               3         4.38         2.67      2.08   \n",
       "32        Rim   Slimani               1         2.16         5.00      5.00   \n",
       "47        Eya    Zayani               0         3.84         3.16      2.87   \n",
       "48        Eya   Kanzari               0         3.74         1.82      3.71   \n",
       "\n",
       "    creativity  \n",
       "13        4.81  \n",
       "30        3.12  \n",
       "31        1.68  \n",
       "32        2.02  \n",
       "47        5.00  \n",
       "48        4.60  "
      ]
     },
     "metadata": {},
     "output_type": "display_data"
    },
    {
     "name": "stdout",
     "output_type": "stream",
     "text": [
      "\n",
      "--- K-Means Team 7 ---\n"
     ]
    },
    {
     "data": {
      "application/vnd.microsoft.datawrangler.viewer.v0+json": {
       "columns": [
        {
         "name": "index",
         "rawType": "int64",
         "type": "integer"
        },
        {
         "name": "first_name",
         "rawType": "object",
         "type": "string"
        },
        {
         "name": "last_name",
         "rawType": "object",
         "type": "string"
        },
        {
         "name": "kmeans_cluster",
         "rawType": "int32",
         "type": "integer"
        },
        {
         "name": "hard_skills",
         "rawType": "float64",
         "type": "float"
        },
        {
         "name": "soft_skills",
         "rawType": "float64",
         "type": "float"
        },
        {
         "name": "teamwork",
         "rawType": "float64",
         "type": "float"
        },
        {
         "name": "creativity",
         "rawType": "float64",
         "type": "float"
        }
       ],
       "ref": "ea673150-c16e-4c52-a6c7-2bb232b6090d",
       "rows": [
        [
         "14",
         "Amel",
         "Ben Salah",
         "2",
         "0.26",
         "1.97",
         "1.44",
         "5.0"
        ],
        [
         "33",
         "Bilel",
         "Mabrouk",
         "3",
         "5.0",
         "0.66",
         "2.72",
         "1.48"
        ],
        [
         "40",
         "Rym",
         "Miled",
         "1",
         "2.25",
         "3.12",
         "4.35",
         "5.0"
        ],
        [
         "41",
         "Ali",
         "Slimani",
         "1",
         "3.02",
         "5.0",
         "4.97",
         "2.83"
        ],
        [
         "49",
         "Amine",
         "Chaabane",
         "0",
         "5.0",
         "2.2",
         "4.16",
         "4.16"
        ],
        [
         "54",
         "Rania",
         "Ben Ali",
         "0",
         "3.42",
         "3.45",
         "4.19",
         "4.77"
        ]
       ],
       "shape": {
        "columns": 7,
        "rows": 6
       }
      },
      "text/html": [
       "<div>\n",
       "<style scoped>\n",
       "    .dataframe tbody tr th:only-of-type {\n",
       "        vertical-align: middle;\n",
       "    }\n",
       "\n",
       "    .dataframe tbody tr th {\n",
       "        vertical-align: top;\n",
       "    }\n",
       "\n",
       "    .dataframe thead th {\n",
       "        text-align: right;\n",
       "    }\n",
       "</style>\n",
       "<table border=\"1\" class=\"dataframe\">\n",
       "  <thead>\n",
       "    <tr style=\"text-align: right;\">\n",
       "      <th></th>\n",
       "      <th>first_name</th>\n",
       "      <th>last_name</th>\n",
       "      <th>kmeans_cluster</th>\n",
       "      <th>hard_skills</th>\n",
       "      <th>soft_skills</th>\n",
       "      <th>teamwork</th>\n",
       "      <th>creativity</th>\n",
       "    </tr>\n",
       "  </thead>\n",
       "  <tbody>\n",
       "    <tr>\n",
       "      <th>14</th>\n",
       "      <td>Amel</td>\n",
       "      <td>Ben Salah</td>\n",
       "      <td>2</td>\n",
       "      <td>0.26</td>\n",
       "      <td>1.97</td>\n",
       "      <td>1.44</td>\n",
       "      <td>5.00</td>\n",
       "    </tr>\n",
       "    <tr>\n",
       "      <th>33</th>\n",
       "      <td>Bilel</td>\n",
       "      <td>Mabrouk</td>\n",
       "      <td>3</td>\n",
       "      <td>5.00</td>\n",
       "      <td>0.66</td>\n",
       "      <td>2.72</td>\n",
       "      <td>1.48</td>\n",
       "    </tr>\n",
       "    <tr>\n",
       "      <th>40</th>\n",
       "      <td>Rym</td>\n",
       "      <td>Miled</td>\n",
       "      <td>1</td>\n",
       "      <td>2.25</td>\n",
       "      <td>3.12</td>\n",
       "      <td>4.35</td>\n",
       "      <td>5.00</td>\n",
       "    </tr>\n",
       "    <tr>\n",
       "      <th>41</th>\n",
       "      <td>Ali</td>\n",
       "      <td>Slimani</td>\n",
       "      <td>1</td>\n",
       "      <td>3.02</td>\n",
       "      <td>5.00</td>\n",
       "      <td>4.97</td>\n",
       "      <td>2.83</td>\n",
       "    </tr>\n",
       "    <tr>\n",
       "      <th>49</th>\n",
       "      <td>Amine</td>\n",
       "      <td>Chaabane</td>\n",
       "      <td>0</td>\n",
       "      <td>5.00</td>\n",
       "      <td>2.20</td>\n",
       "      <td>4.16</td>\n",
       "      <td>4.16</td>\n",
       "    </tr>\n",
       "    <tr>\n",
       "      <th>54</th>\n",
       "      <td>Rania</td>\n",
       "      <td>Ben Ali</td>\n",
       "      <td>0</td>\n",
       "      <td>3.42</td>\n",
       "      <td>3.45</td>\n",
       "      <td>4.19</td>\n",
       "      <td>4.77</td>\n",
       "    </tr>\n",
       "  </tbody>\n",
       "</table>\n",
       "</div>"
      ],
      "text/plain": [
       "   first_name  last_name  kmeans_cluster  hard_skills  soft_skills  teamwork  \\\n",
       "14       Amel  Ben Salah               2         0.26         1.97      1.44   \n",
       "33      Bilel    Mabrouk               3         5.00         0.66      2.72   \n",
       "40        Rym      Miled               1         2.25         3.12      4.35   \n",
       "41        Ali    Slimani               1         3.02         5.00      4.97   \n",
       "49      Amine   Chaabane               0         5.00         2.20      4.16   \n",
       "54      Rania    Ben Ali               0         3.42         3.45      4.19   \n",
       "\n",
       "    creativity  \n",
       "14        5.00  \n",
       "33        1.48  \n",
       "40        5.00  \n",
       "41        2.83  \n",
       "49        4.16  \n",
       "54        4.77  "
      ]
     },
     "metadata": {},
     "output_type": "display_data"
    },
    {
     "name": "stdout",
     "output_type": "stream",
     "text": [
      "\n",
      "--- K-Means Team 8 ---\n"
     ]
    },
    {
     "data": {
      "application/vnd.microsoft.datawrangler.viewer.v0+json": {
       "columns": [
        {
         "name": "index",
         "rawType": "int64",
         "type": "integer"
        },
        {
         "name": "first_name",
         "rawType": "object",
         "type": "string"
        },
        {
         "name": "last_name",
         "rawType": "object",
         "type": "string"
        },
        {
         "name": "kmeans_cluster",
         "rawType": "int32",
         "type": "integer"
        },
        {
         "name": "hard_skills",
         "rawType": "float64",
         "type": "float"
        },
        {
         "name": "soft_skills",
         "rawType": "float64",
         "type": "float"
        },
        {
         "name": "teamwork",
         "rawType": "float64",
         "type": "float"
        },
        {
         "name": "creativity",
         "rawType": "float64",
         "type": "float"
        }
       ],
       "ref": "13c82f43-31e3-42cb-b4d1-903db0087871",
       "rows": [
        [
         "23",
         "Cyrine",
         "Mabrouk",
         "2",
         "1.85",
         "3.37",
         "3.22",
         "4.53"
        ],
        [
         "35",
         "Hedi",
         "Ben Amor",
         "3",
         "5.0",
         "1.34",
         "0.9",
         "0.75"
        ],
        [
         "44",
         "Dorra",
         "Chouchene",
         "1",
         "2.48",
         "4.02",
         "5.0",
         "1.81"
        ],
        [
         "50",
         "Ines",
         "Chaabane",
         "1",
         "1.74",
         "5.0",
         "5.0",
         "2.56"
        ],
        [
         "55",
         "Mariem",
         "Miled",
         "0",
         "4.3",
         "3.48",
         "3.46",
         "4.64"
        ],
        [
         "57",
         "Wided",
         "Maaloul",
         "0",
         "4.52",
         "3.07",
         "3.58",
         "4.81"
        ]
       ],
       "shape": {
        "columns": 7,
        "rows": 6
       }
      },
      "text/html": [
       "<div>\n",
       "<style scoped>\n",
       "    .dataframe tbody tr th:only-of-type {\n",
       "        vertical-align: middle;\n",
       "    }\n",
       "\n",
       "    .dataframe tbody tr th {\n",
       "        vertical-align: top;\n",
       "    }\n",
       "\n",
       "    .dataframe thead th {\n",
       "        text-align: right;\n",
       "    }\n",
       "</style>\n",
       "<table border=\"1\" class=\"dataframe\">\n",
       "  <thead>\n",
       "    <tr style=\"text-align: right;\">\n",
       "      <th></th>\n",
       "      <th>first_name</th>\n",
       "      <th>last_name</th>\n",
       "      <th>kmeans_cluster</th>\n",
       "      <th>hard_skills</th>\n",
       "      <th>soft_skills</th>\n",
       "      <th>teamwork</th>\n",
       "      <th>creativity</th>\n",
       "    </tr>\n",
       "  </thead>\n",
       "  <tbody>\n",
       "    <tr>\n",
       "      <th>23</th>\n",
       "      <td>Cyrine</td>\n",
       "      <td>Mabrouk</td>\n",
       "      <td>2</td>\n",
       "      <td>1.85</td>\n",
       "      <td>3.37</td>\n",
       "      <td>3.22</td>\n",
       "      <td>4.53</td>\n",
       "    </tr>\n",
       "    <tr>\n",
       "      <th>35</th>\n",
       "      <td>Hedi</td>\n",
       "      <td>Ben Amor</td>\n",
       "      <td>3</td>\n",
       "      <td>5.00</td>\n",
       "      <td>1.34</td>\n",
       "      <td>0.90</td>\n",
       "      <td>0.75</td>\n",
       "    </tr>\n",
       "    <tr>\n",
       "      <th>44</th>\n",
       "      <td>Dorra</td>\n",
       "      <td>Chouchene</td>\n",
       "      <td>1</td>\n",
       "      <td>2.48</td>\n",
       "      <td>4.02</td>\n",
       "      <td>5.00</td>\n",
       "      <td>1.81</td>\n",
       "    </tr>\n",
       "    <tr>\n",
       "      <th>50</th>\n",
       "      <td>Ines</td>\n",
       "      <td>Chaabane</td>\n",
       "      <td>1</td>\n",
       "      <td>1.74</td>\n",
       "      <td>5.00</td>\n",
       "      <td>5.00</td>\n",
       "      <td>2.56</td>\n",
       "    </tr>\n",
       "    <tr>\n",
       "      <th>55</th>\n",
       "      <td>Mariem</td>\n",
       "      <td>Miled</td>\n",
       "      <td>0</td>\n",
       "      <td>4.30</td>\n",
       "      <td>3.48</td>\n",
       "      <td>3.46</td>\n",
       "      <td>4.64</td>\n",
       "    </tr>\n",
       "    <tr>\n",
       "      <th>57</th>\n",
       "      <td>Wided</td>\n",
       "      <td>Maaloul</td>\n",
       "      <td>0</td>\n",
       "      <td>4.52</td>\n",
       "      <td>3.07</td>\n",
       "      <td>3.58</td>\n",
       "      <td>4.81</td>\n",
       "    </tr>\n",
       "  </tbody>\n",
       "</table>\n",
       "</div>"
      ],
      "text/plain": [
       "   first_name  last_name  kmeans_cluster  hard_skills  soft_skills  teamwork  \\\n",
       "23     Cyrine    Mabrouk               2         1.85         3.37      3.22   \n",
       "35       Hedi   Ben Amor               3         5.00         1.34      0.90   \n",
       "44      Dorra  Chouchene               1         2.48         4.02      5.00   \n",
       "50       Ines   Chaabane               1         1.74         5.00      5.00   \n",
       "55     Mariem      Miled               0         4.30         3.48      3.46   \n",
       "57      Wided    Maaloul               0         4.52         3.07      3.58   \n",
       "\n",
       "    creativity  \n",
       "23        4.53  \n",
       "35        0.75  \n",
       "44        1.81  \n",
       "50        2.56  \n",
       "55        4.64  \n",
       "57        4.81  "
      ]
     },
     "metadata": {},
     "output_type": "display_data"
    },
    {
     "name": "stdout",
     "output_type": "stream",
     "text": [
      "\n",
      "--- K-Means Team 9 ---\n"
     ]
    },
    {
     "data": {
      "application/vnd.microsoft.datawrangler.viewer.v0+json": {
       "columns": [
        {
         "name": "index",
         "rawType": "int64",
         "type": "integer"
        },
        {
         "name": "first_name",
         "rawType": "object",
         "type": "string"
        },
        {
         "name": "last_name",
         "rawType": "object",
         "type": "string"
        },
        {
         "name": "kmeans_cluster",
         "rawType": "int32",
         "type": "integer"
        },
        {
         "name": "hard_skills",
         "rawType": "float64",
         "type": "float"
        },
        {
         "name": "soft_skills",
         "rawType": "float64",
         "type": "float"
        },
        {
         "name": "teamwork",
         "rawType": "float64",
         "type": "float"
        },
        {
         "name": "creativity",
         "rawType": "float64",
         "type": "float"
        }
       ],
       "ref": "c72462ae-68fa-4088-acfa-053225a745c2",
       "rows": [
        [
         "24",
         "Asma",
         "Chaabane",
         "2",
         "1.97",
         "1.38",
         "2.51",
         "4.35"
        ],
        [
         "38",
         "Wided",
         "Ghanouchi",
         "3",
         "4.89",
         "2.08",
         "2.37",
         "0.0"
        ],
        [
         "51",
         "Lobna",
         "Chaabane",
         "1",
         "2.16",
         "4.95",
         "4.24",
         "3.59"
        ],
        [
         "52",
         "Mohamed",
         "Mejri",
         "1",
         "3.05",
         "4.72",
         "4.41",
         "3.98"
        ],
        [
         "58",
         "Bilel",
         "Jaziri",
         "0",
         "5.0",
         "2.38",
         "3.6",
         "3.04"
        ],
        [
         "59",
         "Youssef",
         "Ghanouchi",
         "0",
         "3.18",
         "5.0",
         "2.36",
         "4.55"
        ]
       ],
       "shape": {
        "columns": 7,
        "rows": 6
       }
      },
      "text/html": [
       "<div>\n",
       "<style scoped>\n",
       "    .dataframe tbody tr th:only-of-type {\n",
       "        vertical-align: middle;\n",
       "    }\n",
       "\n",
       "    .dataframe tbody tr th {\n",
       "        vertical-align: top;\n",
       "    }\n",
       "\n",
       "    .dataframe thead th {\n",
       "        text-align: right;\n",
       "    }\n",
       "</style>\n",
       "<table border=\"1\" class=\"dataframe\">\n",
       "  <thead>\n",
       "    <tr style=\"text-align: right;\">\n",
       "      <th></th>\n",
       "      <th>first_name</th>\n",
       "      <th>last_name</th>\n",
       "      <th>kmeans_cluster</th>\n",
       "      <th>hard_skills</th>\n",
       "      <th>soft_skills</th>\n",
       "      <th>teamwork</th>\n",
       "      <th>creativity</th>\n",
       "    </tr>\n",
       "  </thead>\n",
       "  <tbody>\n",
       "    <tr>\n",
       "      <th>24</th>\n",
       "      <td>Asma</td>\n",
       "      <td>Chaabane</td>\n",
       "      <td>2</td>\n",
       "      <td>1.97</td>\n",
       "      <td>1.38</td>\n",
       "      <td>2.51</td>\n",
       "      <td>4.35</td>\n",
       "    </tr>\n",
       "    <tr>\n",
       "      <th>38</th>\n",
       "      <td>Wided</td>\n",
       "      <td>Ghanouchi</td>\n",
       "      <td>3</td>\n",
       "      <td>4.89</td>\n",
       "      <td>2.08</td>\n",
       "      <td>2.37</td>\n",
       "      <td>0.00</td>\n",
       "    </tr>\n",
       "    <tr>\n",
       "      <th>51</th>\n",
       "      <td>Lobna</td>\n",
       "      <td>Chaabane</td>\n",
       "      <td>1</td>\n",
       "      <td>2.16</td>\n",
       "      <td>4.95</td>\n",
       "      <td>4.24</td>\n",
       "      <td>3.59</td>\n",
       "    </tr>\n",
       "    <tr>\n",
       "      <th>52</th>\n",
       "      <td>Mohamed</td>\n",
       "      <td>Mejri</td>\n",
       "      <td>1</td>\n",
       "      <td>3.05</td>\n",
       "      <td>4.72</td>\n",
       "      <td>4.41</td>\n",
       "      <td>3.98</td>\n",
       "    </tr>\n",
       "    <tr>\n",
       "      <th>58</th>\n",
       "      <td>Bilel</td>\n",
       "      <td>Jaziri</td>\n",
       "      <td>0</td>\n",
       "      <td>5.00</td>\n",
       "      <td>2.38</td>\n",
       "      <td>3.60</td>\n",
       "      <td>3.04</td>\n",
       "    </tr>\n",
       "    <tr>\n",
       "      <th>59</th>\n",
       "      <td>Youssef</td>\n",
       "      <td>Ghanouchi</td>\n",
       "      <td>0</td>\n",
       "      <td>3.18</td>\n",
       "      <td>5.00</td>\n",
       "      <td>2.36</td>\n",
       "      <td>4.55</td>\n",
       "    </tr>\n",
       "  </tbody>\n",
       "</table>\n",
       "</div>"
      ],
      "text/plain": [
       "   first_name  last_name  kmeans_cluster  hard_skills  soft_skills  teamwork  \\\n",
       "24       Asma   Chaabane               2         1.97         1.38      2.51   \n",
       "38      Wided  Ghanouchi               3         4.89         2.08      2.37   \n",
       "51      Lobna   Chaabane               1         2.16         4.95      4.24   \n",
       "52    Mohamed      Mejri               1         3.05         4.72      4.41   \n",
       "58      Bilel     Jaziri               0         5.00         2.38      3.60   \n",
       "59    Youssef  Ghanouchi               0         3.18         5.00      2.36   \n",
       "\n",
       "    creativity  \n",
       "24        4.35  \n",
       "38        0.00  \n",
       "51        3.59  \n",
       "52        3.98  \n",
       "58        3.04  \n",
       "59        4.55  "
      ]
     },
     "metadata": {},
     "output_type": "display_data"
    },
    {
     "name": "stdout",
     "output_type": "stream",
     "text": [
      "\n",
      "--- K-Means Team 10 ---\n"
     ]
    },
    {
     "data": {
      "application/vnd.microsoft.datawrangler.viewer.v0+json": {
       "columns": [
        {
         "name": "index",
         "rawType": "int64",
         "type": "integer"
        },
        {
         "name": "first_name",
         "rawType": "object",
         "type": "string"
        },
        {
         "name": "last_name",
         "rawType": "object",
         "type": "string"
        },
        {
         "name": "kmeans_cluster",
         "rawType": "int32",
         "type": "integer"
        },
        {
         "name": "hard_skills",
         "rawType": "float64",
         "type": "float"
        },
        {
         "name": "soft_skills",
         "rawType": "float64",
         "type": "float"
        },
        {
         "name": "teamwork",
         "rawType": "float64",
         "type": "float"
        },
        {
         "name": "creativity",
         "rawType": "float64",
         "type": "float"
        }
       ],
       "ref": "e58c9662-58a0-4475-95be-677e6a59be71",
       "rows": [
        [
         "37",
         "Anis",
         "Khlifi",
         "2",
         "1.65",
         "3.04",
         "3.63",
         "5.0"
        ],
        [
         "39",
         "Wassim",
         "Hamdi",
         "3",
         "5.0",
         "2.46",
         "1.8",
         "1.02"
        ],
        [
         "56",
         "Fares",
         "Kanzari",
         "1",
         "1.75",
         "5.0",
         "5.0",
         "3.27"
        ],
        [
         "60",
         "Hedi",
         "Mejri",
         "0",
         "3.32",
         "3.89",
         "4.75",
         "5.0"
        ],
        [
         "62",
         "Khadija",
         "Ben Salah",
         "1",
         "1.75",
         "4.22",
         "5.0",
         "3.43"
        ],
        [
         "63",
         "Ahmed",
         "Fourati",
         "0",
         "5.0",
         "3.13",
         "3.86",
         "4.98"
        ]
       ],
       "shape": {
        "columns": 7,
        "rows": 6
       }
      },
      "text/html": [
       "<div>\n",
       "<style scoped>\n",
       "    .dataframe tbody tr th:only-of-type {\n",
       "        vertical-align: middle;\n",
       "    }\n",
       "\n",
       "    .dataframe tbody tr th {\n",
       "        vertical-align: top;\n",
       "    }\n",
       "\n",
       "    .dataframe thead th {\n",
       "        text-align: right;\n",
       "    }\n",
       "</style>\n",
       "<table border=\"1\" class=\"dataframe\">\n",
       "  <thead>\n",
       "    <tr style=\"text-align: right;\">\n",
       "      <th></th>\n",
       "      <th>first_name</th>\n",
       "      <th>last_name</th>\n",
       "      <th>kmeans_cluster</th>\n",
       "      <th>hard_skills</th>\n",
       "      <th>soft_skills</th>\n",
       "      <th>teamwork</th>\n",
       "      <th>creativity</th>\n",
       "    </tr>\n",
       "  </thead>\n",
       "  <tbody>\n",
       "    <tr>\n",
       "      <th>37</th>\n",
       "      <td>Anis</td>\n",
       "      <td>Khlifi</td>\n",
       "      <td>2</td>\n",
       "      <td>1.65</td>\n",
       "      <td>3.04</td>\n",
       "      <td>3.63</td>\n",
       "      <td>5.00</td>\n",
       "    </tr>\n",
       "    <tr>\n",
       "      <th>39</th>\n",
       "      <td>Wassim</td>\n",
       "      <td>Hamdi</td>\n",
       "      <td>3</td>\n",
       "      <td>5.00</td>\n",
       "      <td>2.46</td>\n",
       "      <td>1.80</td>\n",
       "      <td>1.02</td>\n",
       "    </tr>\n",
       "    <tr>\n",
       "      <th>56</th>\n",
       "      <td>Fares</td>\n",
       "      <td>Kanzari</td>\n",
       "      <td>1</td>\n",
       "      <td>1.75</td>\n",
       "      <td>5.00</td>\n",
       "      <td>5.00</td>\n",
       "      <td>3.27</td>\n",
       "    </tr>\n",
       "    <tr>\n",
       "      <th>60</th>\n",
       "      <td>Hedi</td>\n",
       "      <td>Mejri</td>\n",
       "      <td>0</td>\n",
       "      <td>3.32</td>\n",
       "      <td>3.89</td>\n",
       "      <td>4.75</td>\n",
       "      <td>5.00</td>\n",
       "    </tr>\n",
       "    <tr>\n",
       "      <th>62</th>\n",
       "      <td>Khadija</td>\n",
       "      <td>Ben Salah</td>\n",
       "      <td>1</td>\n",
       "      <td>1.75</td>\n",
       "      <td>4.22</td>\n",
       "      <td>5.00</td>\n",
       "      <td>3.43</td>\n",
       "    </tr>\n",
       "    <tr>\n",
       "      <th>63</th>\n",
       "      <td>Ahmed</td>\n",
       "      <td>Fourati</td>\n",
       "      <td>0</td>\n",
       "      <td>5.00</td>\n",
       "      <td>3.13</td>\n",
       "      <td>3.86</td>\n",
       "      <td>4.98</td>\n",
       "    </tr>\n",
       "  </tbody>\n",
       "</table>\n",
       "</div>"
      ],
      "text/plain": [
       "   first_name  last_name  kmeans_cluster  hard_skills  soft_skills  teamwork  \\\n",
       "37       Anis     Khlifi               2         1.65         3.04      3.63   \n",
       "39     Wassim      Hamdi               3         5.00         2.46      1.80   \n",
       "56      Fares    Kanzari               1         1.75         5.00      5.00   \n",
       "60       Hedi      Mejri               0         3.32         3.89      4.75   \n",
       "62    Khadija  Ben Salah               1         1.75         4.22      5.00   \n",
       "63      Ahmed    Fourati               0         5.00         3.13      3.86   \n",
       "\n",
       "    creativity  \n",
       "37        5.00  \n",
       "39        1.02  \n",
       "56        3.27  \n",
       "60        5.00  \n",
       "62        3.43  \n",
       "63        4.98  "
      ]
     },
     "metadata": {},
     "output_type": "display_data"
    },
    {
     "name": "stdout",
     "output_type": "stream",
     "text": [
      "\n",
      "--- K-Means Team 11 ---\n"
     ]
    },
    {
     "data": {
      "application/vnd.microsoft.datawrangler.viewer.v0+json": {
       "columns": [
        {
         "name": "index",
         "rawType": "int64",
         "type": "integer"
        },
        {
         "name": "first_name",
         "rawType": "object",
         "type": "string"
        },
        {
         "name": "last_name",
         "rawType": "object",
         "type": "string"
        },
        {
         "name": "kmeans_cluster",
         "rawType": "int32",
         "type": "integer"
        },
        {
         "name": "hard_skills",
         "rawType": "float64",
         "type": "float"
        },
        {
         "name": "soft_skills",
         "rawType": "float64",
         "type": "float"
        },
        {
         "name": "teamwork",
         "rawType": "float64",
         "type": "float"
        },
        {
         "name": "creativity",
         "rawType": "float64",
         "type": "float"
        }
       ],
       "ref": "23c08e98-032c-4ae1-ba25-39c6f061b727",
       "rows": [
        [
         "42",
         "Cyrine",
         "Ferjani",
         "3",
         "4.8",
         "0.15",
         "1.75",
         "0.49"
        ],
        [
         "45",
         "Amel",
         "Kanzari",
         "2",
         "1.59",
         "3.14",
         "1.42",
         "4.71"
        ],
        [
         "64",
         "Nour",
         "Toumi",
         "0",
         "4.18",
         "3.33",
         "4.08",
         "3.77"
        ],
        [
         "66",
         "Hamza",
         "Jlassi",
         "0",
         "3.92",
         "1.7",
         "3.41",
         "4.26"
        ],
        [
         "70",
         "Wafa",
         "Cherif",
         "1",
         "3.18",
         "4.26",
         "4.03",
         "4.22"
        ],
        [
         "72",
         "Leila",
         "Karoui",
         "1",
         "2.38",
         "4.63",
         "4.78",
         "3.72"
        ]
       ],
       "shape": {
        "columns": 7,
        "rows": 6
       }
      },
      "text/html": [
       "<div>\n",
       "<style scoped>\n",
       "    .dataframe tbody tr th:only-of-type {\n",
       "        vertical-align: middle;\n",
       "    }\n",
       "\n",
       "    .dataframe tbody tr th {\n",
       "        vertical-align: top;\n",
       "    }\n",
       "\n",
       "    .dataframe thead th {\n",
       "        text-align: right;\n",
       "    }\n",
       "</style>\n",
       "<table border=\"1\" class=\"dataframe\">\n",
       "  <thead>\n",
       "    <tr style=\"text-align: right;\">\n",
       "      <th></th>\n",
       "      <th>first_name</th>\n",
       "      <th>last_name</th>\n",
       "      <th>kmeans_cluster</th>\n",
       "      <th>hard_skills</th>\n",
       "      <th>soft_skills</th>\n",
       "      <th>teamwork</th>\n",
       "      <th>creativity</th>\n",
       "    </tr>\n",
       "  </thead>\n",
       "  <tbody>\n",
       "    <tr>\n",
       "      <th>42</th>\n",
       "      <td>Cyrine</td>\n",
       "      <td>Ferjani</td>\n",
       "      <td>3</td>\n",
       "      <td>4.80</td>\n",
       "      <td>0.15</td>\n",
       "      <td>1.75</td>\n",
       "      <td>0.49</td>\n",
       "    </tr>\n",
       "    <tr>\n",
       "      <th>45</th>\n",
       "      <td>Amel</td>\n",
       "      <td>Kanzari</td>\n",
       "      <td>2</td>\n",
       "      <td>1.59</td>\n",
       "      <td>3.14</td>\n",
       "      <td>1.42</td>\n",
       "      <td>4.71</td>\n",
       "    </tr>\n",
       "    <tr>\n",
       "      <th>64</th>\n",
       "      <td>Nour</td>\n",
       "      <td>Toumi</td>\n",
       "      <td>0</td>\n",
       "      <td>4.18</td>\n",
       "      <td>3.33</td>\n",
       "      <td>4.08</td>\n",
       "      <td>3.77</td>\n",
       "    </tr>\n",
       "    <tr>\n",
       "      <th>66</th>\n",
       "      <td>Hamza</td>\n",
       "      <td>Jlassi</td>\n",
       "      <td>0</td>\n",
       "      <td>3.92</td>\n",
       "      <td>1.70</td>\n",
       "      <td>3.41</td>\n",
       "      <td>4.26</td>\n",
       "    </tr>\n",
       "    <tr>\n",
       "      <th>70</th>\n",
       "      <td>Wafa</td>\n",
       "      <td>Cherif</td>\n",
       "      <td>1</td>\n",
       "      <td>3.18</td>\n",
       "      <td>4.26</td>\n",
       "      <td>4.03</td>\n",
       "      <td>4.22</td>\n",
       "    </tr>\n",
       "    <tr>\n",
       "      <th>72</th>\n",
       "      <td>Leila</td>\n",
       "      <td>Karoui</td>\n",
       "      <td>1</td>\n",
       "      <td>2.38</td>\n",
       "      <td>4.63</td>\n",
       "      <td>4.78</td>\n",
       "      <td>3.72</td>\n",
       "    </tr>\n",
       "  </tbody>\n",
       "</table>\n",
       "</div>"
      ],
      "text/plain": [
       "   first_name last_name  kmeans_cluster  hard_skills  soft_skills  teamwork  \\\n",
       "42     Cyrine   Ferjani               3         4.80         0.15      1.75   \n",
       "45       Amel   Kanzari               2         1.59         3.14      1.42   \n",
       "64       Nour     Toumi               0         4.18         3.33      4.08   \n",
       "66      Hamza    Jlassi               0         3.92         1.70      3.41   \n",
       "70       Wafa    Cherif               1         3.18         4.26      4.03   \n",
       "72      Leila    Karoui               1         2.38         4.63      4.78   \n",
       "\n",
       "    creativity  \n",
       "42        0.49  \n",
       "45        4.71  \n",
       "64        3.77  \n",
       "66        4.26  \n",
       "70        4.22  \n",
       "72        3.72  "
      ]
     },
     "metadata": {},
     "output_type": "display_data"
    },
    {
     "name": "stdout",
     "output_type": "stream",
     "text": [
      "\n",
      "--- K-Means Team 12 ---\n"
     ]
    },
    {
     "data": {
      "application/vnd.microsoft.datawrangler.viewer.v0+json": {
       "columns": [
        {
         "name": "index",
         "rawType": "int64",
         "type": "integer"
        },
        {
         "name": "first_name",
         "rawType": "object",
         "type": "string"
        },
        {
         "name": "last_name",
         "rawType": "object",
         "type": "string"
        },
        {
         "name": "kmeans_cluster",
         "rawType": "int32",
         "type": "integer"
        },
        {
         "name": "hard_skills",
         "rawType": "float64",
         "type": "float"
        },
        {
         "name": "soft_skills",
         "rawType": "float64",
         "type": "float"
        },
        {
         "name": "teamwork",
         "rawType": "float64",
         "type": "float"
        },
        {
         "name": "creativity",
         "rawType": "float64",
         "type": "float"
        }
       ],
       "ref": "9976591b-0f74-40c5-9ea8-55913802e723",
       "rows": [
        [
         "53",
         "Lina",
         "Chebbi",
         "2",
         "1.01",
         "2.54",
         "2.19",
         "5.0"
        ],
        [
         "61",
         "Chaima",
         "Mabrouk",
         "3",
         "4.8",
         "0.32",
         "2.27",
         "1.68"
        ],
        [
         "67",
         "Mourad",
         "Gharbi",
         "0",
         "5.0",
         "3.42",
         "2.85",
         "4.21"
        ],
        [
         "71",
         "Hatem",
         "Karoui",
         "0",
         "4.12",
         "3.49",
         "3.14",
         "3.65"
        ],
        [
         "73",
         "Zaineb",
         "Jaziri",
         "1",
         "2.73",
         "5.0",
         "5.0",
         "3.39"
        ],
        [
         "78",
         "Sarra",
         "Sassi",
         "1",
         "1.88",
         "3.88",
         "4.67",
         "4.12"
        ]
       ],
       "shape": {
        "columns": 7,
        "rows": 6
       }
      },
      "text/html": [
       "<div>\n",
       "<style scoped>\n",
       "    .dataframe tbody tr th:only-of-type {\n",
       "        vertical-align: middle;\n",
       "    }\n",
       "\n",
       "    .dataframe tbody tr th {\n",
       "        vertical-align: top;\n",
       "    }\n",
       "\n",
       "    .dataframe thead th {\n",
       "        text-align: right;\n",
       "    }\n",
       "</style>\n",
       "<table border=\"1\" class=\"dataframe\">\n",
       "  <thead>\n",
       "    <tr style=\"text-align: right;\">\n",
       "      <th></th>\n",
       "      <th>first_name</th>\n",
       "      <th>last_name</th>\n",
       "      <th>kmeans_cluster</th>\n",
       "      <th>hard_skills</th>\n",
       "      <th>soft_skills</th>\n",
       "      <th>teamwork</th>\n",
       "      <th>creativity</th>\n",
       "    </tr>\n",
       "  </thead>\n",
       "  <tbody>\n",
       "    <tr>\n",
       "      <th>53</th>\n",
       "      <td>Lina</td>\n",
       "      <td>Chebbi</td>\n",
       "      <td>2</td>\n",
       "      <td>1.01</td>\n",
       "      <td>2.54</td>\n",
       "      <td>2.19</td>\n",
       "      <td>5.00</td>\n",
       "    </tr>\n",
       "    <tr>\n",
       "      <th>61</th>\n",
       "      <td>Chaima</td>\n",
       "      <td>Mabrouk</td>\n",
       "      <td>3</td>\n",
       "      <td>4.80</td>\n",
       "      <td>0.32</td>\n",
       "      <td>2.27</td>\n",
       "      <td>1.68</td>\n",
       "    </tr>\n",
       "    <tr>\n",
       "      <th>67</th>\n",
       "      <td>Mourad</td>\n",
       "      <td>Gharbi</td>\n",
       "      <td>0</td>\n",
       "      <td>5.00</td>\n",
       "      <td>3.42</td>\n",
       "      <td>2.85</td>\n",
       "      <td>4.21</td>\n",
       "    </tr>\n",
       "    <tr>\n",
       "      <th>71</th>\n",
       "      <td>Hatem</td>\n",
       "      <td>Karoui</td>\n",
       "      <td>0</td>\n",
       "      <td>4.12</td>\n",
       "      <td>3.49</td>\n",
       "      <td>3.14</td>\n",
       "      <td>3.65</td>\n",
       "    </tr>\n",
       "    <tr>\n",
       "      <th>73</th>\n",
       "      <td>Zaineb</td>\n",
       "      <td>Jaziri</td>\n",
       "      <td>1</td>\n",
       "      <td>2.73</td>\n",
       "      <td>5.00</td>\n",
       "      <td>5.00</td>\n",
       "      <td>3.39</td>\n",
       "    </tr>\n",
       "    <tr>\n",
       "      <th>78</th>\n",
       "      <td>Sarra</td>\n",
       "      <td>Sassi</td>\n",
       "      <td>1</td>\n",
       "      <td>1.88</td>\n",
       "      <td>3.88</td>\n",
       "      <td>4.67</td>\n",
       "      <td>4.12</td>\n",
       "    </tr>\n",
       "  </tbody>\n",
       "</table>\n",
       "</div>"
      ],
      "text/plain": [
       "   first_name last_name  kmeans_cluster  hard_skills  soft_skills  teamwork  \\\n",
       "53       Lina    Chebbi               2         1.01         2.54      2.19   \n",
       "61     Chaima   Mabrouk               3         4.80         0.32      2.27   \n",
       "67     Mourad    Gharbi               0         5.00         3.42      2.85   \n",
       "71      Hatem    Karoui               0         4.12         3.49      3.14   \n",
       "73     Zaineb    Jaziri               1         2.73         5.00      5.00   \n",
       "78      Sarra     Sassi               1         1.88         3.88      4.67   \n",
       "\n",
       "    creativity  \n",
       "53        5.00  \n",
       "61        1.68  \n",
       "67        4.21  \n",
       "71        3.65  \n",
       "73        3.39  \n",
       "78        4.12  "
      ]
     },
     "metadata": {},
     "output_type": "display_data"
    },
    {
     "name": "stdout",
     "output_type": "stream",
     "text": [
      "\n",
      "--- K-Means Team 13 ---\n"
     ]
    },
    {
     "data": {
      "application/vnd.microsoft.datawrangler.viewer.v0+json": {
       "columns": [
        {
         "name": "index",
         "rawType": "int64",
         "type": "integer"
        },
        {
         "name": "first_name",
         "rawType": "object",
         "type": "string"
        },
        {
         "name": "last_name",
         "rawType": "object",
         "type": "string"
        },
        {
         "name": "kmeans_cluster",
         "rawType": "int32",
         "type": "integer"
        },
        {
         "name": "hard_skills",
         "rawType": "float64",
         "type": "float"
        },
        {
         "name": "soft_skills",
         "rawType": "float64",
         "type": "float"
        },
        {
         "name": "teamwork",
         "rawType": "float64",
         "type": "float"
        },
        {
         "name": "creativity",
         "rawType": "float64",
         "type": "float"
        }
       ],
       "ref": "3fc9b723-930c-406b-9f98-1540f6dace46",
       "rows": [
        [
         "65",
         "Amine",
         "Saidi",
         "3",
         "4.82",
         "2.24",
         "1.2",
         "2.55"
        ],
        [
         "74",
         "Sarra",
         "Abidi",
         "0",
         "5.0",
         "3.52",
         "4.29",
         "3.82"
        ],
        [
         "75",
         "Nizar",
         "Trabelsi",
         "0",
         "5.0",
         "3.36",
         "3.65",
         "3.92"
        ],
        [
         "81",
         "Amine",
         "Ferjani",
         "1",
         "1.96",
         "5.0",
         "4.96",
         "3.94"
        ],
        [
         "82",
         "Marwen",
         "Slimani",
         "2",
         "1.86",
         "2.62",
         "1.85",
         "4.86"
        ],
        [
         "83",
         "Leila",
         "Ben Amor",
         "1",
         "3.17",
         "5.0",
         "4.7",
         "2.79"
        ]
       ],
       "shape": {
        "columns": 7,
        "rows": 6
       }
      },
      "text/html": [
       "<div>\n",
       "<style scoped>\n",
       "    .dataframe tbody tr th:only-of-type {\n",
       "        vertical-align: middle;\n",
       "    }\n",
       "\n",
       "    .dataframe tbody tr th {\n",
       "        vertical-align: top;\n",
       "    }\n",
       "\n",
       "    .dataframe thead th {\n",
       "        text-align: right;\n",
       "    }\n",
       "</style>\n",
       "<table border=\"1\" class=\"dataframe\">\n",
       "  <thead>\n",
       "    <tr style=\"text-align: right;\">\n",
       "      <th></th>\n",
       "      <th>first_name</th>\n",
       "      <th>last_name</th>\n",
       "      <th>kmeans_cluster</th>\n",
       "      <th>hard_skills</th>\n",
       "      <th>soft_skills</th>\n",
       "      <th>teamwork</th>\n",
       "      <th>creativity</th>\n",
       "    </tr>\n",
       "  </thead>\n",
       "  <tbody>\n",
       "    <tr>\n",
       "      <th>65</th>\n",
       "      <td>Amine</td>\n",
       "      <td>Saidi</td>\n",
       "      <td>3</td>\n",
       "      <td>4.82</td>\n",
       "      <td>2.24</td>\n",
       "      <td>1.20</td>\n",
       "      <td>2.55</td>\n",
       "    </tr>\n",
       "    <tr>\n",
       "      <th>74</th>\n",
       "      <td>Sarra</td>\n",
       "      <td>Abidi</td>\n",
       "      <td>0</td>\n",
       "      <td>5.00</td>\n",
       "      <td>3.52</td>\n",
       "      <td>4.29</td>\n",
       "      <td>3.82</td>\n",
       "    </tr>\n",
       "    <tr>\n",
       "      <th>75</th>\n",
       "      <td>Nizar</td>\n",
       "      <td>Trabelsi</td>\n",
       "      <td>0</td>\n",
       "      <td>5.00</td>\n",
       "      <td>3.36</td>\n",
       "      <td>3.65</td>\n",
       "      <td>3.92</td>\n",
       "    </tr>\n",
       "    <tr>\n",
       "      <th>81</th>\n",
       "      <td>Amine</td>\n",
       "      <td>Ferjani</td>\n",
       "      <td>1</td>\n",
       "      <td>1.96</td>\n",
       "      <td>5.00</td>\n",
       "      <td>4.96</td>\n",
       "      <td>3.94</td>\n",
       "    </tr>\n",
       "    <tr>\n",
       "      <th>82</th>\n",
       "      <td>Marwen</td>\n",
       "      <td>Slimani</td>\n",
       "      <td>2</td>\n",
       "      <td>1.86</td>\n",
       "      <td>2.62</td>\n",
       "      <td>1.85</td>\n",
       "      <td>4.86</td>\n",
       "    </tr>\n",
       "    <tr>\n",
       "      <th>83</th>\n",
       "      <td>Leila</td>\n",
       "      <td>Ben Amor</td>\n",
       "      <td>1</td>\n",
       "      <td>3.17</td>\n",
       "      <td>5.00</td>\n",
       "      <td>4.70</td>\n",
       "      <td>2.79</td>\n",
       "    </tr>\n",
       "  </tbody>\n",
       "</table>\n",
       "</div>"
      ],
      "text/plain": [
       "   first_name last_name  kmeans_cluster  hard_skills  soft_skills  teamwork  \\\n",
       "65      Amine     Saidi               3         4.82         2.24      1.20   \n",
       "74      Sarra     Abidi               0         5.00         3.52      4.29   \n",
       "75      Nizar  Trabelsi               0         5.00         3.36      3.65   \n",
       "81      Amine   Ferjani               1         1.96         5.00      4.96   \n",
       "82     Marwen   Slimani               2         1.86         2.62      1.85   \n",
       "83      Leila  Ben Amor               1         3.17         5.00      4.70   \n",
       "\n",
       "    creativity  \n",
       "65        2.55  \n",
       "74        3.82  \n",
       "75        3.92  \n",
       "81        3.94  \n",
       "82        4.86  \n",
       "83        2.79  "
      ]
     },
     "metadata": {},
     "output_type": "display_data"
    },
    {
     "name": "stdout",
     "output_type": "stream",
     "text": [
      "\n",
      "--- K-Means Team 14 ---\n"
     ]
    },
    {
     "data": {
      "application/vnd.microsoft.datawrangler.viewer.v0+json": {
       "columns": [
        {
         "name": "index",
         "rawType": "int64",
         "type": "integer"
        },
        {
         "name": "first_name",
         "rawType": "object",
         "type": "string"
        },
        {
         "name": "last_name",
         "rawType": "object",
         "type": "string"
        },
        {
         "name": "kmeans_cluster",
         "rawType": "int32",
         "type": "integer"
        },
        {
         "name": "hard_skills",
         "rawType": "float64",
         "type": "float"
        },
        {
         "name": "soft_skills",
         "rawType": "float64",
         "type": "float"
        },
        {
         "name": "teamwork",
         "rawType": "float64",
         "type": "float"
        },
        {
         "name": "creativity",
         "rawType": "float64",
         "type": "float"
        }
       ],
       "ref": "ea7ff89a-57c5-45b8-b132-3311e0d09f67",
       "rows": [
        [
         "68",
         "Ghada",
         "Cherif",
         "3",
         "5.0",
         "1.43",
         "1.26",
         "1.98"
        ],
        [
         "85",
         "Samira",
         "Rekik",
         "1",
         "1.6",
         "5.0",
         "5.0",
         "3.31"
        ],
        [
         "86",
         "Skander",
         "Mansour",
         "0",
         "5.0",
         "3.85",
         "3.03",
         "5.0"
        ],
        [
         "87",
         "Rim",
         "Driss",
         "1",
         "1.78",
         "4.65",
         "5.0",
         "3.36"
        ],
        [
         "88",
         "Zaineb",
         "Karoui",
         "0",
         "5.0",
         "3.15",
         "4.59",
         "4.86"
        ],
        [
         "99",
         "Samira",
         "Sassi",
         "2",
         "1.74",
         "2.65",
         "1.66",
         "5.0"
        ]
       ],
       "shape": {
        "columns": 7,
        "rows": 6
       }
      },
      "text/html": [
       "<div>\n",
       "<style scoped>\n",
       "    .dataframe tbody tr th:only-of-type {\n",
       "        vertical-align: middle;\n",
       "    }\n",
       "\n",
       "    .dataframe tbody tr th {\n",
       "        vertical-align: top;\n",
       "    }\n",
       "\n",
       "    .dataframe thead th {\n",
       "        text-align: right;\n",
       "    }\n",
       "</style>\n",
       "<table border=\"1\" class=\"dataframe\">\n",
       "  <thead>\n",
       "    <tr style=\"text-align: right;\">\n",
       "      <th></th>\n",
       "      <th>first_name</th>\n",
       "      <th>last_name</th>\n",
       "      <th>kmeans_cluster</th>\n",
       "      <th>hard_skills</th>\n",
       "      <th>soft_skills</th>\n",
       "      <th>teamwork</th>\n",
       "      <th>creativity</th>\n",
       "    </tr>\n",
       "  </thead>\n",
       "  <tbody>\n",
       "    <tr>\n",
       "      <th>68</th>\n",
       "      <td>Ghada</td>\n",
       "      <td>Cherif</td>\n",
       "      <td>3</td>\n",
       "      <td>5.00</td>\n",
       "      <td>1.43</td>\n",
       "      <td>1.26</td>\n",
       "      <td>1.98</td>\n",
       "    </tr>\n",
       "    <tr>\n",
       "      <th>85</th>\n",
       "      <td>Samira</td>\n",
       "      <td>Rekik</td>\n",
       "      <td>1</td>\n",
       "      <td>1.60</td>\n",
       "      <td>5.00</td>\n",
       "      <td>5.00</td>\n",
       "      <td>3.31</td>\n",
       "    </tr>\n",
       "    <tr>\n",
       "      <th>86</th>\n",
       "      <td>Skander</td>\n",
       "      <td>Mansour</td>\n",
       "      <td>0</td>\n",
       "      <td>5.00</td>\n",
       "      <td>3.85</td>\n",
       "      <td>3.03</td>\n",
       "      <td>5.00</td>\n",
       "    </tr>\n",
       "    <tr>\n",
       "      <th>87</th>\n",
       "      <td>Rim</td>\n",
       "      <td>Driss</td>\n",
       "      <td>1</td>\n",
       "      <td>1.78</td>\n",
       "      <td>4.65</td>\n",
       "      <td>5.00</td>\n",
       "      <td>3.36</td>\n",
       "    </tr>\n",
       "    <tr>\n",
       "      <th>88</th>\n",
       "      <td>Zaineb</td>\n",
       "      <td>Karoui</td>\n",
       "      <td>0</td>\n",
       "      <td>5.00</td>\n",
       "      <td>3.15</td>\n",
       "      <td>4.59</td>\n",
       "      <td>4.86</td>\n",
       "    </tr>\n",
       "    <tr>\n",
       "      <th>99</th>\n",
       "      <td>Samira</td>\n",
       "      <td>Sassi</td>\n",
       "      <td>2</td>\n",
       "      <td>1.74</td>\n",
       "      <td>2.65</td>\n",
       "      <td>1.66</td>\n",
       "      <td>5.00</td>\n",
       "    </tr>\n",
       "  </tbody>\n",
       "</table>\n",
       "</div>"
      ],
      "text/plain": [
       "   first_name last_name  kmeans_cluster  hard_skills  soft_skills  teamwork  \\\n",
       "68      Ghada    Cherif               3         5.00         1.43      1.26   \n",
       "85     Samira     Rekik               1         1.60         5.00      5.00   \n",
       "86    Skander   Mansour               0         5.00         3.85      3.03   \n",
       "87        Rim     Driss               1         1.78         4.65      5.00   \n",
       "88     Zaineb    Karoui               0         5.00         3.15      4.59   \n",
       "99     Samira     Sassi               2         1.74         2.65      1.66   \n",
       "\n",
       "    creativity  \n",
       "68        1.98  \n",
       "85        3.31  \n",
       "86        5.00  \n",
       "87        3.36  \n",
       "88        4.86  \n",
       "99        5.00  "
      ]
     },
     "metadata": {},
     "output_type": "display_data"
    },
    {
     "name": "stdout",
     "output_type": "stream",
     "text": [
      "\n",
      "--- K-Means Team 15 ---\n"
     ]
    },
    {
     "data": {
      "application/vnd.microsoft.datawrangler.viewer.v0+json": {
       "columns": [
        {
         "name": "index",
         "rawType": "int64",
         "type": "integer"
        },
        {
         "name": "first_name",
         "rawType": "object",
         "type": "string"
        },
        {
         "name": "last_name",
         "rawType": "object",
         "type": "string"
        },
        {
         "name": "kmeans_cluster",
         "rawType": "int32",
         "type": "integer"
        },
        {
         "name": "hard_skills",
         "rawType": "float64",
         "type": "float"
        },
        {
         "name": "soft_skills",
         "rawType": "float64",
         "type": "float"
        },
        {
         "name": "teamwork",
         "rawType": "float64",
         "type": "float"
        },
        {
         "name": "creativity",
         "rawType": "float64",
         "type": "float"
        }
       ],
       "ref": "918165fa-ba60-4610-9567-c485f302c410",
       "rows": [
        [
         "69",
         "Walid",
         "Nasri",
         "3",
         "5.0",
         "0.81",
         "1.16",
         "1.04"
        ],
        [
         "90",
         "Khalil",
         "Khlifi",
         "0",
         "4.01",
         "2.98",
         "3.98",
         "3.71"
        ],
        [
         "91",
         "Amina",
         "Guettari",
         "0",
         "4.1",
         "3.71",
         "4.09",
         "4.04"
        ],
        [
         "93",
         "Tarek",
         "Ben Salah",
         "1",
         "1.42",
         "5.0",
         "4.39",
         "2.75"
        ],
        [
         "98",
         "Emna",
         "Kanzari",
         "1",
         "2.24",
         "3.32",
         "4.63",
         "5.0"
        ],
        [
         "103",
         "Eya",
         "Zouari",
         "2",
         "2.17",
         "2.07",
         "1.16",
         "4.1"
        ]
       ],
       "shape": {
        "columns": 7,
        "rows": 6
       }
      },
      "text/html": [
       "<div>\n",
       "<style scoped>\n",
       "    .dataframe tbody tr th:only-of-type {\n",
       "        vertical-align: middle;\n",
       "    }\n",
       "\n",
       "    .dataframe tbody tr th {\n",
       "        vertical-align: top;\n",
       "    }\n",
       "\n",
       "    .dataframe thead th {\n",
       "        text-align: right;\n",
       "    }\n",
       "</style>\n",
       "<table border=\"1\" class=\"dataframe\">\n",
       "  <thead>\n",
       "    <tr style=\"text-align: right;\">\n",
       "      <th></th>\n",
       "      <th>first_name</th>\n",
       "      <th>last_name</th>\n",
       "      <th>kmeans_cluster</th>\n",
       "      <th>hard_skills</th>\n",
       "      <th>soft_skills</th>\n",
       "      <th>teamwork</th>\n",
       "      <th>creativity</th>\n",
       "    </tr>\n",
       "  </thead>\n",
       "  <tbody>\n",
       "    <tr>\n",
       "      <th>69</th>\n",
       "      <td>Walid</td>\n",
       "      <td>Nasri</td>\n",
       "      <td>3</td>\n",
       "      <td>5.00</td>\n",
       "      <td>0.81</td>\n",
       "      <td>1.16</td>\n",
       "      <td>1.04</td>\n",
       "    </tr>\n",
       "    <tr>\n",
       "      <th>90</th>\n",
       "      <td>Khalil</td>\n",
       "      <td>Khlifi</td>\n",
       "      <td>0</td>\n",
       "      <td>4.01</td>\n",
       "      <td>2.98</td>\n",
       "      <td>3.98</td>\n",
       "      <td>3.71</td>\n",
       "    </tr>\n",
       "    <tr>\n",
       "      <th>91</th>\n",
       "      <td>Amina</td>\n",
       "      <td>Guettari</td>\n",
       "      <td>0</td>\n",
       "      <td>4.10</td>\n",
       "      <td>3.71</td>\n",
       "      <td>4.09</td>\n",
       "      <td>4.04</td>\n",
       "    </tr>\n",
       "    <tr>\n",
       "      <th>93</th>\n",
       "      <td>Tarek</td>\n",
       "      <td>Ben Salah</td>\n",
       "      <td>1</td>\n",
       "      <td>1.42</td>\n",
       "      <td>5.00</td>\n",
       "      <td>4.39</td>\n",
       "      <td>2.75</td>\n",
       "    </tr>\n",
       "    <tr>\n",
       "      <th>98</th>\n",
       "      <td>Emna</td>\n",
       "      <td>Kanzari</td>\n",
       "      <td>1</td>\n",
       "      <td>2.24</td>\n",
       "      <td>3.32</td>\n",
       "      <td>4.63</td>\n",
       "      <td>5.00</td>\n",
       "    </tr>\n",
       "    <tr>\n",
       "      <th>103</th>\n",
       "      <td>Eya</td>\n",
       "      <td>Zouari</td>\n",
       "      <td>2</td>\n",
       "      <td>2.17</td>\n",
       "      <td>2.07</td>\n",
       "      <td>1.16</td>\n",
       "      <td>4.10</td>\n",
       "    </tr>\n",
       "  </tbody>\n",
       "</table>\n",
       "</div>"
      ],
      "text/plain": [
       "    first_name  last_name  kmeans_cluster  hard_skills  soft_skills  teamwork  \\\n",
       "69       Walid      Nasri               3         5.00         0.81      1.16   \n",
       "90      Khalil     Khlifi               0         4.01         2.98      3.98   \n",
       "91       Amina   Guettari               0         4.10         3.71      4.09   \n",
       "93       Tarek  Ben Salah               1         1.42         5.00      4.39   \n",
       "98        Emna    Kanzari               1         2.24         3.32      4.63   \n",
       "103        Eya     Zouari               2         2.17         2.07      1.16   \n",
       "\n",
       "     creativity  \n",
       "69         1.04  \n",
       "90         3.71  \n",
       "91         4.04  \n",
       "93         2.75  \n",
       "98         5.00  \n",
       "103        4.10  "
      ]
     },
     "metadata": {},
     "output_type": "display_data"
    },
    {
     "name": "stdout",
     "output_type": "stream",
     "text": [
      "\n",
      "--- K-Means Team 16 ---\n"
     ]
    },
    {
     "data": {
      "application/vnd.microsoft.datawrangler.viewer.v0+json": {
       "columns": [
        {
         "name": "index",
         "rawType": "int64",
         "type": "integer"
        },
        {
         "name": "first_name",
         "rawType": "object",
         "type": "string"
        },
        {
         "name": "last_name",
         "rawType": "object",
         "type": "string"
        },
        {
         "name": "kmeans_cluster",
         "rawType": "int32",
         "type": "integer"
        },
        {
         "name": "hard_skills",
         "rawType": "float64",
         "type": "float"
        },
        {
         "name": "soft_skills",
         "rawType": "float64",
         "type": "float"
        },
        {
         "name": "teamwork",
         "rawType": "float64",
         "type": "float"
        },
        {
         "name": "creativity",
         "rawType": "float64",
         "type": "float"
        }
       ],
       "ref": "8b5f3fea-585f-4b81-be8a-abf31b2decf2",
       "rows": [
        [
         "76",
         "Manel",
         "Chebbi",
         "3",
         "4.64",
         "2.25",
         "2.64",
         "1.58"
        ],
        [
         "92",
         "Salma",
         "Jaziri",
         "0",
         "3.53",
         "3.76",
         "4.26",
         "4.8"
        ],
        [
         "95",
         "Rym",
         "Chouchene",
         "0",
         "3.99",
         "2.58",
         "2.88",
         "4.94"
        ],
        [
         "100",
         "Mariem",
         "Haddad",
         "1",
         "1.78",
         "4.81",
         "5.0",
         "2.41"
        ],
        [
         "102",
         "Hiba",
         "Ferjani",
         "1",
         "2.32",
         "5.0",
         "4.2",
         "3.84"
        ],
        [
         "106",
         "Karim",
         "Kanzari",
         "2",
         "2.28",
         "1.74",
         "2.17",
         "5.0"
        ]
       ],
       "shape": {
        "columns": 7,
        "rows": 6
       }
      },
      "text/html": [
       "<div>\n",
       "<style scoped>\n",
       "    .dataframe tbody tr th:only-of-type {\n",
       "        vertical-align: middle;\n",
       "    }\n",
       "\n",
       "    .dataframe tbody tr th {\n",
       "        vertical-align: top;\n",
       "    }\n",
       "\n",
       "    .dataframe thead th {\n",
       "        text-align: right;\n",
       "    }\n",
       "</style>\n",
       "<table border=\"1\" class=\"dataframe\">\n",
       "  <thead>\n",
       "    <tr style=\"text-align: right;\">\n",
       "      <th></th>\n",
       "      <th>first_name</th>\n",
       "      <th>last_name</th>\n",
       "      <th>kmeans_cluster</th>\n",
       "      <th>hard_skills</th>\n",
       "      <th>soft_skills</th>\n",
       "      <th>teamwork</th>\n",
       "      <th>creativity</th>\n",
       "    </tr>\n",
       "  </thead>\n",
       "  <tbody>\n",
       "    <tr>\n",
       "      <th>76</th>\n",
       "      <td>Manel</td>\n",
       "      <td>Chebbi</td>\n",
       "      <td>3</td>\n",
       "      <td>4.64</td>\n",
       "      <td>2.25</td>\n",
       "      <td>2.64</td>\n",
       "      <td>1.58</td>\n",
       "    </tr>\n",
       "    <tr>\n",
       "      <th>92</th>\n",
       "      <td>Salma</td>\n",
       "      <td>Jaziri</td>\n",
       "      <td>0</td>\n",
       "      <td>3.53</td>\n",
       "      <td>3.76</td>\n",
       "      <td>4.26</td>\n",
       "      <td>4.80</td>\n",
       "    </tr>\n",
       "    <tr>\n",
       "      <th>95</th>\n",
       "      <td>Rym</td>\n",
       "      <td>Chouchene</td>\n",
       "      <td>0</td>\n",
       "      <td>3.99</td>\n",
       "      <td>2.58</td>\n",
       "      <td>2.88</td>\n",
       "      <td>4.94</td>\n",
       "    </tr>\n",
       "    <tr>\n",
       "      <th>100</th>\n",
       "      <td>Mariem</td>\n",
       "      <td>Haddad</td>\n",
       "      <td>1</td>\n",
       "      <td>1.78</td>\n",
       "      <td>4.81</td>\n",
       "      <td>5.00</td>\n",
       "      <td>2.41</td>\n",
       "    </tr>\n",
       "    <tr>\n",
       "      <th>102</th>\n",
       "      <td>Hiba</td>\n",
       "      <td>Ferjani</td>\n",
       "      <td>1</td>\n",
       "      <td>2.32</td>\n",
       "      <td>5.00</td>\n",
       "      <td>4.20</td>\n",
       "      <td>3.84</td>\n",
       "    </tr>\n",
       "    <tr>\n",
       "      <th>106</th>\n",
       "      <td>Karim</td>\n",
       "      <td>Kanzari</td>\n",
       "      <td>2</td>\n",
       "      <td>2.28</td>\n",
       "      <td>1.74</td>\n",
       "      <td>2.17</td>\n",
       "      <td>5.00</td>\n",
       "    </tr>\n",
       "  </tbody>\n",
       "</table>\n",
       "</div>"
      ],
      "text/plain": [
       "    first_name  last_name  kmeans_cluster  hard_skills  soft_skills  teamwork  \\\n",
       "76       Manel     Chebbi               3         4.64         2.25      2.64   \n",
       "92       Salma     Jaziri               0         3.53         3.76      4.26   \n",
       "95         Rym  Chouchene               0         3.99         2.58      2.88   \n",
       "100     Mariem     Haddad               1         1.78         4.81      5.00   \n",
       "102       Hiba    Ferjani               1         2.32         5.00      4.20   \n",
       "106      Karim    Kanzari               2         2.28         1.74      2.17   \n",
       "\n",
       "     creativity  \n",
       "76         1.58  \n",
       "92         4.80  \n",
       "95         4.94  \n",
       "100        2.41  \n",
       "102        3.84  \n",
       "106        5.00  "
      ]
     },
     "metadata": {},
     "output_type": "display_data"
    },
    {
     "name": "stdout",
     "output_type": "stream",
     "text": [
      "\n",
      "--- K-Means Team 17 ---\n"
     ]
    },
    {
     "data": {
      "application/vnd.microsoft.datawrangler.viewer.v0+json": {
       "columns": [
        {
         "name": "index",
         "rawType": "int64",
         "type": "integer"
        },
        {
         "name": "first_name",
         "rawType": "object",
         "type": "string"
        },
        {
         "name": "last_name",
         "rawType": "object",
         "type": "string"
        },
        {
         "name": "kmeans_cluster",
         "rawType": "int32",
         "type": "integer"
        },
        {
         "name": "hard_skills",
         "rawType": "float64",
         "type": "float"
        },
        {
         "name": "soft_skills",
         "rawType": "float64",
         "type": "float"
        },
        {
         "name": "teamwork",
         "rawType": "float64",
         "type": "float"
        },
        {
         "name": "creativity",
         "rawType": "float64",
         "type": "float"
        }
       ],
       "ref": "1010e2a4-230a-4cdd-ba9f-679ff42dfacd",
       "rows": [
        [
         "77",
         "Zied",
         "Ghanouchi",
         "3",
         "4.67",
         "0.67",
         "1.82",
         "1.45"
        ],
        [
         "96",
         "Emna",
         "Ayari",
         "0",
         "3.19",
         "4.45",
         "3.87",
         "4.79"
        ],
        [
         "97",
         "Rim",
         "Chaabane",
         "0",
         "2.82",
         "4.06",
         "2.98",
         "4.74"
        ],
        [
         "107",
         "Farah",
         "Karoui",
         "2",
         "2.57",
         "2.25",
         "2.14",
         "5.0"
        ],
        [
         "112",
         "Fares",
         "Khemiri",
         "1",
         "2.78",
         "3.84",
         "4.44",
         "4.9"
        ],
        [
         "113",
         "Ismail",
         "Maaloul",
         "1",
         "1.56",
         "5.0",
         "5.0",
         "3.16"
        ]
       ],
       "shape": {
        "columns": 7,
        "rows": 6
       }
      },
      "text/html": [
       "<div>\n",
       "<style scoped>\n",
       "    .dataframe tbody tr th:only-of-type {\n",
       "        vertical-align: middle;\n",
       "    }\n",
       "\n",
       "    .dataframe tbody tr th {\n",
       "        vertical-align: top;\n",
       "    }\n",
       "\n",
       "    .dataframe thead th {\n",
       "        text-align: right;\n",
       "    }\n",
       "</style>\n",
       "<table border=\"1\" class=\"dataframe\">\n",
       "  <thead>\n",
       "    <tr style=\"text-align: right;\">\n",
       "      <th></th>\n",
       "      <th>first_name</th>\n",
       "      <th>last_name</th>\n",
       "      <th>kmeans_cluster</th>\n",
       "      <th>hard_skills</th>\n",
       "      <th>soft_skills</th>\n",
       "      <th>teamwork</th>\n",
       "      <th>creativity</th>\n",
       "    </tr>\n",
       "  </thead>\n",
       "  <tbody>\n",
       "    <tr>\n",
       "      <th>77</th>\n",
       "      <td>Zied</td>\n",
       "      <td>Ghanouchi</td>\n",
       "      <td>3</td>\n",
       "      <td>4.67</td>\n",
       "      <td>0.67</td>\n",
       "      <td>1.82</td>\n",
       "      <td>1.45</td>\n",
       "    </tr>\n",
       "    <tr>\n",
       "      <th>96</th>\n",
       "      <td>Emna</td>\n",
       "      <td>Ayari</td>\n",
       "      <td>0</td>\n",
       "      <td>3.19</td>\n",
       "      <td>4.45</td>\n",
       "      <td>3.87</td>\n",
       "      <td>4.79</td>\n",
       "    </tr>\n",
       "    <tr>\n",
       "      <th>97</th>\n",
       "      <td>Rim</td>\n",
       "      <td>Chaabane</td>\n",
       "      <td>0</td>\n",
       "      <td>2.82</td>\n",
       "      <td>4.06</td>\n",
       "      <td>2.98</td>\n",
       "      <td>4.74</td>\n",
       "    </tr>\n",
       "    <tr>\n",
       "      <th>107</th>\n",
       "      <td>Farah</td>\n",
       "      <td>Karoui</td>\n",
       "      <td>2</td>\n",
       "      <td>2.57</td>\n",
       "      <td>2.25</td>\n",
       "      <td>2.14</td>\n",
       "      <td>5.00</td>\n",
       "    </tr>\n",
       "    <tr>\n",
       "      <th>112</th>\n",
       "      <td>Fares</td>\n",
       "      <td>Khemiri</td>\n",
       "      <td>1</td>\n",
       "      <td>2.78</td>\n",
       "      <td>3.84</td>\n",
       "      <td>4.44</td>\n",
       "      <td>4.90</td>\n",
       "    </tr>\n",
       "    <tr>\n",
       "      <th>113</th>\n",
       "      <td>Ismail</td>\n",
       "      <td>Maaloul</td>\n",
       "      <td>1</td>\n",
       "      <td>1.56</td>\n",
       "      <td>5.00</td>\n",
       "      <td>5.00</td>\n",
       "      <td>3.16</td>\n",
       "    </tr>\n",
       "  </tbody>\n",
       "</table>\n",
       "</div>"
      ],
      "text/plain": [
       "    first_name  last_name  kmeans_cluster  hard_skills  soft_skills  teamwork  \\\n",
       "77        Zied  Ghanouchi               3         4.67         0.67      1.82   \n",
       "96        Emna      Ayari               0         3.19         4.45      3.87   \n",
       "97         Rim   Chaabane               0         2.82         4.06      2.98   \n",
       "107      Farah     Karoui               2         2.57         2.25      2.14   \n",
       "112      Fares    Khemiri               1         2.78         3.84      4.44   \n",
       "113     Ismail    Maaloul               1         1.56         5.00      5.00   \n",
       "\n",
       "     creativity  \n",
       "77         1.45  \n",
       "96         4.79  \n",
       "97         4.74  \n",
       "107        5.00  \n",
       "112        4.90  \n",
       "113        3.16  "
      ]
     },
     "metadata": {},
     "output_type": "display_data"
    },
    {
     "name": "stdout",
     "output_type": "stream",
     "text": [
      "\n",
      "--- K-Means Team 18 ---\n"
     ]
    },
    {
     "data": {
      "application/vnd.microsoft.datawrangler.viewer.v0+json": {
       "columns": [
        {
         "name": "index",
         "rawType": "int64",
         "type": "integer"
        },
        {
         "name": "first_name",
         "rawType": "object",
         "type": "string"
        },
        {
         "name": "last_name",
         "rawType": "object",
         "type": "string"
        },
        {
         "name": "kmeans_cluster",
         "rawType": "int32",
         "type": "integer"
        },
        {
         "name": "hard_skills",
         "rawType": "float64",
         "type": "float"
        },
        {
         "name": "soft_skills",
         "rawType": "float64",
         "type": "float"
        },
        {
         "name": "teamwork",
         "rawType": "float64",
         "type": "float"
        },
        {
         "name": "creativity",
         "rawType": "float64",
         "type": "float"
        }
       ],
       "ref": "dcc85b65-f64e-4835-93d0-f9ebfca790bf",
       "rows": [
        [
         "79",
         "Sami",
         "Maaloul",
         "3",
         "5.0",
         "1.42",
         "1.19",
         "1.5"
        ],
        [
         "80",
         "Rami",
         "Ghanouchi",
         "3",
         "3.52",
         "0.77",
         "2.29",
         "0.0"
        ],
        [
         "101",
         "Hend",
         "Jaziri",
         "0",
         "3.93",
         "3.82",
         "4.18",
         "4.68"
        ],
        [
         "109",
         "Nadia",
         "Maaloul",
         "0",
         "4.53",
         "5.0",
         "5.0",
         "4.71"
        ],
        [
         "114",
         "Hatem",
         "Toumi",
         "1",
         "3.06",
         "5.0",
         "4.22",
         "3.46"
        ],
        [
         "115",
         "Cyrine",
         "Chebbi",
         "0",
         "3.49",
         "4.14",
         "4.25",
         "4.41"
        ]
       ],
       "shape": {
        "columns": 7,
        "rows": 6
       }
      },
      "text/html": [
       "<div>\n",
       "<style scoped>\n",
       "    .dataframe tbody tr th:only-of-type {\n",
       "        vertical-align: middle;\n",
       "    }\n",
       "\n",
       "    .dataframe tbody tr th {\n",
       "        vertical-align: top;\n",
       "    }\n",
       "\n",
       "    .dataframe thead th {\n",
       "        text-align: right;\n",
       "    }\n",
       "</style>\n",
       "<table border=\"1\" class=\"dataframe\">\n",
       "  <thead>\n",
       "    <tr style=\"text-align: right;\">\n",
       "      <th></th>\n",
       "      <th>first_name</th>\n",
       "      <th>last_name</th>\n",
       "      <th>kmeans_cluster</th>\n",
       "      <th>hard_skills</th>\n",
       "      <th>soft_skills</th>\n",
       "      <th>teamwork</th>\n",
       "      <th>creativity</th>\n",
       "    </tr>\n",
       "  </thead>\n",
       "  <tbody>\n",
       "    <tr>\n",
       "      <th>79</th>\n",
       "      <td>Sami</td>\n",
       "      <td>Maaloul</td>\n",
       "      <td>3</td>\n",
       "      <td>5.00</td>\n",
       "      <td>1.42</td>\n",
       "      <td>1.19</td>\n",
       "      <td>1.50</td>\n",
       "    </tr>\n",
       "    <tr>\n",
       "      <th>80</th>\n",
       "      <td>Rami</td>\n",
       "      <td>Ghanouchi</td>\n",
       "      <td>3</td>\n",
       "      <td>3.52</td>\n",
       "      <td>0.77</td>\n",
       "      <td>2.29</td>\n",
       "      <td>0.00</td>\n",
       "    </tr>\n",
       "    <tr>\n",
       "      <th>101</th>\n",
       "      <td>Hend</td>\n",
       "      <td>Jaziri</td>\n",
       "      <td>0</td>\n",
       "      <td>3.93</td>\n",
       "      <td>3.82</td>\n",
       "      <td>4.18</td>\n",
       "      <td>4.68</td>\n",
       "    </tr>\n",
       "    <tr>\n",
       "      <th>109</th>\n",
       "      <td>Nadia</td>\n",
       "      <td>Maaloul</td>\n",
       "      <td>0</td>\n",
       "      <td>4.53</td>\n",
       "      <td>5.00</td>\n",
       "      <td>5.00</td>\n",
       "      <td>4.71</td>\n",
       "    </tr>\n",
       "    <tr>\n",
       "      <th>114</th>\n",
       "      <td>Hatem</td>\n",
       "      <td>Toumi</td>\n",
       "      <td>1</td>\n",
       "      <td>3.06</td>\n",
       "      <td>5.00</td>\n",
       "      <td>4.22</td>\n",
       "      <td>3.46</td>\n",
       "    </tr>\n",
       "    <tr>\n",
       "      <th>115</th>\n",
       "      <td>Cyrine</td>\n",
       "      <td>Chebbi</td>\n",
       "      <td>0</td>\n",
       "      <td>3.49</td>\n",
       "      <td>4.14</td>\n",
       "      <td>4.25</td>\n",
       "      <td>4.41</td>\n",
       "    </tr>\n",
       "  </tbody>\n",
       "</table>\n",
       "</div>"
      ],
      "text/plain": [
       "    first_name  last_name  kmeans_cluster  hard_skills  soft_skills  teamwork  \\\n",
       "79        Sami    Maaloul               3         5.00         1.42      1.19   \n",
       "80        Rami  Ghanouchi               3         3.52         0.77      2.29   \n",
       "101       Hend     Jaziri               0         3.93         3.82      4.18   \n",
       "109      Nadia    Maaloul               0         4.53         5.00      5.00   \n",
       "114      Hatem      Toumi               1         3.06         5.00      4.22   \n",
       "115     Cyrine     Chebbi               0         3.49         4.14      4.25   \n",
       "\n",
       "     creativity  \n",
       "79         1.50  \n",
       "80         0.00  \n",
       "101        4.68  \n",
       "109        4.71  \n",
       "114        3.46  \n",
       "115        4.41  "
      ]
     },
     "metadata": {},
     "output_type": "display_data"
    },
    {
     "name": "stdout",
     "output_type": "stream",
     "text": [
      "\n",
      "--- K-Means Team 19 ---\n"
     ]
    },
    {
     "data": {
      "application/vnd.microsoft.datawrangler.viewer.v0+json": {
       "columns": [
        {
         "name": "index",
         "rawType": "int64",
         "type": "integer"
        },
        {
         "name": "first_name",
         "rawType": "object",
         "type": "string"
        },
        {
         "name": "last_name",
         "rawType": "object",
         "type": "string"
        },
        {
         "name": "kmeans_cluster",
         "rawType": "int32",
         "type": "integer"
        },
        {
         "name": "hard_skills",
         "rawType": "float64",
         "type": "float"
        },
        {
         "name": "soft_skills",
         "rawType": "float64",
         "type": "float"
        },
        {
         "name": "teamwork",
         "rawType": "float64",
         "type": "float"
        },
        {
         "name": "creativity",
         "rawType": "float64",
         "type": "float"
        }
       ],
       "ref": "53a23ee9-7bfa-4996-8c9b-c6439ce67e80",
       "rows": [
        [
         "84",
         "Wassim",
         "Trabelsi",
         "3",
         "5.0",
         "1.34",
         "2.62",
         "1.4"
        ],
        [
         "89",
         "Rania",
         "Khemiri",
         "3",
         "4.81",
         "2.76",
         "1.73",
         "0.48"
        ],
        [
         "94",
         "Ines",
         "Maaloul",
         "3",
         "5.0",
         "2.22",
         "1.53",
         "1.42"
        ],
        [
         "104",
         "Ahmed",
         "Hamdi",
         "3",
         "5.0",
         "1.42",
         "1.9",
         "0.88"
        ],
        [
         "105",
         "Fethi",
         "Ferjani",
         "3",
         "5.0",
         "0.0",
         "1.93",
         "0.35"
        ],
        [
         "108",
         "Dorra",
         "Fourati",
         "3",
         "4.92",
         "2.02",
         "2.84",
         "1.02"
        ]
       ],
       "shape": {
        "columns": 7,
        "rows": 6
       }
      },
      "text/html": [
       "<div>\n",
       "<style scoped>\n",
       "    .dataframe tbody tr th:only-of-type {\n",
       "        vertical-align: middle;\n",
       "    }\n",
       "\n",
       "    .dataframe tbody tr th {\n",
       "        vertical-align: top;\n",
       "    }\n",
       "\n",
       "    .dataframe thead th {\n",
       "        text-align: right;\n",
       "    }\n",
       "</style>\n",
       "<table border=\"1\" class=\"dataframe\">\n",
       "  <thead>\n",
       "    <tr style=\"text-align: right;\">\n",
       "      <th></th>\n",
       "      <th>first_name</th>\n",
       "      <th>last_name</th>\n",
       "      <th>kmeans_cluster</th>\n",
       "      <th>hard_skills</th>\n",
       "      <th>soft_skills</th>\n",
       "      <th>teamwork</th>\n",
       "      <th>creativity</th>\n",
       "    </tr>\n",
       "  </thead>\n",
       "  <tbody>\n",
       "    <tr>\n",
       "      <th>84</th>\n",
       "      <td>Wassim</td>\n",
       "      <td>Trabelsi</td>\n",
       "      <td>3</td>\n",
       "      <td>5.00</td>\n",
       "      <td>1.34</td>\n",
       "      <td>2.62</td>\n",
       "      <td>1.40</td>\n",
       "    </tr>\n",
       "    <tr>\n",
       "      <th>89</th>\n",
       "      <td>Rania</td>\n",
       "      <td>Khemiri</td>\n",
       "      <td>3</td>\n",
       "      <td>4.81</td>\n",
       "      <td>2.76</td>\n",
       "      <td>1.73</td>\n",
       "      <td>0.48</td>\n",
       "    </tr>\n",
       "    <tr>\n",
       "      <th>94</th>\n",
       "      <td>Ines</td>\n",
       "      <td>Maaloul</td>\n",
       "      <td>3</td>\n",
       "      <td>5.00</td>\n",
       "      <td>2.22</td>\n",
       "      <td>1.53</td>\n",
       "      <td>1.42</td>\n",
       "    </tr>\n",
       "    <tr>\n",
       "      <th>104</th>\n",
       "      <td>Ahmed</td>\n",
       "      <td>Hamdi</td>\n",
       "      <td>3</td>\n",
       "      <td>5.00</td>\n",
       "      <td>1.42</td>\n",
       "      <td>1.90</td>\n",
       "      <td>0.88</td>\n",
       "    </tr>\n",
       "    <tr>\n",
       "      <th>105</th>\n",
       "      <td>Fethi</td>\n",
       "      <td>Ferjani</td>\n",
       "      <td>3</td>\n",
       "      <td>5.00</td>\n",
       "      <td>0.00</td>\n",
       "      <td>1.93</td>\n",
       "      <td>0.35</td>\n",
       "    </tr>\n",
       "    <tr>\n",
       "      <th>108</th>\n",
       "      <td>Dorra</td>\n",
       "      <td>Fourati</td>\n",
       "      <td>3</td>\n",
       "      <td>4.92</td>\n",
       "      <td>2.02</td>\n",
       "      <td>2.84</td>\n",
       "      <td>1.02</td>\n",
       "    </tr>\n",
       "  </tbody>\n",
       "</table>\n",
       "</div>"
      ],
      "text/plain": [
       "    first_name last_name  kmeans_cluster  hard_skills  soft_skills  teamwork  \\\n",
       "84      Wassim  Trabelsi               3         5.00         1.34      2.62   \n",
       "89       Rania   Khemiri               3         4.81         2.76      1.73   \n",
       "94        Ines   Maaloul               3         5.00         2.22      1.53   \n",
       "104      Ahmed     Hamdi               3         5.00         1.42      1.90   \n",
       "105      Fethi   Ferjani               3         5.00         0.00      1.93   \n",
       "108      Dorra   Fourati               3         4.92         2.02      2.84   \n",
       "\n",
       "     creativity  \n",
       "84         1.40  \n",
       "89         0.48  \n",
       "94         1.42  \n",
       "104        0.88  \n",
       "105        0.35  \n",
       "108        1.02  "
      ]
     },
     "metadata": {},
     "output_type": "display_data"
    },
    {
     "name": "stdout",
     "output_type": "stream",
     "text": [
      "\n",
      "======================================================================\n",
      "\n",
      "--- TEAMS FORMED BASED ON GMM CLUSTERING ---\n",
      "\n",
      "--- GMM Team 1 ---\n"
     ]
    },
    {
     "data": {
      "application/vnd.microsoft.datawrangler.viewer.v0+json": {
       "columns": [
        {
         "name": "index",
         "rawType": "int64",
         "type": "integer"
        },
        {
         "name": "first_name",
         "rawType": "object",
         "type": "string"
        },
        {
         "name": "last_name",
         "rawType": "object",
         "type": "string"
        },
        {
         "name": "gmm_cluster",
         "rawType": "int64",
         "type": "integer"
        },
        {
         "name": "hard_skills",
         "rawType": "float64",
         "type": "float"
        },
        {
         "name": "soft_skills",
         "rawType": "float64",
         "type": "float"
        },
        {
         "name": "teamwork",
         "rawType": "float64",
         "type": "float"
        },
        {
         "name": "creativity",
         "rawType": "float64",
         "type": "float"
        }
       ],
       "ref": "d8a94e4e-edf3-4881-8cbc-6a1b96cfc210",
       "rows": [
        [
         "0",
         "Sarra",
         "Jaziri",
         "2",
         "3.0",
         "2.41",
         "2.2",
         "3.73"
        ],
        [
         "1",
         "Eya",
         "Fourati",
         "2",
         "1.96",
         "2.16",
         "1.0",
         "5.0"
        ],
        [
         "3",
         "Amina",
         "Slimani",
         "1",
         "5.0",
         "3.31",
         "3.13",
         "4.74"
        ],
        [
         "4",
         "Amina",
         "Ben Salah",
         "1",
         "4.89",
         "3.7",
         "3.24",
         "4.36"
        ],
        [
         "8",
         "Ines",
         "Rekik",
         "0",
         "5.0",
         "0.46",
         "1.56",
         "0.76"
        ],
        [
         "10",
         "Wafa",
         "Slimani",
         "0",
         "5.0",
         "0.76",
         "3.69",
         "1.05"
        ]
       ],
       "shape": {
        "columns": 7,
        "rows": 6
       }
      },
      "text/html": [
       "<div>\n",
       "<style scoped>\n",
       "    .dataframe tbody tr th:only-of-type {\n",
       "        vertical-align: middle;\n",
       "    }\n",
       "\n",
       "    .dataframe tbody tr th {\n",
       "        vertical-align: top;\n",
       "    }\n",
       "\n",
       "    .dataframe thead th {\n",
       "        text-align: right;\n",
       "    }\n",
       "</style>\n",
       "<table border=\"1\" class=\"dataframe\">\n",
       "  <thead>\n",
       "    <tr style=\"text-align: right;\">\n",
       "      <th></th>\n",
       "      <th>first_name</th>\n",
       "      <th>last_name</th>\n",
       "      <th>gmm_cluster</th>\n",
       "      <th>hard_skills</th>\n",
       "      <th>soft_skills</th>\n",
       "      <th>teamwork</th>\n",
       "      <th>creativity</th>\n",
       "    </tr>\n",
       "  </thead>\n",
       "  <tbody>\n",
       "    <tr>\n",
       "      <th>0</th>\n",
       "      <td>Sarra</td>\n",
       "      <td>Jaziri</td>\n",
       "      <td>2</td>\n",
       "      <td>3.00</td>\n",
       "      <td>2.41</td>\n",
       "      <td>2.20</td>\n",
       "      <td>3.73</td>\n",
       "    </tr>\n",
       "    <tr>\n",
       "      <th>1</th>\n",
       "      <td>Eya</td>\n",
       "      <td>Fourati</td>\n",
       "      <td>2</td>\n",
       "      <td>1.96</td>\n",
       "      <td>2.16</td>\n",
       "      <td>1.00</td>\n",
       "      <td>5.00</td>\n",
       "    </tr>\n",
       "    <tr>\n",
       "      <th>3</th>\n",
       "      <td>Amina</td>\n",
       "      <td>Slimani</td>\n",
       "      <td>1</td>\n",
       "      <td>5.00</td>\n",
       "      <td>3.31</td>\n",
       "      <td>3.13</td>\n",
       "      <td>4.74</td>\n",
       "    </tr>\n",
       "    <tr>\n",
       "      <th>4</th>\n",
       "      <td>Amina</td>\n",
       "      <td>Ben Salah</td>\n",
       "      <td>1</td>\n",
       "      <td>4.89</td>\n",
       "      <td>3.70</td>\n",
       "      <td>3.24</td>\n",
       "      <td>4.36</td>\n",
       "    </tr>\n",
       "    <tr>\n",
       "      <th>8</th>\n",
       "      <td>Ines</td>\n",
       "      <td>Rekik</td>\n",
       "      <td>0</td>\n",
       "      <td>5.00</td>\n",
       "      <td>0.46</td>\n",
       "      <td>1.56</td>\n",
       "      <td>0.76</td>\n",
       "    </tr>\n",
       "    <tr>\n",
       "      <th>10</th>\n",
       "      <td>Wafa</td>\n",
       "      <td>Slimani</td>\n",
       "      <td>0</td>\n",
       "      <td>5.00</td>\n",
       "      <td>0.76</td>\n",
       "      <td>3.69</td>\n",
       "      <td>1.05</td>\n",
       "    </tr>\n",
       "  </tbody>\n",
       "</table>\n",
       "</div>"
      ],
      "text/plain": [
       "   first_name  last_name  gmm_cluster  hard_skills  soft_skills  teamwork  \\\n",
       "0       Sarra     Jaziri            2         3.00         2.41      2.20   \n",
       "1         Eya    Fourati            2         1.96         2.16      1.00   \n",
       "3       Amina    Slimani            1         5.00         3.31      3.13   \n",
       "4       Amina  Ben Salah            1         4.89         3.70      3.24   \n",
       "8        Ines      Rekik            0         5.00         0.46      1.56   \n",
       "10       Wafa    Slimani            0         5.00         0.76      3.69   \n",
       "\n",
       "    creativity  \n",
       "0         3.73  \n",
       "1         5.00  \n",
       "3         4.74  \n",
       "4         4.36  \n",
       "8         0.76  \n",
       "10        1.05  "
      ]
     },
     "metadata": {},
     "output_type": "display_data"
    },
    {
     "name": "stdout",
     "output_type": "stream",
     "text": [
      "\n",
      "--- GMM Team 2 ---\n"
     ]
    },
    {
     "data": {
      "application/vnd.microsoft.datawrangler.viewer.v0+json": {
       "columns": [
        {
         "name": "index",
         "rawType": "int64",
         "type": "integer"
        },
        {
         "name": "first_name",
         "rawType": "object",
         "type": "string"
        },
        {
         "name": "last_name",
         "rawType": "object",
         "type": "string"
        },
        {
         "name": "gmm_cluster",
         "rawType": "int64",
         "type": "integer"
        },
        {
         "name": "hard_skills",
         "rawType": "float64",
         "type": "float"
        },
        {
         "name": "soft_skills",
         "rawType": "float64",
         "type": "float"
        },
        {
         "name": "teamwork",
         "rawType": "float64",
         "type": "float"
        },
        {
         "name": "creativity",
         "rawType": "float64",
         "type": "float"
        }
       ],
       "ref": "b5765e97-d1f8-4206-88e8-16d53de1d1b3",
       "rows": [
        [
         "2",
         "Mouna",
         "Ben Ali",
         "2",
         "2.44",
         "3.24",
         "2.69",
         "5.0"
        ],
        [
         "5",
         "Nour",
         "Kanzari",
         "2",
         "1.69",
         "1.32",
         "1.55",
         "4.46"
        ],
        [
         "6",
         "Iheb",
         "Slimani",
         "1",
         "2.87",
         "5.0",
         "5.0",
         "3.01"
        ],
        [
         "7",
         "Olfa",
         "Saidi",
         "1",
         "2.67",
         "4.99",
         "4.93",
         "2.18"
        ],
        [
         "12",
         "Karim",
         "Slimani",
         "0",
         "5.0",
         "2.22",
         "0.86",
         "0.9"
        ],
        [
         "15",
         "Rami",
         "Mabrouk",
         "0",
         "5.0",
         "0.88",
         "1.0",
         "0.32"
        ]
       ],
       "shape": {
        "columns": 7,
        "rows": 6
       }
      },
      "text/html": [
       "<div>\n",
       "<style scoped>\n",
       "    .dataframe tbody tr th:only-of-type {\n",
       "        vertical-align: middle;\n",
       "    }\n",
       "\n",
       "    .dataframe tbody tr th {\n",
       "        vertical-align: top;\n",
       "    }\n",
       "\n",
       "    .dataframe thead th {\n",
       "        text-align: right;\n",
       "    }\n",
       "</style>\n",
       "<table border=\"1\" class=\"dataframe\">\n",
       "  <thead>\n",
       "    <tr style=\"text-align: right;\">\n",
       "      <th></th>\n",
       "      <th>first_name</th>\n",
       "      <th>last_name</th>\n",
       "      <th>gmm_cluster</th>\n",
       "      <th>hard_skills</th>\n",
       "      <th>soft_skills</th>\n",
       "      <th>teamwork</th>\n",
       "      <th>creativity</th>\n",
       "    </tr>\n",
       "  </thead>\n",
       "  <tbody>\n",
       "    <tr>\n",
       "      <th>2</th>\n",
       "      <td>Mouna</td>\n",
       "      <td>Ben Ali</td>\n",
       "      <td>2</td>\n",
       "      <td>2.44</td>\n",
       "      <td>3.24</td>\n",
       "      <td>2.69</td>\n",
       "      <td>5.00</td>\n",
       "    </tr>\n",
       "    <tr>\n",
       "      <th>5</th>\n",
       "      <td>Nour</td>\n",
       "      <td>Kanzari</td>\n",
       "      <td>2</td>\n",
       "      <td>1.69</td>\n",
       "      <td>1.32</td>\n",
       "      <td>1.55</td>\n",
       "      <td>4.46</td>\n",
       "    </tr>\n",
       "    <tr>\n",
       "      <th>6</th>\n",
       "      <td>Iheb</td>\n",
       "      <td>Slimani</td>\n",
       "      <td>1</td>\n",
       "      <td>2.87</td>\n",
       "      <td>5.00</td>\n",
       "      <td>5.00</td>\n",
       "      <td>3.01</td>\n",
       "    </tr>\n",
       "    <tr>\n",
       "      <th>7</th>\n",
       "      <td>Olfa</td>\n",
       "      <td>Saidi</td>\n",
       "      <td>1</td>\n",
       "      <td>2.67</td>\n",
       "      <td>4.99</td>\n",
       "      <td>4.93</td>\n",
       "      <td>2.18</td>\n",
       "    </tr>\n",
       "    <tr>\n",
       "      <th>12</th>\n",
       "      <td>Karim</td>\n",
       "      <td>Slimani</td>\n",
       "      <td>0</td>\n",
       "      <td>5.00</td>\n",
       "      <td>2.22</td>\n",
       "      <td>0.86</td>\n",
       "      <td>0.90</td>\n",
       "    </tr>\n",
       "    <tr>\n",
       "      <th>15</th>\n",
       "      <td>Rami</td>\n",
       "      <td>Mabrouk</td>\n",
       "      <td>0</td>\n",
       "      <td>5.00</td>\n",
       "      <td>0.88</td>\n",
       "      <td>1.00</td>\n",
       "      <td>0.32</td>\n",
       "    </tr>\n",
       "  </tbody>\n",
       "</table>\n",
       "</div>"
      ],
      "text/plain": [
       "   first_name last_name  gmm_cluster  hard_skills  soft_skills  teamwork  \\\n",
       "2       Mouna   Ben Ali            2         2.44         3.24      2.69   \n",
       "5        Nour   Kanzari            2         1.69         1.32      1.55   \n",
       "6        Iheb   Slimani            1         2.87         5.00      5.00   \n",
       "7        Olfa     Saidi            1         2.67         4.99      4.93   \n",
       "12      Karim   Slimani            0         5.00         2.22      0.86   \n",
       "15       Rami   Mabrouk            0         5.00         0.88      1.00   \n",
       "\n",
       "    creativity  \n",
       "2         5.00  \n",
       "5         4.46  \n",
       "6         3.01  \n",
       "7         2.18  \n",
       "12        0.90  \n",
       "15        0.32  "
      ]
     },
     "metadata": {},
     "output_type": "display_data"
    },
    {
     "name": "stdout",
     "output_type": "stream",
     "text": [
      "\n",
      "--- GMM Team 3 ---\n"
     ]
    },
    {
     "data": {
      "application/vnd.microsoft.datawrangler.viewer.v0+json": {
       "columns": [
        {
         "name": "index",
         "rawType": "int64",
         "type": "integer"
        },
        {
         "name": "first_name",
         "rawType": "object",
         "type": "string"
        },
        {
         "name": "last_name",
         "rawType": "object",
         "type": "string"
        },
        {
         "name": "gmm_cluster",
         "rawType": "int64",
         "type": "integer"
        },
        {
         "name": "hard_skills",
         "rawType": "float64",
         "type": "float"
        },
        {
         "name": "soft_skills",
         "rawType": "float64",
         "type": "float"
        },
        {
         "name": "teamwork",
         "rawType": "float64",
         "type": "float"
        },
        {
         "name": "creativity",
         "rawType": "float64",
         "type": "float"
        }
       ],
       "ref": "0c92b2d7-16ac-475b-9945-bd7326c20671",
       "rows": [
        [
         "9",
         "Nour",
         "Ben Ali",
         "2",
         "2.24",
         "1.33",
         "2.16",
         "5.0"
        ],
        [
         "11",
         "Lotfi",
         "Ayari",
         "1",
         "4.94",
         "2.41",
         "3.89",
         "3.95"
        ],
        [
         "13",
         "Amel",
         "Ferjani",
         "2",
         "2.32",
         "2.09",
         "3.07",
         "4.81"
        ],
        [
         "16",
         "Eya",
         "Jlassi",
         "1",
         "1.93",
         "4.86",
         "4.68",
         "3.47"
        ],
        [
         "17",
         "Fatma",
         "Nasri",
         "0",
         "4.32",
         "2.36",
         "1.75",
         "0.51"
        ],
        [
         "31",
         "Lobna",
         "Chebbi",
         "0",
         "4.38",
         "2.67",
         "2.08",
         "1.68"
        ]
       ],
       "shape": {
        "columns": 7,
        "rows": 6
       }
      },
      "text/html": [
       "<div>\n",
       "<style scoped>\n",
       "    .dataframe tbody tr th:only-of-type {\n",
       "        vertical-align: middle;\n",
       "    }\n",
       "\n",
       "    .dataframe tbody tr th {\n",
       "        vertical-align: top;\n",
       "    }\n",
       "\n",
       "    .dataframe thead th {\n",
       "        text-align: right;\n",
       "    }\n",
       "</style>\n",
       "<table border=\"1\" class=\"dataframe\">\n",
       "  <thead>\n",
       "    <tr style=\"text-align: right;\">\n",
       "      <th></th>\n",
       "      <th>first_name</th>\n",
       "      <th>last_name</th>\n",
       "      <th>gmm_cluster</th>\n",
       "      <th>hard_skills</th>\n",
       "      <th>soft_skills</th>\n",
       "      <th>teamwork</th>\n",
       "      <th>creativity</th>\n",
       "    </tr>\n",
       "  </thead>\n",
       "  <tbody>\n",
       "    <tr>\n",
       "      <th>9</th>\n",
       "      <td>Nour</td>\n",
       "      <td>Ben Ali</td>\n",
       "      <td>2</td>\n",
       "      <td>2.24</td>\n",
       "      <td>1.33</td>\n",
       "      <td>2.16</td>\n",
       "      <td>5.00</td>\n",
       "    </tr>\n",
       "    <tr>\n",
       "      <th>11</th>\n",
       "      <td>Lotfi</td>\n",
       "      <td>Ayari</td>\n",
       "      <td>1</td>\n",
       "      <td>4.94</td>\n",
       "      <td>2.41</td>\n",
       "      <td>3.89</td>\n",
       "      <td>3.95</td>\n",
       "    </tr>\n",
       "    <tr>\n",
       "      <th>13</th>\n",
       "      <td>Amel</td>\n",
       "      <td>Ferjani</td>\n",
       "      <td>2</td>\n",
       "      <td>2.32</td>\n",
       "      <td>2.09</td>\n",
       "      <td>3.07</td>\n",
       "      <td>4.81</td>\n",
       "    </tr>\n",
       "    <tr>\n",
       "      <th>16</th>\n",
       "      <td>Eya</td>\n",
       "      <td>Jlassi</td>\n",
       "      <td>1</td>\n",
       "      <td>1.93</td>\n",
       "      <td>4.86</td>\n",
       "      <td>4.68</td>\n",
       "      <td>3.47</td>\n",
       "    </tr>\n",
       "    <tr>\n",
       "      <th>17</th>\n",
       "      <td>Fatma</td>\n",
       "      <td>Nasri</td>\n",
       "      <td>0</td>\n",
       "      <td>4.32</td>\n",
       "      <td>2.36</td>\n",
       "      <td>1.75</td>\n",
       "      <td>0.51</td>\n",
       "    </tr>\n",
       "    <tr>\n",
       "      <th>31</th>\n",
       "      <td>Lobna</td>\n",
       "      <td>Chebbi</td>\n",
       "      <td>0</td>\n",
       "      <td>4.38</td>\n",
       "      <td>2.67</td>\n",
       "      <td>2.08</td>\n",
       "      <td>1.68</td>\n",
       "    </tr>\n",
       "  </tbody>\n",
       "</table>\n",
       "</div>"
      ],
      "text/plain": [
       "   first_name last_name  gmm_cluster  hard_skills  soft_skills  teamwork  \\\n",
       "9        Nour   Ben Ali            2         2.24         1.33      2.16   \n",
       "11      Lotfi     Ayari            1         4.94         2.41      3.89   \n",
       "13       Amel   Ferjani            2         2.32         2.09      3.07   \n",
       "16        Eya    Jlassi            1         1.93         4.86      4.68   \n",
       "17      Fatma     Nasri            0         4.32         2.36      1.75   \n",
       "31      Lobna    Chebbi            0         4.38         2.67      2.08   \n",
       "\n",
       "    creativity  \n",
       "9         5.00  \n",
       "11        3.95  \n",
       "13        4.81  \n",
       "16        3.47  \n",
       "17        0.51  \n",
       "31        1.68  "
      ]
     },
     "metadata": {},
     "output_type": "display_data"
    },
    {
     "name": "stdout",
     "output_type": "stream",
     "text": [
      "\n",
      "--- GMM Team 4 ---\n"
     ]
    },
    {
     "data": {
      "application/vnd.microsoft.datawrangler.viewer.v0+json": {
       "columns": [
        {
         "name": "index",
         "rawType": "int64",
         "type": "integer"
        },
        {
         "name": "first_name",
         "rawType": "object",
         "type": "string"
        },
        {
         "name": "last_name",
         "rawType": "object",
         "type": "string"
        },
        {
         "name": "gmm_cluster",
         "rawType": "int64",
         "type": "integer"
        },
        {
         "name": "hard_skills",
         "rawType": "float64",
         "type": "float"
        },
        {
         "name": "soft_skills",
         "rawType": "float64",
         "type": "float"
        },
        {
         "name": "teamwork",
         "rawType": "float64",
         "type": "float"
        },
        {
         "name": "creativity",
         "rawType": "float64",
         "type": "float"
        }
       ],
       "ref": "c35c0066-3aa4-46ec-8b6f-77e471270616",
       "rows": [
        [
         "14",
         "Amel",
         "Ben Salah",
         "2",
         "0.26",
         "1.97",
         "1.44",
         "5.0"
        ],
        [
         "18",
         "Dorra",
         "Mansour",
         "1",
         "2.79",
         "4.06",
         "4.64",
         "3.49"
        ],
        [
         "19",
         "Foued",
         "Baccouche",
         "1",
         "3.26",
         "4.64",
         "5.0",
         "3.02"
        ],
        [
         "23",
         "Cyrine",
         "Mabrouk",
         "2",
         "1.85",
         "3.37",
         "3.22",
         "4.53"
        ],
        [
         "33",
         "Bilel",
         "Mabrouk",
         "0",
         "5.0",
         "0.66",
         "2.72",
         "1.48"
        ],
        [
         "35",
         "Hedi",
         "Ben Amor",
         "0",
         "5.0",
         "1.34",
         "0.9",
         "0.75"
        ]
       ],
       "shape": {
        "columns": 7,
        "rows": 6
       }
      },
      "text/html": [
       "<div>\n",
       "<style scoped>\n",
       "    .dataframe tbody tr th:only-of-type {\n",
       "        vertical-align: middle;\n",
       "    }\n",
       "\n",
       "    .dataframe tbody tr th {\n",
       "        vertical-align: top;\n",
       "    }\n",
       "\n",
       "    .dataframe thead th {\n",
       "        text-align: right;\n",
       "    }\n",
       "</style>\n",
       "<table border=\"1\" class=\"dataframe\">\n",
       "  <thead>\n",
       "    <tr style=\"text-align: right;\">\n",
       "      <th></th>\n",
       "      <th>first_name</th>\n",
       "      <th>last_name</th>\n",
       "      <th>gmm_cluster</th>\n",
       "      <th>hard_skills</th>\n",
       "      <th>soft_skills</th>\n",
       "      <th>teamwork</th>\n",
       "      <th>creativity</th>\n",
       "    </tr>\n",
       "  </thead>\n",
       "  <tbody>\n",
       "    <tr>\n",
       "      <th>14</th>\n",
       "      <td>Amel</td>\n",
       "      <td>Ben Salah</td>\n",
       "      <td>2</td>\n",
       "      <td>0.26</td>\n",
       "      <td>1.97</td>\n",
       "      <td>1.44</td>\n",
       "      <td>5.00</td>\n",
       "    </tr>\n",
       "    <tr>\n",
       "      <th>18</th>\n",
       "      <td>Dorra</td>\n",
       "      <td>Mansour</td>\n",
       "      <td>1</td>\n",
       "      <td>2.79</td>\n",
       "      <td>4.06</td>\n",
       "      <td>4.64</td>\n",
       "      <td>3.49</td>\n",
       "    </tr>\n",
       "    <tr>\n",
       "      <th>19</th>\n",
       "      <td>Foued</td>\n",
       "      <td>Baccouche</td>\n",
       "      <td>1</td>\n",
       "      <td>3.26</td>\n",
       "      <td>4.64</td>\n",
       "      <td>5.00</td>\n",
       "      <td>3.02</td>\n",
       "    </tr>\n",
       "    <tr>\n",
       "      <th>23</th>\n",
       "      <td>Cyrine</td>\n",
       "      <td>Mabrouk</td>\n",
       "      <td>2</td>\n",
       "      <td>1.85</td>\n",
       "      <td>3.37</td>\n",
       "      <td>3.22</td>\n",
       "      <td>4.53</td>\n",
       "    </tr>\n",
       "    <tr>\n",
       "      <th>33</th>\n",
       "      <td>Bilel</td>\n",
       "      <td>Mabrouk</td>\n",
       "      <td>0</td>\n",
       "      <td>5.00</td>\n",
       "      <td>0.66</td>\n",
       "      <td>2.72</td>\n",
       "      <td>1.48</td>\n",
       "    </tr>\n",
       "    <tr>\n",
       "      <th>35</th>\n",
       "      <td>Hedi</td>\n",
       "      <td>Ben Amor</td>\n",
       "      <td>0</td>\n",
       "      <td>5.00</td>\n",
       "      <td>1.34</td>\n",
       "      <td>0.90</td>\n",
       "      <td>0.75</td>\n",
       "    </tr>\n",
       "  </tbody>\n",
       "</table>\n",
       "</div>"
      ],
      "text/plain": [
       "   first_name  last_name  gmm_cluster  hard_skills  soft_skills  teamwork  \\\n",
       "14       Amel  Ben Salah            2         0.26         1.97      1.44   \n",
       "18      Dorra    Mansour            1         2.79         4.06      4.64   \n",
       "19      Foued  Baccouche            1         3.26         4.64      5.00   \n",
       "23     Cyrine    Mabrouk            2         1.85         3.37      3.22   \n",
       "33      Bilel    Mabrouk            0         5.00         0.66      2.72   \n",
       "35       Hedi   Ben Amor            0         5.00         1.34      0.90   \n",
       "\n",
       "    creativity  \n",
       "14        5.00  \n",
       "18        3.49  \n",
       "19        3.02  \n",
       "23        4.53  \n",
       "33        1.48  \n",
       "35        0.75  "
      ]
     },
     "metadata": {},
     "output_type": "display_data"
    },
    {
     "name": "stdout",
     "output_type": "stream",
     "text": [
      "\n",
      "--- GMM Team 5 ---\n"
     ]
    },
    {
     "data": {
      "application/vnd.microsoft.datawrangler.viewer.v0+json": {
       "columns": [
        {
         "name": "index",
         "rawType": "int64",
         "type": "integer"
        },
        {
         "name": "first_name",
         "rawType": "object",
         "type": "string"
        },
        {
         "name": "last_name",
         "rawType": "object",
         "type": "string"
        },
        {
         "name": "gmm_cluster",
         "rawType": "int64",
         "type": "integer"
        },
        {
         "name": "hard_skills",
         "rawType": "float64",
         "type": "float"
        },
        {
         "name": "soft_skills",
         "rawType": "float64",
         "type": "float"
        },
        {
         "name": "teamwork",
         "rawType": "float64",
         "type": "float"
        },
        {
         "name": "creativity",
         "rawType": "float64",
         "type": "float"
        }
       ],
       "ref": "eb26d25f-551c-44c1-b7a8-34f2bad6ed89",
       "rows": [
        [
         "20",
         "Mourad",
         "Belkhir",
         "1",
         "2.65",
         "5.0",
         "5.0",
         "4.12"
        ],
        [
         "21",
         "Rim",
         "Khemiri",
         "1",
         "2.04",
         "4.99",
         "5.0",
         "2.84"
        ],
        [
         "24",
         "Asma",
         "Chaabane",
         "2",
         "1.97",
         "1.38",
         "2.51",
         "4.35"
        ],
        [
         "25",
         "Hatem",
         "Zouari",
         "2",
         "4.28",
         "2.45",
         "3.37",
         "4.2"
        ],
        [
         "38",
         "Wided",
         "Ghanouchi",
         "0",
         "4.89",
         "2.08",
         "2.37",
         "0.0"
        ],
        [
         "39",
         "Wassim",
         "Hamdi",
         "0",
         "5.0",
         "2.46",
         "1.8",
         "1.02"
        ]
       ],
       "shape": {
        "columns": 7,
        "rows": 6
       }
      },
      "text/html": [
       "<div>\n",
       "<style scoped>\n",
       "    .dataframe tbody tr th:only-of-type {\n",
       "        vertical-align: middle;\n",
       "    }\n",
       "\n",
       "    .dataframe tbody tr th {\n",
       "        vertical-align: top;\n",
       "    }\n",
       "\n",
       "    .dataframe thead th {\n",
       "        text-align: right;\n",
       "    }\n",
       "</style>\n",
       "<table border=\"1\" class=\"dataframe\">\n",
       "  <thead>\n",
       "    <tr style=\"text-align: right;\">\n",
       "      <th></th>\n",
       "      <th>first_name</th>\n",
       "      <th>last_name</th>\n",
       "      <th>gmm_cluster</th>\n",
       "      <th>hard_skills</th>\n",
       "      <th>soft_skills</th>\n",
       "      <th>teamwork</th>\n",
       "      <th>creativity</th>\n",
       "    </tr>\n",
       "  </thead>\n",
       "  <tbody>\n",
       "    <tr>\n",
       "      <th>20</th>\n",
       "      <td>Mourad</td>\n",
       "      <td>Belkhir</td>\n",
       "      <td>1</td>\n",
       "      <td>2.65</td>\n",
       "      <td>5.00</td>\n",
       "      <td>5.00</td>\n",
       "      <td>4.12</td>\n",
       "    </tr>\n",
       "    <tr>\n",
       "      <th>21</th>\n",
       "      <td>Rim</td>\n",
       "      <td>Khemiri</td>\n",
       "      <td>1</td>\n",
       "      <td>2.04</td>\n",
       "      <td>4.99</td>\n",
       "      <td>5.00</td>\n",
       "      <td>2.84</td>\n",
       "    </tr>\n",
       "    <tr>\n",
       "      <th>24</th>\n",
       "      <td>Asma</td>\n",
       "      <td>Chaabane</td>\n",
       "      <td>2</td>\n",
       "      <td>1.97</td>\n",
       "      <td>1.38</td>\n",
       "      <td>2.51</td>\n",
       "      <td>4.35</td>\n",
       "    </tr>\n",
       "    <tr>\n",
       "      <th>25</th>\n",
       "      <td>Hatem</td>\n",
       "      <td>Zouari</td>\n",
       "      <td>2</td>\n",
       "      <td>4.28</td>\n",
       "      <td>2.45</td>\n",
       "      <td>3.37</td>\n",
       "      <td>4.20</td>\n",
       "    </tr>\n",
       "    <tr>\n",
       "      <th>38</th>\n",
       "      <td>Wided</td>\n",
       "      <td>Ghanouchi</td>\n",
       "      <td>0</td>\n",
       "      <td>4.89</td>\n",
       "      <td>2.08</td>\n",
       "      <td>2.37</td>\n",
       "      <td>0.00</td>\n",
       "    </tr>\n",
       "    <tr>\n",
       "      <th>39</th>\n",
       "      <td>Wassim</td>\n",
       "      <td>Hamdi</td>\n",
       "      <td>0</td>\n",
       "      <td>5.00</td>\n",
       "      <td>2.46</td>\n",
       "      <td>1.80</td>\n",
       "      <td>1.02</td>\n",
       "    </tr>\n",
       "  </tbody>\n",
       "</table>\n",
       "</div>"
      ],
      "text/plain": [
       "   first_name  last_name  gmm_cluster  hard_skills  soft_skills  teamwork  \\\n",
       "20     Mourad    Belkhir            1         2.65         5.00      5.00   \n",
       "21        Rim    Khemiri            1         2.04         4.99      5.00   \n",
       "24       Asma   Chaabane            2         1.97         1.38      2.51   \n",
       "25      Hatem     Zouari            2         4.28         2.45      3.37   \n",
       "38      Wided  Ghanouchi            0         4.89         2.08      2.37   \n",
       "39     Wassim      Hamdi            0         5.00         2.46      1.80   \n",
       "\n",
       "    creativity  \n",
       "20        4.12  \n",
       "21        2.84  \n",
       "24        4.35  \n",
       "25        4.20  \n",
       "38        0.00  \n",
       "39        1.02  "
      ]
     },
     "metadata": {},
     "output_type": "display_data"
    },
    {
     "name": "stdout",
     "output_type": "stream",
     "text": [
      "\n",
      "--- GMM Team 6 ---\n"
     ]
    },
    {
     "data": {
      "application/vnd.microsoft.datawrangler.viewer.v0+json": {
       "columns": [
        {
         "name": "index",
         "rawType": "int64",
         "type": "integer"
        },
        {
         "name": "first_name",
         "rawType": "object",
         "type": "string"
        },
        {
         "name": "last_name",
         "rawType": "object",
         "type": "string"
        },
        {
         "name": "gmm_cluster",
         "rawType": "int64",
         "type": "integer"
        },
        {
         "name": "hard_skills",
         "rawType": "float64",
         "type": "float"
        },
        {
         "name": "soft_skills",
         "rawType": "float64",
         "type": "float"
        },
        {
         "name": "teamwork",
         "rawType": "float64",
         "type": "float"
        },
        {
         "name": "creativity",
         "rawType": "float64",
         "type": "float"
        }
       ],
       "ref": "98e6f9f7-9250-4fb4-ab08-757e982a8810",
       "rows": [
        [
         "22",
         "Karim",
         "Ben Amor",
         "1",
         "3.17",
         "4.18",
         "2.87",
         "3.68"
        ],
        [
         "26",
         "Oumaima",
         "Khlifi",
         "1",
         "4.19",
         "2.81",
         "2.95",
         "3.33"
        ],
        [
         "34",
         "Oussama",
         "Mejri",
         "2",
         "4.05",
         "4.65",
         "3.92",
         "5.0"
        ],
        [
         "36",
         "Amina",
         "Maaloul",
         "2",
         "2.79",
         "3.84",
         "4.01",
         "4.81"
        ],
        [
         "42",
         "Cyrine",
         "Ferjani",
         "0",
         "4.8",
         "0.15",
         "1.75",
         "0.49"
        ],
        [
         "61",
         "Chaima",
         "Mabrouk",
         "0",
         "4.8",
         "0.32",
         "2.27",
         "1.68"
        ]
       ],
       "shape": {
        "columns": 7,
        "rows": 6
       }
      },
      "text/html": [
       "<div>\n",
       "<style scoped>\n",
       "    .dataframe tbody tr th:only-of-type {\n",
       "        vertical-align: middle;\n",
       "    }\n",
       "\n",
       "    .dataframe tbody tr th {\n",
       "        vertical-align: top;\n",
       "    }\n",
       "\n",
       "    .dataframe thead th {\n",
       "        text-align: right;\n",
       "    }\n",
       "</style>\n",
       "<table border=\"1\" class=\"dataframe\">\n",
       "  <thead>\n",
       "    <tr style=\"text-align: right;\">\n",
       "      <th></th>\n",
       "      <th>first_name</th>\n",
       "      <th>last_name</th>\n",
       "      <th>gmm_cluster</th>\n",
       "      <th>hard_skills</th>\n",
       "      <th>soft_skills</th>\n",
       "      <th>teamwork</th>\n",
       "      <th>creativity</th>\n",
       "    </tr>\n",
       "  </thead>\n",
       "  <tbody>\n",
       "    <tr>\n",
       "      <th>22</th>\n",
       "      <td>Karim</td>\n",
       "      <td>Ben Amor</td>\n",
       "      <td>1</td>\n",
       "      <td>3.17</td>\n",
       "      <td>4.18</td>\n",
       "      <td>2.87</td>\n",
       "      <td>3.68</td>\n",
       "    </tr>\n",
       "    <tr>\n",
       "      <th>26</th>\n",
       "      <td>Oumaima</td>\n",
       "      <td>Khlifi</td>\n",
       "      <td>1</td>\n",
       "      <td>4.19</td>\n",
       "      <td>2.81</td>\n",
       "      <td>2.95</td>\n",
       "      <td>3.33</td>\n",
       "    </tr>\n",
       "    <tr>\n",
       "      <th>34</th>\n",
       "      <td>Oussama</td>\n",
       "      <td>Mejri</td>\n",
       "      <td>2</td>\n",
       "      <td>4.05</td>\n",
       "      <td>4.65</td>\n",
       "      <td>3.92</td>\n",
       "      <td>5.00</td>\n",
       "    </tr>\n",
       "    <tr>\n",
       "      <th>36</th>\n",
       "      <td>Amina</td>\n",
       "      <td>Maaloul</td>\n",
       "      <td>2</td>\n",
       "      <td>2.79</td>\n",
       "      <td>3.84</td>\n",
       "      <td>4.01</td>\n",
       "      <td>4.81</td>\n",
       "    </tr>\n",
       "    <tr>\n",
       "      <th>42</th>\n",
       "      <td>Cyrine</td>\n",
       "      <td>Ferjani</td>\n",
       "      <td>0</td>\n",
       "      <td>4.80</td>\n",
       "      <td>0.15</td>\n",
       "      <td>1.75</td>\n",
       "      <td>0.49</td>\n",
       "    </tr>\n",
       "    <tr>\n",
       "      <th>61</th>\n",
       "      <td>Chaima</td>\n",
       "      <td>Mabrouk</td>\n",
       "      <td>0</td>\n",
       "      <td>4.80</td>\n",
       "      <td>0.32</td>\n",
       "      <td>2.27</td>\n",
       "      <td>1.68</td>\n",
       "    </tr>\n",
       "  </tbody>\n",
       "</table>\n",
       "</div>"
      ],
      "text/plain": [
       "   first_name last_name  gmm_cluster  hard_skills  soft_skills  teamwork  \\\n",
       "22      Karim  Ben Amor            1         3.17         4.18      2.87   \n",
       "26    Oumaima    Khlifi            1         4.19         2.81      2.95   \n",
       "34    Oussama     Mejri            2         4.05         4.65      3.92   \n",
       "36      Amina   Maaloul            2         2.79         3.84      4.01   \n",
       "42     Cyrine   Ferjani            0         4.80         0.15      1.75   \n",
       "61     Chaima   Mabrouk            0         4.80         0.32      2.27   \n",
       "\n",
       "    creativity  \n",
       "22        3.68  \n",
       "26        3.33  \n",
       "34        5.00  \n",
       "36        4.81  \n",
       "42        0.49  \n",
       "61        1.68  "
      ]
     },
     "metadata": {},
     "output_type": "display_data"
    },
    {
     "name": "stdout",
     "output_type": "stream",
     "text": [
      "\n",
      "--- GMM Team 7 ---\n"
     ]
    },
    {
     "data": {
      "application/vnd.microsoft.datawrangler.viewer.v0+json": {
       "columns": [
        {
         "name": "index",
         "rawType": "int64",
         "type": "integer"
        },
        {
         "name": "first_name",
         "rawType": "object",
         "type": "string"
        },
        {
         "name": "last_name",
         "rawType": "object",
         "type": "string"
        },
        {
         "name": "gmm_cluster",
         "rawType": "int64",
         "type": "integer"
        },
        {
         "name": "hard_skills",
         "rawType": "float64",
         "type": "float"
        },
        {
         "name": "soft_skills",
         "rawType": "float64",
         "type": "float"
        },
        {
         "name": "teamwork",
         "rawType": "float64",
         "type": "float"
        },
        {
         "name": "creativity",
         "rawType": "float64",
         "type": "float"
        }
       ],
       "ref": "28050cdb-5efb-46b1-9973-89cc36a20613",
       "rows": [
        [
         "27",
         "Rym",
         "Jaziri",
         "1",
         "3.1",
         "4.8",
         "3.58",
         "4.0"
        ],
        [
         "28",
         "Yasmine",
         "Khlifi",
         "1",
         "2.3",
         "5.0",
         "5.0",
         "2.68"
        ],
        [
         "37",
         "Anis",
         "Khlifi",
         "2",
         "1.65",
         "3.04",
         "3.63",
         "5.0"
        ],
        [
         "40",
         "Rym",
         "Miled",
         "2",
         "2.25",
         "3.12",
         "4.35",
         "5.0"
        ],
        [
         "65",
         "Amine",
         "Saidi",
         "0",
         "4.82",
         "2.24",
         "1.2",
         "2.55"
        ],
        [
         "68",
         "Ghada",
         "Cherif",
         "0",
         "5.0",
         "1.43",
         "1.26",
         "1.98"
        ]
       ],
       "shape": {
        "columns": 7,
        "rows": 6
       }
      },
      "text/html": [
       "<div>\n",
       "<style scoped>\n",
       "    .dataframe tbody tr th:only-of-type {\n",
       "        vertical-align: middle;\n",
       "    }\n",
       "\n",
       "    .dataframe tbody tr th {\n",
       "        vertical-align: top;\n",
       "    }\n",
       "\n",
       "    .dataframe thead th {\n",
       "        text-align: right;\n",
       "    }\n",
       "</style>\n",
       "<table border=\"1\" class=\"dataframe\">\n",
       "  <thead>\n",
       "    <tr style=\"text-align: right;\">\n",
       "      <th></th>\n",
       "      <th>first_name</th>\n",
       "      <th>last_name</th>\n",
       "      <th>gmm_cluster</th>\n",
       "      <th>hard_skills</th>\n",
       "      <th>soft_skills</th>\n",
       "      <th>teamwork</th>\n",
       "      <th>creativity</th>\n",
       "    </tr>\n",
       "  </thead>\n",
       "  <tbody>\n",
       "    <tr>\n",
       "      <th>27</th>\n",
       "      <td>Rym</td>\n",
       "      <td>Jaziri</td>\n",
       "      <td>1</td>\n",
       "      <td>3.10</td>\n",
       "      <td>4.80</td>\n",
       "      <td>3.58</td>\n",
       "      <td>4.00</td>\n",
       "    </tr>\n",
       "    <tr>\n",
       "      <th>28</th>\n",
       "      <td>Yasmine</td>\n",
       "      <td>Khlifi</td>\n",
       "      <td>1</td>\n",
       "      <td>2.30</td>\n",
       "      <td>5.00</td>\n",
       "      <td>5.00</td>\n",
       "      <td>2.68</td>\n",
       "    </tr>\n",
       "    <tr>\n",
       "      <th>37</th>\n",
       "      <td>Anis</td>\n",
       "      <td>Khlifi</td>\n",
       "      <td>2</td>\n",
       "      <td>1.65</td>\n",
       "      <td>3.04</td>\n",
       "      <td>3.63</td>\n",
       "      <td>5.00</td>\n",
       "    </tr>\n",
       "    <tr>\n",
       "      <th>40</th>\n",
       "      <td>Rym</td>\n",
       "      <td>Miled</td>\n",
       "      <td>2</td>\n",
       "      <td>2.25</td>\n",
       "      <td>3.12</td>\n",
       "      <td>4.35</td>\n",
       "      <td>5.00</td>\n",
       "    </tr>\n",
       "    <tr>\n",
       "      <th>65</th>\n",
       "      <td>Amine</td>\n",
       "      <td>Saidi</td>\n",
       "      <td>0</td>\n",
       "      <td>4.82</td>\n",
       "      <td>2.24</td>\n",
       "      <td>1.20</td>\n",
       "      <td>2.55</td>\n",
       "    </tr>\n",
       "    <tr>\n",
       "      <th>68</th>\n",
       "      <td>Ghada</td>\n",
       "      <td>Cherif</td>\n",
       "      <td>0</td>\n",
       "      <td>5.00</td>\n",
       "      <td>1.43</td>\n",
       "      <td>1.26</td>\n",
       "      <td>1.98</td>\n",
       "    </tr>\n",
       "  </tbody>\n",
       "</table>\n",
       "</div>"
      ],
      "text/plain": [
       "   first_name last_name  gmm_cluster  hard_skills  soft_skills  teamwork  \\\n",
       "27        Rym    Jaziri            1         3.10         4.80      3.58   \n",
       "28    Yasmine    Khlifi            1         2.30         5.00      5.00   \n",
       "37       Anis    Khlifi            2         1.65         3.04      3.63   \n",
       "40        Rym     Miled            2         2.25         3.12      4.35   \n",
       "65      Amine     Saidi            0         4.82         2.24      1.20   \n",
       "68      Ghada    Cherif            0         5.00         1.43      1.26   \n",
       "\n",
       "    creativity  \n",
       "27        4.00  \n",
       "28        2.68  \n",
       "37        5.00  \n",
       "40        5.00  \n",
       "65        2.55  \n",
       "68        1.98  "
      ]
     },
     "metadata": {},
     "output_type": "display_data"
    },
    {
     "name": "stdout",
     "output_type": "stream",
     "text": [
      "\n",
      "--- GMM Team 8 ---\n"
     ]
    },
    {
     "data": {
      "application/vnd.microsoft.datawrangler.viewer.v0+json": {
       "columns": [
        {
         "name": "index",
         "rawType": "int64",
         "type": "integer"
        },
        {
         "name": "first_name",
         "rawType": "object",
         "type": "string"
        },
        {
         "name": "last_name",
         "rawType": "object",
         "type": "string"
        },
        {
         "name": "gmm_cluster",
         "rawType": "int64",
         "type": "integer"
        },
        {
         "name": "hard_skills",
         "rawType": "float64",
         "type": "float"
        },
        {
         "name": "soft_skills",
         "rawType": "float64",
         "type": "float"
        },
        {
         "name": "teamwork",
         "rawType": "float64",
         "type": "float"
        },
        {
         "name": "creativity",
         "rawType": "float64",
         "type": "float"
        }
       ],
       "ref": "f9b5d6e5-5947-4660-9f25-563af4bb98b7",
       "rows": [
        [
         "29",
         "Wassim",
         "Ben Amor",
         "1",
         "2.47",
         "4.44",
         "5.0",
         "3.89"
        ],
        [
         "30",
         "Hichem",
         "Ben Ali",
         "1",
         "3.08",
         "3.58",
         "5.0",
         "3.12"
        ],
        [
         "45",
         "Amel",
         "Kanzari",
         "2",
         "1.59",
         "3.14",
         "1.42",
         "4.71"
        ],
        [
         "47",
         "Eya",
         "Zayani",
         "2",
         "3.84",
         "3.16",
         "2.87",
         "5.0"
        ],
        [
         "69",
         "Walid",
         "Nasri",
         "0",
         "5.0",
         "0.81",
         "1.16",
         "1.04"
        ],
        [
         "76",
         "Manel",
         "Chebbi",
         "0",
         "4.64",
         "2.25",
         "2.64",
         "1.58"
        ]
       ],
       "shape": {
        "columns": 7,
        "rows": 6
       }
      },
      "text/html": [
       "<div>\n",
       "<style scoped>\n",
       "    .dataframe tbody tr th:only-of-type {\n",
       "        vertical-align: middle;\n",
       "    }\n",
       "\n",
       "    .dataframe tbody tr th {\n",
       "        vertical-align: top;\n",
       "    }\n",
       "\n",
       "    .dataframe thead th {\n",
       "        text-align: right;\n",
       "    }\n",
       "</style>\n",
       "<table border=\"1\" class=\"dataframe\">\n",
       "  <thead>\n",
       "    <tr style=\"text-align: right;\">\n",
       "      <th></th>\n",
       "      <th>first_name</th>\n",
       "      <th>last_name</th>\n",
       "      <th>gmm_cluster</th>\n",
       "      <th>hard_skills</th>\n",
       "      <th>soft_skills</th>\n",
       "      <th>teamwork</th>\n",
       "      <th>creativity</th>\n",
       "    </tr>\n",
       "  </thead>\n",
       "  <tbody>\n",
       "    <tr>\n",
       "      <th>29</th>\n",
       "      <td>Wassim</td>\n",
       "      <td>Ben Amor</td>\n",
       "      <td>1</td>\n",
       "      <td>2.47</td>\n",
       "      <td>4.44</td>\n",
       "      <td>5.00</td>\n",
       "      <td>3.89</td>\n",
       "    </tr>\n",
       "    <tr>\n",
       "      <th>30</th>\n",
       "      <td>Hichem</td>\n",
       "      <td>Ben Ali</td>\n",
       "      <td>1</td>\n",
       "      <td>3.08</td>\n",
       "      <td>3.58</td>\n",
       "      <td>5.00</td>\n",
       "      <td>3.12</td>\n",
       "    </tr>\n",
       "    <tr>\n",
       "      <th>45</th>\n",
       "      <td>Amel</td>\n",
       "      <td>Kanzari</td>\n",
       "      <td>2</td>\n",
       "      <td>1.59</td>\n",
       "      <td>3.14</td>\n",
       "      <td>1.42</td>\n",
       "      <td>4.71</td>\n",
       "    </tr>\n",
       "    <tr>\n",
       "      <th>47</th>\n",
       "      <td>Eya</td>\n",
       "      <td>Zayani</td>\n",
       "      <td>2</td>\n",
       "      <td>3.84</td>\n",
       "      <td>3.16</td>\n",
       "      <td>2.87</td>\n",
       "      <td>5.00</td>\n",
       "    </tr>\n",
       "    <tr>\n",
       "      <th>69</th>\n",
       "      <td>Walid</td>\n",
       "      <td>Nasri</td>\n",
       "      <td>0</td>\n",
       "      <td>5.00</td>\n",
       "      <td>0.81</td>\n",
       "      <td>1.16</td>\n",
       "      <td>1.04</td>\n",
       "    </tr>\n",
       "    <tr>\n",
       "      <th>76</th>\n",
       "      <td>Manel</td>\n",
       "      <td>Chebbi</td>\n",
       "      <td>0</td>\n",
       "      <td>4.64</td>\n",
       "      <td>2.25</td>\n",
       "      <td>2.64</td>\n",
       "      <td>1.58</td>\n",
       "    </tr>\n",
       "  </tbody>\n",
       "</table>\n",
       "</div>"
      ],
      "text/plain": [
       "   first_name last_name  gmm_cluster  hard_skills  soft_skills  teamwork  \\\n",
       "29     Wassim  Ben Amor            1         2.47         4.44      5.00   \n",
       "30     Hichem   Ben Ali            1         3.08         3.58      5.00   \n",
       "45       Amel   Kanzari            2         1.59         3.14      1.42   \n",
       "47        Eya    Zayani            2         3.84         3.16      2.87   \n",
       "69      Walid     Nasri            0         5.00         0.81      1.16   \n",
       "76      Manel    Chebbi            0         4.64         2.25      2.64   \n",
       "\n",
       "    creativity  \n",
       "29        3.89  \n",
       "30        3.12  \n",
       "45        4.71  \n",
       "47        5.00  \n",
       "69        1.04  \n",
       "76        1.58  "
      ]
     },
     "metadata": {},
     "output_type": "display_data"
    },
    {
     "name": "stdout",
     "output_type": "stream",
     "text": [
      "\n",
      "--- GMM Team 9 ---\n"
     ]
    },
    {
     "data": {
      "application/vnd.microsoft.datawrangler.viewer.v0+json": {
       "columns": [
        {
         "name": "index",
         "rawType": "int64",
         "type": "integer"
        },
        {
         "name": "first_name",
         "rawType": "object",
         "type": "string"
        },
        {
         "name": "last_name",
         "rawType": "object",
         "type": "string"
        },
        {
         "name": "gmm_cluster",
         "rawType": "int64",
         "type": "integer"
        },
        {
         "name": "hard_skills",
         "rawType": "float64",
         "type": "float"
        },
        {
         "name": "soft_skills",
         "rawType": "float64",
         "type": "float"
        },
        {
         "name": "teamwork",
         "rawType": "float64",
         "type": "float"
        },
        {
         "name": "creativity",
         "rawType": "float64",
         "type": "float"
        }
       ],
       "ref": "ed088965-d84a-4438-96fd-1d9ea4af3abb",
       "rows": [
        [
         "32",
         "Rim",
         "Slimani",
         "1",
         "2.16",
         "5.0",
         "5.0",
         "2.02"
        ],
        [
         "41",
         "Ali",
         "Slimani",
         "1",
         "3.02",
         "5.0",
         "4.97",
         "2.83"
        ],
        [
         "48",
         "Eya",
         "Kanzari",
         "2",
         "3.74",
         "1.82",
         "3.71",
         "4.6"
        ],
        [
         "49",
         "Amine",
         "Chaabane",
         "2",
         "5.0",
         "2.2",
         "4.16",
         "4.16"
        ],
        [
         "77",
         "Zied",
         "Ghanouchi",
         "0",
         "4.67",
         "0.67",
         "1.82",
         "1.45"
        ],
        [
         "79",
         "Sami",
         "Maaloul",
         "0",
         "5.0",
         "1.42",
         "1.19",
         "1.5"
        ]
       ],
       "shape": {
        "columns": 7,
        "rows": 6
       }
      },
      "text/html": [
       "<div>\n",
       "<style scoped>\n",
       "    .dataframe tbody tr th:only-of-type {\n",
       "        vertical-align: middle;\n",
       "    }\n",
       "\n",
       "    .dataframe tbody tr th {\n",
       "        vertical-align: top;\n",
       "    }\n",
       "\n",
       "    .dataframe thead th {\n",
       "        text-align: right;\n",
       "    }\n",
       "</style>\n",
       "<table border=\"1\" class=\"dataframe\">\n",
       "  <thead>\n",
       "    <tr style=\"text-align: right;\">\n",
       "      <th></th>\n",
       "      <th>first_name</th>\n",
       "      <th>last_name</th>\n",
       "      <th>gmm_cluster</th>\n",
       "      <th>hard_skills</th>\n",
       "      <th>soft_skills</th>\n",
       "      <th>teamwork</th>\n",
       "      <th>creativity</th>\n",
       "    </tr>\n",
       "  </thead>\n",
       "  <tbody>\n",
       "    <tr>\n",
       "      <th>32</th>\n",
       "      <td>Rim</td>\n",
       "      <td>Slimani</td>\n",
       "      <td>1</td>\n",
       "      <td>2.16</td>\n",
       "      <td>5.00</td>\n",
       "      <td>5.00</td>\n",
       "      <td>2.02</td>\n",
       "    </tr>\n",
       "    <tr>\n",
       "      <th>41</th>\n",
       "      <td>Ali</td>\n",
       "      <td>Slimani</td>\n",
       "      <td>1</td>\n",
       "      <td>3.02</td>\n",
       "      <td>5.00</td>\n",
       "      <td>4.97</td>\n",
       "      <td>2.83</td>\n",
       "    </tr>\n",
       "    <tr>\n",
       "      <th>48</th>\n",
       "      <td>Eya</td>\n",
       "      <td>Kanzari</td>\n",
       "      <td>2</td>\n",
       "      <td>3.74</td>\n",
       "      <td>1.82</td>\n",
       "      <td>3.71</td>\n",
       "      <td>4.60</td>\n",
       "    </tr>\n",
       "    <tr>\n",
       "      <th>49</th>\n",
       "      <td>Amine</td>\n",
       "      <td>Chaabane</td>\n",
       "      <td>2</td>\n",
       "      <td>5.00</td>\n",
       "      <td>2.20</td>\n",
       "      <td>4.16</td>\n",
       "      <td>4.16</td>\n",
       "    </tr>\n",
       "    <tr>\n",
       "      <th>77</th>\n",
       "      <td>Zied</td>\n",
       "      <td>Ghanouchi</td>\n",
       "      <td>0</td>\n",
       "      <td>4.67</td>\n",
       "      <td>0.67</td>\n",
       "      <td>1.82</td>\n",
       "      <td>1.45</td>\n",
       "    </tr>\n",
       "    <tr>\n",
       "      <th>79</th>\n",
       "      <td>Sami</td>\n",
       "      <td>Maaloul</td>\n",
       "      <td>0</td>\n",
       "      <td>5.00</td>\n",
       "      <td>1.42</td>\n",
       "      <td>1.19</td>\n",
       "      <td>1.50</td>\n",
       "    </tr>\n",
       "  </tbody>\n",
       "</table>\n",
       "</div>"
      ],
      "text/plain": [
       "   first_name  last_name  gmm_cluster  hard_skills  soft_skills  teamwork  \\\n",
       "32        Rim    Slimani            1         2.16         5.00      5.00   \n",
       "41        Ali    Slimani            1         3.02         5.00      4.97   \n",
       "48        Eya    Kanzari            2         3.74         1.82      3.71   \n",
       "49      Amine   Chaabane            2         5.00         2.20      4.16   \n",
       "77       Zied  Ghanouchi            0         4.67         0.67      1.82   \n",
       "79       Sami    Maaloul            0         5.00         1.42      1.19   \n",
       "\n",
       "    creativity  \n",
       "32        2.02  \n",
       "41        2.83  \n",
       "48        4.60  \n",
       "49        4.16  \n",
       "77        1.45  \n",
       "79        1.50  "
      ]
     },
     "metadata": {},
     "output_type": "display_data"
    },
    {
     "name": "stdout",
     "output_type": "stream",
     "text": [
      "\n",
      "--- GMM Team 10 ---\n"
     ]
    },
    {
     "data": {
      "application/vnd.microsoft.datawrangler.viewer.v0+json": {
       "columns": [
        {
         "name": "index",
         "rawType": "int64",
         "type": "integer"
        },
        {
         "name": "first_name",
         "rawType": "object",
         "type": "string"
        },
        {
         "name": "last_name",
         "rawType": "object",
         "type": "string"
        },
        {
         "name": "gmm_cluster",
         "rawType": "int64",
         "type": "integer"
        },
        {
         "name": "hard_skills",
         "rawType": "float64",
         "type": "float"
        },
        {
         "name": "soft_skills",
         "rawType": "float64",
         "type": "float"
        },
        {
         "name": "teamwork",
         "rawType": "float64",
         "type": "float"
        },
        {
         "name": "creativity",
         "rawType": "float64",
         "type": "float"
        }
       ],
       "ref": "baf64b97-5632-4cc8-b9f9-205b50915599",
       "rows": [
        [
         "43",
         "Khalil",
         "Mansour",
         "1",
         "5.0",
         "2.86",
         "3.2",
         "3.87"
        ],
        [
         "44",
         "Dorra",
         "Chouchene",
         "1",
         "2.48",
         "4.02",
         "5.0",
         "1.81"
        ],
        [
         "53",
         "Lina",
         "Chebbi",
         "2",
         "1.01",
         "2.54",
         "2.19",
         "5.0"
        ],
        [
         "54",
         "Rania",
         "Ben Ali",
         "2",
         "3.42",
         "3.45",
         "4.19",
         "4.77"
        ],
        [
         "80",
         "Rami",
         "Ghanouchi",
         "0",
         "3.52",
         "0.77",
         "2.29",
         "0.0"
        ],
        [
         "84",
         "Wassim",
         "Trabelsi",
         "0",
         "5.0",
         "1.34",
         "2.62",
         "1.4"
        ]
       ],
       "shape": {
        "columns": 7,
        "rows": 6
       }
      },
      "text/html": [
       "<div>\n",
       "<style scoped>\n",
       "    .dataframe tbody tr th:only-of-type {\n",
       "        vertical-align: middle;\n",
       "    }\n",
       "\n",
       "    .dataframe tbody tr th {\n",
       "        vertical-align: top;\n",
       "    }\n",
       "\n",
       "    .dataframe thead th {\n",
       "        text-align: right;\n",
       "    }\n",
       "</style>\n",
       "<table border=\"1\" class=\"dataframe\">\n",
       "  <thead>\n",
       "    <tr style=\"text-align: right;\">\n",
       "      <th></th>\n",
       "      <th>first_name</th>\n",
       "      <th>last_name</th>\n",
       "      <th>gmm_cluster</th>\n",
       "      <th>hard_skills</th>\n",
       "      <th>soft_skills</th>\n",
       "      <th>teamwork</th>\n",
       "      <th>creativity</th>\n",
       "    </tr>\n",
       "  </thead>\n",
       "  <tbody>\n",
       "    <tr>\n",
       "      <th>43</th>\n",
       "      <td>Khalil</td>\n",
       "      <td>Mansour</td>\n",
       "      <td>1</td>\n",
       "      <td>5.00</td>\n",
       "      <td>2.86</td>\n",
       "      <td>3.20</td>\n",
       "      <td>3.87</td>\n",
       "    </tr>\n",
       "    <tr>\n",
       "      <th>44</th>\n",
       "      <td>Dorra</td>\n",
       "      <td>Chouchene</td>\n",
       "      <td>1</td>\n",
       "      <td>2.48</td>\n",
       "      <td>4.02</td>\n",
       "      <td>5.00</td>\n",
       "      <td>1.81</td>\n",
       "    </tr>\n",
       "    <tr>\n",
       "      <th>53</th>\n",
       "      <td>Lina</td>\n",
       "      <td>Chebbi</td>\n",
       "      <td>2</td>\n",
       "      <td>1.01</td>\n",
       "      <td>2.54</td>\n",
       "      <td>2.19</td>\n",
       "      <td>5.00</td>\n",
       "    </tr>\n",
       "    <tr>\n",
       "      <th>54</th>\n",
       "      <td>Rania</td>\n",
       "      <td>Ben Ali</td>\n",
       "      <td>2</td>\n",
       "      <td>3.42</td>\n",
       "      <td>3.45</td>\n",
       "      <td>4.19</td>\n",
       "      <td>4.77</td>\n",
       "    </tr>\n",
       "    <tr>\n",
       "      <th>80</th>\n",
       "      <td>Rami</td>\n",
       "      <td>Ghanouchi</td>\n",
       "      <td>0</td>\n",
       "      <td>3.52</td>\n",
       "      <td>0.77</td>\n",
       "      <td>2.29</td>\n",
       "      <td>0.00</td>\n",
       "    </tr>\n",
       "    <tr>\n",
       "      <th>84</th>\n",
       "      <td>Wassim</td>\n",
       "      <td>Trabelsi</td>\n",
       "      <td>0</td>\n",
       "      <td>5.00</td>\n",
       "      <td>1.34</td>\n",
       "      <td>2.62</td>\n",
       "      <td>1.40</td>\n",
       "    </tr>\n",
       "  </tbody>\n",
       "</table>\n",
       "</div>"
      ],
      "text/plain": [
       "   first_name  last_name  gmm_cluster  hard_skills  soft_skills  teamwork  \\\n",
       "43     Khalil    Mansour            1         5.00         2.86      3.20   \n",
       "44      Dorra  Chouchene            1         2.48         4.02      5.00   \n",
       "53       Lina     Chebbi            2         1.01         2.54      2.19   \n",
       "54      Rania    Ben Ali            2         3.42         3.45      4.19   \n",
       "80       Rami  Ghanouchi            0         3.52         0.77      2.29   \n",
       "84     Wassim   Trabelsi            0         5.00         1.34      2.62   \n",
       "\n",
       "    creativity  \n",
       "43        3.87  \n",
       "44        1.81  \n",
       "53        5.00  \n",
       "54        4.77  \n",
       "80        0.00  \n",
       "84        1.40  "
      ]
     },
     "metadata": {},
     "output_type": "display_data"
    },
    {
     "name": "stdout",
     "output_type": "stream",
     "text": [
      "\n",
      "--- GMM Team 11 ---\n"
     ]
    },
    {
     "data": {
      "application/vnd.microsoft.datawrangler.viewer.v0+json": {
       "columns": [
        {
         "name": "index",
         "rawType": "int64",
         "type": "integer"
        },
        {
         "name": "first_name",
         "rawType": "object",
         "type": "string"
        },
        {
         "name": "last_name",
         "rawType": "object",
         "type": "string"
        },
        {
         "name": "gmm_cluster",
         "rawType": "int64",
         "type": "integer"
        },
        {
         "name": "hard_skills",
         "rawType": "float64",
         "type": "float"
        },
        {
         "name": "soft_skills",
         "rawType": "float64",
         "type": "float"
        },
        {
         "name": "teamwork",
         "rawType": "float64",
         "type": "float"
        },
        {
         "name": "creativity",
         "rawType": "float64",
         "type": "float"
        }
       ],
       "ref": "e3c67944-129f-44c7-bb9c-3087e8ec9a87",
       "rows": [
        [
         "46",
         "Sarra",
         "Nasri",
         "1",
         "5.0",
         "3.65",
         "3.49",
         "4.97"
        ],
        [
         "50",
         "Ines",
         "Chaabane",
         "1",
         "1.74",
         "5.0",
         "5.0",
         "2.56"
        ],
        [
         "59",
         "Youssef",
         "Ghanouchi",
         "2",
         "3.18",
         "5.0",
         "2.36",
         "4.55"
        ],
        [
         "60",
         "Hedi",
         "Mejri",
         "2",
         "3.32",
         "3.89",
         "4.75",
         "5.0"
        ],
        [
         "89",
         "Rania",
         "Khemiri",
         "0",
         "4.81",
         "2.76",
         "1.73",
         "0.48"
        ],
        [
         "94",
         "Ines",
         "Maaloul",
         "0",
         "5.0",
         "2.22",
         "1.53",
         "1.42"
        ]
       ],
       "shape": {
        "columns": 7,
        "rows": 6
       }
      },
      "text/html": [
       "<div>\n",
       "<style scoped>\n",
       "    .dataframe tbody tr th:only-of-type {\n",
       "        vertical-align: middle;\n",
       "    }\n",
       "\n",
       "    .dataframe tbody tr th {\n",
       "        vertical-align: top;\n",
       "    }\n",
       "\n",
       "    .dataframe thead th {\n",
       "        text-align: right;\n",
       "    }\n",
       "</style>\n",
       "<table border=\"1\" class=\"dataframe\">\n",
       "  <thead>\n",
       "    <tr style=\"text-align: right;\">\n",
       "      <th></th>\n",
       "      <th>first_name</th>\n",
       "      <th>last_name</th>\n",
       "      <th>gmm_cluster</th>\n",
       "      <th>hard_skills</th>\n",
       "      <th>soft_skills</th>\n",
       "      <th>teamwork</th>\n",
       "      <th>creativity</th>\n",
       "    </tr>\n",
       "  </thead>\n",
       "  <tbody>\n",
       "    <tr>\n",
       "      <th>46</th>\n",
       "      <td>Sarra</td>\n",
       "      <td>Nasri</td>\n",
       "      <td>1</td>\n",
       "      <td>5.00</td>\n",
       "      <td>3.65</td>\n",
       "      <td>3.49</td>\n",
       "      <td>4.97</td>\n",
       "    </tr>\n",
       "    <tr>\n",
       "      <th>50</th>\n",
       "      <td>Ines</td>\n",
       "      <td>Chaabane</td>\n",
       "      <td>1</td>\n",
       "      <td>1.74</td>\n",
       "      <td>5.00</td>\n",
       "      <td>5.00</td>\n",
       "      <td>2.56</td>\n",
       "    </tr>\n",
       "    <tr>\n",
       "      <th>59</th>\n",
       "      <td>Youssef</td>\n",
       "      <td>Ghanouchi</td>\n",
       "      <td>2</td>\n",
       "      <td>3.18</td>\n",
       "      <td>5.00</td>\n",
       "      <td>2.36</td>\n",
       "      <td>4.55</td>\n",
       "    </tr>\n",
       "    <tr>\n",
       "      <th>60</th>\n",
       "      <td>Hedi</td>\n",
       "      <td>Mejri</td>\n",
       "      <td>2</td>\n",
       "      <td>3.32</td>\n",
       "      <td>3.89</td>\n",
       "      <td>4.75</td>\n",
       "      <td>5.00</td>\n",
       "    </tr>\n",
       "    <tr>\n",
       "      <th>89</th>\n",
       "      <td>Rania</td>\n",
       "      <td>Khemiri</td>\n",
       "      <td>0</td>\n",
       "      <td>4.81</td>\n",
       "      <td>2.76</td>\n",
       "      <td>1.73</td>\n",
       "      <td>0.48</td>\n",
       "    </tr>\n",
       "    <tr>\n",
       "      <th>94</th>\n",
       "      <td>Ines</td>\n",
       "      <td>Maaloul</td>\n",
       "      <td>0</td>\n",
       "      <td>5.00</td>\n",
       "      <td>2.22</td>\n",
       "      <td>1.53</td>\n",
       "      <td>1.42</td>\n",
       "    </tr>\n",
       "  </tbody>\n",
       "</table>\n",
       "</div>"
      ],
      "text/plain": [
       "   first_name  last_name  gmm_cluster  hard_skills  soft_skills  teamwork  \\\n",
       "46      Sarra      Nasri            1         5.00         3.65      3.49   \n",
       "50       Ines   Chaabane            1         1.74         5.00      5.00   \n",
       "59    Youssef  Ghanouchi            2         3.18         5.00      2.36   \n",
       "60       Hedi      Mejri            2         3.32         3.89      4.75   \n",
       "89      Rania    Khemiri            0         4.81         2.76      1.73   \n",
       "94       Ines    Maaloul            0         5.00         2.22      1.53   \n",
       "\n",
       "    creativity  \n",
       "46        4.97  \n",
       "50        2.56  \n",
       "59        4.55  \n",
       "60        5.00  \n",
       "89        0.48  \n",
       "94        1.42  "
      ]
     },
     "metadata": {},
     "output_type": "display_data"
    },
    {
     "name": "stdout",
     "output_type": "stream",
     "text": [
      "\n",
      "--- GMM Team 12 ---\n"
     ]
    },
    {
     "data": {
      "application/vnd.microsoft.datawrangler.viewer.v0+json": {
       "columns": [
        {
         "name": "index",
         "rawType": "int64",
         "type": "integer"
        },
        {
         "name": "first_name",
         "rawType": "object",
         "type": "string"
        },
        {
         "name": "last_name",
         "rawType": "object",
         "type": "string"
        },
        {
         "name": "gmm_cluster",
         "rawType": "int64",
         "type": "integer"
        },
        {
         "name": "hard_skills",
         "rawType": "float64",
         "type": "float"
        },
        {
         "name": "soft_skills",
         "rawType": "float64",
         "type": "float"
        },
        {
         "name": "teamwork",
         "rawType": "float64",
         "type": "float"
        },
        {
         "name": "creativity",
         "rawType": "float64",
         "type": "float"
        }
       ],
       "ref": "6a5dd730-b686-4e77-a226-3bf686cfd76f",
       "rows": [
        [
         "51",
         "Lobna",
         "Chaabane",
         "1",
         "2.16",
         "4.95",
         "4.24",
         "3.59"
        ],
        [
         "52",
         "Mohamed",
         "Mejri",
         "1",
         "3.05",
         "4.72",
         "4.41",
         "3.98"
        ],
        [
         "66",
         "Hamza",
         "Jlassi",
         "2",
         "3.92",
         "1.7",
         "3.41",
         "4.26"
        ],
        [
         "82",
         "Marwen",
         "Slimani",
         "2",
         "1.86",
         "2.62",
         "1.85",
         "4.86"
        ],
        [
         "104",
         "Ahmed",
         "Hamdi",
         "0",
         "5.0",
         "1.42",
         "1.9",
         "0.88"
        ],
        [
         "105",
         "Fethi",
         "Ferjani",
         "0",
         "5.0",
         "0.0",
         "1.93",
         "0.35"
        ]
       ],
       "shape": {
        "columns": 7,
        "rows": 6
       }
      },
      "text/html": [
       "<div>\n",
       "<style scoped>\n",
       "    .dataframe tbody tr th:only-of-type {\n",
       "        vertical-align: middle;\n",
       "    }\n",
       "\n",
       "    .dataframe tbody tr th {\n",
       "        vertical-align: top;\n",
       "    }\n",
       "\n",
       "    .dataframe thead th {\n",
       "        text-align: right;\n",
       "    }\n",
       "</style>\n",
       "<table border=\"1\" class=\"dataframe\">\n",
       "  <thead>\n",
       "    <tr style=\"text-align: right;\">\n",
       "      <th></th>\n",
       "      <th>first_name</th>\n",
       "      <th>last_name</th>\n",
       "      <th>gmm_cluster</th>\n",
       "      <th>hard_skills</th>\n",
       "      <th>soft_skills</th>\n",
       "      <th>teamwork</th>\n",
       "      <th>creativity</th>\n",
       "    </tr>\n",
       "  </thead>\n",
       "  <tbody>\n",
       "    <tr>\n",
       "      <th>51</th>\n",
       "      <td>Lobna</td>\n",
       "      <td>Chaabane</td>\n",
       "      <td>1</td>\n",
       "      <td>2.16</td>\n",
       "      <td>4.95</td>\n",
       "      <td>4.24</td>\n",
       "      <td>3.59</td>\n",
       "    </tr>\n",
       "    <tr>\n",
       "      <th>52</th>\n",
       "      <td>Mohamed</td>\n",
       "      <td>Mejri</td>\n",
       "      <td>1</td>\n",
       "      <td>3.05</td>\n",
       "      <td>4.72</td>\n",
       "      <td>4.41</td>\n",
       "      <td>3.98</td>\n",
       "    </tr>\n",
       "    <tr>\n",
       "      <th>66</th>\n",
       "      <td>Hamza</td>\n",
       "      <td>Jlassi</td>\n",
       "      <td>2</td>\n",
       "      <td>3.92</td>\n",
       "      <td>1.70</td>\n",
       "      <td>3.41</td>\n",
       "      <td>4.26</td>\n",
       "    </tr>\n",
       "    <tr>\n",
       "      <th>82</th>\n",
       "      <td>Marwen</td>\n",
       "      <td>Slimani</td>\n",
       "      <td>2</td>\n",
       "      <td>1.86</td>\n",
       "      <td>2.62</td>\n",
       "      <td>1.85</td>\n",
       "      <td>4.86</td>\n",
       "    </tr>\n",
       "    <tr>\n",
       "      <th>104</th>\n",
       "      <td>Ahmed</td>\n",
       "      <td>Hamdi</td>\n",
       "      <td>0</td>\n",
       "      <td>5.00</td>\n",
       "      <td>1.42</td>\n",
       "      <td>1.90</td>\n",
       "      <td>0.88</td>\n",
       "    </tr>\n",
       "    <tr>\n",
       "      <th>105</th>\n",
       "      <td>Fethi</td>\n",
       "      <td>Ferjani</td>\n",
       "      <td>0</td>\n",
       "      <td>5.00</td>\n",
       "      <td>0.00</td>\n",
       "      <td>1.93</td>\n",
       "      <td>0.35</td>\n",
       "    </tr>\n",
       "  </tbody>\n",
       "</table>\n",
       "</div>"
      ],
      "text/plain": [
       "    first_name last_name  gmm_cluster  hard_skills  soft_skills  teamwork  \\\n",
       "51       Lobna  Chaabane            1         2.16         4.95      4.24   \n",
       "52     Mohamed     Mejri            1         3.05         4.72      4.41   \n",
       "66       Hamza    Jlassi            2         3.92         1.70      3.41   \n",
       "82      Marwen   Slimani            2         1.86         2.62      1.85   \n",
       "104      Ahmed     Hamdi            0         5.00         1.42      1.90   \n",
       "105      Fethi   Ferjani            0         5.00         0.00      1.93   \n",
       "\n",
       "     creativity  \n",
       "51         3.59  \n",
       "52         3.98  \n",
       "66         4.26  \n",
       "82         4.86  \n",
       "104        0.88  \n",
       "105        0.35  "
      ]
     },
     "metadata": {},
     "output_type": "display_data"
    },
    {
     "name": "stdout",
     "output_type": "stream",
     "text": [
      "\n",
      "--- GMM Team 13 ---\n"
     ]
    },
    {
     "data": {
      "application/vnd.microsoft.datawrangler.viewer.v0+json": {
       "columns": [
        {
         "name": "index",
         "rawType": "int64",
         "type": "integer"
        },
        {
         "name": "first_name",
         "rawType": "object",
         "type": "string"
        },
        {
         "name": "last_name",
         "rawType": "object",
         "type": "string"
        },
        {
         "name": "gmm_cluster",
         "rawType": "int64",
         "type": "integer"
        },
        {
         "name": "hard_skills",
         "rawType": "float64",
         "type": "float"
        },
        {
         "name": "soft_skills",
         "rawType": "float64",
         "type": "float"
        },
        {
         "name": "teamwork",
         "rawType": "float64",
         "type": "float"
        },
        {
         "name": "creativity",
         "rawType": "float64",
         "type": "float"
        }
       ],
       "ref": "832a5157-d87e-45a0-9f4b-88fbe9ae96e2",
       "rows": [
        [
         "55",
         "Mariem",
         "Miled",
         "1",
         "4.3",
         "3.48",
         "3.46",
         "4.64"
        ],
        [
         "56",
         "Fares",
         "Kanzari",
         "1",
         "1.75",
         "5.0",
         "5.0",
         "3.27"
        ],
        [
         "88",
         "Zaineb",
         "Karoui",
         "2",
         "5.0",
         "3.15",
         "4.59",
         "4.86"
        ],
        [
         "92",
         "Salma",
         "Jaziri",
         "2",
         "3.53",
         "3.76",
         "4.26",
         "4.8"
        ],
        [
         "108",
         "Dorra",
         "Fourati",
         "0",
         "4.92",
         "2.02",
         "2.84",
         "1.02"
        ],
        [
         "110",
         "Nabil",
         "Jebali",
         "0",
         "4.61",
         "1.85",
         "1.13",
         "0.69"
        ]
       ],
       "shape": {
        "columns": 7,
        "rows": 6
       }
      },
      "text/html": [
       "<div>\n",
       "<style scoped>\n",
       "    .dataframe tbody tr th:only-of-type {\n",
       "        vertical-align: middle;\n",
       "    }\n",
       "\n",
       "    .dataframe tbody tr th {\n",
       "        vertical-align: top;\n",
       "    }\n",
       "\n",
       "    .dataframe thead th {\n",
       "        text-align: right;\n",
       "    }\n",
       "</style>\n",
       "<table border=\"1\" class=\"dataframe\">\n",
       "  <thead>\n",
       "    <tr style=\"text-align: right;\">\n",
       "      <th></th>\n",
       "      <th>first_name</th>\n",
       "      <th>last_name</th>\n",
       "      <th>gmm_cluster</th>\n",
       "      <th>hard_skills</th>\n",
       "      <th>soft_skills</th>\n",
       "      <th>teamwork</th>\n",
       "      <th>creativity</th>\n",
       "    </tr>\n",
       "  </thead>\n",
       "  <tbody>\n",
       "    <tr>\n",
       "      <th>55</th>\n",
       "      <td>Mariem</td>\n",
       "      <td>Miled</td>\n",
       "      <td>1</td>\n",
       "      <td>4.30</td>\n",
       "      <td>3.48</td>\n",
       "      <td>3.46</td>\n",
       "      <td>4.64</td>\n",
       "    </tr>\n",
       "    <tr>\n",
       "      <th>56</th>\n",
       "      <td>Fares</td>\n",
       "      <td>Kanzari</td>\n",
       "      <td>1</td>\n",
       "      <td>1.75</td>\n",
       "      <td>5.00</td>\n",
       "      <td>5.00</td>\n",
       "      <td>3.27</td>\n",
       "    </tr>\n",
       "    <tr>\n",
       "      <th>88</th>\n",
       "      <td>Zaineb</td>\n",
       "      <td>Karoui</td>\n",
       "      <td>2</td>\n",
       "      <td>5.00</td>\n",
       "      <td>3.15</td>\n",
       "      <td>4.59</td>\n",
       "      <td>4.86</td>\n",
       "    </tr>\n",
       "    <tr>\n",
       "      <th>92</th>\n",
       "      <td>Salma</td>\n",
       "      <td>Jaziri</td>\n",
       "      <td>2</td>\n",
       "      <td>3.53</td>\n",
       "      <td>3.76</td>\n",
       "      <td>4.26</td>\n",
       "      <td>4.80</td>\n",
       "    </tr>\n",
       "    <tr>\n",
       "      <th>108</th>\n",
       "      <td>Dorra</td>\n",
       "      <td>Fourati</td>\n",
       "      <td>0</td>\n",
       "      <td>4.92</td>\n",
       "      <td>2.02</td>\n",
       "      <td>2.84</td>\n",
       "      <td>1.02</td>\n",
       "    </tr>\n",
       "    <tr>\n",
       "      <th>110</th>\n",
       "      <td>Nabil</td>\n",
       "      <td>Jebali</td>\n",
       "      <td>0</td>\n",
       "      <td>4.61</td>\n",
       "      <td>1.85</td>\n",
       "      <td>1.13</td>\n",
       "      <td>0.69</td>\n",
       "    </tr>\n",
       "  </tbody>\n",
       "</table>\n",
       "</div>"
      ],
      "text/plain": [
       "    first_name last_name  gmm_cluster  hard_skills  soft_skills  teamwork  \\\n",
       "55      Mariem     Miled            1         4.30         3.48      3.46   \n",
       "56       Fares   Kanzari            1         1.75         5.00      5.00   \n",
       "88      Zaineb    Karoui            2         5.00         3.15      4.59   \n",
       "92       Salma    Jaziri            2         3.53         3.76      4.26   \n",
       "108      Dorra   Fourati            0         4.92         2.02      2.84   \n",
       "110      Nabil    Jebali            0         4.61         1.85      1.13   \n",
       "\n",
       "     creativity  \n",
       "55         4.64  \n",
       "56         3.27  \n",
       "88         4.86  \n",
       "92         4.80  \n",
       "108        1.02  \n",
       "110        0.69  "
      ]
     },
     "metadata": {},
     "output_type": "display_data"
    },
    {
     "name": "stdout",
     "output_type": "stream",
     "text": [
      "\n",
      "--- GMM Team 14 ---\n"
     ]
    },
    {
     "data": {
      "application/vnd.microsoft.datawrangler.viewer.v0+json": {
       "columns": [
        {
         "name": "index",
         "rawType": "int64",
         "type": "integer"
        },
        {
         "name": "first_name",
         "rawType": "object",
         "type": "string"
        },
        {
         "name": "last_name",
         "rawType": "object",
         "type": "string"
        },
        {
         "name": "gmm_cluster",
         "rawType": "int64",
         "type": "integer"
        },
        {
         "name": "hard_skills",
         "rawType": "float64",
         "type": "float"
        },
        {
         "name": "soft_skills",
         "rawType": "float64",
         "type": "float"
        },
        {
         "name": "teamwork",
         "rawType": "float64",
         "type": "float"
        },
        {
         "name": "creativity",
         "rawType": "float64",
         "type": "float"
        }
       ],
       "ref": "d915bdc8-678a-4cc9-8072-5619a51e083f",
       "rows": [
        [
         "57",
         "Wided",
         "Maaloul",
         "1",
         "4.52",
         "3.07",
         "3.58",
         "4.81"
        ],
        [
         "58",
         "Bilel",
         "Jaziri",
         "1",
         "5.0",
         "2.38",
         "3.6",
         "3.04"
        ],
        [
         "62",
         "Khadija",
         "Ben Salah",
         "1",
         "1.75",
         "4.22",
         "5.0",
         "3.43"
        ],
        [
         "95",
         "Rym",
         "Chouchene",
         "2",
         "3.99",
         "2.58",
         "2.88",
         "4.94"
        ],
        [
         "97",
         "Rim",
         "Chaabane",
         "2",
         "2.82",
         "4.06",
         "2.98",
         "4.74"
        ],
        [
         "111",
         "Hatem",
         "Ayari",
         "0",
         "5.0",
         "2.46",
         "2.17",
         "1.59"
        ]
       ],
       "shape": {
        "columns": 7,
        "rows": 6
       }
      },
      "text/html": [
       "<div>\n",
       "<style scoped>\n",
       "    .dataframe tbody tr th:only-of-type {\n",
       "        vertical-align: middle;\n",
       "    }\n",
       "\n",
       "    .dataframe tbody tr th {\n",
       "        vertical-align: top;\n",
       "    }\n",
       "\n",
       "    .dataframe thead th {\n",
       "        text-align: right;\n",
       "    }\n",
       "</style>\n",
       "<table border=\"1\" class=\"dataframe\">\n",
       "  <thead>\n",
       "    <tr style=\"text-align: right;\">\n",
       "      <th></th>\n",
       "      <th>first_name</th>\n",
       "      <th>last_name</th>\n",
       "      <th>gmm_cluster</th>\n",
       "      <th>hard_skills</th>\n",
       "      <th>soft_skills</th>\n",
       "      <th>teamwork</th>\n",
       "      <th>creativity</th>\n",
       "    </tr>\n",
       "  </thead>\n",
       "  <tbody>\n",
       "    <tr>\n",
       "      <th>57</th>\n",
       "      <td>Wided</td>\n",
       "      <td>Maaloul</td>\n",
       "      <td>1</td>\n",
       "      <td>4.52</td>\n",
       "      <td>3.07</td>\n",
       "      <td>3.58</td>\n",
       "      <td>4.81</td>\n",
       "    </tr>\n",
       "    <tr>\n",
       "      <th>58</th>\n",
       "      <td>Bilel</td>\n",
       "      <td>Jaziri</td>\n",
       "      <td>1</td>\n",
       "      <td>5.00</td>\n",
       "      <td>2.38</td>\n",
       "      <td>3.60</td>\n",
       "      <td>3.04</td>\n",
       "    </tr>\n",
       "    <tr>\n",
       "      <th>62</th>\n",
       "      <td>Khadija</td>\n",
       "      <td>Ben Salah</td>\n",
       "      <td>1</td>\n",
       "      <td>1.75</td>\n",
       "      <td>4.22</td>\n",
       "      <td>5.00</td>\n",
       "      <td>3.43</td>\n",
       "    </tr>\n",
       "    <tr>\n",
       "      <th>95</th>\n",
       "      <td>Rym</td>\n",
       "      <td>Chouchene</td>\n",
       "      <td>2</td>\n",
       "      <td>3.99</td>\n",
       "      <td>2.58</td>\n",
       "      <td>2.88</td>\n",
       "      <td>4.94</td>\n",
       "    </tr>\n",
       "    <tr>\n",
       "      <th>97</th>\n",
       "      <td>Rim</td>\n",
       "      <td>Chaabane</td>\n",
       "      <td>2</td>\n",
       "      <td>2.82</td>\n",
       "      <td>4.06</td>\n",
       "      <td>2.98</td>\n",
       "      <td>4.74</td>\n",
       "    </tr>\n",
       "    <tr>\n",
       "      <th>111</th>\n",
       "      <td>Hatem</td>\n",
       "      <td>Ayari</td>\n",
       "      <td>0</td>\n",
       "      <td>5.00</td>\n",
       "      <td>2.46</td>\n",
       "      <td>2.17</td>\n",
       "      <td>1.59</td>\n",
       "    </tr>\n",
       "  </tbody>\n",
       "</table>\n",
       "</div>"
      ],
      "text/plain": [
       "    first_name  last_name  gmm_cluster  hard_skills  soft_skills  teamwork  \\\n",
       "57       Wided    Maaloul            1         4.52         3.07      3.58   \n",
       "58       Bilel     Jaziri            1         5.00         2.38      3.60   \n",
       "62     Khadija  Ben Salah            1         1.75         4.22      5.00   \n",
       "95         Rym  Chouchene            2         3.99         2.58      2.88   \n",
       "97         Rim   Chaabane            2         2.82         4.06      2.98   \n",
       "111      Hatem      Ayari            0         5.00         2.46      2.17   \n",
       "\n",
       "     creativity  \n",
       "57         4.81  \n",
       "58         3.04  \n",
       "62         3.43  \n",
       "95         4.94  \n",
       "97         4.74  \n",
       "111        1.59  "
      ]
     },
     "metadata": {},
     "output_type": "display_data"
    },
    {
     "name": "stdout",
     "output_type": "stream",
     "text": [
      "\n",
      "--- GMM Team 15 ---\n"
     ]
    },
    {
     "data": {
      "application/vnd.microsoft.datawrangler.viewer.v0+json": {
       "columns": [
        {
         "name": "index",
         "rawType": "int64",
         "type": "integer"
        },
        {
         "name": "first_name",
         "rawType": "object",
         "type": "string"
        },
        {
         "name": "last_name",
         "rawType": "object",
         "type": "string"
        },
        {
         "name": "gmm_cluster",
         "rawType": "int64",
         "type": "integer"
        },
        {
         "name": "hard_skills",
         "rawType": "float64",
         "type": "float"
        },
        {
         "name": "soft_skills",
         "rawType": "float64",
         "type": "float"
        },
        {
         "name": "teamwork",
         "rawType": "float64",
         "type": "float"
        },
        {
         "name": "creativity",
         "rawType": "float64",
         "type": "float"
        }
       ],
       "ref": "0e99a6fc-b22a-4aa0-b553-b10c344d008e",
       "rows": [
        [
         "63",
         "Ahmed",
         "Fourati",
         "1",
         "5.0",
         "3.13",
         "3.86",
         "4.98"
        ],
        [
         "64",
         "Nour",
         "Toumi",
         "1",
         "4.18",
         "3.33",
         "4.08",
         "3.77"
        ],
        [
         "67",
         "Mourad",
         "Gharbi",
         "1",
         "5.0",
         "3.42",
         "2.85",
         "4.21"
        ],
        [
         "98",
         "Emna",
         "Kanzari",
         "2",
         "2.24",
         "3.32",
         "4.63",
         "5.0"
        ],
        [
         "99",
         "Samira",
         "Sassi",
         "2",
         "1.74",
         "2.65",
         "1.66",
         "5.0"
        ],
        [
         "103",
         "Eya",
         "Zouari",
         "2",
         "2.17",
         "2.07",
         "1.16",
         "4.1"
        ]
       ],
       "shape": {
        "columns": 7,
        "rows": 6
       }
      },
      "text/html": [
       "<div>\n",
       "<style scoped>\n",
       "    .dataframe tbody tr th:only-of-type {\n",
       "        vertical-align: middle;\n",
       "    }\n",
       "\n",
       "    .dataframe tbody tr th {\n",
       "        vertical-align: top;\n",
       "    }\n",
       "\n",
       "    .dataframe thead th {\n",
       "        text-align: right;\n",
       "    }\n",
       "</style>\n",
       "<table border=\"1\" class=\"dataframe\">\n",
       "  <thead>\n",
       "    <tr style=\"text-align: right;\">\n",
       "      <th></th>\n",
       "      <th>first_name</th>\n",
       "      <th>last_name</th>\n",
       "      <th>gmm_cluster</th>\n",
       "      <th>hard_skills</th>\n",
       "      <th>soft_skills</th>\n",
       "      <th>teamwork</th>\n",
       "      <th>creativity</th>\n",
       "    </tr>\n",
       "  </thead>\n",
       "  <tbody>\n",
       "    <tr>\n",
       "      <th>63</th>\n",
       "      <td>Ahmed</td>\n",
       "      <td>Fourati</td>\n",
       "      <td>1</td>\n",
       "      <td>5.00</td>\n",
       "      <td>3.13</td>\n",
       "      <td>3.86</td>\n",
       "      <td>4.98</td>\n",
       "    </tr>\n",
       "    <tr>\n",
       "      <th>64</th>\n",
       "      <td>Nour</td>\n",
       "      <td>Toumi</td>\n",
       "      <td>1</td>\n",
       "      <td>4.18</td>\n",
       "      <td>3.33</td>\n",
       "      <td>4.08</td>\n",
       "      <td>3.77</td>\n",
       "    </tr>\n",
       "    <tr>\n",
       "      <th>67</th>\n",
       "      <td>Mourad</td>\n",
       "      <td>Gharbi</td>\n",
       "      <td>1</td>\n",
       "      <td>5.00</td>\n",
       "      <td>3.42</td>\n",
       "      <td>2.85</td>\n",
       "      <td>4.21</td>\n",
       "    </tr>\n",
       "    <tr>\n",
       "      <th>98</th>\n",
       "      <td>Emna</td>\n",
       "      <td>Kanzari</td>\n",
       "      <td>2</td>\n",
       "      <td>2.24</td>\n",
       "      <td>3.32</td>\n",
       "      <td>4.63</td>\n",
       "      <td>5.00</td>\n",
       "    </tr>\n",
       "    <tr>\n",
       "      <th>99</th>\n",
       "      <td>Samira</td>\n",
       "      <td>Sassi</td>\n",
       "      <td>2</td>\n",
       "      <td>1.74</td>\n",
       "      <td>2.65</td>\n",
       "      <td>1.66</td>\n",
       "      <td>5.00</td>\n",
       "    </tr>\n",
       "    <tr>\n",
       "      <th>103</th>\n",
       "      <td>Eya</td>\n",
       "      <td>Zouari</td>\n",
       "      <td>2</td>\n",
       "      <td>2.17</td>\n",
       "      <td>2.07</td>\n",
       "      <td>1.16</td>\n",
       "      <td>4.10</td>\n",
       "    </tr>\n",
       "  </tbody>\n",
       "</table>\n",
       "</div>"
      ],
      "text/plain": [
       "    first_name last_name  gmm_cluster  hard_skills  soft_skills  teamwork  \\\n",
       "63       Ahmed   Fourati            1         5.00         3.13      3.86   \n",
       "64        Nour     Toumi            1         4.18         3.33      4.08   \n",
       "67      Mourad    Gharbi            1         5.00         3.42      2.85   \n",
       "98        Emna   Kanzari            2         2.24         3.32      4.63   \n",
       "99      Samira     Sassi            2         1.74         2.65      1.66   \n",
       "103        Eya    Zouari            2         2.17         2.07      1.16   \n",
       "\n",
       "     creativity  \n",
       "63         4.98  \n",
       "64         3.77  \n",
       "67         4.21  \n",
       "98         5.00  \n",
       "99         5.00  \n",
       "103        4.10  "
      ]
     },
     "metadata": {},
     "output_type": "display_data"
    },
    {
     "name": "stdout",
     "output_type": "stream",
     "text": [
      "\n",
      "--- GMM Team 16 ---\n"
     ]
    },
    {
     "data": {
      "application/vnd.microsoft.datawrangler.viewer.v0+json": {
       "columns": [
        {
         "name": "index",
         "rawType": "int64",
         "type": "integer"
        },
        {
         "name": "first_name",
         "rawType": "object",
         "type": "string"
        },
        {
         "name": "last_name",
         "rawType": "object",
         "type": "string"
        },
        {
         "name": "gmm_cluster",
         "rawType": "int64",
         "type": "integer"
        },
        {
         "name": "hard_skills",
         "rawType": "float64",
         "type": "float"
        },
        {
         "name": "soft_skills",
         "rawType": "float64",
         "type": "float"
        },
        {
         "name": "teamwork",
         "rawType": "float64",
         "type": "float"
        },
        {
         "name": "creativity",
         "rawType": "float64",
         "type": "float"
        }
       ],
       "ref": "1efb6370-2159-42db-b535-3b9f341fd5dc",
       "rows": [
        [
         "70",
         "Wafa",
         "Cherif",
         "1",
         "3.18",
         "4.26",
         "4.03",
         "4.22"
        ],
        [
         "71",
         "Hatem",
         "Karoui",
         "1",
         "4.12",
         "3.49",
         "3.14",
         "3.65"
        ],
        [
         "72",
         "Leila",
         "Karoui",
         "1",
         "2.38",
         "4.63",
         "4.78",
         "3.72"
        ],
        [
         "106",
         "Karim",
         "Kanzari",
         "2",
         "2.28",
         "1.74",
         "2.17",
         "5.0"
        ],
        [
         "107",
         "Farah",
         "Karoui",
         "2",
         "2.57",
         "2.25",
         "2.14",
         "5.0"
        ],
        [
         "109",
         "Nadia",
         "Maaloul",
         "2",
         "4.53",
         "5.0",
         "5.0",
         "4.71"
        ]
       ],
       "shape": {
        "columns": 7,
        "rows": 6
       }
      },
      "text/html": [
       "<div>\n",
       "<style scoped>\n",
       "    .dataframe tbody tr th:only-of-type {\n",
       "        vertical-align: middle;\n",
       "    }\n",
       "\n",
       "    .dataframe tbody tr th {\n",
       "        vertical-align: top;\n",
       "    }\n",
       "\n",
       "    .dataframe thead th {\n",
       "        text-align: right;\n",
       "    }\n",
       "</style>\n",
       "<table border=\"1\" class=\"dataframe\">\n",
       "  <thead>\n",
       "    <tr style=\"text-align: right;\">\n",
       "      <th></th>\n",
       "      <th>first_name</th>\n",
       "      <th>last_name</th>\n",
       "      <th>gmm_cluster</th>\n",
       "      <th>hard_skills</th>\n",
       "      <th>soft_skills</th>\n",
       "      <th>teamwork</th>\n",
       "      <th>creativity</th>\n",
       "    </tr>\n",
       "  </thead>\n",
       "  <tbody>\n",
       "    <tr>\n",
       "      <th>70</th>\n",
       "      <td>Wafa</td>\n",
       "      <td>Cherif</td>\n",
       "      <td>1</td>\n",
       "      <td>3.18</td>\n",
       "      <td>4.26</td>\n",
       "      <td>4.03</td>\n",
       "      <td>4.22</td>\n",
       "    </tr>\n",
       "    <tr>\n",
       "      <th>71</th>\n",
       "      <td>Hatem</td>\n",
       "      <td>Karoui</td>\n",
       "      <td>1</td>\n",
       "      <td>4.12</td>\n",
       "      <td>3.49</td>\n",
       "      <td>3.14</td>\n",
       "      <td>3.65</td>\n",
       "    </tr>\n",
       "    <tr>\n",
       "      <th>72</th>\n",
       "      <td>Leila</td>\n",
       "      <td>Karoui</td>\n",
       "      <td>1</td>\n",
       "      <td>2.38</td>\n",
       "      <td>4.63</td>\n",
       "      <td>4.78</td>\n",
       "      <td>3.72</td>\n",
       "    </tr>\n",
       "    <tr>\n",
       "      <th>106</th>\n",
       "      <td>Karim</td>\n",
       "      <td>Kanzari</td>\n",
       "      <td>2</td>\n",
       "      <td>2.28</td>\n",
       "      <td>1.74</td>\n",
       "      <td>2.17</td>\n",
       "      <td>5.00</td>\n",
       "    </tr>\n",
       "    <tr>\n",
       "      <th>107</th>\n",
       "      <td>Farah</td>\n",
       "      <td>Karoui</td>\n",
       "      <td>2</td>\n",
       "      <td>2.57</td>\n",
       "      <td>2.25</td>\n",
       "      <td>2.14</td>\n",
       "      <td>5.00</td>\n",
       "    </tr>\n",
       "    <tr>\n",
       "      <th>109</th>\n",
       "      <td>Nadia</td>\n",
       "      <td>Maaloul</td>\n",
       "      <td>2</td>\n",
       "      <td>4.53</td>\n",
       "      <td>5.00</td>\n",
       "      <td>5.00</td>\n",
       "      <td>4.71</td>\n",
       "    </tr>\n",
       "  </tbody>\n",
       "</table>\n",
       "</div>"
      ],
      "text/plain": [
       "    first_name last_name  gmm_cluster  hard_skills  soft_skills  teamwork  \\\n",
       "70        Wafa    Cherif            1         3.18         4.26      4.03   \n",
       "71       Hatem    Karoui            1         4.12         3.49      3.14   \n",
       "72       Leila    Karoui            1         2.38         4.63      4.78   \n",
       "106      Karim   Kanzari            2         2.28         1.74      2.17   \n",
       "107      Farah    Karoui            2         2.57         2.25      2.14   \n",
       "109      Nadia   Maaloul            2         4.53         5.00      5.00   \n",
       "\n",
       "     creativity  \n",
       "70         4.22  \n",
       "71         3.65  \n",
       "72         3.72  \n",
       "106        5.00  \n",
       "107        5.00  \n",
       "109        4.71  "
      ]
     },
     "metadata": {},
     "output_type": "display_data"
    },
    {
     "name": "stdout",
     "output_type": "stream",
     "text": [
      "\n",
      "--- GMM Team 17 ---\n"
     ]
    },
    {
     "data": {
      "application/vnd.microsoft.datawrangler.viewer.v0+json": {
       "columns": [
        {
         "name": "index",
         "rawType": "int64",
         "type": "integer"
        },
        {
         "name": "first_name",
         "rawType": "object",
         "type": "string"
        },
        {
         "name": "last_name",
         "rawType": "object",
         "type": "string"
        },
        {
         "name": "gmm_cluster",
         "rawType": "int64",
         "type": "integer"
        },
        {
         "name": "hard_skills",
         "rawType": "float64",
         "type": "float"
        },
        {
         "name": "soft_skills",
         "rawType": "float64",
         "type": "float"
        },
        {
         "name": "teamwork",
         "rawType": "float64",
         "type": "float"
        },
        {
         "name": "creativity",
         "rawType": "float64",
         "type": "float"
        }
       ],
       "ref": "b22f2040-7096-41cc-8aa4-75a1c162ed4c",
       "rows": [
        [
         "73",
         "Zaineb",
         "Jaziri",
         "1",
         "2.73",
         "5.0",
         "5.0",
         "3.39"
        ],
        [
         "74",
         "Sarra",
         "Abidi",
         "1",
         "5.0",
         "3.52",
         "4.29",
         "3.82"
        ],
        [
         "75",
         "Nizar",
         "Trabelsi",
         "1",
         "5.0",
         "3.36",
         "3.65",
         "3.92"
        ],
        [
         "78",
         "Sarra",
         "Sassi",
         "1",
         "1.88",
         "3.88",
         "4.67",
         "4.12"
        ],
        [
         "81",
         "Amine",
         "Ferjani",
         "1",
         "1.96",
         "5.0",
         "4.96",
         "3.94"
        ],
        [
         "112",
         "Fares",
         "Khemiri",
         "2",
         "2.78",
         "3.84",
         "4.44",
         "4.9"
        ]
       ],
       "shape": {
        "columns": 7,
        "rows": 6
       }
      },
      "text/html": [
       "<div>\n",
       "<style scoped>\n",
       "    .dataframe tbody tr th:only-of-type {\n",
       "        vertical-align: middle;\n",
       "    }\n",
       "\n",
       "    .dataframe tbody tr th {\n",
       "        vertical-align: top;\n",
       "    }\n",
       "\n",
       "    .dataframe thead th {\n",
       "        text-align: right;\n",
       "    }\n",
       "</style>\n",
       "<table border=\"1\" class=\"dataframe\">\n",
       "  <thead>\n",
       "    <tr style=\"text-align: right;\">\n",
       "      <th></th>\n",
       "      <th>first_name</th>\n",
       "      <th>last_name</th>\n",
       "      <th>gmm_cluster</th>\n",
       "      <th>hard_skills</th>\n",
       "      <th>soft_skills</th>\n",
       "      <th>teamwork</th>\n",
       "      <th>creativity</th>\n",
       "    </tr>\n",
       "  </thead>\n",
       "  <tbody>\n",
       "    <tr>\n",
       "      <th>73</th>\n",
       "      <td>Zaineb</td>\n",
       "      <td>Jaziri</td>\n",
       "      <td>1</td>\n",
       "      <td>2.73</td>\n",
       "      <td>5.00</td>\n",
       "      <td>5.00</td>\n",
       "      <td>3.39</td>\n",
       "    </tr>\n",
       "    <tr>\n",
       "      <th>74</th>\n",
       "      <td>Sarra</td>\n",
       "      <td>Abidi</td>\n",
       "      <td>1</td>\n",
       "      <td>5.00</td>\n",
       "      <td>3.52</td>\n",
       "      <td>4.29</td>\n",
       "      <td>3.82</td>\n",
       "    </tr>\n",
       "    <tr>\n",
       "      <th>75</th>\n",
       "      <td>Nizar</td>\n",
       "      <td>Trabelsi</td>\n",
       "      <td>1</td>\n",
       "      <td>5.00</td>\n",
       "      <td>3.36</td>\n",
       "      <td>3.65</td>\n",
       "      <td>3.92</td>\n",
       "    </tr>\n",
       "    <tr>\n",
       "      <th>78</th>\n",
       "      <td>Sarra</td>\n",
       "      <td>Sassi</td>\n",
       "      <td>1</td>\n",
       "      <td>1.88</td>\n",
       "      <td>3.88</td>\n",
       "      <td>4.67</td>\n",
       "      <td>4.12</td>\n",
       "    </tr>\n",
       "    <tr>\n",
       "      <th>81</th>\n",
       "      <td>Amine</td>\n",
       "      <td>Ferjani</td>\n",
       "      <td>1</td>\n",
       "      <td>1.96</td>\n",
       "      <td>5.00</td>\n",
       "      <td>4.96</td>\n",
       "      <td>3.94</td>\n",
       "    </tr>\n",
       "    <tr>\n",
       "      <th>112</th>\n",
       "      <td>Fares</td>\n",
       "      <td>Khemiri</td>\n",
       "      <td>2</td>\n",
       "      <td>2.78</td>\n",
       "      <td>3.84</td>\n",
       "      <td>4.44</td>\n",
       "      <td>4.90</td>\n",
       "    </tr>\n",
       "  </tbody>\n",
       "</table>\n",
       "</div>"
      ],
      "text/plain": [
       "    first_name last_name  gmm_cluster  hard_skills  soft_skills  teamwork  \\\n",
       "73      Zaineb    Jaziri            1         2.73         5.00      5.00   \n",
       "74       Sarra     Abidi            1         5.00         3.52      4.29   \n",
       "75       Nizar  Trabelsi            1         5.00         3.36      3.65   \n",
       "78       Sarra     Sassi            1         1.88         3.88      4.67   \n",
       "81       Amine   Ferjani            1         1.96         5.00      4.96   \n",
       "112      Fares   Khemiri            2         2.78         3.84      4.44   \n",
       "\n",
       "     creativity  \n",
       "73         3.39  \n",
       "74         3.82  \n",
       "75         3.92  \n",
       "78         4.12  \n",
       "81         3.94  \n",
       "112        4.90  "
      ]
     },
     "metadata": {},
     "output_type": "display_data"
    },
    {
     "name": "stdout",
     "output_type": "stream",
     "text": [
      "\n",
      "--- GMM Team 18 ---\n"
     ]
    },
    {
     "data": {
      "application/vnd.microsoft.datawrangler.viewer.v0+json": {
       "columns": [
        {
         "name": "index",
         "rawType": "int64",
         "type": "integer"
        },
        {
         "name": "first_name",
         "rawType": "object",
         "type": "string"
        },
        {
         "name": "last_name",
         "rawType": "object",
         "type": "string"
        },
        {
         "name": "gmm_cluster",
         "rawType": "int64",
         "type": "integer"
        },
        {
         "name": "hard_skills",
         "rawType": "float64",
         "type": "float"
        },
        {
         "name": "soft_skills",
         "rawType": "float64",
         "type": "float"
        },
        {
         "name": "teamwork",
         "rawType": "float64",
         "type": "float"
        },
        {
         "name": "creativity",
         "rawType": "float64",
         "type": "float"
        }
       ],
       "ref": "adbd10a1-b15a-4ab3-a88c-c95482eb4a69",
       "rows": [
        [
         "83",
         "Leila",
         "Ben Amor",
         "1",
         "3.17",
         "5.0",
         "4.7",
         "2.79"
        ],
        [
         "85",
         "Samira",
         "Rekik",
         "1",
         "1.6",
         "5.0",
         "5.0",
         "3.31"
        ],
        [
         "86",
         "Skander",
         "Mansour",
         "1",
         "5.0",
         "3.85",
         "3.03",
         "5.0"
        ],
        [
         "87",
         "Rim",
         "Driss",
         "1",
         "1.78",
         "4.65",
         "5.0",
         "3.36"
        ],
        [
         "90",
         "Khalil",
         "Khlifi",
         "1",
         "4.01",
         "2.98",
         "3.98",
         "3.71"
        ],
        [
         "91",
         "Amina",
         "Guettari",
         "1",
         "4.1",
         "3.71",
         "4.09",
         "4.04"
        ]
       ],
       "shape": {
        "columns": 7,
        "rows": 6
       }
      },
      "text/html": [
       "<div>\n",
       "<style scoped>\n",
       "    .dataframe tbody tr th:only-of-type {\n",
       "        vertical-align: middle;\n",
       "    }\n",
       "\n",
       "    .dataframe tbody tr th {\n",
       "        vertical-align: top;\n",
       "    }\n",
       "\n",
       "    .dataframe thead th {\n",
       "        text-align: right;\n",
       "    }\n",
       "</style>\n",
       "<table border=\"1\" class=\"dataframe\">\n",
       "  <thead>\n",
       "    <tr style=\"text-align: right;\">\n",
       "      <th></th>\n",
       "      <th>first_name</th>\n",
       "      <th>last_name</th>\n",
       "      <th>gmm_cluster</th>\n",
       "      <th>hard_skills</th>\n",
       "      <th>soft_skills</th>\n",
       "      <th>teamwork</th>\n",
       "      <th>creativity</th>\n",
       "    </tr>\n",
       "  </thead>\n",
       "  <tbody>\n",
       "    <tr>\n",
       "      <th>83</th>\n",
       "      <td>Leila</td>\n",
       "      <td>Ben Amor</td>\n",
       "      <td>1</td>\n",
       "      <td>3.17</td>\n",
       "      <td>5.00</td>\n",
       "      <td>4.70</td>\n",
       "      <td>2.79</td>\n",
       "    </tr>\n",
       "    <tr>\n",
       "      <th>85</th>\n",
       "      <td>Samira</td>\n",
       "      <td>Rekik</td>\n",
       "      <td>1</td>\n",
       "      <td>1.60</td>\n",
       "      <td>5.00</td>\n",
       "      <td>5.00</td>\n",
       "      <td>3.31</td>\n",
       "    </tr>\n",
       "    <tr>\n",
       "      <th>86</th>\n",
       "      <td>Skander</td>\n",
       "      <td>Mansour</td>\n",
       "      <td>1</td>\n",
       "      <td>5.00</td>\n",
       "      <td>3.85</td>\n",
       "      <td>3.03</td>\n",
       "      <td>5.00</td>\n",
       "    </tr>\n",
       "    <tr>\n",
       "      <th>87</th>\n",
       "      <td>Rim</td>\n",
       "      <td>Driss</td>\n",
       "      <td>1</td>\n",
       "      <td>1.78</td>\n",
       "      <td>4.65</td>\n",
       "      <td>5.00</td>\n",
       "      <td>3.36</td>\n",
       "    </tr>\n",
       "    <tr>\n",
       "      <th>90</th>\n",
       "      <td>Khalil</td>\n",
       "      <td>Khlifi</td>\n",
       "      <td>1</td>\n",
       "      <td>4.01</td>\n",
       "      <td>2.98</td>\n",
       "      <td>3.98</td>\n",
       "      <td>3.71</td>\n",
       "    </tr>\n",
       "    <tr>\n",
       "      <th>91</th>\n",
       "      <td>Amina</td>\n",
       "      <td>Guettari</td>\n",
       "      <td>1</td>\n",
       "      <td>4.10</td>\n",
       "      <td>3.71</td>\n",
       "      <td>4.09</td>\n",
       "      <td>4.04</td>\n",
       "    </tr>\n",
       "  </tbody>\n",
       "</table>\n",
       "</div>"
      ],
      "text/plain": [
       "   first_name last_name  gmm_cluster  hard_skills  soft_skills  teamwork  \\\n",
       "83      Leila  Ben Amor            1         3.17         5.00      4.70   \n",
       "85     Samira     Rekik            1         1.60         5.00      5.00   \n",
       "86    Skander   Mansour            1         5.00         3.85      3.03   \n",
       "87        Rim     Driss            1         1.78         4.65      5.00   \n",
       "90     Khalil    Khlifi            1         4.01         2.98      3.98   \n",
       "91      Amina  Guettari            1         4.10         3.71      4.09   \n",
       "\n",
       "    creativity  \n",
       "83        2.79  \n",
       "85        3.31  \n",
       "86        5.00  \n",
       "87        3.36  \n",
       "90        3.71  \n",
       "91        4.04  "
      ]
     },
     "metadata": {},
     "output_type": "display_data"
    },
    {
     "name": "stdout",
     "output_type": "stream",
     "text": [
      "\n",
      "--- GMM Team 19 ---\n"
     ]
    },
    {
     "data": {
      "application/vnd.microsoft.datawrangler.viewer.v0+json": {
       "columns": [
        {
         "name": "index",
         "rawType": "int64",
         "type": "integer"
        },
        {
         "name": "first_name",
         "rawType": "object",
         "type": "string"
        },
        {
         "name": "last_name",
         "rawType": "object",
         "type": "string"
        },
        {
         "name": "gmm_cluster",
         "rawType": "int64",
         "type": "integer"
        },
        {
         "name": "hard_skills",
         "rawType": "float64",
         "type": "float"
        },
        {
         "name": "soft_skills",
         "rawType": "float64",
         "type": "float"
        },
        {
         "name": "teamwork",
         "rawType": "float64",
         "type": "float"
        },
        {
         "name": "creativity",
         "rawType": "float64",
         "type": "float"
        }
       ],
       "ref": "be845055-6aed-4681-a982-d78dfd6a40e1",
       "rows": [
        [
         "93",
         "Tarek",
         "Ben Salah",
         "1",
         "1.42",
         "5.0",
         "4.39",
         "2.75"
        ],
        [
         "96",
         "Emna",
         "Ayari",
         "1",
         "3.19",
         "4.45",
         "3.87",
         "4.79"
        ],
        [
         "100",
         "Mariem",
         "Haddad",
         "1",
         "1.78",
         "4.81",
         "5.0",
         "2.41"
        ],
        [
         "101",
         "Hend",
         "Jaziri",
         "1",
         "3.93",
         "3.82",
         "4.18",
         "4.68"
        ],
        [
         "102",
         "Hiba",
         "Ferjani",
         "1",
         "2.32",
         "5.0",
         "4.2",
         "3.84"
        ],
        [
         "113",
         "Ismail",
         "Maaloul",
         "1",
         "1.56",
         "5.0",
         "5.0",
         "3.16"
        ]
       ],
       "shape": {
        "columns": 7,
        "rows": 6
       }
      },
      "text/html": [
       "<div>\n",
       "<style scoped>\n",
       "    .dataframe tbody tr th:only-of-type {\n",
       "        vertical-align: middle;\n",
       "    }\n",
       "\n",
       "    .dataframe tbody tr th {\n",
       "        vertical-align: top;\n",
       "    }\n",
       "\n",
       "    .dataframe thead th {\n",
       "        text-align: right;\n",
       "    }\n",
       "</style>\n",
       "<table border=\"1\" class=\"dataframe\">\n",
       "  <thead>\n",
       "    <tr style=\"text-align: right;\">\n",
       "      <th></th>\n",
       "      <th>first_name</th>\n",
       "      <th>last_name</th>\n",
       "      <th>gmm_cluster</th>\n",
       "      <th>hard_skills</th>\n",
       "      <th>soft_skills</th>\n",
       "      <th>teamwork</th>\n",
       "      <th>creativity</th>\n",
       "    </tr>\n",
       "  </thead>\n",
       "  <tbody>\n",
       "    <tr>\n",
       "      <th>93</th>\n",
       "      <td>Tarek</td>\n",
       "      <td>Ben Salah</td>\n",
       "      <td>1</td>\n",
       "      <td>1.42</td>\n",
       "      <td>5.00</td>\n",
       "      <td>4.39</td>\n",
       "      <td>2.75</td>\n",
       "    </tr>\n",
       "    <tr>\n",
       "      <th>96</th>\n",
       "      <td>Emna</td>\n",
       "      <td>Ayari</td>\n",
       "      <td>1</td>\n",
       "      <td>3.19</td>\n",
       "      <td>4.45</td>\n",
       "      <td>3.87</td>\n",
       "      <td>4.79</td>\n",
       "    </tr>\n",
       "    <tr>\n",
       "      <th>100</th>\n",
       "      <td>Mariem</td>\n",
       "      <td>Haddad</td>\n",
       "      <td>1</td>\n",
       "      <td>1.78</td>\n",
       "      <td>4.81</td>\n",
       "      <td>5.00</td>\n",
       "      <td>2.41</td>\n",
       "    </tr>\n",
       "    <tr>\n",
       "      <th>101</th>\n",
       "      <td>Hend</td>\n",
       "      <td>Jaziri</td>\n",
       "      <td>1</td>\n",
       "      <td>3.93</td>\n",
       "      <td>3.82</td>\n",
       "      <td>4.18</td>\n",
       "      <td>4.68</td>\n",
       "    </tr>\n",
       "    <tr>\n",
       "      <th>102</th>\n",
       "      <td>Hiba</td>\n",
       "      <td>Ferjani</td>\n",
       "      <td>1</td>\n",
       "      <td>2.32</td>\n",
       "      <td>5.00</td>\n",
       "      <td>4.20</td>\n",
       "      <td>3.84</td>\n",
       "    </tr>\n",
       "    <tr>\n",
       "      <th>113</th>\n",
       "      <td>Ismail</td>\n",
       "      <td>Maaloul</td>\n",
       "      <td>1</td>\n",
       "      <td>1.56</td>\n",
       "      <td>5.00</td>\n",
       "      <td>5.00</td>\n",
       "      <td>3.16</td>\n",
       "    </tr>\n",
       "  </tbody>\n",
       "</table>\n",
       "</div>"
      ],
      "text/plain": [
       "    first_name  last_name  gmm_cluster  hard_skills  soft_skills  teamwork  \\\n",
       "93       Tarek  Ben Salah            1         1.42         5.00      4.39   \n",
       "96        Emna      Ayari            1         3.19         4.45      3.87   \n",
       "100     Mariem     Haddad            1         1.78         4.81      5.00   \n",
       "101       Hend     Jaziri            1         3.93         3.82      4.18   \n",
       "102       Hiba    Ferjani            1         2.32         5.00      4.20   \n",
       "113     Ismail    Maaloul            1         1.56         5.00      5.00   \n",
       "\n",
       "     creativity  \n",
       "93         2.75  \n",
       "96         4.79  \n",
       "100        2.41  \n",
       "101        4.68  \n",
       "102        3.84  \n",
       "113        3.16  "
      ]
     },
     "metadata": {},
     "output_type": "display_data"
    }
   ],
   "source": [
    "def form_teams_from_clusters(df, cluster_col, team_size=6):\n",
    "    \"\"\"Forms teams using a round-robin draft from discovered clusters.\"\"\"\n",
    "    df_copy = df.copy()\n",
    "    num_teams = len(df_copy) // team_size\n",
    "    if num_teams == 0:\n",
    "        return pd.DataFrame() # Not enough students to form a team\n",
    "\n",
    "    df_copy['team_id'] = 0\n",
    "    cluster_pools = {i: list(sub_df.index) for i, sub_df in df_copy.groupby(cluster_col)}\n",
    "    \n",
    "    for team_num in range(1, num_teams + 1):\n",
    "        team_indices = []\n",
    "        for _ in range(team_size):\n",
    "            # Cycle through clusters to pick a member\n",
    "            for cluster_id in sorted(cluster_pools.keys()):\n",
    "                if len(team_indices) >= team_size: break\n",
    "                if cluster_pools[cluster_id]:\n",
    "                    member_index = cluster_pools[cluster_id].pop(0)\n",
    "                    team_indices.append(member_index)\n",
    "        df_copy.loc[team_indices, 'team_id'] = team_num\n",
    "        \n",
    "    return df_copy[df_copy['team_id'] > 0]\n",
    "\n",
    "# Form teams for each model\n",
    "teams_kmeans = form_teams_from_clusters(class_df, 'kmeans_cluster')\n",
    "teams_gmm = form_teams_from_clusters(class_df, 'gmm_cluster')\n",
    "\n",
    "# Display the results\n",
    "print(\"--- TEAMS FORMED BASED ON K-MEANS CLUSTERING ---\")\n",
    "if not teams_kmeans.empty:\n",
    "    for team_id, team_df in teams_kmeans.groupby('team_id'):\n",
    "        print(f\"\\n--- K-Means Team {team_id} ---\")\n",
    "        display(team_df[['first_name', 'last_name', 'kmeans_cluster'] + FEATURES])\n",
    "else:\n",
    "    print(\"Not enough students to form teams with K-Means.\")\n",
    "\n",
    "print(\"\\n\" + \"=\"*70 + \"\\n\")\n",
    "\n",
    "print(\"--- TEAMS FORMED BASED ON GMM CLUSTERING ---\")\n",
    "if not teams_gmm.empty:\n",
    "    for team_id, team_df in teams_gmm.groupby('team_id'):\n",
    "        print(f\"\\n--- GMM Team {team_id} ---\")\n",
    "        display(team_df[['first_name', 'last_name', 'gmm_cluster'] + FEATURES])\n",
    "else:\n",
    "    print(\"Not enough students to form teams with GMM.\")"
   ]
  },
  {
   "cell_type": "markdown",
   "id": "52f38a09",
   "metadata": {},
   "source": [
    "## Part 6: Data Scientist's Recommendation\n",
    "\n",
    "After reviewing the evidence, we can make a final recommendation.\n",
    "\n",
    "**Analysis Summary:**\n",
    "*   **Model Agreement (ARI):** The high ARI score suggests both models found very similar, stable patterns in the data. This is a very positive sign.\n",
    "*   **K-Means Profiles:** K-Means tends to create \"hard-edged\" clusters. Its profiles are often very distinct and easy to label (e.g., one cluster is clearly high in hard skills, another in soft skills).\n",
    "*   **GMM Profiles:** GMM is probabilistic and can capture more complex, overlapping shapes. Its profiles might be more nuanced but sometimes harder to separate into distinct roles.\n",
    "\n",
    "**Final Verdict:**\n",
    "\n",
    "For the purpose of **forming distinct, role-based teams**, the model that produces the most clearly separated and interpretable profiles is often preferable. In this case, the **K-Means** model appears to have identified slightly more distinct \"specialist\" groups (as seen in the radar charts). Its simplicity and interpretable output make it the recommended choice for this specific task.\n",
    "\n",
    "The GMM model is an excellent alternative and its strong agreement with K-Means validates the overall clustering structure. For tasks requiring a \"soft\" assignment (e.g., calculating the probability a student belongs to each group), GMM would be the superior choice."
   ]
  }
 ],
 "metadata": {
  "kernelspec": {
   "display_name": ".venv",
   "language": "python",
   "name": "python3"
  },
  "language_info": {
   "codemirror_mode": {
    "name": "ipython",
    "version": 3
   },
   "file_extension": ".py",
   "mimetype": "text/x-python",
   "name": "python",
   "nbconvert_exporter": "python",
   "pygments_lexer": "ipython3",
   "version": "3.12.1"
  }
 },
 "nbformat": 4,
 "nbformat_minor": 5
}
